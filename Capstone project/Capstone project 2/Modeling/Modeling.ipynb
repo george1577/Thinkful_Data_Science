{
 "cells": [
  {
   "cell_type": "markdown",
   "metadata": {},
   "source": [
    "# Tennis match prediction and playing strategy -- Modeling"
   ]
  },
  {
   "cell_type": "markdown",
   "metadata": {},
   "source": [
    "## Goal\n",
    "1. Try different algorithms and build the prediction model, using accuracy as our evaluation metrics\n",
    "    * Naive Bayes\n",
    "    * Logistic Regression\n",
    "    * Decision Tree\n",
    "    * Random Forest\n",
    "    * Support Vector Machine (linear kernel)\n",
    "    * Gradient Boosting\n",
    "2. Compare the performance of different feature selection methods\n",
    "    * statistical-based\n",
    "    * model-based\n",
    "    * PCA\n",
    "3. Deep learning using RNN\n",
    "    * Simple RNN\n",
    "    * LSTM"
   ]
  },
  {
   "cell_type": "markdown",
   "metadata": {},
   "source": [
    "### Importing useful packages"
   ]
  },
  {
   "cell_type": "code",
   "execution_count": 2,
   "metadata": {},
   "outputs": [],
   "source": [
    "%matplotlib inline\n",
    "import pandas as pd\n",
    "import numpy as np\n",
    "import seaborn as sns\n",
    "import matplotlib.pyplot as plt\n",
    "\n",
    "# supress warnings\n",
    "import warnings\n",
    "warnings.filterwarnings(\"ignore\")\n",
    "\n",
    "sns.set()\n",
    "sns.set_style(\"whitegrid\")\n",
    "\n",
    "# import model package\n",
    "from sklearn.naive_bayes import GaussianNB\n",
    "from sklearn.neighbors import KNeighborsClassifier\n",
    "from sklearn.linear_model import LogisticRegression\n",
    "from sklearn.tree import DecisionTreeClassifier\n",
    "from sklearn.ensemble import RandomForestClassifier\n",
    "from sklearn.svm import LinearSVC\n",
    "from sklearn.svm import SVC\n",
    "from sklearn.ensemble import GradientBoostingClassifier\n",
    "from sklearn.linear_model import SGDClassifier\n",
    "from sklearn.metrics import confusion_matrix\n",
    "from sklearn.model_selection import cross_val_score\n",
    "import scipy.stats as stats\n",
    "\n",
    "# import customized package\n",
    "from MLuseful import get_best_model_accuracy\n",
    "from MLuseful import roc_curve_plot\n",
    "from MLuseful import print_confusion_matrix"
   ]
  },
  {
   "cell_type": "markdown",
   "metadata": {},
   "source": [
    "### Loading data\n",
    "We will load the training and testing set from the feature engineering step and we will be ready to fit the model. Recall that we have prepared two sets of data in previous notebooks, one has matches ranging from 2009-2017, with `ranking_points` feature included, another has mathces ranging from 1991-2017, without `ranking_points` feature included."
   ]
  },
  {
   "cell_type": "code",
   "execution_count": 3,
   "metadata": {},
   "outputs": [],
   "source": [
    "# load data ranging from 2009-2017, with ranking points feature included\n",
    "tennis_all_feature_clean_X_train = pd.read_csv('../Processed_Data/tennis_all_feature_clean_X_train.csv')\n",
    "tennis_all_feature_clean_X_test = pd.read_csv('../Processed_Data/tennis_all_feature_clean_X_test.csv')\n",
    "tennis_all_feature_clean_y_train = pd.read_csv('../Processed_Data/tennis_all_feature_clean_y_train.csv', header=None)\n",
    "tennis_all_feature_clean_y_test = pd.read_csv('../Processed_Data/tennis_all_feature_clean_y_test.csv', header=None)\n",
    "tennis_all_feature_clean_drop_oppo_X_train = pd.read_csv('../Processed_Data/tennis_all_feature_clean_drop_oppo_X_train.csv')\n",
    "tennis_all_feature_clean_drop_oppo_X_test = pd.read_csv('../Processed_Data/tennis_all_feature_clean_drop_oppo_X_test.csv')\n",
    "tennis_all_feature_clean_drop_oppo_y_train = pd.read_csv('../Processed_Data/tennis_all_feature_clean_drop_oppo_y_train.csv', header=None)\n",
    "tennis_all_feature_clean_drop_oppo_y_test = pd.read_csv('../Processed_Data/tennis_all_feature_clean_drop_oppo_y_test.csv', header=None)\n",
    "\n",
    "tennis_all_feature_clean_X_train_p_value = pd.read_csv('../Processed_Data/tennis_all_feature_clean_X_train_p_value.csv')\n",
    "tennis_all_feature_clean_X_test_p_value = pd.read_csv('../Processed_Data/tennis_all_feature_clean_X_test_p_value.csv')\n",
    "tennis_all_feature_clean_drop_oppo_X_train_p_value = pd.read_csv('../Processed_Data/tennis_all_feature_clean_drop_oppo_X_train_p_value.csv')\n",
    "tennis_all_feature_clean_drop_oppo_X_test_p_value = pd.read_csv('../Processed_Data/tennis_all_feature_clean_drop_oppo_X_test_p_value.csv')\n",
    "\n",
    "tennis_all_feature_clean_X_train_tree = pd.read_csv('../Processed_Data/tennis_all_feature_clean_X_train_tree.csv')\n",
    "tennis_all_feature_clean_X_test_tree = pd.read_csv('../Processed_Data/tennis_all_feature_clean_X_test_tree.csv')\n",
    "tennis_all_feature_clean_drop_oppo_X_train_tree = pd.read_csv('../Processed_Data/tennis_all_feature_clean_drop_oppo_X_train_tree.csv')\n",
    "tennis_all_feature_clean_drop_oppo_X_test_tree = pd.read_csv('../Processed_Data/tennis_all_feature_clean_drop_oppo_X_test_tree.csv')\n",
    "\n",
    "tennis_all_feature_clean_X_train_PCA = pd.read_csv('../Processed_Data/tennis_all_feature_clean_X_train_PCA.csv')\n",
    "tennis_all_feature_clean_X_test_PCA = pd.read_csv('../Processed_Data/tennis_all_feature_clean_X_test_PCA.csv')\n",
    "tennis_all_feature_clean_drop_oppo_X_train_PCA = pd.read_csv('../Processed_Data/tennis_all_feature_clean_drop_oppo_X_train_PCA.csv')\n",
    "tennis_all_feature_clean_drop_oppo_X_test_PCA = pd.read_csv('../Processed_Data/tennis_all_feature_clean_drop_oppo_X_test_PCA.csv')"
   ]
  },
  {
   "cell_type": "code",
   "execution_count": 10,
   "metadata": {},
   "outputs": [],
   "source": [
    "# load data ranging from 1991-2017, without ranking points feature included\n",
    "tennis_all_feature_no_pts_clean_X_train = pd.read_csv('../Processed_Data/tennis_all_feature_no_pts_clean_X_train.csv')\n",
    "tennis_all_feature_no_pts_clean_X_test = pd.read_csv('../Processed_Data/tennis_all_feature_no_pts_clean_X_test.csv')\n",
    "tennis_all_feature_no_pts_clean_y_train = pd.read_csv('../Processed_Data/tennis_all_feature_no_pts_clean_y_train.csv', header=None)\n",
    "tennis_all_feature_no_pts_clean_y_test = pd.read_csv('../Processed_Data/tennis_all_feature_no_pts_clean_y_test.csv', header=None)\n",
    "tennis_all_feature_no_pts_clean_drop_oppo_X_train = pd.read_csv('../Processed_Data/tennis_all_feature_no_pts_clean_drop_oppo_X_train.csv')\n",
    "tennis_all_feature_no_pts_clean_drop_oppo_X_test = pd.read_csv('../Processed_Data/tennis_all_feature_no_pts_clean_drop_oppo_X_test.csv')\n",
    "tennis_all_feature_no_pts_clean_drop_oppo_y_train = pd.read_csv('../Processed_Data/tennis_all_feature_no_pts_clean_drop_oppo_y_train.csv', header=None)\n",
    "tennis_all_feature_no_pts_clean_drop_oppo_y_test = pd.read_csv('../Processed_Data/tennis_all_feature_no_pts_clean_drop_oppo_y_test.csv', header=None)\n",
    "\n",
    "tennis_all_feature_no_pts_clean_X_train_p_value = pd.read_csv('../Processed_Data/tennis_all_feature_no_pts_clean_X_train_p_value.csv')\n",
    "tennis_all_feature_no_pts_clean_X_test_p_value = pd.read_csv('../Processed_Data/tennis_all_feature_no_pts_clean_X_test_p_value.csv')\n",
    "tennis_all_feature_no_pts_clean_drop_oppo_X_train_p_value = pd.read_csv('../Processed_Data/tennis_all_feature_no_pts_clean_drop_oppo_X_train_p_value.csv')\n",
    "tennis_all_feature_no_pts_clean_drop_oppo_X_test_p_value = pd.read_csv('../Processed_Data/tennis_all_feature_no_pts_clean_drop_oppo_X_test_p_value.csv')\n",
    "\n",
    "tennis_all_feature_no_pts_clean_X_train_tree = pd.read_csv('../Processed_Data/tennis_all_feature_no_pts_clean_X_train_tree.csv')\n",
    "tennis_all_feature_no_pts_clean_X_test_tree = pd.read_csv('../Processed_Data/tennis_all_feature_no_pts_clean_X_test_tree.csv')\n",
    "tennis_all_feature_no_pts_clean_drop_oppo_X_train_tree = pd.read_csv('../Processed_Data/tennis_all_feature_no_pts_clean_drop_oppo_X_train_tree.csv')\n",
    "tennis_all_feature_no_pts_clean_drop_oppo_X_test_tree = pd.read_csv('../Processed_Data/tennis_all_feature_no_pts_clean_drop_oppo_X_test_tree.csv')\n",
    "\n",
    "tennis_all_feature_no_pts_clean_X_train_PCA = pd.read_csv('../Processed_Data/tennis_all_feature_no_pts_clean_X_train_PCA.csv')\n",
    "tennis_all_feature_no_pts_clean_X_test_PCA = pd.read_csv('../Processed_Data/tennis_all_feature_no_pts_clean_X_test_PCA.csv')\n",
    "tennis_all_feature_no_pts_clean_drop_oppo_X_train_PCA = pd.read_csv('../Processed_Data/tennis_all_feature_no_pts_clean_drop_oppo_X_train_PCA.csv')\n",
    "tennis_all_feature_no_pts_clean_drop_oppo_X_test_PCA = pd.read_csv('../Processed_Data/tennis_all_feature_no_pts_clean_drop_oppo_X_test_PCA.csv')"
   ]
  },
  {
   "cell_type": "code",
   "execution_count": 60,
   "metadata": {},
   "outputs": [
    {
     "data": {
      "text/plain": [
       "(8962, 2280)"
      ]
     },
     "execution_count": 60,
     "metadata": {},
     "output_type": "execute_result"
    }
   ],
   "source": [
    "tennis_all_feature_clean_X_train.shape"
   ]
  },
  {
   "cell_type": "code",
   "execution_count": 61,
   "metadata": {},
   "outputs": [
    {
     "data": {
      "text/plain": [
       "(8962, 1)"
      ]
     },
     "execution_count": 61,
     "metadata": {},
     "output_type": "execute_result"
    }
   ],
   "source": [
    "tennis_all_feature_clean_y_train.shape"
   ]
  },
  {
   "cell_type": "markdown",
   "metadata": {},
   "source": [
    "Before fitting the model, we need to see the base score we have to beat, the base score is basically calculated by the random guessing of the majority types in outcome variable."
   ]
  },
  {
   "cell_type": "code",
   "execution_count": 8,
   "metadata": {},
   "outputs": [
    {
     "data": {
      "text/plain": [
       "1    0.532582\n",
       "0    0.467418\n",
       "Name: 0, dtype: float64"
      ]
     },
     "execution_count": 8,
     "metadata": {},
     "output_type": "execute_result"
    }
   ],
   "source": [
    "tennis_all_feature_clean_y_train[0].value_counts(normalize=True)"
   ]
  },
  {
   "cell_type": "code",
   "execution_count": 11,
   "metadata": {},
   "outputs": [
    {
     "data": {
      "text/plain": [
       "1    0.507147\n",
       "0    0.492853\n",
       "Name: 0, dtype: float64"
      ]
     },
     "execution_count": 11,
     "metadata": {},
     "output_type": "execute_result"
    }
   ],
   "source": [
    "tennis_all_feature_no_pts_clean_y_train[0].value_counts(normalize=True)"
   ]
  },
  {
   "cell_type": "markdown",
   "metadata": {},
   "source": [
    "We can see the base score we are trying to beat is 0.533 and 0.507, since if we predict every match that the player_1 is winning the current match, we will get 0.533/0.507, we will start to fit different models to find out the best in terms of fitting time, predicting accuracy...etc., we will do the grid search on hyperparameters of the algorithms and find out the best one that gives the highest accuracy."
   ]
  },
  {
   "cell_type": "markdown",
   "metadata": {},
   "source": [
    "### Traditional machine learning model"
   ]
  },
  {
   "cell_type": "markdown",
   "metadata": {},
   "source": [
    "#### Naive Bayes\n",
    "We will first try the simplest algorithm naive bayes, the basic assumptions of the naive bayes is the variables are independent to each other, this is more like an ideal assumption that almost never happens in the real world, but we will still see how it works since the algorithm is simple and fast."
   ]
  },
  {
   "cell_type": "code",
   "execution_count": 62,
   "metadata": {},
   "outputs": [],
   "source": [
    "# data dictionary\n",
    "data_all_train = {'all_feature': tennis_all_feature_clean_X_train, \n",
    "                  'all_feature_drop_oppo': tennis_all_feature_clean_drop_oppo_X_train,\n",
    "                  'all_feature_p_value': tennis_all_feature_clean_X_train_p_value, \n",
    "                  'all_feature_drop_oppo_p_value': tennis_all_feature_clean_drop_oppo_X_train_p_value,\n",
    "                  'all_feature_tree': tennis_all_feature_clean_X_train_tree, \n",
    "                  'all_feature_drop_oppo_tree': tennis_all_feature_clean_drop_oppo_X_train_tree,\n",
    "                  'all_feature_PCA': tennis_all_feature_clean_X_train_PCA, \n",
    "                  'all_feature_drop_oppo_PCA': tennis_all_feature_clean_drop_oppo_X_train_PCA}"
   ]
  },
  {
   "cell_type": "code",
   "execution_count": 150,
   "metadata": {},
   "outputs": [],
   "source": [
    "data_all_train_no_pts = {'all_feature_no_pts': tennis_all_feature_no_pts_clean_X_train, \n",
    "                         'all_feature_no_pts_drop_oppo': tennis_all_feature_no_pts_clean_drop_oppo_X_train,\n",
    "                         'all_feature_no_pts_p_value': tennis_all_feature_no_pts_clean_X_train_p_value, \n",
    "                         'all_feature_no_pts_drop_oppo_p_value': tennis_all_feature_no_pts_clean_drop_oppo_X_train_p_value,\n",
    "                         'all_feature_no_pts_tree': tennis_all_feature_no_pts_clean_X_train_tree, \n",
    "                         'all_feature_no_pts_drop_oppo_tree': tennis_all_feature_no_pts_clean_drop_oppo_X_train_tree,\n",
    "                         'all_feature_no_pts_PCA': tennis_all_feature_no_pts_clean_X_train_PCA, \n",
    "                         'all_feature_no_pts_drop_oppo_PCA': tennis_all_feature_no_pts_clean_drop_oppo_X_train_PCA}"
   ]
  },
  {
   "cell_type": "code",
   "execution_count": 13,
   "metadata": {},
   "outputs": [],
   "source": [
    "# create a new dictionary to collect all the score and all the best parameters\n",
    "all_score = {}\n",
    "all_params = {}\n",
    "all_score_no_pts = {}\n",
    "all_params_no_pts = {}"
   ]
  },
  {
   "cell_type": "code",
   "execution_count": 64,
   "metadata": {},
   "outputs": [
    {
     "name": "stdout",
     "output_type": "stream",
     "text": [
      "all_feature\n",
      "training set size: (8962, 2280)\n",
      "------------------------------------------------------------------------------------------\n",
      "Best accuracy : 0.7007364427583129\n",
      "Best Parameters: {'var_smoothing': 1e-11}\n",
      "Average Time to Fit (s): 0.678\n",
      "Average Time to Score (s): 0.125\n",
      "\n",
      "\n",
      "all_feature_drop_oppo\n",
      "training set size: (8962, 1540)\n",
      "------------------------------------------------------------------------------------------\n",
      "Best accuracy : 0.6967194822584245\n",
      "Best Parameters: {'var_smoothing': 1e-11}\n",
      "Average Time to Fit (s): 0.419\n",
      "Average Time to Score (s): 0.081\n",
      "\n",
      "\n",
      "all_feature_p_value\n",
      "training set size: (8962, 500)\n",
      "------------------------------------------------------------------------------------------\n",
      "Best accuracy : 0.7194822584244588\n",
      "Best Parameters: {'var_smoothing': 1e-11}\n",
      "Average Time to Fit (s): 0.125\n",
      "Average Time to Score (s): 0.024\n",
      "\n",
      "\n",
      "all_feature_drop_oppo_p_value\n",
      "training set size: (8962, 500)\n",
      "------------------------------------------------------------------------------------------\n",
      "Best accuracy : 0.7045302387859853\n",
      "Best Parameters: {'var_smoothing': 1e-11}\n",
      "Average Time to Fit (s): 0.125\n",
      "Average Time to Score (s): 0.023\n",
      "\n",
      "\n",
      "all_feature_tree\n",
      "training set size: (8962, 500)\n",
      "------------------------------------------------------------------------------------------\n",
      "Best accuracy : 0.7085471992858737\n",
      "Best Parameters: {'var_smoothing': 1e-11}\n",
      "Average Time to Fit (s): 0.126\n",
      "Average Time to Score (s): 0.024\n",
      "\n",
      "\n",
      "all_feature_drop_oppo_tree\n",
      "training set size: (8962, 500)\n",
      "------------------------------------------------------------------------------------------\n",
      "Best accuracy : 0.6975005579111805\n",
      "Best Parameters: {'var_smoothing': 1e-11}\n",
      "Average Time to Fit (s): 0.123\n",
      "Average Time to Score (s): 0.023\n",
      "\n",
      "\n",
      "all_feature_PCA\n",
      "training set size: (8962, 547)\n",
      "------------------------------------------------------------------------------------------\n",
      "Best accuracy : 0.8116491854496765\n",
      "Best Parameters: {'var_smoothing': 1e-11}\n",
      "Average Time to Fit (s): 0.149\n",
      "Average Time to Score (s): 0.029\n",
      "\n",
      "\n",
      "all_feature_drop_oppo_PCA\n",
      "training set size: (8962, 536)\n",
      "------------------------------------------------------------------------------------------\n",
      "Best accuracy : 0.8130997545190806\n",
      "Best Parameters: {'var_smoothing': 1e-11}\n",
      "Average Time to Fit (s): 0.147\n",
      "Average Time to Score (s): 0.028\n",
      "\n",
      "\n"
     ]
    }
   ],
   "source": [
    "# matches ranging from 2009-2017, included ranking_points features\n",
    "naive = GaussianNB()\n",
    "\n",
    "# create an empty list to store the scores of naive bayes algorithms\n",
    "all_score['Naive_Bayes'] = []\n",
    "all_params['Naive_Bayes'] = []\n",
    "# specify the hyperparameters we are going to do gridsearch on\n",
    "naive_params = {'var_smoothing': [1e-11, 1e-10, 1e-9, 1e-8, 1e-7]}\n",
    "for name, data in data_all_train.items():\n",
    "    print(name)\n",
    "    print(f'training set size: {data.shape}')\n",
    "    print('-'*90)\n",
    "    best, score = get_best_model_accuracy(naive, naive_params, data, tennis_all_feature_clean_y_train, score='accuracy')\n",
    "    all_score['Naive_Bayes'].append(score)\n",
    "    all_params['Naive_Bayes'].append(best)\n",
    "    print('\\n')"
   ]
  },
  {
   "cell_type": "markdown",
   "metadata": {},
   "source": [
    "Interestingly, the data prepared using PCA outbeat the other in this case, the one with all the features did not show any advantage. Plus the modeling fitting time of PCA-processed data is a lot faster due to less features. The reason behind that the PCA outperformed the rest might be due to the assumption of Naive Bayes is the features are independant to each outher and all the components generated from PCA are orthogonal to each other in N-dimensional hyperplane."
   ]
  },
  {
   "cell_type": "code",
   "execution_count": 14,
   "metadata": {},
   "outputs": [
    {
     "name": "stdout",
     "output_type": "stream",
     "text": [
      "all_feature_no_pts\n",
      "training set size: (5247, 2220)\n",
      "------------------------------------------------------------------------------------------\n",
      "Best accuracy : 0.6565656565656566\n",
      "Best Parameters: {'var_smoothing': 1e-11}\n",
      "Average Time to Fit (s): 0.358\n",
      "Average Time to Score (s): 0.071\n",
      "\n",
      "\n",
      "all_feature_no_pts_drop_oppo\n",
      "training set size: (5247, 1500)\n",
      "------------------------------------------------------------------------------------------\n",
      "Best accuracy : 0.6660949113779302\n",
      "Best Parameters: {'var_smoothing': 1e-11}\n",
      "Average Time to Fit (s): 0.237\n",
      "Average Time to Score (s): 0.048\n",
      "\n",
      "\n",
      "all_feature_no_pts_p_value\n",
      "training set size: (5247, 500)\n",
      "------------------------------------------------------------------------------------------\n",
      "Best accuracy : 0.6809605488850772\n",
      "Best Parameters: {'var_smoothing': 1e-11}\n",
      "Average Time to Fit (s): 0.065\n",
      "Average Time to Score (s): 0.012\n",
      "\n",
      "\n",
      "all_feature_no_pts_drop_oppo_p_value\n",
      "training set size: (5247, 500)\n",
      "------------------------------------------------------------------------------------------\n",
      "Best accuracy : 0.6792452830188679\n",
      "Best Parameters: {'var_smoothing': 1e-11}\n",
      "Average Time to Fit (s): 0.066\n",
      "Average Time to Score (s): 0.012\n",
      "\n",
      "\n",
      "all_feature_no_pts_tree\n",
      "training set size: (5247, 500)\n",
      "------------------------------------------------------------------------------------------\n",
      "Best accuracy : 0.6851534210024776\n",
      "Best Parameters: {'var_smoothing': 1e-11}\n",
      "Average Time to Fit (s): 0.065\n",
      "Average Time to Score (s): 0.011\n",
      "\n",
      "\n",
      "all_feature_no_pts_drop_oppo_tree\n",
      "training set size: (5247, 500)\n",
      "------------------------------------------------------------------------------------------\n",
      "Best accuracy : 0.6668572517629121\n",
      "Best Parameters: {'var_smoothing': 1e-11}\n",
      "Average Time to Fit (s): 0.065\n",
      "Average Time to Score (s): 0.011\n",
      "\n",
      "\n",
      "all_feature_no_pts_PCA\n",
      "training set size: (5247, 538)\n",
      "------------------------------------------------------------------------------------------\n",
      "Best accuracy : 0.7937869258623975\n",
      "Best Parameters: {'var_smoothing': 1e-11}\n",
      "Average Time to Fit (s): 0.077\n",
      "Average Time to Score (s): 0.014\n",
      "\n",
      "\n",
      "all_feature_no_pts_drop_oppo_PCA\n",
      "training set size: (5247, 522)\n",
      "------------------------------------------------------------------------------------------\n",
      "Best accuracy : 0.8000762340384981\n",
      "Best Parameters: {'var_smoothing': 1e-11}\n",
      "Average Time to Fit (s): 0.075\n",
      "Average Time to Score (s): 0.014\n",
      "\n",
      "\n"
     ]
    }
   ],
   "source": [
    "# matches ranging from 1991-2017, without including ranking_points features\n",
    "naive = GaussianNB()\n",
    "\n",
    "# create an empty list to store the scores of naive bayes algorithms\n",
    "all_score_no_pts['Naive_Bayes'] = []\n",
    "all_params_no_pts['Naive_Bayes'] = []\n",
    "# specify the hyperparameters we are going to do gridsearch on\n",
    "naive_params = {'var_smoothing': [1e-11, 1e-10, 1e-9, 1e-8, 1e-7]}\n",
    "for name, data in data_all_train_no_pts.items():\n",
    "    print(name)\n",
    "    print(f'training set size: {data.shape}')\n",
    "    print('-'*90)\n",
    "    best, score = get_best_model_accuracy(naive, naive_params, data, tennis_all_feature_no_pts_clean_y_train, score='accuracy')\n",
    "    all_score_no_pts['Naive_Bayes'].append(score)\n",
    "    all_params_no_pts['Naive_Bayes'].append(best)\n",
    "    print('\\n')"
   ]
  },
  {
   "cell_type": "markdown",
   "metadata": {},
   "source": [
    "In general, losing `ranking_points` feature has reduced the performance of naive bayes in this case, since the range of the match is much wider, it could introduced more bias."
   ]
  },
  {
   "cell_type": "markdown",
   "metadata": {},
   "source": [
    "#### Logistic Regression\n",
    "Now we will try the logistic regression, this is a more complicated algorithms than the previous two, it basically utilize the sigmoid function to calculate the probability of an example and use it to predict the outcome value, the default probability is set to be 0.5, when the hypothesis is greater or equal to 0.5, it will predict 1 and 0 otherwise."
   ]
  },
  {
   "cell_type": "code",
   "execution_count": 65,
   "metadata": {},
   "outputs": [
    {
     "name": "stdout",
     "output_type": "stream",
     "text": [
      "all_feature\n",
      "training set size: (8962, 2280)\n",
      "------------------------------------------------------------------------------------------\n",
      "Best accuracy : 0.8975675072528454\n",
      "Best Parameters: {'C': 0.01, 'penalty': 'l1'}\n",
      "Average Time to Fit (s): 26.592\n",
      "Average Time to Score (s): 0.022\n",
      "\n",
      "\n",
      "all_feature_drop_oppo\n",
      "training set size: (8962, 1540)\n",
      "------------------------------------------------------------------------------------------\n",
      "Best accuracy : 0.8984601651417095\n",
      "Best Parameters: {'C': 0.01, 'penalty': 'l1'}\n",
      "Average Time to Fit (s): 21.789\n",
      "Average Time to Score (s): 0.015\n",
      "\n",
      "\n",
      "all_feature_p_value\n",
      "training set size: (8962, 500)\n",
      "------------------------------------------------------------------------------------------\n",
      "Best accuracy : 0.8629770140593618\n",
      "Best Parameters: {'C': 0.1, 'penalty': 'l1'}\n",
      "Average Time to Fit (s): 4.742\n",
      "Average Time to Score (s): 0.004\n",
      "\n",
      "\n",
      "all_feature_drop_oppo_p_value\n",
      "training set size: (8962, 500)\n",
      "------------------------------------------------------------------------------------------\n",
      "Best accuracy : 0.8584021423789333\n",
      "Best Parameters: {'C': 0.1, 'penalty': 'l1'}\n",
      "Average Time to Fit (s): 4.416\n",
      "Average Time to Score (s): 0.004\n",
      "\n",
      "\n",
      "all_feature_tree\n",
      "training set size: (8962, 500)\n",
      "------------------------------------------------------------------------------------------\n",
      "Best accuracy : 0.8970095960723052\n",
      "Best Parameters: {'C': 0.01, 'penalty': 'l1'}\n",
      "Average Time to Fit (s): 4.927\n",
      "Average Time to Score (s): 0.004\n",
      "\n",
      "\n",
      "all_feature_drop_oppo_tree\n",
      "training set size: (8962, 500)\n",
      "------------------------------------------------------------------------------------------\n",
      "Best accuracy : 0.8953358625306851\n",
      "Best Parameters: {'C': 0.1, 'penalty': 'l1'}\n",
      "Average Time to Fit (s): 4.869\n",
      "Average Time to Score (s): 0.004\n",
      "\n",
      "\n",
      "all_feature_PCA\n",
      "training set size: (8962, 547)\n",
      "------------------------------------------------------------------------------------------\n",
      "Best accuracy : 0.8785985271144834\n",
      "Best Parameters: {'C': 0.1, 'penalty': 'l1'}\n",
      "Average Time to Fit (s): 2.984\n",
      "Average Time to Score (s): 0.005\n",
      "\n",
      "\n",
      "all_feature_drop_oppo_PCA\n",
      "training set size: (8962, 536)\n",
      "------------------------------------------------------------------------------------------\n",
      "Best accuracy : 0.8794911850033474\n",
      "Best Parameters: {'C': 0.01, 'penalty': 'l2'}\n",
      "Average Time to Fit (s): 2.786\n",
      "Average Time to Score (s): 0.005\n",
      "\n",
      "\n"
     ]
    }
   ],
   "source": [
    "# matches ranging from 2009-2017, included ranking_points features\n",
    "lgr = LogisticRegression()\n",
    "\n",
    "# create an empty list to store the scores of logistic regress algorithms\n",
    "all_score['Logistic_regression'] = []\n",
    "all_params['Logistic_regression'] = []\n",
    "lgr_params = {'penalty': ['l1', 'l2'],\n",
    "              'C': [0.01, 0.1, 1, 10]}\n",
    "\n",
    "for name, data in data_all_train.items():\n",
    "    print(name)\n",
    "    print(f'training set size: {data.shape}')\n",
    "    print('-'*90)\n",
    "    best, score = get_best_model_accuracy(lgr, lgr_params, data, tennis_all_feature_clean_y_train, score='accuracy')\n",
    "    all_score['Logistic_regression'].append(score)\n",
    "    all_params['Logistic_regression'].append(best)\n",
    "    print('\\n')"
   ]
  },
  {
   "cell_type": "markdown",
   "metadata": {},
   "source": [
    "It looks like the model-based selection works out the best in logistic regression, it only contains 500 features but are able to reach the accuracy score that is close to using 2280 and 1540 features, this suggested most of our features might be redundant. One big advantage of using less feature is the time to train the model, while the top two dataset took average more than 20 secs to fit the model, the dataset after feature selection only requires around 5 secs, if the time is really a concern, using PCA is another good option since it only took no more than 3 secs on average and still able to reach a pretty good accuracy."
   ]
  },
  {
   "cell_type": "code",
   "execution_count": 15,
   "metadata": {},
   "outputs": [
    {
     "name": "stdout",
     "output_type": "stream",
     "text": [
      "all_feature_no_pts\n",
      "training set size: (5247, 2220)\n",
      "------------------------------------------------------------------------------------------\n",
      "Best accuracy : 0.9125214408233276\n",
      "Best Parameters: {'C': 0.01, 'penalty': 'l1'}\n",
      "Average Time to Fit (s): 19.382\n",
      "Average Time to Score (s): 0.014\n",
      "\n",
      "\n",
      "all_feature_no_pts_drop_oppo\n",
      "training set size: (5247, 1500)\n",
      "------------------------------------------------------------------------------------------\n",
      "Best accuracy : 0.9125214408233276\n",
      "Best Parameters: {'C': 0.01, 'penalty': 'l1'}\n",
      "Average Time to Fit (s): 16.314\n",
      "Average Time to Score (s): 0.009\n",
      "\n",
      "\n",
      "all_feature_no_pts_p_value\n",
      "training set size: (5247, 500)\n",
      "------------------------------------------------------------------------------------------\n",
      "Best accuracy : 0.8604917095483133\n",
      "Best Parameters: {'C': 0.01, 'penalty': 'l1'}\n",
      "Average Time to Fit (s): 3.236\n",
      "Average Time to Score (s): 0.003\n",
      "\n",
      "\n",
      "all_feature_no_pts_drop_oppo_p_value\n",
      "training set size: (5247, 500)\n",
      "------------------------------------------------------------------------------------------\n",
      "Best accuracy : 0.8582046883933676\n",
      "Best Parameters: {'C': 0.1, 'penalty': 'l1'}\n",
      "Average Time to Fit (s): 3.927\n",
      "Average Time to Score (s): 0.003\n",
      "\n",
      "\n",
      "all_feature_no_pts_tree\n",
      "training set size: (5247, 500)\n",
      "------------------------------------------------------------------------------------------\n",
      "Best accuracy : 0.9117591004383457\n",
      "Best Parameters: {'C': 0.1, 'penalty': 'l1'}\n",
      "Average Time to Fit (s): 2.858\n",
      "Average Time to Score (s): 0.003\n",
      "\n",
      "\n",
      "all_feature_no_pts_drop_oppo_tree\n",
      "training set size: (5247, 500)\n",
      "------------------------------------------------------------------------------------------\n",
      "Best accuracy : 0.913474366304555\n",
      "Best Parameters: {'C': 0.1, 'penalty': 'l1'}\n",
      "Average Time to Fit (s): 2.999\n",
      "Average Time to Score (s): 0.003\n",
      "\n",
      "\n",
      "all_feature_no_pts_PCA\n",
      "training set size: (5247, 538)\n",
      "------------------------------------------------------------------------------------------\n",
      "Best accuracy : 0.8785972936916333\n",
      "Best Parameters: {'C': 0.1, 'penalty': 'l2'}\n",
      "Average Time to Fit (s): 1.872\n",
      "Average Time to Score (s): 0.004\n",
      "\n",
      "\n",
      "all_feature_no_pts_drop_oppo_PCA\n",
      "training set size: (5247, 522)\n",
      "------------------------------------------------------------------------------------------\n",
      "Best accuracy : 0.8839336763865066\n",
      "Best Parameters: {'C': 0.1, 'penalty': 'l2'}\n",
      "Average Time to Fit (s): 1.578\n",
      "Average Time to Score (s): 0.003\n",
      "\n",
      "\n"
     ]
    }
   ],
   "source": [
    "# matches ranging from 1991-2017, without including ranking_points features\n",
    "lgr = LogisticRegression()\n",
    "\n",
    "# create an empty list to store the scores of logistic regress algorithms\n",
    "all_score_no_pts['Logistic_regression'] = []\n",
    "all_params_no_pts['Logistic_regression'] = []\n",
    "lgr_params = {'penalty': ['l1', 'l2'],\n",
    "              'C': [0.01, 0.1, 1, 10]}\n",
    "\n",
    "for name, data in data_all_train_no_pts.items():\n",
    "    print(name)\n",
    "    print(f'training set size: {data.shape}')\n",
    "    print('-'*90)\n",
    "    best, score = get_best_model_accuracy(lgr, lgr_params, data, tennis_all_feature_no_pts_clean_y_train, score='accuracy')\n",
    "    all_score_no_pts['Logistic_regression'].append(score)\n",
    "    all_params_no_pts['Logistic_regression'].append(best)\n",
    "    print('\\n')"
   ]
  },
  {
   "cell_type": "markdown",
   "metadata": {},
   "source": [
    "As we seen from the result above, without `ranking_points` dataset outperformed the dataset with `ranking_points` in logistic regression, the accuracy could reach more than 90%! Same as previously, the model-based feature selection data have reached comparable accuracy score as using all features, this suggested there might be a lot of redundant features that we could get rid of."
   ]
  },
  {
   "cell_type": "markdown",
   "metadata": {},
   "source": [
    "#### Decision tree\n",
    "We will now test our tree model, this algorithm is different from previous models we fit, it basically uses a certain criteria to separate the data into two groups in each branch, the criteria is based on the maximum information gain."
   ]
  },
  {
   "cell_type": "code",
   "execution_count": 66,
   "metadata": {},
   "outputs": [
    {
     "name": "stdout",
     "output_type": "stream",
     "text": [
      "all_feature\n",
      "training set size: (8962, 2280)\n",
      "------------------------------------------------------------------------------------------\n",
      "Best accuracy : 0.8821691586699397\n",
      "Best Parameters: {'criterion': 'entropy', 'max_depth': 7}\n",
      "Average Time to Fit (s): 4.584\n",
      "Average Time to Score (s): 0.027\n",
      "\n",
      "\n",
      "all_feature_drop_oppo\n",
      "training set size: (8962, 1540)\n",
      "------------------------------------------------------------------------------------------\n",
      "Best accuracy : 0.8811649185449676\n",
      "Best Parameters: {'criterion': 'gini', 'max_depth': 7}\n",
      "Average Time to Fit (s): 3.157\n",
      "Average Time to Score (s): 0.019\n",
      "\n",
      "\n",
      "all_feature_p_value\n",
      "training set size: (8962, 500)\n",
      "------------------------------------------------------------------------------------------\n",
      "Best accuracy : 0.8580673956706092\n",
      "Best Parameters: {'criterion': 'entropy', 'max_depth': 7}\n",
      "Average Time to Fit (s): 1.306\n",
      "Average Time to Score (s): 0.005\n",
      "\n",
      "\n",
      "all_feature_drop_oppo_p_value\n",
      "training set size: (8962, 500)\n",
      "------------------------------------------------------------------------------------------\n",
      "Best accuracy : 0.8615264449899576\n",
      "Best Parameters: {'criterion': 'gini', 'max_depth': 5}\n",
      "Average Time to Fit (s): 1.276\n",
      "Average Time to Score (s): 0.005\n",
      "\n",
      "\n",
      "all_feature_tree\n",
      "training set size: (8962, 500)\n",
      "------------------------------------------------------------------------------------------\n",
      "Best accuracy : 0.885405043517072\n",
      "Best Parameters: {'criterion': 'gini', 'max_depth': 9}\n",
      "Average Time to Fit (s): 1.108\n",
      "Average Time to Score (s): 0.005\n",
      "\n",
      "\n",
      "all_feature_drop_oppo_tree\n",
      "training set size: (8962, 500)\n",
      "------------------------------------------------------------------------------------------\n",
      "Best accuracy : 0.8844008033921\n",
      "Best Parameters: {'criterion': 'gini', 'max_depth': 7}\n",
      "Average Time to Fit (s): 1.152\n",
      "Average Time to Score (s): 0.005\n",
      "\n",
      "\n",
      "all_feature_PCA\n",
      "training set size: (8962, 547)\n",
      "------------------------------------------------------------------------------------------\n",
      "Best accuracy : 0.6294353938852935\n",
      "Best Parameters: {'criterion': 'entropy', 'max_depth': 5}\n",
      "Average Time to Fit (s): 3.061\n",
      "Average Time to Score (s): 0.006\n",
      "\n",
      "\n",
      "all_feature_drop_oppo_PCA\n",
      "training set size: (8962, 536)\n",
      "------------------------------------------------------------------------------------------\n",
      "Best accuracy : 0.6328944432046418\n",
      "Best Parameters: {'criterion': 'entropy', 'max_depth': 5}\n",
      "Average Time to Fit (s): 3.004\n",
      "Average Time to Score (s): 0.006\n",
      "\n",
      "\n"
     ]
    }
   ],
   "source": [
    "# matches ranging from 2009-2017, included ranking_points features\n",
    "dt = DecisionTreeClassifier()\n",
    "\n",
    "# create an empty list to store the scores of tree algorithms\n",
    "all_score['Decision_tree'] = []\n",
    "all_params['Decision_tree'] = []\n",
    "\n",
    "dt_params = {'criterion': ['gini', 'entropy'],\n",
    "             'max_depth': [1,3,5,7,9,11],}\n",
    "\n",
    "for name, data in data_all_train.items():\n",
    "    print(name)\n",
    "    print(f'training set size: {data.shape}')\n",
    "    print('-'*90)\n",
    "    best, score = get_best_model_accuracy(dt, dt_params, data, tennis_all_feature_clean_y_train, score='accuracy')\n",
    "    all_score['Decision_tree'].append(score)\n",
    "    all_params['Decision_tree'].append(best)\n",
    "    print('\\n')"
   ]
  },
  {
   "cell_type": "markdown",
   "metadata": {},
   "source": [
    "Same as logistic regression, the decision tree model seems to pick up the most important features that were selected by the model-based method, using more than 1500 of features did not help much in this case either, this again proved that some of the features might be redundant. PCA did not seem to be compatible with tree model, existing a high bias."
   ]
  },
  {
   "cell_type": "code",
   "execution_count": 16,
   "metadata": {},
   "outputs": [
    {
     "name": "stdout",
     "output_type": "stream",
     "text": [
      "all_feature_no_pts\n",
      "training set size: (5247, 2220)\n",
      "------------------------------------------------------------------------------------------\n",
      "Best accuracy : 0.8867924528301887\n",
      "Best Parameters: {'criterion': 'gini', 'max_depth': 7}\n",
      "Average Time to Fit (s): 2.45\n",
      "Average Time to Score (s): 0.015\n",
      "\n",
      "\n",
      "all_feature_no_pts_drop_oppo\n",
      "training set size: (5247, 1500)\n",
      "------------------------------------------------------------------------------------------\n",
      "Best accuracy : 0.8877453783114161\n",
      "Best Parameters: {'criterion': 'gini', 'max_depth': 7}\n",
      "Average Time to Fit (s): 1.668\n",
      "Average Time to Score (s): 0.01\n",
      "\n",
      "\n",
      "all_feature_no_pts_p_value\n",
      "training set size: (5247, 500)\n",
      "------------------------------------------------------------------------------------------\n",
      "Best accuracy : 0.8547741566609491\n",
      "Best Parameters: {'criterion': 'gini', 'max_depth': 5}\n",
      "Average Time to Fit (s): 0.753\n",
      "Average Time to Score (s): 0.004\n",
      "\n",
      "\n",
      "all_feature_no_pts_drop_oppo_p_value\n",
      "training set size: (5247, 500)\n",
      "------------------------------------------------------------------------------------------\n",
      "Best accuracy : 0.8364779874213837\n",
      "Best Parameters: {'criterion': 'entropy', 'max_depth': 5}\n",
      "Average Time to Fit (s): 0.752\n",
      "Average Time to Score (s): 0.004\n",
      "\n",
      "\n",
      "all_feature_no_pts_tree\n",
      "training set size: (5247, 500)\n",
      "------------------------------------------------------------------------------------------\n",
      "Best accuracy : 0.898608728797408\n",
      "Best Parameters: {'criterion': 'gini', 'max_depth': 7}\n",
      "Average Time to Fit (s): 0.584\n",
      "Average Time to Score (s): 0.004\n",
      "\n",
      "\n",
      "all_feature_no_pts_drop_oppo_tree\n",
      "training set size: (5247, 500)\n",
      "------------------------------------------------------------------------------------------\n",
      "Best accuracy : 0.8972746331236897\n",
      "Best Parameters: {'criterion': 'gini', 'max_depth': 7}\n",
      "Average Time to Fit (s): 0.589\n",
      "Average Time to Score (s): 0.004\n",
      "\n",
      "\n",
      "all_feature_no_pts_PCA\n",
      "training set size: (5247, 538)\n",
      "------------------------------------------------------------------------------------------\n",
      "Best accuracy : 0.6331236897274634\n",
      "Best Parameters: {'criterion': 'gini', 'max_depth': 3}\n",
      "Average Time to Fit (s): 1.638\n",
      "Average Time to Score (s): 0.004\n",
      "\n",
      "\n",
      "all_feature_no_pts_drop_oppo_PCA\n",
      "training set size: (5247, 522)\n",
      "------------------------------------------------------------------------------------------\n",
      "Best accuracy : 0.6115875738517248\n",
      "Best Parameters: {'criterion': 'gini', 'max_depth': 3}\n",
      "Average Time to Fit (s): 1.605\n",
      "Average Time to Score (s): 0.004\n",
      "\n",
      "\n"
     ]
    }
   ],
   "source": [
    "# matches ranging from 1991-2017, without including ranking_points features\n",
    "dt = DecisionTreeClassifier()\n",
    "\n",
    "# create an empty list to store the scores of tree algorithms\n",
    "all_score_no_pts['Decision_tree'] = []\n",
    "all_params_no_pts['Decision_tree'] = []\n",
    "\n",
    "dt_params = {'criterion': ['gini', 'entropy'],\n",
    "             'max_depth': [1,3,5,7,9,11],}\n",
    "\n",
    "for name, data in data_all_train_no_pts.items():\n",
    "    print(name)\n",
    "    print(f'training set size: {data.shape}')\n",
    "    print('-'*90)\n",
    "    best, score = get_best_model_accuracy(dt, dt_params, data, tennis_all_feature_no_pts_clean_y_train, score='accuracy')\n",
    "    all_score_no_pts['Decision_tree'].append(score)\n",
    "    all_params_no_pts['Decision_tree'].append(best)\n",
    "    print('\\n')"
   ]
  },
  {
   "cell_type": "markdown",
   "metadata": {},
   "source": [
    "Decision tree performed similar no matter using `ranking_points` feature or not. The PCA data still performed badly here."
   ]
  },
  {
   "cell_type": "markdown",
   "metadata": {},
   "source": [
    "#### Random forest"
   ]
  },
  {
   "cell_type": "code",
   "execution_count": 67,
   "metadata": {},
   "outputs": [
    {
     "name": "stdout",
     "output_type": "stream",
     "text": [
      "all_feature\n",
      "training set size: (8962, 2280)\n",
      "------------------------------------------------------------------------------------------\n",
      "Best accuracy : 0.8406605668377595\n",
      "Best Parameters: {'max_depth': 9, 'n_estimators': 500}\n",
      "Average Time to Fit (s): 8.301\n",
      "Average Time to Score (s): 0.07\n",
      "\n",
      "\n",
      "all_feature_drop_oppo\n",
      "training set size: (8962, 1540)\n",
      "------------------------------------------------------------------------------------------\n",
      "Best accuracy : 0.8350814550323589\n",
      "Best Parameters: {'max_depth': 9, 'n_estimators': 500}\n",
      "Average Time to Fit (s): 7.032\n",
      "Average Time to Score (s): 0.063\n",
      "\n",
      "\n",
      "all_feature_p_value\n",
      "training set size: (8962, 500)\n",
      "------------------------------------------------------------------------------------------\n",
      "Best accuracy : 0.8694487837536264\n",
      "Best Parameters: {'max_depth': 9, 'n_estimators': 500}\n",
      "Average Time to Fit (s): 4.956\n",
      "Average Time to Score (s): 0.047\n",
      "\n",
      "\n",
      "all_feature_drop_oppo_p_value\n",
      "training set size: (8962, 500)\n",
      "------------------------------------------------------------------------------------------\n",
      "Best accuracy : 0.8529346128096407\n",
      "Best Parameters: {'max_depth': 9, 'n_estimators': 500}\n",
      "Average Time to Fit (s): 4.843\n",
      "Average Time to Score (s): 0.047\n",
      "\n",
      "\n",
      "all_feature_tree\n",
      "training set size: (8962, 500)\n",
      "------------------------------------------------------------------------------------------\n",
      "Best accuracy : 0.8570631555456372\n",
      "Best Parameters: {'max_depth': 9, 'n_estimators': 500}\n",
      "Average Time to Fit (s): 4.396\n",
      "Average Time to Score (s): 0.047\n",
      "\n",
      "\n",
      "all_feature_drop_oppo_tree\n",
      "training set size: (8962, 500)\n",
      "------------------------------------------------------------------------------------------\n",
      "Best accuracy : 0.8627538495871457\n",
      "Best Parameters: {'max_depth': 9, 'n_estimators': 500}\n",
      "Average Time to Fit (s): 4.52\n",
      "Average Time to Score (s): 0.047\n",
      "\n",
      "\n",
      "all_feature_PCA\n",
      "training set size: (8962, 547)\n",
      "------------------------------------------------------------------------------------------\n",
      "Best accuracy : 0.721602320910511\n",
      "Best Parameters: {'max_depth': 9, 'n_estimators': 500}\n",
      "Average Time to Fit (s): 8.737\n",
      "Average Time to Score (s): 0.058\n",
      "\n",
      "\n",
      "all_feature_drop_oppo_PCA\n",
      "training set size: (8962, 536)\n",
      "------------------------------------------------------------------------------------------\n",
      "Best accuracy : 0.7084356170497657\n",
      "Best Parameters: {'max_depth': 9, 'n_estimators': 500}\n",
      "Average Time to Fit (s): 8.729\n",
      "Average Time to Score (s): 0.058\n",
      "\n",
      "\n"
     ]
    }
   ],
   "source": [
    "# matches ranging from 2009-2017, included ranking_points features\n",
    "rf = RandomForestClassifier()\n",
    "\n",
    "# create an empty list to store the scores of tree algorithms\n",
    "all_score['Random_forest'] = []\n",
    "all_params['Random_forest'] = []\n",
    "\n",
    "rf_params = {'n_estimators': [10, 50, 100, 500],\n",
    "             'max_depth': [1,3,5,7,9]}\n",
    "\n",
    "for name, data in data_all_train.items():\n",
    "    print(name)\n",
    "    print(f'training set size: {data.shape}')\n",
    "    print('-'*90)\n",
    "    best, score = get_best_model_accuracy(rf, rf_params, data, tennis_all_feature_clean_y_train, score='accuracy')\n",
    "    all_score['Random_forest'].append(score)\n",
    "    all_params['Random_forest'].append(best)\n",
    "    print('\\n')"
   ]
  },
  {
   "cell_type": "markdown",
   "metadata": {},
   "source": [
    "Compare to decision tree model we ran previously, random forest performed worse and also it took much more time to train the model. This could be explained by the algorithm nature of random forest, which took random tree for each estimator and average out the result, each tree composed of different patches that used different subset of features in training example, since we have thousands of features, everytime it could have picked the features that are relatively not important and provide less information to the predicting model, thus the overall performance was not as good as decision tree."
   ]
  },
  {
   "cell_type": "code",
   "execution_count": 17,
   "metadata": {},
   "outputs": [
    {
     "name": "stdout",
     "output_type": "stream",
     "text": [
      "all_feature_no_pts\n",
      "training set size: (5247, 2220)\n",
      "------------------------------------------------------------------------------------------\n",
      "Best accuracy : 0.8332380407852106\n",
      "Best Parameters: {'max_depth': 9, 'n_estimators': 500}\n",
      "Average Time to Fit (s): 4.962\n",
      "Average Time to Score (s): 0.049\n",
      "\n",
      "\n",
      "all_feature_no_pts_drop_oppo\n",
      "training set size: (5247, 1500)\n",
      "------------------------------------------------------------------------------------------\n",
      "Best accuracy : 0.8280922431865828\n",
      "Best Parameters: {'max_depth': 9, 'n_estimators': 500}\n",
      "Average Time to Fit (s): 4.03\n",
      "Average Time to Score (s): 0.044\n",
      "\n",
      "\n",
      "all_feature_no_pts_p_value\n",
      "training set size: (5247, 500)\n",
      "------------------------------------------------------------------------------------------\n",
      "Best accuracy : 0.8540118162759672\n",
      "Best Parameters: {'max_depth': 9, 'n_estimators': 500}\n",
      "Average Time to Fit (s): 2.798\n",
      "Average Time to Score (s): 0.033\n",
      "\n",
      "\n",
      "all_feature_no_pts_drop_oppo_p_value\n",
      "training set size: (5247, 500)\n",
      "------------------------------------------------------------------------------------------\n",
      "Best accuracy : 0.8383838383838383\n",
      "Best Parameters: {'max_depth': 9, 'n_estimators': 500}\n",
      "Average Time to Fit (s): 2.912\n",
      "Average Time to Score (s): 0.035\n",
      "\n",
      "\n",
      "all_feature_no_pts_tree\n",
      "training set size: (5247, 500)\n",
      "------------------------------------------------------------------------------------------\n",
      "Best accuracy : 0.8671621879169049\n",
      "Best Parameters: {'max_depth': 9, 'n_estimators': 500}\n",
      "Average Time to Fit (s): 2.487\n",
      "Average Time to Score (s): 0.034\n",
      "\n",
      "\n",
      "all_feature_no_pts_drop_oppo_tree\n",
      "training set size: (5247, 500)\n",
      "------------------------------------------------------------------------------------------\n",
      "Best accuracy : 0.8461978273299028\n",
      "Best Parameters: {'max_depth': 9, 'n_estimators': 500}\n",
      "Average Time to Fit (s): 2.403\n",
      "Average Time to Score (s): 0.034\n",
      "\n",
      "\n",
      "all_feature_no_pts_PCA\n",
      "training set size: (5247, 538)\n",
      "------------------------------------------------------------------------------------------\n",
      "Best accuracy : 0.7408042691061559\n",
      "Best Parameters: {'max_depth': 9, 'n_estimators': 500}\n",
      "Average Time to Fit (s): 5.19\n",
      "Average Time to Score (s): 0.044\n",
      "\n",
      "\n",
      "all_feature_no_pts_drop_oppo_PCA\n",
      "training set size: (5247, 522)\n",
      "------------------------------------------------------------------------------------------\n",
      "Best accuracy : 0.7430912902611015\n",
      "Best Parameters: {'max_depth': 9, 'n_estimators': 500}\n",
      "Average Time to Fit (s): 4.79\n",
      "Average Time to Score (s): 0.042\n",
      "\n",
      "\n"
     ]
    }
   ],
   "source": [
    "rf = RandomForestClassifier()\n",
    "# matches ranging from 1991-2017, without including ranking_points features\n",
    "# create an empty list to store the scores of tree algorithms\n",
    "all_score_no_pts['Random_forest'] = []\n",
    "all_params_no_pts['Random_forest'] = []\n",
    "\n",
    "rf_params = {'n_estimators': [10, 50, 100, 500],\n",
    "             'max_depth': [1,3,5,7,9]}\n",
    "\n",
    "for name, data in data_all_train_no_pts.items():\n",
    "    print(name)\n",
    "    print(f'training set size: {data.shape}')\n",
    "    print('-'*90)\n",
    "    best, score = get_best_model_accuracy(rf, rf_params, data, tennis_all_feature_no_pts_clean_y_train, score='accuracy')\n",
    "    all_score_no_pts['Random_forest'].append(score)\n",
    "    all_params_no_pts['Random_forest'].append(best)\n",
    "    print('\\n')"
   ]
  },
  {
   "cell_type": "markdown",
   "metadata": {},
   "source": [
    "Random forest algorithm did not show any difference whether including `ranking_points` features or not, and again, it performed worse than decision tree as the reason we described."
   ]
  },
  {
   "cell_type": "markdown",
   "metadata": {},
   "source": [
    "#### Support vector machine\n",
    "We will next try the support vector machine, this algorithms has a cost function that is modified from logistic regression, the modified version of cost function creates an ideal hyperplance in an n-dimensional space that separates the class with the maximum margin, we will first try the linear support vector machine"
   ]
  },
  {
   "cell_type": "code",
   "execution_count": 68,
   "metadata": {},
   "outputs": [
    {
     "name": "stdout",
     "output_type": "stream",
     "text": [
      "all_feature\n",
      "training set size: (8962, 2280)\n",
      "------------------------------------------------------------------------------------------\n",
      "Best accuracy : 0.874916313322919\n",
      "Best Parameters: {'C': 0.01, 'penalty': 'l2'}\n",
      "Average Time to Fit (s): 12.103\n",
      "Average Time to Score (s): 0.011\n",
      "\n",
      "\n",
      "all_feature_drop_oppo\n",
      "training set size: (8962, 1540)\n",
      "------------------------------------------------------------------------------------------\n",
      "Best accuracy : 0.8769247935728632\n",
      "Best Parameters: {'C': 0.01, 'penalty': 'l2'}\n",
      "Average Time to Fit (s): 8.018\n",
      "Average Time to Score (s): 0.008\n",
      "\n",
      "\n",
      "all_feature_p_value\n",
      "training set size: (8962, 500)\n",
      "------------------------------------------------------------------------------------------\n",
      "Best accuracy : 0.8540504351707208\n",
      "Best Parameters: {'C': 0.01, 'penalty': 'l2'}\n",
      "Average Time to Fit (s): 3.55\n",
      "Average Time to Score (s): 0.002\n",
      "\n",
      "\n",
      "all_feature_drop_oppo_p_value\n",
      "training set size: (8962, 500)\n",
      "------------------------------------------------------------------------------------------\n",
      "Best accuracy : 0.8472439187681321\n",
      "Best Parameters: {'C': 0.01, 'penalty': 'l2'}\n",
      "Average Time to Fit (s): 3.581\n",
      "Average Time to Score (s): 0.002\n",
      "\n",
      "\n",
      "all_feature_tree\n",
      "training set size: (8962, 500)\n",
      "------------------------------------------------------------------------------------------\n",
      "Best accuracy : 0.8895335862530686\n",
      "Best Parameters: {'C': 0.01, 'penalty': 'l2'}\n",
      "Average Time to Fit (s): 3.0\n",
      "Average Time to Score (s): 0.002\n",
      "\n",
      "\n",
      "all_feature_drop_oppo_tree\n",
      "training set size: (8962, 500)\n",
      "------------------------------------------------------------------------------------------\n",
      "Best accuracy : 0.8894220040169605\n",
      "Best Parameters: {'C': 0.01, 'penalty': 'l2'}\n",
      "Average Time to Fit (s): 2.977\n",
      "Average Time to Score (s): 0.002\n",
      "\n",
      "\n",
      "all_feature_PCA\n",
      "training set size: (8962, 547)\n",
      "------------------------------------------------------------------------------------------\n",
      "Best accuracy : 0.8772595402811872\n",
      "Best Parameters: {'C': 0.01, 'penalty': 'l2'}\n",
      "Average Time to Fit (s): 3.469\n",
      "Average Time to Score (s): 0.002\n",
      "\n",
      "\n",
      "all_feature_drop_oppo_PCA\n",
      "training set size: (8962, 536)\n",
      "------------------------------------------------------------------------------------------\n",
      "Best accuracy : 0.8806070073644275\n",
      "Best Parameters: {'C': 0.01, 'penalty': 'l2'}\n",
      "Average Time to Fit (s): 3.245\n",
      "Average Time to Score (s): 0.002\n",
      "\n",
      "\n"
     ]
    }
   ],
   "source": [
    "# linear support vector machine\n",
    "# matches ranging from 2009-2017, included ranking_points features\n",
    "lsvc = LinearSVC()\n",
    "\n",
    "# create an empty list to store the scores of linear support vector machine algorithms\n",
    "all_score['LSVM'] = []\n",
    "all_params['LSVM'] = []\n",
    "lsvc_params = {'C': [0.01, 0.1, 1, 10, 100],\n",
    "               'penalty': ['l1', 'l2']}\n",
    "for name, data in data_all_train.items():\n",
    "    print(name)\n",
    "    print(f'training set size: {data.shape}')\n",
    "    print('-'*90)\n",
    "    best, score = get_best_model_accuracy(lsvc, lsvc_params, data, tennis_all_feature_clean_y_train, score='accuracy')\n",
    "    all_score['LSVM'].append(score)\n",
    "    all_params['LSVM'].append(best)\n",
    "    print('\\n')"
   ]
  },
  {
   "cell_type": "markdown",
   "metadata": {},
   "source": [
    "We can see that from linear support vector machine model, using all the features again did not perform better than the model-based selection data, it also took much more time to train the model."
   ]
  },
  {
   "cell_type": "code",
   "execution_count": 18,
   "metadata": {},
   "outputs": [
    {
     "name": "stdout",
     "output_type": "stream",
     "text": [
      "all_feature_no_pts\n",
      "training set size: (5247, 2220)\n",
      "------------------------------------------------------------------------------------------\n",
      "Best accuracy : 0.876882027825424\n",
      "Best Parameters: {'C': 0.01, 'penalty': 'l2'}\n",
      "Average Time to Fit (s): 5.026\n",
      "Average Time to Score (s): 0.006\n",
      "\n",
      "\n",
      "all_feature_no_pts_drop_oppo\n",
      "training set size: (5247, 1500)\n",
      "------------------------------------------------------------------------------------------\n",
      "Best accuracy : 0.8816466552315609\n",
      "Best Parameters: {'C': 0.01, 'penalty': 'l2'}\n",
      "Average Time to Fit (s): 3.358\n",
      "Average Time to Score (s): 0.005\n",
      "\n",
      "\n",
      "all_feature_no_pts_p_value\n",
      "training set size: (5247, 500)\n",
      "------------------------------------------------------------------------------------------\n",
      "Best accuracy : 0.8450543167524299\n",
      "Best Parameters: {'C': 0.01, 'penalty': 'l2'}\n",
      "Average Time to Fit (s): 1.905\n",
      "Average Time to Score (s): 0.001\n",
      "\n",
      "\n",
      "all_feature_no_pts_drop_oppo_p_value\n",
      "training set size: (5247, 500)\n",
      "------------------------------------------------------------------------------------------\n",
      "Best accuracy : 0.8389555936725748\n",
      "Best Parameters: {'C': 0.01, 'penalty': 'l2'}\n",
      "Average Time to Fit (s): 1.919\n",
      "Average Time to Score (s): 0.002\n",
      "\n",
      "\n",
      "all_feature_no_pts_tree\n",
      "training set size: (5247, 500)\n",
      "------------------------------------------------------------------------------------------\n",
      "Best accuracy : 0.898608728797408\n",
      "Best Parameters: {'C': 0.01, 'penalty': 'l2'}\n",
      "Average Time to Fit (s): 1.489\n",
      "Average Time to Score (s): 0.002\n",
      "\n",
      "\n",
      "all_feature_no_pts_drop_oppo_tree\n",
      "training set size: (5247, 500)\n",
      "------------------------------------------------------------------------------------------\n",
      "Best accuracy : 0.9020392605298265\n",
      "Best Parameters: {'C': 0.01, 'penalty': 'l2'}\n",
      "Average Time to Fit (s): 1.626\n",
      "Average Time to Score (s): 0.002\n",
      "\n",
      "\n",
      "all_feature_no_pts_PCA\n",
      "training set size: (5247, 538)\n",
      "------------------------------------------------------------------------------------------\n",
      "Best accuracy : 0.8789784638841243\n",
      "Best Parameters: {'C': 0.01, 'penalty': 'l2'}\n",
      "Average Time to Fit (s): 1.645\n",
      "Average Time to Score (s): 0.002\n",
      "\n",
      "\n",
      "all_feature_no_pts_drop_oppo_PCA\n",
      "training set size: (5247, 522)\n",
      "------------------------------------------------------------------------------------------\n",
      "Best accuracy : 0.8854583571564704\n",
      "Best Parameters: {'C': 0.01, 'penalty': 'l2'}\n",
      "Average Time to Fit (s): 1.53\n",
      "Average Time to Score (s): 0.002\n",
      "\n",
      "\n"
     ]
    }
   ],
   "source": [
    "# linear support vector machine\n",
    "# matches ranging from 1991-2017, without including ranking_points features\n",
    "lsvc = LinearSVC()\n",
    "\n",
    "# create an empty list to store the scores of linear support vector machine algorithms\n",
    "all_score_no_pts['LSVM'] = []\n",
    "all_params_no_pts['LSVM'] = []\n",
    "lsvc_params = {'C': [0.01, 0.1, 1, 10, 100],\n",
    "               'penalty': ['l1', 'l2']}\n",
    "for name, data in data_all_train_no_pts.items():\n",
    "    print(name)\n",
    "    print(f'training set size: {data.shape}')\n",
    "    print('-'*90)\n",
    "    best, score = get_best_model_accuracy(lsvc, lsvc_params, data, tennis_all_feature_no_pts_clean_y_train, score='accuracy')\n",
    "    all_score_no_pts['LSVM'].append(score)\n",
    "    all_params_no_pts['LSVM'].append(best)\n",
    "    print('\\n')"
   ]
  },
  {
   "cell_type": "markdown",
   "metadata": {},
   "source": [
    "The `all_feature_no_pts_drop_oppo_tree` data reaches over 90% of accuracy with only around 1.6 second training time, the previous model that reached over 90% accuracy required nearly 3 seconds in logistic regression. The other data did not show much difference whether using `ranking_points` feature or not. "
   ]
  },
  {
   "cell_type": "markdown",
   "metadata": {},
   "source": [
    "#### Gradient bossting"
   ]
  },
  {
   "cell_type": "code",
   "execution_count": 69,
   "metadata": {},
   "outputs": [
    {
     "name": "stdout",
     "output_type": "stream",
     "text": [
      "all_feature\n",
      "training set size: (8962, 2280)\n",
      "------------------------------------------------------------------------------------------\n",
      "Best accuracy : 0.9163133229189913\n",
      "Best Parameters: {'learning_rate': 0.1}\n",
      "Average Time to Fit (s): 73.559\n",
      "Average Time to Score (s): 0.069\n",
      "\n",
      "\n",
      "all_feature_drop_oppo\n",
      "training set size: (8962, 1540)\n",
      "------------------------------------------------------------------------------------------\n",
      "Best accuracy : 0.9170943985717473\n",
      "Best Parameters: {'learning_rate': 0.1}\n",
      "Average Time to Fit (s): 50.772\n",
      "Average Time to Score (s): 0.047\n",
      "\n",
      "\n",
      "all_feature_p_value\n",
      "training set size: (8962, 500)\n",
      "------------------------------------------------------------------------------------------\n",
      "Best accuracy : 0.8862977014059362\n",
      "Best Parameters: {'learning_rate': 0.1}\n",
      "Average Time to Fit (s): 20.07\n",
      "Average Time to Score (s): 0.013\n",
      "\n",
      "\n",
      "all_feature_drop_oppo_p_value\n",
      "training set size: (8962, 500)\n",
      "------------------------------------------------------------------------------------------\n",
      "Best accuracy : 0.8826154876143718\n",
      "Best Parameters: {'learning_rate': 0.1}\n",
      "Average Time to Fit (s): 19.892\n",
      "Average Time to Score (s): 0.013\n",
      "\n",
      "\n",
      "all_feature_tree\n",
      "training set size: (8962, 500)\n",
      "------------------------------------------------------------------------------------------\n",
      "Best accuracy : 0.9165364873912073\n",
      "Best Parameters: {'learning_rate': 0.1}\n",
      "Average Time to Fit (s): 17.305\n",
      "Average Time to Score (s): 0.013\n",
      "\n",
      "\n",
      "all_feature_drop_oppo_tree\n",
      "training set size: (8962, 500)\n",
      "------------------------------------------------------------------------------------------\n",
      "Best accuracy : 0.9187681321133675\n",
      "Best Parameters: {'learning_rate': 0.1}\n",
      "Average Time to Fit (s): 17.858\n",
      "Average Time to Score (s): 0.013\n",
      "\n",
      "\n",
      "all_feature_PCA\n",
      "training set size: (8962, 547)\n",
      "------------------------------------------------------------------------------------------\n",
      "Best accuracy : 0.7717027449230083\n",
      "Best Parameters: {'learning_rate': 0.5}\n",
      "Average Time to Fit (s): 43.144\n",
      "Average Time to Score (s): 0.018\n",
      "\n",
      "\n",
      "all_feature_drop_oppo_PCA\n",
      "training set size: (8962, 536)\n",
      "------------------------------------------------------------------------------------------\n",
      "Best accuracy : 0.750613702298594\n",
      "Best Parameters: {'learning_rate': 0.5}\n",
      "Average Time to Fit (s): 41.994\n",
      "Average Time to Score (s): 0.017\n",
      "\n",
      "\n"
     ]
    }
   ],
   "source": [
    "# matches ranging from 2009-2017, included ranking_points features\n",
    "gbr = GradientBoostingClassifier()\n",
    "\n",
    "# create an empty list to store the scores of gradient boosting algorithms\n",
    "all_score['Gradient_boosting'] = []\n",
    "all_params['Gradient_boosting'] = []\n",
    "gbr_params = {'learning_rate': [0.05, 0.1, 0.5]}\n",
    "\n",
    "for name, data in data_all_train.items():\n",
    "    print(name)\n",
    "    print(f'training set size: {data.shape}')\n",
    "    print('-'*90)\n",
    "    best, score = get_best_model_accuracy(gbr, gbr_params, data, tennis_all_feature_clean_y_train, score='accuracy')\n",
    "    all_score['Gradient_boosting'].append(score)\n",
    "    all_params['Gradient_boosting'].append(best)\n",
    "    print('\\n')"
   ]
  },
  {
   "cell_type": "markdown",
   "metadata": {},
   "source": [
    "We can see that gradient boosting is so far the only algorithm that could reach the accuracy more than 92% using different dataset, however, the training time required was a lot higher than others that had slightly lower accuracy but faster training time."
   ]
  },
  {
   "cell_type": "code",
   "execution_count": 19,
   "metadata": {},
   "outputs": [
    {
     "name": "stdout",
     "output_type": "stream",
     "text": [
      "all_feature_no_pts\n",
      "training set size: (5247, 2220)\n",
      "------------------------------------------------------------------------------------------\n",
      "Best accuracy : 0.9214789403468648\n",
      "Best Parameters: {'learning_rate': 0.1}\n",
      "Average Time to Fit (s): 46.088\n",
      "Average Time to Score (s): 0.044\n",
      "\n",
      "\n",
      "all_feature_no_pts_drop_oppo\n",
      "training set size: (5247, 1500)\n",
      "------------------------------------------------------------------------------------------\n",
      "Best accuracy : 0.9226224509243377\n",
      "Best Parameters: {'learning_rate': 0.1}\n",
      "Average Time to Fit (s): 32.434\n",
      "Average Time to Score (s): 0.03\n",
      "\n",
      "\n",
      "all_feature_no_pts_p_value\n",
      "training set size: (5247, 500)\n",
      "------------------------------------------------------------------------------------------\n",
      "Best accuracy : 0.88126548503907\n",
      "Best Parameters: {'learning_rate': 0.1}\n",
      "Average Time to Fit (s): 13.68\n",
      "Average Time to Score (s): 0.009\n",
      "\n",
      "\n",
      "all_feature_no_pts_drop_oppo_p_value\n",
      "training set size: (5247, 500)\n",
      "------------------------------------------------------------------------------------------\n",
      "Best accuracy : 0.8730703259005146\n",
      "Best Parameters: {'learning_rate': 0.05}\n",
      "Average Time to Fit (s): 13.578\n",
      "Average Time to Score (s): 0.008\n",
      "\n",
      "\n",
      "all_feature_no_pts_tree\n",
      "training set size: (5247, 500)\n",
      "------------------------------------------------------------------------------------------\n",
      "Best accuracy : 0.9201448446731466\n",
      "Best Parameters: {'learning_rate': 0.1}\n",
      "Average Time to Fit (s): 10.217\n",
      "Average Time to Score (s): 0.007\n",
      "\n",
      "\n",
      "all_feature_no_pts_drop_oppo_tree\n",
      "training set size: (5247, 500)\n",
      "------------------------------------------------------------------------------------------\n",
      "Best accuracy : 0.9197636744806557\n",
      "Best Parameters: {'learning_rate': 0.1}\n",
      "Average Time to Fit (s): 9.492\n",
      "Average Time to Score (s): 0.006\n",
      "\n",
      "\n",
      "all_feature_no_pts_PCA\n",
      "training set size: (5247, 538)\n",
      "------------------------------------------------------------------------------------------\n",
      "Best accuracy : 0.7406136840099105\n",
      "Best Parameters: {'learning_rate': 0.5}\n",
      "Average Time to Fit (s): 25.578\n",
      "Average Time to Score (s): 0.01\n",
      "\n",
      "\n",
      "all_feature_no_pts_drop_oppo_PCA\n",
      "training set size: (5247, 522)\n",
      "------------------------------------------------------------------------------------------\n",
      "Best accuracy : 0.743281875357347\n",
      "Best Parameters: {'learning_rate': 0.5}\n",
      "Average Time to Fit (s): 23.038\n",
      "Average Time to Score (s): 0.009\n",
      "\n",
      "\n"
     ]
    }
   ],
   "source": [
    "# matches ranging from 1991-2017, without including ranking_points features\n",
    "gbr = GradientBoostingClassifier()\n",
    "\n",
    "# create an empty list to store the scores of gradient boosting algorithms\n",
    "all_score_no_pts['Gradient_boosting'] = []\n",
    "all_params_no_pts['Gradient_boosting'] = []\n",
    "gbr_params = {'learning_rate': [0.05, 0.1, 0.5]}\n",
    "\n",
    "for name, data in data_all_train_no_pts.items():\n",
    "    print(name)\n",
    "    print(f'training set size: {data.shape}')\n",
    "    print('-'*90)\n",
    "    best, score = get_best_model_accuracy(gbr, gbr_params, data, tennis_all_feature_no_pts_clean_y_train, score='accuracy')\n",
    "    all_score_no_pts['Gradient_boosting'].append(score)\n",
    "    all_params_no_pts['Gradient_boosting'].append(best)\n",
    "    print('\\n')"
   ]
  },
  {
   "cell_type": "markdown",
   "metadata": {},
   "source": [
    "Without using `ranking_points` feature, we can see that the accuracy was about the same and model-based feature selection was still able to reach accuracy more than 92%. But again, the training time was a lot longer."
   ]
  },
  {
   "cell_type": "markdown",
   "metadata": {},
   "source": [
    "### Summary of the scores\n",
    "We have gathered all the scores and best parameters from our model we trained and we will show the summary table as the following:"
   ]
  },
  {
   "cell_type": "markdown",
   "metadata": {},
   "source": [
    "#### matches from 2009-2017, with `ranking_points` feature included."
   ]
  },
  {
   "cell_type": "code",
   "execution_count": 78,
   "metadata": {},
   "outputs": [
    {
     "data": {
      "text/html": [
       "<div>\n",
       "<style scoped>\n",
       "    .dataframe tbody tr th:only-of-type {\n",
       "        vertical-align: middle;\n",
       "    }\n",
       "\n",
       "    .dataframe tbody tr th {\n",
       "        vertical-align: top;\n",
       "    }\n",
       "\n",
       "    .dataframe thead th {\n",
       "        text-align: right;\n",
       "    }\n",
       "</style>\n",
       "<table border=\"1\" class=\"dataframe\">\n",
       "  <thead>\n",
       "    <tr style=\"text-align: right;\">\n",
       "      <th></th>\n",
       "      <th>Naive_Bayes</th>\n",
       "      <th>Logistic_regression</th>\n",
       "      <th>Decision_tree</th>\n",
       "      <th>Random_forest</th>\n",
       "      <th>LSVM</th>\n",
       "      <th>Gradient_boosting</th>\n",
       "      <th>Avg_score</th>\n",
       "    </tr>\n",
       "  </thead>\n",
       "  <tbody>\n",
       "    <tr>\n",
       "      <th>all_feature</th>\n",
       "      <td>0.700736</td>\n",
       "      <td>0.897568</td>\n",
       "      <td>0.882169</td>\n",
       "      <td>0.840661</td>\n",
       "      <td>0.874916</td>\n",
       "      <td>0.916313</td>\n",
       "      <td>0.852061</td>\n",
       "    </tr>\n",
       "    <tr>\n",
       "      <th>all_feature_drop_oppo</th>\n",
       "      <td>0.696719</td>\n",
       "      <td>0.898460</td>\n",
       "      <td>0.881165</td>\n",
       "      <td>0.835081</td>\n",
       "      <td>0.876925</td>\n",
       "      <td>0.917094</td>\n",
       "      <td>0.850908</td>\n",
       "    </tr>\n",
       "    <tr>\n",
       "      <th>all_feature_p_value</th>\n",
       "      <td>0.719482</td>\n",
       "      <td>0.862977</td>\n",
       "      <td>0.858067</td>\n",
       "      <td>0.869449</td>\n",
       "      <td>0.854050</td>\n",
       "      <td>0.886298</td>\n",
       "      <td>0.841721</td>\n",
       "    </tr>\n",
       "    <tr>\n",
       "      <th>all_feature_drop_oppo_p_value</th>\n",
       "      <td>0.704530</td>\n",
       "      <td>0.858402</td>\n",
       "      <td>0.861526</td>\n",
       "      <td>0.852935</td>\n",
       "      <td>0.847244</td>\n",
       "      <td>0.882615</td>\n",
       "      <td>0.834542</td>\n",
       "    </tr>\n",
       "    <tr>\n",
       "      <th>all_feature_tree</th>\n",
       "      <td>0.708547</td>\n",
       "      <td>0.897010</td>\n",
       "      <td>0.885405</td>\n",
       "      <td>0.857063</td>\n",
       "      <td>0.889534</td>\n",
       "      <td>0.916536</td>\n",
       "      <td>0.859016</td>\n",
       "    </tr>\n",
       "    <tr>\n",
       "      <th>all_feature_drop_oppo_tree</th>\n",
       "      <td>0.697501</td>\n",
       "      <td>0.895336</td>\n",
       "      <td>0.884401</td>\n",
       "      <td>0.862754</td>\n",
       "      <td>0.889422</td>\n",
       "      <td>0.918768</td>\n",
       "      <td>0.858030</td>\n",
       "    </tr>\n",
       "    <tr>\n",
       "      <th>all_feature_PCA</th>\n",
       "      <td>0.811649</td>\n",
       "      <td>0.878599</td>\n",
       "      <td>0.629435</td>\n",
       "      <td>0.721602</td>\n",
       "      <td>0.877260</td>\n",
       "      <td>0.771703</td>\n",
       "      <td>0.781708</td>\n",
       "    </tr>\n",
       "    <tr>\n",
       "      <th>all_feature_drop_oppo_PCA</th>\n",
       "      <td>0.813100</td>\n",
       "      <td>0.879491</td>\n",
       "      <td>0.632894</td>\n",
       "      <td>0.708436</td>\n",
       "      <td>0.880607</td>\n",
       "      <td>0.750614</td>\n",
       "      <td>0.777524</td>\n",
       "    </tr>\n",
       "  </tbody>\n",
       "</table>\n",
       "</div>"
      ],
      "text/plain": [
       "                               Naive_Bayes  Logistic_regression  \\\n",
       "all_feature                       0.700736             0.897568   \n",
       "all_feature_drop_oppo             0.696719             0.898460   \n",
       "all_feature_p_value               0.719482             0.862977   \n",
       "all_feature_drop_oppo_p_value     0.704530             0.858402   \n",
       "all_feature_tree                  0.708547             0.897010   \n",
       "all_feature_drop_oppo_tree        0.697501             0.895336   \n",
       "all_feature_PCA                   0.811649             0.878599   \n",
       "all_feature_drop_oppo_PCA         0.813100             0.879491   \n",
       "\n",
       "                               Decision_tree  Random_forest      LSVM  \\\n",
       "all_feature                         0.882169       0.840661  0.874916   \n",
       "all_feature_drop_oppo               0.881165       0.835081  0.876925   \n",
       "all_feature_p_value                 0.858067       0.869449  0.854050   \n",
       "all_feature_drop_oppo_p_value       0.861526       0.852935  0.847244   \n",
       "all_feature_tree                    0.885405       0.857063  0.889534   \n",
       "all_feature_drop_oppo_tree          0.884401       0.862754  0.889422   \n",
       "all_feature_PCA                     0.629435       0.721602  0.877260   \n",
       "all_feature_drop_oppo_PCA           0.632894       0.708436  0.880607   \n",
       "\n",
       "                               Gradient_boosting  Avg_score  \n",
       "all_feature                             0.916313   0.852061  \n",
       "all_feature_drop_oppo                   0.917094   0.850908  \n",
       "all_feature_p_value                     0.886298   0.841721  \n",
       "all_feature_drop_oppo_p_value           0.882615   0.834542  \n",
       "all_feature_tree                        0.916536   0.859016  \n",
       "all_feature_drop_oppo_tree              0.918768   0.858030  \n",
       "all_feature_PCA                         0.771703   0.781708  \n",
       "all_feature_drop_oppo_PCA               0.750614   0.777524  "
      ]
     },
     "execution_count": 78,
     "metadata": {},
     "output_type": "execute_result"
    }
   ],
   "source": [
    "all_score_df = pd.DataFrame(all_score, index=['all_feature', 'all_feature_drop_oppo', 'all_feature_p_value',\n",
    "                                              'all_feature_drop_oppo_p_value', 'all_feature_tree',\n",
    "                                              'all_feature_drop_oppo_tree', 'all_feature_PCA',\n",
    "                                              'all_feature_drop_oppo_PCA'])\n",
    "all_score_df['Avg_score'] = all_score_df.mean(axis=1)\n",
    "all_score_df"
   ]
  },
  {
   "cell_type": "code",
   "execution_count": 79,
   "metadata": {},
   "outputs": [
    {
     "data": {
      "text/html": [
       "<div>\n",
       "<style scoped>\n",
       "    .dataframe tbody tr th:only-of-type {\n",
       "        vertical-align: middle;\n",
       "    }\n",
       "\n",
       "    .dataframe tbody tr th {\n",
       "        vertical-align: top;\n",
       "    }\n",
       "\n",
       "    .dataframe thead th {\n",
       "        text-align: right;\n",
       "    }\n",
       "</style>\n",
       "<table border=\"1\" class=\"dataframe\">\n",
       "  <thead>\n",
       "    <tr style=\"text-align: right;\">\n",
       "      <th></th>\n",
       "      <th>Naive_Bayes</th>\n",
       "      <th>Logistic_regression</th>\n",
       "      <th>Decision_tree</th>\n",
       "      <th>Random_forest</th>\n",
       "      <th>LSVM</th>\n",
       "      <th>Gradient_boosting</th>\n",
       "    </tr>\n",
       "  </thead>\n",
       "  <tbody>\n",
       "    <tr>\n",
       "      <th>all_feature</th>\n",
       "      <td>{'var_smoothing': 1e-11}</td>\n",
       "      <td>{'C': 0.01, 'penalty': 'l1'}</td>\n",
       "      <td>{'criterion': 'entropy', 'max_depth': 7}</td>\n",
       "      <td>{'max_depth': 9, 'n_estimators': 500}</td>\n",
       "      <td>{'C': 0.01, 'penalty': 'l2'}</td>\n",
       "      <td>{'learning_rate': 0.1}</td>\n",
       "    </tr>\n",
       "    <tr>\n",
       "      <th>all_feature_drop_oppo</th>\n",
       "      <td>{'var_smoothing': 1e-11}</td>\n",
       "      <td>{'C': 0.01, 'penalty': 'l1'}</td>\n",
       "      <td>{'criterion': 'gini', 'max_depth': 7}</td>\n",
       "      <td>{'max_depth': 9, 'n_estimators': 500}</td>\n",
       "      <td>{'C': 0.01, 'penalty': 'l2'}</td>\n",
       "      <td>{'learning_rate': 0.1}</td>\n",
       "    </tr>\n",
       "    <tr>\n",
       "      <th>all_feature_p_value</th>\n",
       "      <td>{'var_smoothing': 1e-11}</td>\n",
       "      <td>{'C': 0.1, 'penalty': 'l1'}</td>\n",
       "      <td>{'criterion': 'entropy', 'max_depth': 7}</td>\n",
       "      <td>{'max_depth': 9, 'n_estimators': 500}</td>\n",
       "      <td>{'C': 0.01, 'penalty': 'l2'}</td>\n",
       "      <td>{'learning_rate': 0.1}</td>\n",
       "    </tr>\n",
       "    <tr>\n",
       "      <th>all_feature_drop_oppo_p_value</th>\n",
       "      <td>{'var_smoothing': 1e-11}</td>\n",
       "      <td>{'C': 0.1, 'penalty': 'l1'}</td>\n",
       "      <td>{'criterion': 'gini', 'max_depth': 5}</td>\n",
       "      <td>{'max_depth': 9, 'n_estimators': 500}</td>\n",
       "      <td>{'C': 0.01, 'penalty': 'l2'}</td>\n",
       "      <td>{'learning_rate': 0.1}</td>\n",
       "    </tr>\n",
       "    <tr>\n",
       "      <th>all_feature_tree</th>\n",
       "      <td>{'var_smoothing': 1e-11}</td>\n",
       "      <td>{'C': 0.01, 'penalty': 'l1'}</td>\n",
       "      <td>{'criterion': 'gini', 'max_depth': 9}</td>\n",
       "      <td>{'max_depth': 9, 'n_estimators': 500}</td>\n",
       "      <td>{'C': 0.01, 'penalty': 'l2'}</td>\n",
       "      <td>{'learning_rate': 0.1}</td>\n",
       "    </tr>\n",
       "    <tr>\n",
       "      <th>all_feature_drop_oppo_tree</th>\n",
       "      <td>{'var_smoothing': 1e-11}</td>\n",
       "      <td>{'C': 0.1, 'penalty': 'l1'}</td>\n",
       "      <td>{'criterion': 'gini', 'max_depth': 7}</td>\n",
       "      <td>{'max_depth': 9, 'n_estimators': 500}</td>\n",
       "      <td>{'C': 0.01, 'penalty': 'l2'}</td>\n",
       "      <td>{'learning_rate': 0.1}</td>\n",
       "    </tr>\n",
       "    <tr>\n",
       "      <th>all_feature_PCA</th>\n",
       "      <td>{'var_smoothing': 1e-11}</td>\n",
       "      <td>{'C': 0.1, 'penalty': 'l1'}</td>\n",
       "      <td>{'criterion': 'entropy', 'max_depth': 5}</td>\n",
       "      <td>{'max_depth': 9, 'n_estimators': 500}</td>\n",
       "      <td>{'C': 0.01, 'penalty': 'l2'}</td>\n",
       "      <td>{'learning_rate': 0.5}</td>\n",
       "    </tr>\n",
       "    <tr>\n",
       "      <th>all_feature_drop_oppo_PCA</th>\n",
       "      <td>{'var_smoothing': 1e-11}</td>\n",
       "      <td>{'C': 0.01, 'penalty': 'l2'}</td>\n",
       "      <td>{'criterion': 'entropy', 'max_depth': 5}</td>\n",
       "      <td>{'max_depth': 9, 'n_estimators': 500}</td>\n",
       "      <td>{'C': 0.01, 'penalty': 'l2'}</td>\n",
       "      <td>{'learning_rate': 0.5}</td>\n",
       "    </tr>\n",
       "  </tbody>\n",
       "</table>\n",
       "</div>"
      ],
      "text/plain": [
       "                                            Naive_Bayes  \\\n",
       "all_feature                    {'var_smoothing': 1e-11}   \n",
       "all_feature_drop_oppo          {'var_smoothing': 1e-11}   \n",
       "all_feature_p_value            {'var_smoothing': 1e-11}   \n",
       "all_feature_drop_oppo_p_value  {'var_smoothing': 1e-11}   \n",
       "all_feature_tree               {'var_smoothing': 1e-11}   \n",
       "all_feature_drop_oppo_tree     {'var_smoothing': 1e-11}   \n",
       "all_feature_PCA                {'var_smoothing': 1e-11}   \n",
       "all_feature_drop_oppo_PCA      {'var_smoothing': 1e-11}   \n",
       "\n",
       "                                        Logistic_regression  \\\n",
       "all_feature                    {'C': 0.01, 'penalty': 'l1'}   \n",
       "all_feature_drop_oppo          {'C': 0.01, 'penalty': 'l1'}   \n",
       "all_feature_p_value             {'C': 0.1, 'penalty': 'l1'}   \n",
       "all_feature_drop_oppo_p_value   {'C': 0.1, 'penalty': 'l1'}   \n",
       "all_feature_tree               {'C': 0.01, 'penalty': 'l1'}   \n",
       "all_feature_drop_oppo_tree      {'C': 0.1, 'penalty': 'l1'}   \n",
       "all_feature_PCA                 {'C': 0.1, 'penalty': 'l1'}   \n",
       "all_feature_drop_oppo_PCA      {'C': 0.01, 'penalty': 'l2'}   \n",
       "\n",
       "                                                          Decision_tree  \\\n",
       "all_feature                    {'criterion': 'entropy', 'max_depth': 7}   \n",
       "all_feature_drop_oppo             {'criterion': 'gini', 'max_depth': 7}   \n",
       "all_feature_p_value            {'criterion': 'entropy', 'max_depth': 7}   \n",
       "all_feature_drop_oppo_p_value     {'criterion': 'gini', 'max_depth': 5}   \n",
       "all_feature_tree                  {'criterion': 'gini', 'max_depth': 9}   \n",
       "all_feature_drop_oppo_tree        {'criterion': 'gini', 'max_depth': 7}   \n",
       "all_feature_PCA                {'criterion': 'entropy', 'max_depth': 5}   \n",
       "all_feature_drop_oppo_PCA      {'criterion': 'entropy', 'max_depth': 5}   \n",
       "\n",
       "                                                       Random_forest  \\\n",
       "all_feature                    {'max_depth': 9, 'n_estimators': 500}   \n",
       "all_feature_drop_oppo          {'max_depth': 9, 'n_estimators': 500}   \n",
       "all_feature_p_value            {'max_depth': 9, 'n_estimators': 500}   \n",
       "all_feature_drop_oppo_p_value  {'max_depth': 9, 'n_estimators': 500}   \n",
       "all_feature_tree               {'max_depth': 9, 'n_estimators': 500}   \n",
       "all_feature_drop_oppo_tree     {'max_depth': 9, 'n_estimators': 500}   \n",
       "all_feature_PCA                {'max_depth': 9, 'n_estimators': 500}   \n",
       "all_feature_drop_oppo_PCA      {'max_depth': 9, 'n_estimators': 500}   \n",
       "\n",
       "                                                       LSVM  \\\n",
       "all_feature                    {'C': 0.01, 'penalty': 'l2'}   \n",
       "all_feature_drop_oppo          {'C': 0.01, 'penalty': 'l2'}   \n",
       "all_feature_p_value            {'C': 0.01, 'penalty': 'l2'}   \n",
       "all_feature_drop_oppo_p_value  {'C': 0.01, 'penalty': 'l2'}   \n",
       "all_feature_tree               {'C': 0.01, 'penalty': 'l2'}   \n",
       "all_feature_drop_oppo_tree     {'C': 0.01, 'penalty': 'l2'}   \n",
       "all_feature_PCA                {'C': 0.01, 'penalty': 'l2'}   \n",
       "all_feature_drop_oppo_PCA      {'C': 0.01, 'penalty': 'l2'}   \n",
       "\n",
       "                                    Gradient_boosting  \n",
       "all_feature                    {'learning_rate': 0.1}  \n",
       "all_feature_drop_oppo          {'learning_rate': 0.1}  \n",
       "all_feature_p_value            {'learning_rate': 0.1}  \n",
       "all_feature_drop_oppo_p_value  {'learning_rate': 0.1}  \n",
       "all_feature_tree               {'learning_rate': 0.1}  \n",
       "all_feature_drop_oppo_tree     {'learning_rate': 0.1}  \n",
       "all_feature_PCA                {'learning_rate': 0.5}  \n",
       "all_feature_drop_oppo_PCA      {'learning_rate': 0.5}  "
      ]
     },
     "execution_count": 79,
     "metadata": {},
     "output_type": "execute_result"
    }
   ],
   "source": [
    "all_params_df = pd.DataFrame(all_params, index=['all_feature', 'all_feature_drop_oppo', 'all_feature_p_value',\n",
    "                                              'all_feature_drop_oppo_p_value', 'all_feature_tree',\n",
    "                                              'all_feature_drop_oppo_tree', 'all_feature_PCA',\n",
    "                                              'all_feature_drop_oppo_PCA'])\n",
    "all_params_df"
   ]
  },
  {
   "cell_type": "code",
   "execution_count": 80,
   "metadata": {},
   "outputs": [
    {
     "data": {
      "text/plain": [
       "Logistic_regression    0.883480\n",
       "LSVM                   0.873745\n",
       "Gradient_boosting      0.869993\n",
       "Avg_score              0.831939\n",
       "Random_forest          0.818498\n",
       "Decision_tree          0.814383\n",
       "Naive_Bayes            0.731533\n",
       "dtype: float64"
      ]
     },
     "execution_count": 80,
     "metadata": {},
     "output_type": "execute_result"
    }
   ],
   "source": [
    "# average score by algorithm\n",
    "all_score_df.mean().sort_values(ascending=False)"
   ]
  },
  {
   "cell_type": "code",
   "execution_count": 81,
   "metadata": {},
   "outputs": [
    {
     "data": {
      "text/plain": [
       "all_feature_tree                 0.859016\n",
       "all_feature_drop_oppo_tree       0.858030\n",
       "all_feature                      0.852061\n",
       "all_feature_drop_oppo            0.850908\n",
       "all_feature_p_value              0.841721\n",
       "all_feature_drop_oppo_p_value    0.834542\n",
       "all_feature_PCA                  0.781708\n",
       "all_feature_drop_oppo_PCA        0.777524\n",
       "Name: Avg_score, dtype: float64"
      ]
     },
     "execution_count": 81,
     "metadata": {},
     "output_type": "execute_result"
    }
   ],
   "source": [
    "# average score by type of data\n",
    "all_score_df['Avg_score'].sort_values(ascending=False)"
   ]
  },
  {
   "cell_type": "markdown",
   "metadata": {},
   "source": [
    "We can see from above that logistic regression had more consistent performance no matter which dataset we used to train, gradient boosting was the only algorithm that reaches more than 90% accuracy, however the time to train the model was relatively long. We will pick up the three best in each algorithm and use the best hyperparameters we have tuned to fit the test set."
   ]
  },
  {
   "cell_type": "markdown",
   "metadata": {},
   "source": [
    "##### Test set performance"
   ]
  },
  {
   "cell_type": "code",
   "execution_count": 293,
   "metadata": {},
   "outputs": [],
   "source": [
    "# test set data dictionary\n",
    "data_all_test = {'all_feature': tennis_all_feature_clean_X_test, \n",
    "                 'all_feature_drop_oppo': tennis_all_feature_clean_drop_oppo_X_test,\n",
    "                 'all_feature_p_value': tennis_all_feature_clean_X_test_p_value, \n",
    "                 'all_feature_drop_oppo_p_value': tennis_all_feature_clean_drop_oppo_X_test_p_value,\n",
    "                 'all_feature_tree': tennis_all_feature_clean_X_test_tree, \n",
    "                 'all_feature_drop_oppo_tree': tennis_all_feature_clean_drop_oppo_X_test_tree,\n",
    "                 'all_feature_PCA': tennis_all_feature_clean_X_test_PCA, \n",
    "                 'all_feature_drop_oppo_PCA': tennis_all_feature_clean_drop_oppo_X_test_PCA}\n",
    "\n",
    "# algorithm dictionary\n",
    "algorithm = {'Naive_Bayes': GaussianNB, 'Logistic_regression': LogisticRegression, \n",
    "        'Decision_tree': DecisionTreeClassifier, 'Random_forest': RandomForestClassifier, \n",
    "        'LSVM': LinearSVC, 'Gradient_boosting': GradientBoostingClassifier}\n",
    "\n",
    "# test score dictionary\n",
    "test_score = {}"
   ]
  },
  {
   "cell_type": "code",
   "execution_count": 295,
   "metadata": {},
   "outputs": [],
   "source": [
    "# define helper function\n",
    "def test_accuracy(algo, top=2): # use the top 2 algorithms as default\n",
    "    from sklearn.metrics import accuracy_score\n",
    "    rank = all_score_df.rank(method='first', ascending=False) # get the ranking of data in each algorithm\n",
    "    for data in rank[algo][rank[algo] <= top].index: # pick only the highest two\n",
    "        model = algorithm[algo](**all_params_df.loc[data, algo]) # fit the model with the best parameters\n",
    "        model.fit(data_all_train[data], tennis_all_feature_clean_y_train)\n",
    "        score = accuracy_score(tennis_all_feature_clean_y_test, model.predict(data_all_test[data]))\n",
    "        test_score[algo+'_'+data] = round(score,5)"
   ]
  },
  {
   "cell_type": "code",
   "execution_count": 296,
   "metadata": {},
   "outputs": [],
   "source": [
    "for algo in algorithm:\n",
    "    test_accuracy(algo, top=3)"
   ]
  },
  {
   "cell_type": "code",
   "execution_count": 297,
   "metadata": {},
   "outputs": [
    {
     "data": {
      "text/html": [
       "<div>\n",
       "<style scoped>\n",
       "    .dataframe tbody tr th:only-of-type {\n",
       "        vertical-align: middle;\n",
       "    }\n",
       "\n",
       "    .dataframe tbody tr th {\n",
       "        vertical-align: top;\n",
       "    }\n",
       "\n",
       "    .dataframe thead th {\n",
       "        text-align: right;\n",
       "    }\n",
       "</style>\n",
       "<table border=\"1\" class=\"dataframe\">\n",
       "  <thead>\n",
       "    <tr style=\"text-align: right;\">\n",
       "      <th></th>\n",
       "      <th>test_score</th>\n",
       "    </tr>\n",
       "  </thead>\n",
       "  <tbody>\n",
       "    <tr>\n",
       "      <th>Gradient_boosting_all_feature_drop_oppo</th>\n",
       "      <td>0.92842</td>\n",
       "    </tr>\n",
       "    <tr>\n",
       "      <th>Gradient_boosting_all_feature_drop_oppo_tree</th>\n",
       "      <td>0.92764</td>\n",
       "    </tr>\n",
       "    <tr>\n",
       "      <th>Gradient_boosting_all_feature_tree</th>\n",
       "      <td>0.92660</td>\n",
       "    </tr>\n",
       "    <tr>\n",
       "      <th>Logistic_regression_all_feature_tree</th>\n",
       "      <td>0.90187</td>\n",
       "    </tr>\n",
       "    <tr>\n",
       "      <th>Logistic_regression_all_feature</th>\n",
       "      <td>0.90109</td>\n",
       "    </tr>\n",
       "    <tr>\n",
       "      <th>Logistic_regression_all_feature_drop_oppo</th>\n",
       "      <td>0.90109</td>\n",
       "    </tr>\n",
       "    <tr>\n",
       "      <th>LSVM_all_feature_tree</th>\n",
       "      <td>0.89719</td>\n",
       "    </tr>\n",
       "    <tr>\n",
       "      <th>Decision_tree_all_feature_drop_oppo_tree</th>\n",
       "      <td>0.89407</td>\n",
       "    </tr>\n",
       "    <tr>\n",
       "      <th>LSVM_all_feature_drop_oppo_tree</th>\n",
       "      <td>0.89068</td>\n",
       "    </tr>\n",
       "    <tr>\n",
       "      <th>Decision_tree_all_feature_tree</th>\n",
       "      <td>0.88756</td>\n",
       "    </tr>\n",
       "    <tr>\n",
       "      <th>LSVM_all_feature_drop_oppo_PCA</th>\n",
       "      <td>0.88548</td>\n",
       "    </tr>\n",
       "    <tr>\n",
       "      <th>Decision_tree_all_feature</th>\n",
       "      <td>0.88339</td>\n",
       "    </tr>\n",
       "    <tr>\n",
       "      <th>Random_forest_all_feature_p_value</th>\n",
       "      <td>0.85398</td>\n",
       "    </tr>\n",
       "    <tr>\n",
       "      <th>Random_forest_all_feature_drop_oppo_tree</th>\n",
       "      <td>0.85346</td>\n",
       "    </tr>\n",
       "    <tr>\n",
       "      <th>Random_forest_all_feature_tree</th>\n",
       "      <td>0.85320</td>\n",
       "    </tr>\n",
       "    <tr>\n",
       "      <th>Naive_Bayes_all_feature_drop_oppo_PCA</th>\n",
       "      <td>0.81754</td>\n",
       "    </tr>\n",
       "    <tr>\n",
       "      <th>Naive_Bayes_all_feature_PCA</th>\n",
       "      <td>0.81338</td>\n",
       "    </tr>\n",
       "    <tr>\n",
       "      <th>Naive_Bayes_all_feature_p_value</th>\n",
       "      <td>0.69781</td>\n",
       "    </tr>\n",
       "  </tbody>\n",
       "</table>\n",
       "</div>"
      ],
      "text/plain": [
       "                                              test_score\n",
       "Gradient_boosting_all_feature_drop_oppo          0.92842\n",
       "Gradient_boosting_all_feature_drop_oppo_tree     0.92764\n",
       "Gradient_boosting_all_feature_tree               0.92660\n",
       "Logistic_regression_all_feature_tree             0.90187\n",
       "Logistic_regression_all_feature                  0.90109\n",
       "Logistic_regression_all_feature_drop_oppo        0.90109\n",
       "LSVM_all_feature_tree                            0.89719\n",
       "Decision_tree_all_feature_drop_oppo_tree         0.89407\n",
       "LSVM_all_feature_drop_oppo_tree                  0.89068\n",
       "Decision_tree_all_feature_tree                   0.88756\n",
       "LSVM_all_feature_drop_oppo_PCA                   0.88548\n",
       "Decision_tree_all_feature                        0.88339\n",
       "Random_forest_all_feature_p_value                0.85398\n",
       "Random_forest_all_feature_drop_oppo_tree         0.85346\n",
       "Random_forest_all_feature_tree                   0.85320\n",
       "Naive_Bayes_all_feature_drop_oppo_PCA            0.81754\n",
       "Naive_Bayes_all_feature_PCA                      0.81338\n",
       "Naive_Bayes_all_feature_p_value                  0.69781"
      ]
     },
     "execution_count": 297,
     "metadata": {},
     "output_type": "execute_result"
    }
   ],
   "source": [
    "# create a dataframe to list all the score\n",
    "all_test_df = pd.DataFrame(test_score, index=['test_score'])\n",
    "all_test_df = all_test_df.T.sort_values(by='test_score', ascending=False)\n",
    "all_test_df"
   ]
  },
  {
   "cell_type": "code",
   "execution_count": 298,
   "metadata": {},
   "outputs": [
    {
     "data": {
      "image/png": "[encoded data removed]",
      "text/plain": [
       "<Figure size 1296x1080 with 1 Axes>"
      ]
     },
     "metadata": {},
     "output_type": "display_data"
    }
   ],
   "source": [
    "# plot the graph\n",
    "fig, ax = plt.subplots(1,1,figsize=(18, 15))\n",
    "all_test_df.plot(kind='bar', ax=ax)\n",
    "ax.set_ylim([0.8,0.95])\n",
    "ax.set_ylabel('Accuracy score', size=14)\n",
    "ax.set_title('Algorithm-Data pair test set performance, match range: 2009-2017', size=18)\n",
    "ax.set_xlabel('Algorithm-Data pair', size=14)\n",
    "for p in ax.patches:\n",
    "    ax.annotate('{}'.format(p.get_height()), xy=(p.get_x()-0.05, p.get_height()+0.002))\n",
    "plt.tight_layout()\n",
    "fig.savefig('test_score.png')\n",
    "plt.show()\n"
   ]
  },
  {
   "cell_type": "markdown",
   "metadata": {},
   "source": [
    "Amazingly, gradient boosting model performed even better on test set, which reached more than 92% accuracy, but the drawback was again the lengthly training time, in the last part of our evaluation, we will use boostrapping method to see the consistency of our model performance, we will pick `Gradient_boosting_all_feature_drop_oppo_tree`, `Logistic_regression_all_feature_tree` and `LSVM_all_feature_tree` as our top3 model interms of accuracy and training time."
   ]
  },
  {
   "cell_type": "markdown",
   "metadata": {},
   "source": [
    "##### Bootstrapping to test model consistency\n",
    "Bootstrapping is a test on random sampling with replacement, we will use it to test our model consistency, the process is basically take a random sample from our test set, use the model to predict the sample outcome and record the accuracy score, replace the sample and resample again to repeat the process, we will do this for 2000 times and see the distribution of accuracy score from random sampling, we will pick 500 samples from the test set for each iteration."
   ]
  },
  {
   "cell_type": "code",
   "execution_count": 294,
   "metadata": {},
   "outputs": [],
   "source": [
    "# define helper function\n",
    "def bootstrapping(algo, data, index, kde=True):\n",
    "    from sklearn.metrics import accuracy_score\n",
    "    model = algorithm[algo](**all_params_df.loc[data, algo])\n",
    "    model.fit(data_all_train[data], tennis_all_feature_clean_y_train)\n",
    "    temp_data = pd.concat([data_all_test[data], tennis_all_feature_clean_y_test], axis=1) # concatenate the outcome to sample together\n",
    "    score_list = []\n",
    "    \n",
    "    for i in range(len(index)):\n",
    "        sample = temp_data.iloc[index[i]]\n",
    "        score = accuracy_score(sample[0], model.predict(sample.drop([0], axis=1)))\n",
    "        score_list.append(score)\n",
    "    \n",
    "    \n",
    "    fig, ax = plt.subplots(1,1,figsize=(15,10))\n",
    "    ax = sns.distplot(score_list, kde=kde)\n",
    "    ax.set_title('Accuracy score distribution from test set', size=18)\n",
    "    ax.set_xlabel('Score')\n",
    "    if not kde:\n",
    "        ax.set_ylabel('Count')\n",
    "    name = algo + data\n",
    "    plt.savefig(name+'.png')\n",
    "    plt.show()\n",
    "    score_mean = np.mean(score_list)\n",
    "    score_std = np.std(score_list)\n",
    "    print('Average test score from random sampling: {}'.format(score_mean))\n",
    "    print('Standard deviation of test score from random sampling: {}'.format(score_std))\n",
    "    print('CV% of test score from random sampling: {}%'.format(score_std/score_mean*100))\n",
    "    \n",
    "    return score_list # return all the score for further analysis \n",
    "\n",
    "# define a helper function to generate sample index\n",
    "def sample_index(size=500, iteration=2000):\n",
    "    index_dict = {}\n",
    "    for i in range(iteration):\n",
    "        index = tennis_all_feature_clean_y_test.sample(size, replace=True).index\n",
    "        index_dict[i] = index\n",
    "    return index_dict"
   ]
  },
  {
   "cell_type": "markdown",
   "metadata": {},
   "source": [
    "We will use the function `sample_index` first to fix the index and use those for every model to ensure a fair game for comparison"
   ]
  },
  {
   "cell_type": "code",
   "execution_count": 118,
   "metadata": {},
   "outputs": [],
   "source": [
    "index = sample_index()"
   ]
  },
  {
   "cell_type": "markdown",
   "metadata": {},
   "source": [
    "##### Gradient_boosting_all_feature_drop_oppo_tree"
   ]
  },
  {
   "cell_type": "code",
   "execution_count": 300,
   "metadata": {},
   "outputs": [
    {
     "data": {
      "image/png": "[encoded data removed]",
      "text/plain": [
       "<Figure size 1080x720 with 1 Axes>"
      ]
     },
     "metadata": {},
     "output_type": "display_data"
    },
    {
     "name": "stdout",
     "output_type": "stream",
     "text": [
      "Average test score from random sampling: 0.9294383333333333\n",
      "Standard deviation of test score from random sampling: 0.014517846392936138\n",
      "CV% of test score from random sampling: 1.5620021116268576%\n",
      "CPU times: user 36.7 s, sys: 356 ms, total: 37.1 s\n",
      "Wall time: 37.6 s\n"
     ]
    }
   ],
   "source": [
    "%%time\n",
    "gb_tree = bootstrapping('Gradient_boosting', 'all_feature_drop_oppo_tree', index=index)"
   ]
  },
  {
   "cell_type": "markdown",
   "metadata": {},
   "source": [
    "##### Logistic_regression_all_feature_tree"
   ]
  },
  {
   "cell_type": "code",
   "execution_count": 299,
   "metadata": {},
   "outputs": [
    {
     "data": {
      "image/png": "[encoded data removed]",
      "text/plain": [
       "<Figure size 1080x720 with 1 Axes>"
      ]
     },
     "metadata": {},
     "output_type": "display_data"
    },
    {
     "name": "stdout",
     "output_type": "stream",
     "text": [
      "Average test score from random sampling: 0.8996833333333332\n",
      "Standard deviation of test score from random sampling: 0.01724367033629055\n",
      "CV% of test score from random sampling: 1.9166377432382378%\n",
      "CPU times: user 34.9 s, sys: 5.13 s, total: 40.1 s\n",
      "Wall time: 17.4 s\n"
     ]
    }
   ],
   "source": [
    "%%time\n",
    "lg_tree = bootstrapping('Logistic_regression', 'all_feature_tree', index=index)"
   ]
  },
  {
   "cell_type": "markdown",
   "metadata": {},
   "source": [
    "##### LSVM_all_feature_tree"
   ]
  },
  {
   "cell_type": "code",
   "execution_count": 121,
   "metadata": {},
   "outputs": [
    {
     "data": {
      "image/png": "[encoded data removed]",
      "text/plain": [
       "<Figure size 1080x720 with 1 Axes>"
      ]
     },
     "metadata": {},
     "output_type": "display_data"
    },
    {
     "name": "stdout",
     "output_type": "stream",
     "text": [
      "Average test score from random sampling: 0.897062\n",
      "Standard deviation of test score from random sampling: 0.013465962869397803\n",
      "CV% of test score from random sampling: 1.5011184142676652%\n",
      "CPU times: user 49.6 s, sys: 2.67 s, total: 52.3 s\n",
      "Wall time: 18.4 s\n"
     ]
    }
   ],
   "source": [
    "%%time\n",
    "lsvm_tree = bootstrapping('LSVM', 'all_feature_tree', index=index)"
   ]
  },
  {
   "cell_type": "markdown",
   "metadata": {},
   "source": [
    "We can see that `Gradient_boosting_all_feature_drop_oppo_tree` clearly outperformed the other two algorithm-data pair, though the time it generated the result was longer. "
   ]
  },
  {
   "cell_type": "markdown",
   "metadata": {},
   "source": [
    "#### mathces from 1991-2017, without `ranking_points` feature included."
   ]
  },
  {
   "cell_type": "code",
   "execution_count": 134,
   "metadata": {},
   "outputs": [
    {
     "data": {
      "text/html": [
       "<div>\n",
       "<style scoped>\n",
       "    .dataframe tbody tr th:only-of-type {\n",
       "        vertical-align: middle;\n",
       "    }\n",
       "\n",
       "    .dataframe tbody tr th {\n",
       "        vertical-align: top;\n",
       "    }\n",
       "\n",
       "    .dataframe thead th {\n",
       "        text-align: right;\n",
       "    }\n",
       "</style>\n",
       "<table border=\"1\" class=\"dataframe\">\n",
       "  <thead>\n",
       "    <tr style=\"text-align: right;\">\n",
       "      <th></th>\n",
       "      <th>Naive_Bayes</th>\n",
       "      <th>Logistic_regression</th>\n",
       "      <th>Decision_tree</th>\n",
       "      <th>Random_forest</th>\n",
       "      <th>LSVM</th>\n",
       "      <th>Gradient_boosting</th>\n",
       "      <th>Avg_score</th>\n",
       "    </tr>\n",
       "  </thead>\n",
       "  <tbody>\n",
       "    <tr>\n",
       "      <th>all_feature_no_pts</th>\n",
       "      <td>0.656566</td>\n",
       "      <td>0.912521</td>\n",
       "      <td>0.886792</td>\n",
       "      <td>0.833238</td>\n",
       "      <td>0.876882</td>\n",
       "      <td>0.921479</td>\n",
       "      <td>0.847913</td>\n",
       "    </tr>\n",
       "    <tr>\n",
       "      <th>all_feature_no_pts_drop_oppo</th>\n",
       "      <td>0.666095</td>\n",
       "      <td>0.912521</td>\n",
       "      <td>0.887745</td>\n",
       "      <td>0.828092</td>\n",
       "      <td>0.881647</td>\n",
       "      <td>0.922622</td>\n",
       "      <td>0.849787</td>\n",
       "    </tr>\n",
       "    <tr>\n",
       "      <th>all_feature_no_pts_p_value</th>\n",
       "      <td>0.680961</td>\n",
       "      <td>0.860492</td>\n",
       "      <td>0.854774</td>\n",
       "      <td>0.854012</td>\n",
       "      <td>0.845054</td>\n",
       "      <td>0.881265</td>\n",
       "      <td>0.829426</td>\n",
       "    </tr>\n",
       "    <tr>\n",
       "      <th>all_feature_no_pts_drop_oppo_p_value</th>\n",
       "      <td>0.679245</td>\n",
       "      <td>0.858205</td>\n",
       "      <td>0.836478</td>\n",
       "      <td>0.838384</td>\n",
       "      <td>0.838956</td>\n",
       "      <td>0.873070</td>\n",
       "      <td>0.820723</td>\n",
       "    </tr>\n",
       "    <tr>\n",
       "      <th>all_feature_no_pts_tree</th>\n",
       "      <td>0.685153</td>\n",
       "      <td>0.911759</td>\n",
       "      <td>0.898609</td>\n",
       "      <td>0.867162</td>\n",
       "      <td>0.898609</td>\n",
       "      <td>0.920145</td>\n",
       "      <td>0.863573</td>\n",
       "    </tr>\n",
       "    <tr>\n",
       "      <th>all_feature_no_pts_drop_oppo_tree</th>\n",
       "      <td>0.666857</td>\n",
       "      <td>0.913474</td>\n",
       "      <td>0.897275</td>\n",
       "      <td>0.846198</td>\n",
       "      <td>0.902039</td>\n",
       "      <td>0.919764</td>\n",
       "      <td>0.857601</td>\n",
       "    </tr>\n",
       "    <tr>\n",
       "      <th>all_feature_no_pts_PCA</th>\n",
       "      <td>0.793787</td>\n",
       "      <td>0.878597</td>\n",
       "      <td>0.633124</td>\n",
       "      <td>0.740804</td>\n",
       "      <td>0.878978</td>\n",
       "      <td>0.740614</td>\n",
       "      <td>0.777651</td>\n",
       "    </tr>\n",
       "    <tr>\n",
       "      <th>all_feature_no_pts_drop_oppo_PCA</th>\n",
       "      <td>0.800076</td>\n",
       "      <td>0.883934</td>\n",
       "      <td>0.611588</td>\n",
       "      <td>0.743091</td>\n",
       "      <td>0.885458</td>\n",
       "      <td>0.743282</td>\n",
       "      <td>0.777905</td>\n",
       "    </tr>\n",
       "  </tbody>\n",
       "</table>\n",
       "</div>"
      ],
      "text/plain": [
       "                                      Naive_Bayes  Logistic_regression  \\\n",
       "all_feature_no_pts                       0.656566             0.912521   \n",
       "all_feature_no_pts_drop_oppo             0.666095             0.912521   \n",
       "all_feature_no_pts_p_value               0.680961             0.860492   \n",
       "all_feature_no_pts_drop_oppo_p_value     0.679245             0.858205   \n",
       "all_feature_no_pts_tree                  0.685153             0.911759   \n",
       "all_feature_no_pts_drop_oppo_tree        0.666857             0.913474   \n",
       "all_feature_no_pts_PCA                   0.793787             0.878597   \n",
       "all_feature_no_pts_drop_oppo_PCA         0.800076             0.883934   \n",
       "\n",
       "                                      Decision_tree  Random_forest      LSVM  \\\n",
       "all_feature_no_pts                         0.886792       0.833238  0.876882   \n",
       "all_feature_no_pts_drop_oppo               0.887745       0.828092  0.881647   \n",
       "all_feature_no_pts_p_value                 0.854774       0.854012  0.845054   \n",
       "all_feature_no_pts_drop_oppo_p_value       0.836478       0.838384  0.838956   \n",
       "all_feature_no_pts_tree                    0.898609       0.867162  0.898609   \n",
       "all_feature_no_pts_drop_oppo_tree          0.897275       0.846198  0.902039   \n",
       "all_feature_no_pts_PCA                     0.633124       0.740804  0.878978   \n",
       "all_feature_no_pts_drop_oppo_PCA           0.611588       0.743091  0.885458   \n",
       "\n",
       "                                      Gradient_boosting  Avg_score  \n",
       "all_feature_no_pts                             0.921479   0.847913  \n",
       "all_feature_no_pts_drop_oppo                   0.922622   0.849787  \n",
       "all_feature_no_pts_p_value                     0.881265   0.829426  \n",
       "all_feature_no_pts_drop_oppo_p_value           0.873070   0.820723  \n",
       "all_feature_no_pts_tree                        0.920145   0.863573  \n",
       "all_feature_no_pts_drop_oppo_tree              0.919764   0.857601  \n",
       "all_feature_no_pts_PCA                         0.740614   0.777651  \n",
       "all_feature_no_pts_drop_oppo_PCA               0.743282   0.777905  "
      ]
     },
     "execution_count": 134,
     "metadata": {},
     "output_type": "execute_result"
    }
   ],
   "source": [
    "all_score_no_pts_df = pd.DataFrame(all_score_no_pts, index=['all_feature_no_pts', 'all_feature_no_pts_drop_oppo', \n",
    "                'all_feature_no_pts_p_value', 'all_feature_no_pts_drop_oppo_p_value', 'all_feature_no_pts_tree',\n",
    "                'all_feature_no_pts_drop_oppo_tree', 'all_feature_no_pts_PCA', 'all_feature_no_pts_drop_oppo_PCA'])\n",
    "all_score_no_pts_df['Avg_score'] = all_score_no_pts_df.mean(axis=1)\n",
    "all_score_no_pts_df"
   ]
  },
  {
   "cell_type": "code",
   "execution_count": 149,
   "metadata": {},
   "outputs": [
    {
     "data": {
      "text/html": [
       "<div>\n",
       "<style scoped>\n",
       "    .dataframe tbody tr th:only-of-type {\n",
       "        vertical-align: middle;\n",
       "    }\n",
       "\n",
       "    .dataframe tbody tr th {\n",
       "        vertical-align: top;\n",
       "    }\n",
       "\n",
       "    .dataframe thead th {\n",
       "        text-align: right;\n",
       "    }\n",
       "</style>\n",
       "<table border=\"1\" class=\"dataframe\">\n",
       "  <thead>\n",
       "    <tr style=\"text-align: right;\">\n",
       "      <th></th>\n",
       "      <th>Naive_Bayes</th>\n",
       "      <th>Logistic_regression</th>\n",
       "      <th>Decision_tree</th>\n",
       "      <th>Random_forest</th>\n",
       "      <th>LSVM</th>\n",
       "      <th>Gradient_boosting</th>\n",
       "    </tr>\n",
       "  </thead>\n",
       "  <tbody>\n",
       "    <tr>\n",
       "      <th>all_feature_no_pts</th>\n",
       "      <td>{'var_smoothing': 1e-11}</td>\n",
       "      <td>{'C': 0.01, 'penalty': 'l1'}</td>\n",
       "      <td>{'criterion': 'gini', 'max_depth': 7}</td>\n",
       "      <td>{'max_depth': 9, 'n_estimators': 500}</td>\n",
       "      <td>{'C': 0.01, 'penalty': 'l2'}</td>\n",
       "      <td>{'learning_rate': 0.1}</td>\n",
       "    </tr>\n",
       "    <tr>\n",
       "      <th>all_feature_no_pts_drop_oppo</th>\n",
       "      <td>{'var_smoothing': 1e-11}</td>\n",
       "      <td>{'C': 0.01, 'penalty': 'l1'}</td>\n",
       "      <td>{'criterion': 'gini', 'max_depth': 7}</td>\n",
       "      <td>{'max_depth': 9, 'n_estimators': 500}</td>\n",
       "      <td>{'C': 0.01, 'penalty': 'l2'}</td>\n",
       "      <td>{'learning_rate': 0.1}</td>\n",
       "    </tr>\n",
       "    <tr>\n",
       "      <th>all_feature_no_pts_p_value</th>\n",
       "      <td>{'var_smoothing': 1e-11}</td>\n",
       "      <td>{'C': 0.01, 'penalty': 'l1'}</td>\n",
       "      <td>{'criterion': 'gini', 'max_depth': 5}</td>\n",
       "      <td>{'max_depth': 9, 'n_estimators': 500}</td>\n",
       "      <td>{'C': 0.01, 'penalty': 'l2'}</td>\n",
       "      <td>{'learning_rate': 0.1}</td>\n",
       "    </tr>\n",
       "    <tr>\n",
       "      <th>all_feature_no_pts_drop_oppo_p_value</th>\n",
       "      <td>{'var_smoothing': 1e-11}</td>\n",
       "      <td>{'C': 0.1, 'penalty': 'l1'}</td>\n",
       "      <td>{'criterion': 'entropy', 'max_depth': 5}</td>\n",
       "      <td>{'max_depth': 9, 'n_estimators': 500}</td>\n",
       "      <td>{'C': 0.01, 'penalty': 'l2'}</td>\n",
       "      <td>{'learning_rate': 0.05}</td>\n",
       "    </tr>\n",
       "    <tr>\n",
       "      <th>all_feature_no_pts_tree</th>\n",
       "      <td>{'var_smoothing': 1e-11}</td>\n",
       "      <td>{'C': 0.1, 'penalty': 'l1'}</td>\n",
       "      <td>{'criterion': 'gini', 'max_depth': 7}</td>\n",
       "      <td>{'max_depth': 9, 'n_estimators': 500}</td>\n",
       "      <td>{'C': 0.01, 'penalty': 'l2'}</td>\n",
       "      <td>{'learning_rate': 0.1}</td>\n",
       "    </tr>\n",
       "    <tr>\n",
       "      <th>all_feature_no_pts_drop_oppo_tree</th>\n",
       "      <td>{'var_smoothing': 1e-11}</td>\n",
       "      <td>{'C': 0.1, 'penalty': 'l1'}</td>\n",
       "      <td>{'criterion': 'gini', 'max_depth': 7}</td>\n",
       "      <td>{'max_depth': 9, 'n_estimators': 500}</td>\n",
       "      <td>{'C': 0.01, 'penalty': 'l2'}</td>\n",
       "      <td>{'learning_rate': 0.1}</td>\n",
       "    </tr>\n",
       "    <tr>\n",
       "      <th>all_feature_no_pts_PCA</th>\n",
       "      <td>{'var_smoothing': 1e-11}</td>\n",
       "      <td>{'C': 0.1, 'penalty': 'l2'}</td>\n",
       "      <td>{'criterion': 'gini', 'max_depth': 3}</td>\n",
       "      <td>{'max_depth': 9, 'n_estimators': 500}</td>\n",
       "      <td>{'C': 0.01, 'penalty': 'l2'}</td>\n",
       "      <td>{'learning_rate': 0.5}</td>\n",
       "    </tr>\n",
       "    <tr>\n",
       "      <th>all_feature_no_pts_drop_oppo_PCA</th>\n",
       "      <td>{'var_smoothing': 1e-11}</td>\n",
       "      <td>{'C': 0.1, 'penalty': 'l2'}</td>\n",
       "      <td>{'criterion': 'gini', 'max_depth': 3}</td>\n",
       "      <td>{'max_depth': 9, 'n_estimators': 500}</td>\n",
       "      <td>{'C': 0.01, 'penalty': 'l2'}</td>\n",
       "      <td>{'learning_rate': 0.5}</td>\n",
       "    </tr>\n",
       "  </tbody>\n",
       "</table>\n",
       "</div>"
      ],
      "text/plain": [
       "                                                   Naive_Bayes  \\\n",
       "all_feature_no_pts                    {'var_smoothing': 1e-11}   \n",
       "all_feature_no_pts_drop_oppo          {'var_smoothing': 1e-11}   \n",
       "all_feature_no_pts_p_value            {'var_smoothing': 1e-11}   \n",
       "all_feature_no_pts_drop_oppo_p_value  {'var_smoothing': 1e-11}   \n",
       "all_feature_no_pts_tree               {'var_smoothing': 1e-11}   \n",
       "all_feature_no_pts_drop_oppo_tree     {'var_smoothing': 1e-11}   \n",
       "all_feature_no_pts_PCA                {'var_smoothing': 1e-11}   \n",
       "all_feature_no_pts_drop_oppo_PCA      {'var_smoothing': 1e-11}   \n",
       "\n",
       "                                               Logistic_regression  \\\n",
       "all_feature_no_pts                    {'C': 0.01, 'penalty': 'l1'}   \n",
       "all_feature_no_pts_drop_oppo          {'C': 0.01, 'penalty': 'l1'}   \n",
       "all_feature_no_pts_p_value            {'C': 0.01, 'penalty': 'l1'}   \n",
       "all_feature_no_pts_drop_oppo_p_value   {'C': 0.1, 'penalty': 'l1'}   \n",
       "all_feature_no_pts_tree                {'C': 0.1, 'penalty': 'l1'}   \n",
       "all_feature_no_pts_drop_oppo_tree      {'C': 0.1, 'penalty': 'l1'}   \n",
       "all_feature_no_pts_PCA                 {'C': 0.1, 'penalty': 'l2'}   \n",
       "all_feature_no_pts_drop_oppo_PCA       {'C': 0.1, 'penalty': 'l2'}   \n",
       "\n",
       "                                                                 Decision_tree  \\\n",
       "all_feature_no_pts                       {'criterion': 'gini', 'max_depth': 7}   \n",
       "all_feature_no_pts_drop_oppo             {'criterion': 'gini', 'max_depth': 7}   \n",
       "all_feature_no_pts_p_value               {'criterion': 'gini', 'max_depth': 5}   \n",
       "all_feature_no_pts_drop_oppo_p_value  {'criterion': 'entropy', 'max_depth': 5}   \n",
       "all_feature_no_pts_tree                  {'criterion': 'gini', 'max_depth': 7}   \n",
       "all_feature_no_pts_drop_oppo_tree        {'criterion': 'gini', 'max_depth': 7}   \n",
       "all_feature_no_pts_PCA                   {'criterion': 'gini', 'max_depth': 3}   \n",
       "all_feature_no_pts_drop_oppo_PCA         {'criterion': 'gini', 'max_depth': 3}   \n",
       "\n",
       "                                                              Random_forest  \\\n",
       "all_feature_no_pts                    {'max_depth': 9, 'n_estimators': 500}   \n",
       "all_feature_no_pts_drop_oppo          {'max_depth': 9, 'n_estimators': 500}   \n",
       "all_feature_no_pts_p_value            {'max_depth': 9, 'n_estimators': 500}   \n",
       "all_feature_no_pts_drop_oppo_p_value  {'max_depth': 9, 'n_estimators': 500}   \n",
       "all_feature_no_pts_tree               {'max_depth': 9, 'n_estimators': 500}   \n",
       "all_feature_no_pts_drop_oppo_tree     {'max_depth': 9, 'n_estimators': 500}   \n",
       "all_feature_no_pts_PCA                {'max_depth': 9, 'n_estimators': 500}   \n",
       "all_feature_no_pts_drop_oppo_PCA      {'max_depth': 9, 'n_estimators': 500}   \n",
       "\n",
       "                                                              LSVM  \\\n",
       "all_feature_no_pts                    {'C': 0.01, 'penalty': 'l2'}   \n",
       "all_feature_no_pts_drop_oppo          {'C': 0.01, 'penalty': 'l2'}   \n",
       "all_feature_no_pts_p_value            {'C': 0.01, 'penalty': 'l2'}   \n",
       "all_feature_no_pts_drop_oppo_p_value  {'C': 0.01, 'penalty': 'l2'}   \n",
       "all_feature_no_pts_tree               {'C': 0.01, 'penalty': 'l2'}   \n",
       "all_feature_no_pts_drop_oppo_tree     {'C': 0.01, 'penalty': 'l2'}   \n",
       "all_feature_no_pts_PCA                {'C': 0.01, 'penalty': 'l2'}   \n",
       "all_feature_no_pts_drop_oppo_PCA      {'C': 0.01, 'penalty': 'l2'}   \n",
       "\n",
       "                                            Gradient_boosting  \n",
       "all_feature_no_pts                     {'learning_rate': 0.1}  \n",
       "all_feature_no_pts_drop_oppo           {'learning_rate': 0.1}  \n",
       "all_feature_no_pts_p_value             {'learning_rate': 0.1}  \n",
       "all_feature_no_pts_drop_oppo_p_value  {'learning_rate': 0.05}  \n",
       "all_feature_no_pts_tree                {'learning_rate': 0.1}  \n",
       "all_feature_no_pts_drop_oppo_tree      {'learning_rate': 0.1}  \n",
       "all_feature_no_pts_PCA                 {'learning_rate': 0.5}  \n",
       "all_feature_no_pts_drop_oppo_PCA       {'learning_rate': 0.5}  "
      ]
     },
     "execution_count": 149,
     "metadata": {},
     "output_type": "execute_result"
    }
   ],
   "source": [
    "all_params_no_pts_df = pd.DataFrame(all_params_no_pts, index=['all_feature_no_pts', 'all_feature_no_pts_drop_oppo', \n",
    "                'all_feature_no_pts_p_value', 'all_feature_no_pts_drop_oppo_p_value', 'all_feature_no_pts_tree',\n",
    "                'all_feature_no_pts_drop_oppo_tree', 'all_feature_no_pts_PCA', 'all_feature_no_pts_drop_oppo_PCA'])\n",
    "all_params_no_pts_df"
   ]
  },
  {
   "cell_type": "code",
   "execution_count": 136,
   "metadata": {},
   "outputs": [
    {
     "data": {
      "text/plain": [
       "Logistic_regression    0.891438\n",
       "LSVM                   0.875953\n",
       "Gradient_boosting      0.865280\n",
       "Avg_score              0.828072\n",
       "Random_forest          0.818873\n",
       "Decision_tree          0.813298\n",
       "Naive_Bayes            0.703593\n",
       "dtype: float64"
      ]
     },
     "execution_count": 136,
     "metadata": {},
     "output_type": "execute_result"
    }
   ],
   "source": [
    "all_score_no_pts_df.mean().sort_values(ascending=False)"
   ]
  },
  {
   "cell_type": "code",
   "execution_count": 137,
   "metadata": {},
   "outputs": [
    {
     "data": {
      "text/plain": [
       "all_feature_no_pts_tree                 0.863573\n",
       "all_feature_no_pts_drop_oppo_tree       0.857601\n",
       "all_feature_no_pts_drop_oppo            0.849787\n",
       "all_feature_no_pts                      0.847913\n",
       "all_feature_no_pts_p_value              0.829426\n",
       "all_feature_no_pts_drop_oppo_p_value    0.820723\n",
       "all_feature_no_pts_drop_oppo_PCA        0.777905\n",
       "all_feature_no_pts_PCA                  0.777651\n",
       "Name: Avg_score, dtype: float64"
      ]
     },
     "execution_count": 137,
     "metadata": {},
     "output_type": "execute_result"
    }
   ],
   "source": [
    "all_score_no_pts_df['Avg_score'].sort_values(ascending=False)"
   ]
  },
  {
   "cell_type": "markdown",
   "metadata": {},
   "source": [
    "We can see that logistic and gradient boosting in general has a higher accuracy score than other algorithms, both are able to reach over 90%, however PCA data did not perform well in gradient boosting and the variance of logistic regression is relatively small between different datasets.\n",
    "\n",
    "Our next step is to use the best three in each algorithm on our test set to see how it performs on out of sample data, we will define a helper function to assist our goal."
   ]
  },
  {
   "cell_type": "markdown",
   "metadata": {},
   "source": [
    "##### Test set performance"
   ]
  },
  {
   "cell_type": "code",
   "execution_count": 138,
   "metadata": {},
   "outputs": [],
   "source": [
    "# test set data dictionary\n",
    "data_all_test_no_pts = {'all_feature_no_pts': tennis_all_feature_no_pts_clean_X_test, \n",
    "                         'all_feature_no_pts_drop_oppo': tennis_all_feature_no_pts_clean_drop_oppo_X_test,\n",
    "                         'all_feature_no_pts_p_value': tennis_all_feature_no_pts_clean_X_test_p_value, \n",
    "                         'all_feature_no_pts_drop_oppo_p_value': tennis_all_feature_no_pts_clean_drop_oppo_X_test_p_value,\n",
    "                         'all_feature_no_pts_tree': tennis_all_feature_no_pts_clean_X_test_tree, \n",
    "                         'all_feature_no_pts_drop_oppo_tree': tennis_all_feature_no_pts_clean_drop_oppo_X_test_tree,\n",
    "                         'all_feature_no_pts_PCA': tennis_all_feature_no_pts_clean_X_test_PCA, \n",
    "                         'all_feature_no_pts_drop_oppo_PCA': tennis_all_feature_no_pts_clean_drop_oppo_X_test_PCA}\n",
    "\n",
    "# algorithm dictionary\n",
    "algorithm = {'Naive_Bayes': GaussianNB, 'Logistic_regression': LogisticRegression, \n",
    "        'Decision_tree': DecisionTreeClassifier, 'Random_forest': RandomForestClassifier, \n",
    "        'LSVM': LinearSVC, 'Gradient_boosting': GradientBoostingClassifier}\n",
    "\n",
    "# test score dictionary\n",
    "test_score_no_pts = {}"
   ]
  },
  {
   "cell_type": "code",
   "execution_count": 139,
   "metadata": {},
   "outputs": [],
   "source": [
    "# define helper function\n",
    "def test_accuracy_no_pts(algo, top=2): # use the top 2 algorithms as default\n",
    "    from sklearn.metrics import accuracy_score\n",
    "    rank = all_score_no_pts_df.rank(method='first', ascending=False) # get the ranking of data in each algorithm\n",
    "    for data in rank[algo][rank[algo] <= top].index: # pick only the highest two\n",
    "        model = algorithm[algo](**all_params_no_pts_df.loc[data, algo]) # fit the model with the best parameters\n",
    "        model.fit(data_all_train_no_pts[data], tennis_all_feature_no_pts_clean_y_train)\n",
    "        score = accuracy_score(tennis_all_feature_no_pts_clean_y_test, model.predict(data_all_test_no_pts[data]))\n",
    "        test_score_no_pts[algo+'_'+data] = round(score,5)"
   ]
  },
  {
   "cell_type": "code",
   "execution_count": 140,
   "metadata": {},
   "outputs": [],
   "source": [
    "for algo in algorithm:\n",
    "    test_accuracy_no_pts(algo, top=3)"
   ]
  },
  {
   "cell_type": "code",
   "execution_count": 142,
   "metadata": {},
   "outputs": [
    {
     "data": {
      "text/html": [
       "<div>\n",
       "<style scoped>\n",
       "    .dataframe tbody tr th:only-of-type {\n",
       "        vertical-align: middle;\n",
       "    }\n",
       "\n",
       "    .dataframe tbody tr th {\n",
       "        vertical-align: top;\n",
       "    }\n",
       "\n",
       "    .dataframe thead th {\n",
       "        text-align: right;\n",
       "    }\n",
       "</style>\n",
       "<table border=\"1\" class=\"dataframe\">\n",
       "  <thead>\n",
       "    <tr style=\"text-align: right;\">\n",
       "      <th></th>\n",
       "      <th>test_score</th>\n",
       "    </tr>\n",
       "  </thead>\n",
       "  <tbody>\n",
       "    <tr>\n",
       "      <th>Gradient_boosting_all_feature_no_pts</th>\n",
       "      <td>0.90800</td>\n",
       "    </tr>\n",
       "    <tr>\n",
       "      <th>Gradient_boosting_all_feature_no_pts_drop_oppo</th>\n",
       "      <td>0.90711</td>\n",
       "    </tr>\n",
       "    <tr>\n",
       "      <th>Gradient_boosting_all_feature_no_pts_tree</th>\n",
       "      <td>0.90578</td>\n",
       "    </tr>\n",
       "    <tr>\n",
       "      <th>Logistic_regression_all_feature_no_pts_drop_oppo</th>\n",
       "      <td>0.90267</td>\n",
       "    </tr>\n",
       "    <tr>\n",
       "      <th>Logistic_regression_all_feature_no_pts</th>\n",
       "      <td>0.90222</td>\n",
       "    </tr>\n",
       "    <tr>\n",
       "      <th>Logistic_regression_all_feature_no_pts_drop_oppo_tree</th>\n",
       "      <td>0.90133</td>\n",
       "    </tr>\n",
       "    <tr>\n",
       "      <th>LSVM_all_feature_no_pts_tree</th>\n",
       "      <td>0.89911</td>\n",
       "    </tr>\n",
       "    <tr>\n",
       "      <th>LSVM_all_feature_no_pts_drop_oppo_tree</th>\n",
       "      <td>0.89422</td>\n",
       "    </tr>\n",
       "    <tr>\n",
       "      <th>LSVM_all_feature_no_pts_drop_oppo_PCA</th>\n",
       "      <td>0.88178</td>\n",
       "    </tr>\n",
       "    <tr>\n",
       "      <th>Decision_tree_all_feature_no_pts_drop_oppo</th>\n",
       "      <td>0.88133</td>\n",
       "    </tr>\n",
       "    <tr>\n",
       "      <th>Decision_tree_all_feature_no_pts_tree</th>\n",
       "      <td>0.88133</td>\n",
       "    </tr>\n",
       "    <tr>\n",
       "      <th>Decision_tree_all_feature_no_pts_drop_oppo_tree</th>\n",
       "      <td>0.88000</td>\n",
       "    </tr>\n",
       "    <tr>\n",
       "      <th>Random_forest_all_feature_no_pts_tree</th>\n",
       "      <td>0.86800</td>\n",
       "    </tr>\n",
       "    <tr>\n",
       "      <th>Random_forest_all_feature_no_pts_p_value</th>\n",
       "      <td>0.85733</td>\n",
       "    </tr>\n",
       "    <tr>\n",
       "      <th>Random_forest_all_feature_no_pts_drop_oppo_tree</th>\n",
       "      <td>0.84800</td>\n",
       "    </tr>\n",
       "    <tr>\n",
       "      <th>Naive_Bayes_all_feature_no_pts_PCA</th>\n",
       "      <td>0.82578</td>\n",
       "    </tr>\n",
       "    <tr>\n",
       "      <th>Naive_Bayes_all_feature_no_pts_drop_oppo_PCA</th>\n",
       "      <td>0.80622</td>\n",
       "    </tr>\n",
       "    <tr>\n",
       "      <th>Naive_Bayes_all_feature_no_pts_tree</th>\n",
       "      <td>0.68622</td>\n",
       "    </tr>\n",
       "  </tbody>\n",
       "</table>\n",
       "</div>"
      ],
      "text/plain": [
       "                                                    test_score\n",
       "Gradient_boosting_all_feature_no_pts                   0.90800\n",
       "Gradient_boosting_all_feature_no_pts_drop_oppo         0.90711\n",
       "Gradient_boosting_all_feature_no_pts_tree              0.90578\n",
       "Logistic_regression_all_feature_no_pts_drop_oppo       0.90267\n",
       "Logistic_regression_all_feature_no_pts                 0.90222\n",
       "Logistic_regression_all_feature_no_pts_drop_opp...     0.90133\n",
       "LSVM_all_feature_no_pts_tree                           0.89911\n",
       "LSVM_all_feature_no_pts_drop_oppo_tree                 0.89422\n",
       "LSVM_all_feature_no_pts_drop_oppo_PCA                  0.88178\n",
       "Decision_tree_all_feature_no_pts_drop_oppo             0.88133\n",
       "Decision_tree_all_feature_no_pts_tree                  0.88133\n",
       "Decision_tree_all_feature_no_pts_drop_oppo_tree        0.88000\n",
       "Random_forest_all_feature_no_pts_tree                  0.86800\n",
       "Random_forest_all_feature_no_pts_p_value               0.85733\n",
       "Random_forest_all_feature_no_pts_drop_oppo_tree        0.84800\n",
       "Naive_Bayes_all_feature_no_pts_PCA                     0.82578\n",
       "Naive_Bayes_all_feature_no_pts_drop_oppo_PCA           0.80622\n",
       "Naive_Bayes_all_feature_no_pts_tree                    0.68622"
      ]
     },
     "execution_count": 142,
     "metadata": {},
     "output_type": "execute_result"
    }
   ],
   "source": [
    "# create a dataframe to list all the score\n",
    "all_test_no_pts_df = pd.DataFrame(test_score_no_pts, index=['test_score'])\n",
    "all_test_no_pts_df = all_test_no_pts_df.T.sort_values(by='test_score', ascending=False)\n",
    "all_test_no_pts_df"
   ]
  },
  {
   "cell_type": "code",
   "execution_count": 290,
   "metadata": {},
   "outputs": [
    {
     "data": {
      "image/png": "[encoded data removed]",
      "text/plain": [
       "<Figure size 1296x1080 with 1 Axes>"
      ]
     },
     "metadata": {},
     "output_type": "display_data"
    }
   ],
   "source": [
    "# plot the graph\n",
    "fig, ax = plt.subplots(1,1,figsize=(18, 15))\n",
    "all_test_no_pts_df.plot(kind='bar', ax=ax, color='g')\n",
    "ax.set_ylim([0.75,0.95])\n",
    "ax.set_ylabel('Accuracy score', size=14)\n",
    "ax.set_title('Algorithm-Data pair test set performance, match range: 1991-2017', size=18)\n",
    "ax.set_xlabel('Algorithm-Data pair', size=14)\n",
    "for p in ax.patches:\n",
    "    ax.annotate('{}'.format(p.get_height()), xy=(p.get_x()-0.05, p.get_height()+0.002))\n",
    "plt.tight_layout()\n",
    "plt.show()\n",
    "fig.savefig('test_score_no_pts.png')"
   ]
  },
  {
   "cell_type": "markdown",
   "metadata": {},
   "source": [
    "We can see that in general it performed worse than data with `ranking_points`, the reason behind that might be the range of data(1991-2017) was a lot longer than previously, making it harder to generalize. We will pick `Gradient_boosting_all_feature_no_pts_tree`, `Logistic_regression_all_feature_no_pts_drop_oppo` and `LSVM_all_feature_no_pts_tree` to compare further with bootstrapping as before to test the consistency."
   ]
  },
  {
   "cell_type": "markdown",
   "metadata": {},
   "source": [
    "##### Bootstrapping to test model consistency\n",
    "We will repeat the process on the data without `ranking_points` features."
   ]
  },
  {
   "cell_type": "code",
   "execution_count": 151,
   "metadata": {},
   "outputs": [],
   "source": [
    "# define helper function\n",
    "def bootstrapping_no_pts(algo, data, index, kde=True):\n",
    "    from sklearn.metrics import accuracy_score\n",
    "    model = algorithm[algo](**all_params_no_pts_df.loc[data, algo])\n",
    "    model.fit(data_all_train_no_pts[data], tennis_all_feature_no_pts_clean_y_train)\n",
    "    temp_data = pd.concat([data_all_test_no_pts[data], tennis_all_feature_no_pts_clean_y_test], axis=1) # concatenate the outcome to sample together\n",
    "    score_list = []\n",
    "    \n",
    "    for i in range(len(index)):\n",
    "        sample = temp_data.iloc[index[i]]\n",
    "        score = accuracy_score(sample[0], model.predict(sample.drop([0], axis=1)))\n",
    "        score_list.append(score)\n",
    "    \n",
    "    \n",
    "    fig, ax = plt.subplots(1,1,figsize=(15,10))\n",
    "    ax = sns.distplot(score_list, kde=kde)\n",
    "    ax.set_title('Accuracy score distribution from test set', size=18)\n",
    "    ax.set_xlabel('Score')\n",
    "    if not kde:\n",
    "        ax.set_ylabel('Count')\n",
    "    name = algo + data\n",
    "    plt.savefig(name+'.png')\n",
    "    plt.show()\n",
    "    score_mean = np.mean(score_list)\n",
    "    score_std = np.std(score_list)\n",
    "    print('Average test score from random sampling: {}'.format(score_mean))\n",
    "    print('Standard deviation of test score from random sampling: {}'.format(score_std))\n",
    "    print('CV% of test score from random sampling: {}%'.format(score_std/score_mean*100))\n",
    "    \n",
    "    return score_list # return all the score for further analysis \n",
    "\n",
    "# define a helper function to generate sample index\n",
    "def sample_index_no_pts(size=300, iteration=2000):\n",
    "    index_dict = {}\n",
    "    for i in range(iteration):\n",
    "        index = tennis_all_feature_no_pts_clean_y_test.sample(size, replace=True).index\n",
    "        index_dict[i] = index\n",
    "    return index_dict"
   ]
  },
  {
   "cell_type": "code",
   "execution_count": 147,
   "metadata": {},
   "outputs": [],
   "source": [
    "index = sample_index_no_pts()"
   ]
  },
  {
   "cell_type": "markdown",
   "metadata": {},
   "source": [
    "##### Gradient_boosting_all_feature_no_pts_tree"
   ]
  },
  {
   "cell_type": "code",
   "execution_count": 152,
   "metadata": {},
   "outputs": [
    {
     "data": {
      "image/png": "[encoded data removed]",
      "text/plain": [
       "<Figure size 1080x720 with 1 Axes>"
      ]
     },
     "metadata": {},
     "output_type": "display_data"
    },
    {
     "name": "stdout",
     "output_type": "stream",
     "text": [
      "Average test score from random sampling: 0.9108666666666666\n",
      "Standard deviation of test score from random sampling: 0.016410836528207684\n",
      "CV% of test score from random sampling: 1.8016727506632166%\n",
      "CPU times: user 25.1 s, sys: 1.09 s, total: 26.2 s\n",
      "Wall time: 26 s\n"
     ]
    }
   ],
   "source": [
    "%%time\n",
    "gb_tree_2 = bootstrapping_no_pts('Gradient_boosting', 'all_feature_no_pts_drop_oppo_tree', index=index)"
   ]
  },
  {
   "cell_type": "markdown",
   "metadata": {},
   "source": [
    "##### Logistic_regression_all_feature_no_pts_drop_oppo"
   ]
  },
  {
   "cell_type": "code",
   "execution_count": 155,
   "metadata": {},
   "outputs": [
    {
     "data": {
      "image/png": "[encoded data removed]",
      "text/plain": [
       "<Figure size 1080x720 with 1 Axes>"
      ]
     },
     "metadata": {},
     "output_type": "display_data"
    },
    {
     "name": "stdout",
     "output_type": "stream",
     "text": [
      "Average test score from random sampling: 0.9020416666666667\n",
      "Standard deviation of test score from random sampling: 0.017714195108255226\n",
      "CV% of test score from random sampling: 1.9637890091834513%\n",
      "CPU times: user 1min 18s, sys: 7.07 s, total: 1min 25s\n",
      "Wall time: 24.5 s\n"
     ]
    }
   ],
   "source": [
    "%%time\n",
    "lg_2 = bootstrapping_no_pts('Logistic_regression', 'all_feature_no_pts_drop_oppo', index=index)"
   ]
  },
  {
   "cell_type": "markdown",
   "metadata": {},
   "source": [
    "##### LSVM_all_feature_no_pts_tree"
   ]
  },
  {
   "cell_type": "code",
   "execution_count": 156,
   "metadata": {},
   "outputs": [
    {
     "data": {
      "image/png": "[encoded data removed]",
      "text/plain": [
       "<Figure size 1080x720 with 1 Axes>"
      ]
     },
     "metadata": {},
     "output_type": "display_data"
    },
    {
     "name": "stdout",
     "output_type": "stream",
     "text": [
      "Average test score from random sampling: 0.8992033333333332\n",
      "Standard deviation of test score from random sampling: 0.01788602154383883\n",
      "CV% of test score from random sampling: 1.9890964457989293%\n",
      "CPU times: user 39.3 s, sys: 1.86 s, total: 41.1 s\n",
      "Wall time: 12.1 s\n"
     ]
    }
   ],
   "source": [
    "%%time\n",
    "lsvm_tree_2 = bootstrapping_no_pts('LSVM', 'all_feature_no_pts_tree', index=index)"
   ]
  },
  {
   "cell_type": "markdown",
   "metadata": {},
   "source": [
    "We can clearly see the winner here: `Gradient_boosting_all_feature_no_pts_tree`, which has more than 91% accuracy and more consistent compare to the other two, it looks like `Gradient boosting` with `all_feature_no_pts_tree` is a good pair together as they also performed well in data with `ranking_points` we showed previously."
   ]
  },
  {
   "cell_type": "markdown",
   "metadata": {},
   "source": [
    "### Deep learning model\n",
    "Now it is time to try some deep learning model to see whether it has better or worse performance compare to traditional machine learning model."
   ]
  },
  {
   "cell_type": "markdown",
   "metadata": {},
   "source": [
    "#### RNN model\n",
    "We will now try the deep learning model, as we mentioned before, we need to reshape our data into (m, t, n) format, where m means the number of training examples, t stands for timestep and n stands for number of features in one example, our goal is to predict the outcome of the current match played by player 1 and 2, the training examples include different `timestep`, each `timestep` represents one previous match that player 1 and 2 played, we have included 10 matches like we did in traditional machine learning model, the difference is we use flatten previous 10 matches stats and use them all at once for traditional ML model, whereas we feed the 10th match(1st timestep) first in RNN, then 9th(2nd timestep) match, 8th(3rd timestep) match...and so on in RNN model, each output of previous `timestep` is used for the current `timestep` so all the sequential data is connected together. Note that we will use \"Many-to-one\" as the layout of our RNN model(showing below), where we only have one output y as the match outcome."
   ]
  },
  {
   "cell_type": "markdown",
   "metadata": {},
   "source": [
    "![RNN](https://raw.githubusercontent.com/george1577/Thinkful_Data_Science/master/Capstone%20project/Capstone%20project%202/Images/RNN_1.png)"
   ]
  },
  {
   "cell_type": "markdown",
   "metadata": {},
   "source": [
    "#### SimpleRNN vs LSTM\n",
    "RNN is mostly used in sequential model like text prediction, for example, given a sentence and RNN is able to predict what the most possible next sentence will be. Simple RNN model is not commonly use due to the [vanishing gradient problem](https://www.superdatascience.com/blogs/recurrent-neural-networks-rnn-the-vanishing-gradient-problem/), the weighth of the further `timestep` will approach near zero as the sequence gets longer and longer. To solve this, [researcher](http://www.bioinf.jku.at/publications/older/2604.pdf) came up with the LSTM(Long Short-Term Memory) networks, which introduced the input gate, the forget gate and the output gate as shown below. In this way RNN is able to keep the memory from the further `timestep` and update the cell if necessary. In out application, we might actually need the RNN to put \"less weight\" on the match that was played relatively long time ago, since those are less likely to affect the outcome of the current match, in this part we will apply both simple RNN as well as LSTM to compare if it makes any difference. We will also use the grid search like we did in traditional machine learning model to find out the best hyperparameters."
   ]
  },
  {
   "cell_type": "markdown",
   "metadata": {},
   "source": [
    "#### Import packages"
   ]
  },
  {
   "cell_type": "code",
   "execution_count": 215,
   "metadata": {},
   "outputs": [],
   "source": [
    "from keras.models import Sequential\n",
    "from keras.layers import Dense, LSTM, SimpleRNN\n",
    "from sklearn.model_selection import GridSearchCV\n",
    "from keras.wrappers.scikit_learn import KerasClassifier "
   ]
  },
  {
   "cell_type": "markdown",
   "metadata": {},
   "source": [
    "#### Prepare training examples\n",
    "Due to the required format of (m, t, n) for RNN, we will only be using `tennis_all_feature_clean_X_train`,  `tennis_all_feature_drop_oppo_clean_X_train`,  `tennis_all_feature_no_pts_clean_X_train` and `tennis_all_feature_no_pts_drop_oppo_clean_X_train`to train our model, we will not be using any processed training examples such as model-based feature selection since they do not have the same feature size for every timestep."
   ]
  },
  {
   "cell_type": "code",
   "execution_count": 71,
   "metadata": {},
   "outputs": [
    {
     "name": "stdout",
     "output_type": "stream",
     "text": [
      "(8962, 2280)\n",
      "(8962, 1540)\n",
      "(5247, 2220)\n",
      "(5247, 1500)\n"
     ]
    }
   ],
   "source": [
    "print(tennis_all_feature_clean_X_train.shape)\n",
    "print(tennis_all_feature_clean_drop_oppo_X_train.shape)\n",
    "print(tennis_all_feature_no_pts_clean_X_train.shape)\n",
    "print(tennis_all_feature_no_pts_clean_drop_oppo_X_train.shape)"
   ]
  },
  {
   "cell_type": "code",
   "execution_count": 72,
   "metadata": {},
   "outputs": [
    {
     "name": "stdout",
     "output_type": "stream",
     "text": [
      "(3842, 2280)\n",
      "(2250, 2220)\n"
     ]
    }
   ],
   "source": [
    "print(tennis_all_feature_clean_X_test.shape)\n",
    "print(tennis_all_feature_no_pts_clean_X_test.shape)"
   ]
  },
  {
   "cell_type": "code",
   "execution_count": 157,
   "metadata": {},
   "outputs": [],
   "source": [
    "# reshape training and testing examples, for matches between 2009-2017\n",
    "X_train = tennis_all_feature_clean_X_train.values.reshape(8962, 10, 228)\n",
    "X_test = tennis_all_feature_clean_X_test.values.reshape(3842, 10, 228)\n",
    "y_train = tennis_all_feature_clean_drop_oppo_y_train.values.reshape(8962, 1)\n",
    "y_test = tennis_all_feature_clean_drop_oppo_y_test.values.reshape(3842, 1)"
   ]
  },
  {
   "cell_type": "code",
   "execution_count": 158,
   "metadata": {},
   "outputs": [],
   "source": [
    "X_train_no_pts = tennis_all_feature_no_pts_clean_X_train.values.reshape(5247, 10, 222)\n",
    "X_test_no_pts = tennis_all_feature_no_pts_clean_X_test.values.reshape(2250, 10, 222)\n",
    "y_train_no_pts = tennis_all_feature_no_pts_clean_drop_oppo_y_train.values.reshape(5247, 1)\n",
    "y_test_no_pts = tennis_all_feature_no_pts_clean_drop_oppo_y_test.values.reshape(2250, 1)"
   ]
  },
  {
   "cell_type": "markdown",
   "metadata": {},
   "source": [
    "##### Simple RNN\n",
    "We will first try the simpleRNN model and tune up some hyperparameters to see if we could find an ideal combination, we will add another dense layer between the input and output layer to see if it does any help to the prediction. The output activation function we use here will be [`softmax`](https://en.wikipedia.org/wiki/Softmax_function), this function is commonly used in categorical output and it will assign sort of probability of each output with the total equals 1, this is ideal for our ultimate goal of predicting the winning percentage of a certain player in order to apply on the real world to set up the odds.\n",
    "\n",
    "Before that, we need to reshape our output variable y since the output of softmax function requires at least 2 units, we will add another opposite outcome column to make the output shape as (n, 2), where n stands for the number of examples."
   ]
  },
  {
   "cell_type": "markdown",
   "metadata": {},
   "source": [
    "##### matches from 2009-2017, with `ranking_points` feature included."
   ]
  },
  {
   "cell_type": "code",
   "execution_count": 163,
   "metadata": {},
   "outputs": [
    {
     "data": {
      "text/plain": [
       "(8962, 1)"
      ]
     },
     "execution_count": 163,
     "metadata": {},
     "output_type": "execute_result"
    }
   ],
   "source": [
    "y_train.shape"
   ]
  },
  {
   "cell_type": "code",
   "execution_count": 164,
   "metadata": {},
   "outputs": [],
   "source": [
    "# reshape y_train to (n, 2)\n",
    "y_train_oppo = np.where(y_train == 1, 0, 1)\n",
    "y_train_softmax = np.concatenate([y_train, y_train_oppo], axis=1)"
   ]
  },
  {
   "cell_type": "code",
   "execution_count": 165,
   "metadata": {},
   "outputs": [
    {
     "data": {
      "text/plain": [
       "(8962, 2)"
      ]
     },
     "execution_count": 165,
     "metadata": {},
     "output_type": "execute_result"
    }
   ],
   "source": [
    "# check the shape\n",
    "y_train_softmax.shape"
   ]
  },
  {
   "cell_type": "markdown",
   "metadata": {},
   "source": [
    "We will start with hyperparameter tuning for RNN, but we will not do it all at once due to limited computation resource, we will tune them separately, this might not get us the most ideal hyperparameters combination, but good enough for our model."
   ]
  },
  {
   "cell_type": "markdown",
   "metadata": {},
   "source": [
    "`batch_size` and `epochs`"
   ]
  },
  {
   "cell_type": "code",
   "execution_count": 169,
   "metadata": {},
   "outputs": [],
   "source": [
    "# define model function to feed in KerasClassifier\n",
    "def simpleRNN(n=228):\n",
    "    # create model\n",
    "    model = Sequential()\n",
    "    model.add(SimpleRNN(32, input_shape=(10, n)))\n",
    "    # add another dense layer\n",
    "    model.add(Dense(2, activation='relu'))\n",
    "    # add the final layer\n",
    "    model.add(Dense(2, activation='softmax'))\n",
    "    # compile model\n",
    "    model.compile(loss='binary_crossentropy', optimizer='adam', metrics=['accuracy'])\n",
    "    return model"
   ]
  },
  {
   "cell_type": "code",
   "execution_count": 170,
   "metadata": {},
   "outputs": [
    {
     "name": "stdout",
     "output_type": "stream",
     "text": [
      "Best accuracy score: 0.8774827032436672, best parameters: {'batch_size': 20, 'epochs': 10}\n"
     ]
    }
   ],
   "source": [
    "# use X_train and y_train loaded above\n",
    "np.random.seed(1009)\n",
    "batch_size = [10, 20, 40]\n",
    "epochs = [5, 10, 15]\n",
    "param_grid = dict(batch_size=batch_size, epochs=epochs)\n",
    "model = KerasClassifier(build_fn=simpleRNN, verbose=0)\n",
    "grid = GridSearchCV(estimator=model, param_grid=param_grid)\n",
    "grid_result = grid.fit(X_train, y_train_softmax)\n",
    "print(f'Best accuracy score: {grid.best_score_}, best parameters: {grid.best_params_}')"
   ]
  },
  {
   "cell_type": "markdown",
   "metadata": {},
   "source": [
    "Next we will tune `training optimization algorithm` by using batch_size = 20 and epochs = 10."
   ]
  },
  {
   "cell_type": "code",
   "execution_count": 172,
   "metadata": {},
   "outputs": [],
   "source": [
    "# define model function to feed in KerasClassifier\n",
    "def simpleRNN(n=228, optimizer='Adam'):\n",
    "    # create model\n",
    "    model = Sequential()\n",
    "    model.add(SimpleRNN(32, input_shape=(10, n)))\n",
    "    # add another dense layer\n",
    "    model.add(Dense(2, activation='relu'))\n",
    "    # add the final layer\n",
    "    model.add(Dense(2, activation='softmax'))\n",
    "    # compile model\n",
    "    model.compile(loss='binary_crossentropy', optimizer=optimizer, metrics=['accuracy'])\n",
    "    return model"
   ]
  },
  {
   "cell_type": "code",
   "execution_count": 173,
   "metadata": {},
   "outputs": [
    {
     "name": "stdout",
     "output_type": "stream",
     "text": [
      "Best accuracy score: 0.8785985254717309, best parameters: {'optimizer': 'Adagrad'}\n"
     ]
    }
   ],
   "source": [
    "np.random.seed(1009)\n",
    "optimizer = ['SGD', 'RMSprop', 'Adagrad', 'Adadelta', 'Adam', 'Adamax', 'Nadam']\n",
    "param_grid = dict(optimizer=optimizer)\n",
    "model = KerasClassifier(build_fn=simpleRNN, batch_size=20, epochs=10, verbose=0)\n",
    "grid = GridSearchCV(estimator=model, param_grid=param_grid)\n",
    "grid_result = grid.fit(X_train, y_train_softmax)\n",
    "print(f'Best accuracy score: {grid.best_score_}, best parameters: {grid.best_params_}')"
   ]
  },
  {
   "cell_type": "markdown",
   "metadata": {},
   "source": [
    "Next we will tune `init_mode` by fixing batch_size = 20, epochs = 10 and optimizer = 'Adagrad'"
   ]
  },
  {
   "cell_type": "code",
   "execution_count": 174,
   "metadata": {},
   "outputs": [],
   "source": [
    "def simpleRNN(n=228, init_mode='uniform'):\n",
    "    # create model\n",
    "    model = Sequential()\n",
    "    model.add(SimpleRNN(32, input_shape=(10, n)))\n",
    "    # add another dense layer\n",
    "    model.add(Dense(2, activation='relu', kernel_initializer=init_mode))\n",
    "    # add the final layer\n",
    "    model.add(Dense(2, activation='softmax', kernel_initializer=init_mode))\n",
    "    # compile model\n",
    "    model.compile(loss='binary_crossentropy', optimizer='Adagrad', metrics=['accuracy'])\n",
    "    return model"
   ]
  },
  {
   "cell_type": "code",
   "execution_count": 175,
   "metadata": {},
   "outputs": [
    {
     "name": "stdout",
     "output_type": "stream",
     "text": [
      "Best accuracy score: 0.8826154852998865, best parameters: {'init_mode': 'lecun_uniform'}\n"
     ]
    }
   ],
   "source": [
    "np.random.seed(1009)\n",
    "init_mode = ['uniform', 'lecun_uniform', 'normal', 'zero', 'glorot_normal', 'glorot_uniform', 'he_normal', \n",
    "             'he_uniform']\n",
    "param_grid = dict(init_mode=init_mode)\n",
    "model = KerasClassifier(build_fn=simpleRNN, batch_size=20, epochs=10, verbose=0)\n",
    "grid = GridSearchCV(estimator=model, param_grid=param_grid)\n",
    "grid_result = grid.fit(X_train, y_train_softmax)\n",
    "print(f'Best accuracy score: {grid.best_score_}, best parameters: {grid.best_params_}')"
   ]
  },
  {
   "cell_type": "markdown",
   "metadata": {},
   "source": [
    "Next we will tune number of `nuerons` by fixing  batch_size = 20, epochs = 10, optimizer = 'Adagrad' and init_mode = 'lecun_uniform'."
   ]
  },
  {
   "cell_type": "code",
   "execution_count": 179,
   "metadata": {},
   "outputs": [],
   "source": [
    "def simpleRNN(n=228, neurons=2):\n",
    "    # create model\n",
    "    model = Sequential()\n",
    "    model.add(SimpleRNN(32, input_shape=(10, n)))\n",
    "    # add another dense layer\n",
    "    model.add(Dense(neurons, activation='relu', kernel_initializer='lecun_uniform'))\n",
    "    # add the final layer\n",
    "    model.add(Dense(2, activation='softmax', kernel_initializer='lecun_uniform'))\n",
    "    # compile model\n",
    "    model.compile(loss='binary_crossentropy', optimizer='Adagrad', metrics=['accuracy'])\n",
    "    return model"
   ]
  },
  {
   "cell_type": "code",
   "execution_count": 180,
   "metadata": {},
   "outputs": [
    {
     "name": "stdout",
     "output_type": "stream",
     "text": [
      "Best accuracy score: 0.8825039024053475, best parameters: {'neurons': 2}\n"
     ]
    }
   ],
   "source": [
    "np.random.seed(1009)\n",
    "neurons = [1, 2, 4, 8, 16, 32, 64]\n",
    "param_grid = dict(neurons=neurons)\n",
    "model = KerasClassifier(build_fn=simpleRNN, batch_size=20, epochs=10, verbose=0)\n",
    "grid = GridSearchCV(estimator=model, param_grid=param_grid)\n",
    "grid_result = grid.fit(X_train, y_train_softmax)\n",
    "print(f'Best accuracy score: {grid.best_score_}, best parameters: {grid.best_params_}')"
   ]
  },
  {
   "cell_type": "markdown",
   "metadata": {},
   "source": [
    "We can see that the score was stuck around 87% to 88%, when we tune the hyperparameters step by step it only improved little by little everytime. We will use those to see how it works on the test set. The following are the hyperparameters we chose:\n",
    "1. `batch_size`: 20\n",
    "2. `epochs`: 10\n",
    "3. `optimizer`: 'Adagrad'\n",
    "4. `kernel_initializer`: 'lecun_uniform'\n",
    "5. `neurons`: 2"
   ]
  },
  {
   "cell_type": "code",
   "execution_count": 181,
   "metadata": {},
   "outputs": [],
   "source": [
    "# reshape y_test to (n, 2)\n",
    "y_test_oppo = np.where(y_test == 1, 0, 1)\n",
    "y_test_softmax = np.concatenate([y_test, y_test_oppo], axis=1)"
   ]
  },
  {
   "cell_type": "code",
   "execution_count": 182,
   "metadata": {},
   "outputs": [
    {
     "data": {
      "text/plain": [
       "(3842, 2)"
      ]
     },
     "execution_count": 182,
     "metadata": {},
     "output_type": "execute_result"
    }
   ],
   "source": [
    "y_test_softmax.shape"
   ]
  },
  {
   "cell_type": "code",
   "execution_count": 183,
   "metadata": {},
   "outputs": [
    {
     "name": "stdout",
     "output_type": "stream",
     "text": [
      "_________________________________________________________________\n",
      "Layer (type)                 Output Shape              Param #   \n",
      "=================================================================\n",
      "simple_rnn_186 (SimpleRNN)   (None, 32)                8352      \n",
      "_________________________________________________________________\n",
      "dense_343 (Dense)            (None, 2)                 66        \n",
      "_________________________________________________________________\n",
      "dense_344 (Dense)            (None, 2)                 6         \n",
      "=================================================================\n",
      "Total params: 8,424\n",
      "Trainable params: 8,424\n",
      "Non-trainable params: 0\n",
      "_________________________________________________________________\n",
      "None\n",
      "Train on 8962 samples, validate on 3842 samples\n",
      "Epoch 1/10\n",
      "8962/8962 [==============================] - 20s 2ms/step - loss: 0.5053 - acc: 0.7975 - val_loss: 0.4564 - val_acc: 0.8342\n",
      "Epoch 2/10\n",
      "8962/8962 [==============================] - 5s 556us/step - loss: 0.3989 - acc: 0.8654 - val_loss: 0.4087 - val_acc: 0.8503\n",
      "Epoch 3/10\n",
      "8962/8962 [==============================] - 5s 564us/step - loss: 0.3577 - acc: 0.8815 - val_loss: 0.3814 - val_acc: 0.8621\n",
      "Epoch 4/10\n",
      "8962/8962 [==============================] - 5s 558us/step - loss: 0.3303 - acc: 0.8908 - val_loss: 0.3788 - val_acc: 0.8571\n",
      "Epoch 5/10\n",
      "8962/8962 [==============================] - 5s 556us/step - loss: 0.3084 - acc: 0.8992 - val_loss: 0.3479 - val_acc: 0.8740\n",
      "Epoch 6/10\n",
      "8962/8962 [==============================] - 5s 557us/step - loss: 0.2920 - acc: 0.9047 - val_loss: 0.3380 - val_acc: 0.8756\n",
      "Epoch 7/10\n",
      "8962/8962 [==============================] - 5s 562us/step - loss: 0.2792 - acc: 0.9076 - val_loss: 0.3291 - val_acc: 0.8756\n",
      "Epoch 8/10\n",
      "8962/8962 [==============================] - 5s 557us/step - loss: 0.2677 - acc: 0.9114 - val_loss: 0.3205 - val_acc: 0.8795\n",
      "Epoch 9/10\n",
      "8962/8962 [==============================] - 5s 564us/step - loss: 0.2589 - acc: 0.9159 - val_loss: 0.3179 - val_acc: 0.8813\n",
      "Epoch 10/10\n",
      "8962/8962 [==============================] - 5s 560us/step - loss: 0.2515 - acc: 0.9165 - val_loss: 0.3122 - val_acc: 0.8800\n"
     ]
    },
    {
     "data": {
      "text/plain": [
       "<keras.callbacks.History at 0x1af6a23860>"
      ]
     },
     "execution_count": 183,
     "metadata": {},
     "output_type": "execute_result"
    }
   ],
   "source": [
    "# define a model with hyperparameters showing above\n",
    "model = Sequential()\n",
    "model.add(SimpleRNN(32, input_shape=(10, 228)))\n",
    "model.add(Dense(2, activation='relu', kernel_initializer='lecun_uniform'))\n",
    "model.add(Dense(2, activation='softmax', kernel_initializer='lecun_uniform'))\n",
    "model.compile(loss='binary_crossentropy', optimizer='Adagrad', metrics=['accuracy'])\n",
    "print(model.summary())\n",
    "model.fit(X_train, y_train_softmax, batch_size=20, epochs=10, validation_data=(X_test, y_test_softmax))"
   ]
  },
  {
   "cell_type": "markdown",
   "metadata": {},
   "source": [
    "We can see that the accuracy score the simpleRNN can reach was around 91.65% at the last epoch and we could get around 88% on our test set. We will repeat the previous process using the data without `ranking_points` as we did in traditional machine learning."
   ]
  },
  {
   "cell_type": "markdown",
   "metadata": {},
   "source": [
    "##### matches from 1991-2017, without `ranking_points` feature included."
   ]
  },
  {
   "cell_type": "code",
   "execution_count": 188,
   "metadata": {},
   "outputs": [
    {
     "data": {
      "text/plain": [
       "(5247, 1)"
      ]
     },
     "execution_count": 188,
     "metadata": {},
     "output_type": "execute_result"
    }
   ],
   "source": [
    "y_train_no_pts.shape"
   ]
  },
  {
   "cell_type": "code",
   "execution_count": 189,
   "metadata": {},
   "outputs": [],
   "source": [
    "# reshape y_train_no_pts to (n, 2)\n",
    "y_train_no_pts_oppo = np.where(y_train_no_pts == 1, 0, 1)\n",
    "y_train_no_pts_softmax = np.concatenate([y_train_no_pts, y_train_no_pts_oppo], axis=1)"
   ]
  },
  {
   "cell_type": "code",
   "execution_count": 190,
   "metadata": {},
   "outputs": [
    {
     "data": {
      "text/plain": [
       "(5247, 2)"
      ]
     },
     "execution_count": 190,
     "metadata": {},
     "output_type": "execute_result"
    }
   ],
   "source": [
    "y_train_no_pts_softmax.shape"
   ]
  },
  {
   "cell_type": "markdown",
   "metadata": {},
   "source": [
    "`batch_size` and `epochs`"
   ]
  },
  {
   "cell_type": "code",
   "execution_count": 193,
   "metadata": {},
   "outputs": [],
   "source": [
    "# define model function to feed in KerasClassifier\n",
    "def simpleRNN(n=222):\n",
    "    # create model\n",
    "    model = Sequential()\n",
    "    model.add(SimpleRNN(32, input_shape=(10, n)))\n",
    "    # add another dense layer\n",
    "    model.add(Dense(2, activation='relu'))\n",
    "    # add the final layer\n",
    "    model.add(Dense(2, activation='softmax'))\n",
    "    # compile model\n",
    "    model.compile(loss='binary_crossentropy', optimizer='adam', metrics=['accuracy'])\n",
    "    return model"
   ]
  },
  {
   "cell_type": "code",
   "execution_count": 194,
   "metadata": {},
   "outputs": [
    {
     "name": "stdout",
     "output_type": "stream",
     "text": [
      "Best accuracy score: 0.8803125598531962, best parameters: {'batch_size': 40, 'epochs': 10}\n"
     ]
    }
   ],
   "source": [
    "# use X_train and y_train loaded above\n",
    "np.random.seed(1009)\n",
    "batch_size = [10, 20, 40]\n",
    "epochs = [5, 10, 15]\n",
    "param_grid = dict(batch_size=batch_size, epochs=epochs)\n",
    "model = KerasClassifier(build_fn=simpleRNN, verbose=0)\n",
    "grid = GridSearchCV(estimator=model, param_grid=param_grid)\n",
    "grid_result = grid.fit(X_train_no_pts, y_train_no_pts_softmax)\n",
    "print(f'Best accuracy score: {grid.best_score_}, best parameters: {grid.best_params_}')"
   ]
  },
  {
   "cell_type": "markdown",
   "metadata": {},
   "source": [
    "Next we will tune `training optimization algorithm` by using batch_size = 40 and epochs = 10."
   ]
  },
  {
   "cell_type": "code",
   "execution_count": 195,
   "metadata": {},
   "outputs": [],
   "source": [
    "# define model function to feed in KerasClassifier\n",
    "def simpleRNN(n=222, optimizer='Adam'):\n",
    "    # create model\n",
    "    model = Sequential()\n",
    "    model.add(SimpleRNN(32, input_shape=(10, n)))\n",
    "    # add another dense layer\n",
    "    model.add(Dense(2, activation='relu'))\n",
    "    # add the final layer\n",
    "    model.add(Dense(2, activation='softmax'))\n",
    "    # compile model\n",
    "    model.compile(loss='binary_crossentropy', optimizer=optimizer, metrics=['accuracy'])\n",
    "    return model"
   ]
  },
  {
   "cell_type": "code",
   "execution_count": 197,
   "metadata": {},
   "outputs": [
    {
     "name": "stdout",
     "output_type": "stream",
     "text": [
      "Best accuracy score: 0.8871736219435027, best parameters: {'optimizer': 'Adadelta'}\n"
     ]
    }
   ],
   "source": [
    "np.random.seed(1009)\n",
    "optimizer = ['SGD', 'RMSprop', 'Adagrad', 'Adadelta', 'Adam', 'Adamax', 'Nadam']\n",
    "param_grid = dict(optimizer=optimizer)\n",
    "model = KerasClassifier(build_fn=simpleRNN, batch_size=40, epochs=10, verbose=0)\n",
    "grid = GridSearchCV(estimator=model, param_grid=param_grid)\n",
    "grid_result = grid.fit(X_train_no_pts, y_train_no_pts_softmax)\n",
    "print(f'Best accuracy score: {grid.best_score_}, best parameters: {grid.best_params_}')"
   ]
  },
  {
   "cell_type": "markdown",
   "metadata": {},
   "source": [
    "Next we will tune `init_mode` by fixing batch_size = 40, epochs = 10 and optimizer = 'Adadelta'"
   ]
  },
  {
   "cell_type": "code",
   "execution_count": 198,
   "metadata": {},
   "outputs": [],
   "source": [
    "def simpleRNN(n=222, init_mode='uniform'):\n",
    "    # create model\n",
    "    model = Sequential()\n",
    "    model.add(SimpleRNN(32, input_shape=(10, n)))\n",
    "    # add another dense layer\n",
    "    model.add(Dense(2, activation='relu', kernel_initializer=init_mode))\n",
    "    # add the final layer\n",
    "    model.add(Dense(2, activation='softmax', kernel_initializer=init_mode))\n",
    "    # compile model\n",
    "    model.compile(loss='binary_crossentropy', optimizer='Adadelta', metrics=['accuracy'])\n",
    "    return model"
   ]
  },
  {
   "cell_type": "code",
   "execution_count": 200,
   "metadata": {},
   "outputs": [
    {
     "name": "stdout",
     "output_type": "stream",
     "text": [
      "Best accuracy score: 0.8936535152158488, best parameters: {'init_mode': 'uniform'}\n"
     ]
    }
   ],
   "source": [
    "np.random.seed(1009)\n",
    "init_mode = ['uniform', 'lecun_uniform', 'normal', 'zero', 'glorot_normal', 'glorot_uniform', 'he_normal', \n",
    "             'he_uniform']\n",
    "param_grid = dict(init_mode=init_mode)\n",
    "model = KerasClassifier(build_fn=simpleRNN, batch_size=40, epochs=10, verbose=0)\n",
    "grid = GridSearchCV(estimator=model, param_grid=param_grid)\n",
    "grid_result = grid.fit(X_train_no_pts, y_train_no_pts_softmax)\n",
    "print(f'Best accuracy score: {grid.best_score_}, best parameters: {grid.best_params_}')"
   ]
  },
  {
   "cell_type": "markdown",
   "metadata": {},
   "source": [
    "And then the number of `neurons` by fixing batch_size = 40, epochs = 10, optimizer = 'Adadelta' and kernel_initializer = 'uniform'"
   ]
  },
  {
   "cell_type": "code",
   "execution_count": 201,
   "metadata": {},
   "outputs": [],
   "source": [
    "def simpleRNN(n=222, neurons=2):\n",
    "    # create model\n",
    "    model = Sequential()\n",
    "    model.add(SimpleRNN(32, input_shape=(10, n)))\n",
    "    # add another dense layer\n",
    "    model.add(Dense(neurons, activation='relu', kernel_initializer='uniform'))\n",
    "    # add the final layer\n",
    "    model.add(Dense(2, activation='softmax', kernel_initializer='uniform'))\n",
    "    # compile model\n",
    "    model.compile(loss='binary_crossentropy', optimizer='Adadelta', metrics=['accuracy'])\n",
    "    return model"
   ]
  },
  {
   "cell_type": "code",
   "execution_count": 203,
   "metadata": {},
   "outputs": [
    {
     "name": "stdout",
     "output_type": "stream",
     "text": [
      "Best accuracy score: 0.8949876125140124, best parameters: {'neurons': 4}\n"
     ]
    }
   ],
   "source": [
    "np.random.seed(1009)\n",
    "neurons = [1, 2, 4, 8, 16, 32, 64]\n",
    "param_grid = dict(neurons=neurons)\n",
    "model = KerasClassifier(build_fn=simpleRNN, batch_size=40, epochs=10, verbose=0)\n",
    "grid = GridSearchCV(estimator=model, param_grid=param_grid)\n",
    "grid_result = grid.fit(X_train_no_pts, y_train_no_pts_softmax)\n",
    "print(f'Best accuracy score: {grid.best_score_}, best parameters: {grid.best_params_}')"
   ]
  },
  {
   "cell_type": "markdown",
   "metadata": {},
   "source": [
    "We can see that the score was stuck around 88% to 89%, which is slightly higher than previously, when we tune the hyperparameters step by step it only improved little by little everytime. We will use those to see how it works on the test set. The following are the hyperparameters we chose:\n",
    "1. `batch_size`: 40\n",
    "2. `epochs`: 10\n",
    "3. `optimizer`: 'Adadelta'\n",
    "4. `kernel_initializer`: 'uniform'\n",
    "5. `neurons`: 4"
   ]
  },
  {
   "cell_type": "code",
   "execution_count": 206,
   "metadata": {},
   "outputs": [],
   "source": [
    "# reshape y_test to (n, 2)\n",
    "y_test_no_pts_oppo = np.where(y_test_no_pts == 1, 0, 1)\n",
    "y_test_no_pts_softmax = np.concatenate([y_test_no_pts, y_test_no_pts_oppo], axis=1)"
   ]
  },
  {
   "cell_type": "code",
   "execution_count": 207,
   "metadata": {},
   "outputs": [
    {
     "data": {
      "text/plain": [
       "(2250, 2)"
      ]
     },
     "execution_count": 207,
     "metadata": {},
     "output_type": "execute_result"
    }
   ],
   "source": [
    "y_test_no_pts_softmax.shape"
   ]
  },
  {
   "cell_type": "code",
   "execution_count": 210,
   "metadata": {},
   "outputs": [
    {
     "name": "stdout",
     "output_type": "stream",
     "text": [
      "_________________________________________________________________\n",
      "Layer (type)                 Output Shape              Param #   \n",
      "=================================================================\n",
      "simple_rnn_316 (SimpleRNN)   (None, 32)                8160      \n",
      "_________________________________________________________________\n",
      "dense_604 (Dense)            (None, 4)                 132       \n",
      "_________________________________________________________________\n",
      "dense_605 (Dense)            (None, 2)                 10        \n",
      "=================================================================\n",
      "Total params: 8,302\n",
      "Trainable params: 8,302\n",
      "Non-trainable params: 0\n",
      "_________________________________________________________________\n",
      "None\n",
      "Train on 5247 samples, validate on 2250 samples\n",
      "Epoch 1/10\n",
      "5247/5247 [==============================] - 30s 6ms/step - loss: 0.6648 - acc: 0.5834 - val_loss: 0.5473 - val_acc: 0.7276\n",
      "Epoch 2/10\n",
      "5247/5247 [==============================] - 2s 473us/step - loss: 0.3452 - acc: 0.8544 - val_loss: 0.3273 - val_acc: 0.8600\n",
      "Epoch 3/10\n",
      "5247/5247 [==============================] - 2s 476us/step - loss: 0.2655 - acc: 0.8885 - val_loss: 0.3261 - val_acc: 0.8680\n",
      "Epoch 4/10\n",
      "5247/5247 [==============================] - 3s 482us/step - loss: 0.2245 - acc: 0.9133 - val_loss: 0.2845 - val_acc: 0.8867\n",
      "Epoch 5/10\n",
      "5247/5247 [==============================] - 3s 488us/step - loss: 0.2003 - acc: 0.9224 - val_loss: 0.3203 - val_acc: 0.8658\n",
      "Epoch 6/10\n",
      "5247/5247 [==============================] - 3s 484us/step - loss: 0.1784 - acc: 0.9350 - val_loss: 0.2865 - val_acc: 0.8876\n",
      "Epoch 7/10\n",
      "5247/5247 [==============================] - 2s 473us/step - loss: 0.1648 - acc: 0.9405 - val_loss: 0.2866 - val_acc: 0.8871\n",
      "Epoch 8/10\n",
      "5247/5247 [==============================] - 3s 483us/step - loss: 0.1543 - acc: 0.9455 - val_loss: 0.3013 - val_acc: 0.8858\n",
      "Epoch 9/10\n",
      "5247/5247 [==============================] - 3s 481us/step - loss: 0.1424 - acc: 0.9514 - val_loss: 0.3078 - val_acc: 0.8836\n",
      "Epoch 10/10\n",
      "5247/5247 [==============================] - 3s 479us/step - loss: 0.1308 - acc: 0.9537 - val_loss: 0.3221 - val_acc: 0.8818\n"
     ]
    },
    {
     "data": {
      "text/plain": [
       "<keras.callbacks.History at 0x1b00d43e80>"
      ]
     },
     "execution_count": 210,
     "metadata": {},
     "output_type": "execute_result"
    }
   ],
   "source": [
    "# define a model with hyperparameters showing above\n",
    "model = Sequential()\n",
    "model.add(SimpleRNN(32, input_shape=(10, 222)))\n",
    "model.add(Dense(4, activation='relu', kernel_initializer='uniform'))\n",
    "model.add(Dense(2, activation='softmax', kernel_initializer='uniform'))\n",
    "model.compile(loss='binary_crossentropy', optimizer='Adadelta', metrics=['accuracy'])\n",
    "print(model.summary())\n",
    "model.fit(X_train_no_pts, y_train_no_pts_softmax, batch_size=40, epochs=10, \n",
    "          validation_data=(X_test_no_pts, y_test_no_pts_softmax))"
   ]
  },
  {
   "cell_type": "markdown",
   "metadata": {},
   "source": [
    "We can see that for each epoch, the training set accuracy got better and better, more than 95% after 10 epochs, however, the testing set accuracy was wandering around 88%, reached the highest 88.76% after 6 epochs. This indicated that we had some overfitting issue and it was more severe than the previous dataset with `ranking_points`, the solution to it is to gather more training examples."
   ]
  },
  {
   "cell_type": "markdown",
   "metadata": {},
   "source": [
    "Our next step is to repeat the process above but using the LSTM model instead of simpleRNN."
   ]
  },
  {
   "cell_type": "markdown",
   "metadata": {},
   "source": [
    "##### LSTM"
   ]
  },
  {
   "cell_type": "markdown",
   "metadata": {},
   "source": [
    "##### matches from 2009-2017, with `ranking_points` feature included.\n",
    "We will again start with tuning the hyperparameters and find the best combination."
   ]
  },
  {
   "cell_type": "markdown",
   "metadata": {},
   "source": [
    "Tune `batch_size` and `epochs`"
   ]
  },
  {
   "cell_type": "code",
   "execution_count": 217,
   "metadata": {},
   "outputs": [],
   "source": [
    "# define model function to feed in KerasClassifier\n",
    "def LSTM_RNN(n=228):\n",
    "    # create model\n",
    "    model = Sequential()\n",
    "    model.add(LSTM(32, input_shape=(10, n), return_sequences=False))\n",
    "    # add another dense layer\n",
    "    model.add(Dense(2, activation='relu'))\n",
    "    # add the final layer\n",
    "    model.add(Dense(2, activation='softmax'))\n",
    "    # compile model\n",
    "    model.compile(loss='binary_crossentropy', optimizer='adam', metrics=['accuracy'])\n",
    "    return model"
   ]
  },
  {
   "cell_type": "code",
   "execution_count": 218,
   "metadata": {},
   "outputs": [
    {
     "name": "stdout",
     "output_type": "stream",
     "text": [
      "Best accuracy score: 0.8674403046941789, best parameters: {'batch_size': 40, 'epochs': 5}\n"
     ]
    }
   ],
   "source": [
    "# use X_train and y_train loaded above\n",
    "np.random.seed(1009)\n",
    "batch_size = [10, 20, 40]\n",
    "epochs = [5, 10, 15]\n",
    "param_grid = dict(batch_size=batch_size, epochs=epochs)\n",
    "model = KerasClassifier(build_fn=LSTM_RNN, verbose=0)\n",
    "grid = GridSearchCV(estimator=model, param_grid=param_grid)\n",
    "grid_result = grid.fit(X_train, y_train_softmax)\n",
    "print(f'Best accuracy score: {grid.best_score_}, best parameters: {grid.best_params_}')"
   ]
  },
  {
   "cell_type": "markdown",
   "metadata": {},
   "source": [
    "Tune `optimizer` by fixing batch_size = 40 and epochs = 5"
   ]
  },
  {
   "cell_type": "code",
   "execution_count": 221,
   "metadata": {},
   "outputs": [],
   "source": [
    "# define model function to feed in KerasClassifier\n",
    "def LSTM_RNN(n=228, optimizer='Adam'):\n",
    "    # create model\n",
    "    model = Sequential()\n",
    "    model.add(LSTM(32, input_shape=(10, n), return_sequences=False))\n",
    "    # add another dense layer\n",
    "    model.add(Dense(2, activation='relu'))\n",
    "    # add the final layer\n",
    "    model.add(Dense(2, activation='softmax'))\n",
    "    # compile model\n",
    "    model.compile(loss='binary_crossentropy', optimizer=optimizer, metrics=['accuracy'])\n",
    "    return model"
   ]
  },
  {
   "cell_type": "code",
   "execution_count": 222,
   "metadata": {},
   "outputs": [
    {
     "name": "stdout",
     "output_type": "stream",
     "text": [
      "Best accuracy score: 0.8700066938168288, best parameters: {'optimizer': 'Adadelta'}\n"
     ]
    }
   ],
   "source": [
    "np.random.seed(1009)\n",
    "optimizer = ['SGD', 'RMSprop', 'Adagrad', 'Adadelta', 'Adam', 'Adamax', 'Nadam']\n",
    "param_grid = dict(optimizer=optimizer)\n",
    "model = KerasClassifier(build_fn=LSTM_RNN, batch_size=40, epochs=5, verbose=0)\n",
    "grid = GridSearchCV(estimator=model, param_grid=param_grid)\n",
    "grid_result = grid.fit(X_train, y_train_softmax)\n",
    "print(f'Best accuracy score: {grid.best_score_}, best parameters: {grid.best_params_}')"
   ]
  },
  {
   "cell_type": "markdown",
   "metadata": {},
   "source": [
    "Tune `kernel_initializer` by fixing batch_size = 40, epochs = 5 and optimizer = 'Adadelta'"
   ]
  },
  {
   "cell_type": "code",
   "execution_count": 223,
   "metadata": {},
   "outputs": [],
   "source": [
    "def LSTM_RNN(n=228, init_mode='uniform'):\n",
    "    # create model\n",
    "    model = Sequential()\n",
    "    model.add(LSTM(32, input_shape=(10, n), return_sequences=False))\n",
    "    # add another dense layer\n",
    "    model.add(Dense(2, activation='relu', kernel_initializer=init_mode))\n",
    "    # add the final layer\n",
    "    model.add(Dense(2, activation='softmax', kernel_initializer=init_mode))\n",
    "    # compile model\n",
    "    model.compile(loss='binary_crossentropy', optimizer='Adadelta', metrics=['accuracy'])\n",
    "    return model"
   ]
  },
  {
   "cell_type": "code",
   "execution_count": 224,
   "metadata": {},
   "outputs": [
    {
     "name": "stdout",
     "output_type": "stream",
     "text": [
      "Best accuracy score: 0.8724615046606083, best parameters: {'init_mode': 'normal'}\n"
     ]
    }
   ],
   "source": [
    "np.random.seed(1009)\n",
    "init_mode = ['uniform', 'lecun_uniform', 'normal', 'zero', 'glorot_normal', 'glorot_uniform', 'he_normal', \n",
    "             'he_uniform']\n",
    "param_grid = dict(init_mode=init_mode)\n",
    "model = KerasClassifier(build_fn=LSTM_RNN, batch_size=40, epochs=5, verbose=0)\n",
    "grid = GridSearchCV(estimator=model, param_grid=param_grid)\n",
    "grid_result = grid.fit(X_train, y_train_softmax)\n",
    "print(f'Best accuracy score: {grid.best_score_}, best parameters: {grid.best_params_}')"
   ]
  },
  {
   "cell_type": "markdown",
   "metadata": {},
   "source": [
    "Tune number of `neurons` by fixing batch_size = 40, epochs = 5, optimizer = 'Adadelta' and kernel_initializer = 'normal'"
   ]
  },
  {
   "cell_type": "code",
   "execution_count": 226,
   "metadata": {},
   "outputs": [],
   "source": [
    "def LSTM_RNN(n=228, neurons=2):\n",
    "    # create model\n",
    "    model = Sequential()\n",
    "    model.add(SimpleRNN(32, input_shape=(10, n), return_sequences=False))\n",
    "    # add another dense layer\n",
    "    model.add(Dense(neurons, activation='relu', kernel_initializer='normal'))\n",
    "    # add the final layer\n",
    "    model.add(Dense(2, activation='softmax', kernel_initializer='normal'))\n",
    "    # compile model\n",
    "    model.compile(loss='binary_crossentropy', optimizer='Adadelta', metrics=['accuracy'])\n",
    "    return model"
   ]
  },
  {
   "cell_type": "code",
   "execution_count": 227,
   "metadata": {},
   "outputs": [
    {
     "name": "stdout",
     "output_type": "stream",
     "text": [
      "Best accuracy score: 0.8826154858519046, best parameters: {'neurons': 32}\n"
     ]
    }
   ],
   "source": [
    "np.random.seed(1009)\n",
    "neurons = [1, 2, 4, 8, 16, 32, 64]\n",
    "param_grid = dict(neurons=neurons)\n",
    "model = KerasClassifier(build_fn=LSTM_RNN, batch_size=40, epochs=5, verbose=0)\n",
    "grid = GridSearchCV(estimator=model, param_grid=param_grid)\n",
    "grid_result = grid.fit(X_train, y_train_softmax)\n",
    "print(f'Best accuracy score: {grid.best_score_}, best parameters: {grid.best_params_}')"
   ]
  },
  {
   "cell_type": "markdown",
   "metadata": {},
   "source": [
    "The score of LSTM model did not show any clear advantage over simpleRNN. We can see that the score was stuck around 87% to 88%, when we tune the hyperparameters step by step it only improved little by little everytime. We will use those to see how it works on the test set. The following are the hyperparameters we chose:\n",
    "1. `batch_size`: 40\n",
    "2. `epochs`: 5\n",
    "3. `optimizer`: 'Adadelta'\n",
    "4. `kernel_initializer`: 'normal'\n",
    "5. `neurons`: 32"
   ]
  },
  {
   "cell_type": "code",
   "execution_count": 228,
   "metadata": {},
   "outputs": [
    {
     "name": "stdout",
     "output_type": "stream",
     "text": [
      "_________________________________________________________________\n",
      "Layer (type)                 Output Shape              Param #   \n",
      "=================================================================\n",
      "lstm_76 (LSTM)               (None, 32)                33408     \n",
      "_________________________________________________________________\n",
      "dense_800 (Dense)            (None, 32)                1056      \n",
      "_________________________________________________________________\n",
      "dense_801 (Dense)            (None, 2)                 66        \n",
      "=================================================================\n",
      "Total params: 34,530\n",
      "Trainable params: 34,530\n",
      "Non-trainable params: 0\n",
      "_________________________________________________________________\n",
      "None\n",
      "Train on 8962 samples, validate on 3842 samples\n",
      "Epoch 1/5\n",
      "8962/8962 [==============================] - 59s 7ms/step - loss: 0.4821 - acc: 0.7582 - val_loss: 0.4543 - val_acc: 0.7975\n",
      "Epoch 2/5\n",
      "8962/8962 [==============================] - 8s 880us/step - loss: 0.3008 - acc: 0.8726 - val_loss: 0.3136 - val_acc: 0.8641\n",
      "Epoch 3/5\n",
      "8962/8962 [==============================] - 8s 890us/step - loss: 0.2465 - acc: 0.8969 - val_loss: 0.2933 - val_acc: 0.8753\n",
      "Epoch 4/5\n",
      "8962/8962 [==============================] - 8s 875us/step - loss: 0.2107 - acc: 0.9143 - val_loss: 0.2874 - val_acc: 0.8782\n",
      "Epoch 5/5\n",
      "8962/8962 [==============================] - 8s 860us/step - loss: 0.1805 - acc: 0.9301 - val_loss: 0.3056 - val_acc: 0.8756\n"
     ]
    },
    {
     "data": {
      "text/plain": [
       "<keras.callbacks.History at 0x1b75e6bcf8>"
      ]
     },
     "execution_count": 228,
     "metadata": {},
     "output_type": "execute_result"
    }
   ],
   "source": [
    "# define a model with hyperparameters showing above\n",
    "model = Sequential()\n",
    "model.add(LSTM(32, input_shape=(10, 228), return_sequences=False))\n",
    "model.add(Dense(32, activation='relu', kernel_initializer='normal'))\n",
    "model.add(Dense(2, activation='softmax', kernel_initializer='normal'))\n",
    "model.compile(loss='binary_crossentropy', optimizer='Adadelta', metrics=['accuracy'])\n",
    "print(model.summary())\n",
    "model.fit(X_train, y_train_softmax, batch_size=40, epochs=5, validation_data=(X_test, y_test_softmax))"
   ]
  },
  {
   "cell_type": "markdown",
   "metadata": {},
   "source": [
    "The overall performance did not show any advantage of LSTM model, it seemed to suffer more overfitting issue since the score of training set was 93.01% but on test set was only 87.56%. Next we will repeat the process on dataset with matches range from 1991-2017 and without `ranking_points` feature included."
   ]
  },
  {
   "cell_type": "markdown",
   "metadata": {},
   "source": [
    "##### matches from 1991-2017, without `ranking_points` feature included."
   ]
  },
  {
   "cell_type": "markdown",
   "metadata": {},
   "source": [
    "Tune `batch_size` and `epochs`"
   ]
  },
  {
   "cell_type": "code",
   "execution_count": 229,
   "metadata": {},
   "outputs": [],
   "source": [
    "# define model function to feed in KerasClassifier\n",
    "def LSTM_RNN(n=222):\n",
    "    # create model\n",
    "    model = Sequential()\n",
    "    model.add(LSTM(32, input_shape=(10, n), return_sequences=False))\n",
    "    # add another dense layer\n",
    "    model.add(Dense(2, activation='relu'))\n",
    "    # add the final layer\n",
    "    model.add(Dense(2, activation='softmax'))\n",
    "    # compile model\n",
    "    model.compile(loss='binary_crossentropy', optimizer='adam', metrics=['accuracy'])\n",
    "    return model"
   ]
  },
  {
   "cell_type": "code",
   "execution_count": 230,
   "metadata": {},
   "outputs": [
    {
     "name": "stdout",
     "output_type": "stream",
     "text": [
      "Best accuracy score: 0.8726891488694499, best parameters: {'batch_size': 10, 'epochs': 5}\n"
     ]
    }
   ],
   "source": [
    "# use X_train and y_train loaded above\n",
    "np.random.seed(1009)\n",
    "batch_size = [10, 20, 40]\n",
    "epochs = [5, 10, 15]\n",
    "param_grid = dict(batch_size=batch_size, epochs=epochs)\n",
    "model = KerasClassifier(build_fn=LSTM_RNN, verbose=0)\n",
    "grid = GridSearchCV(estimator=model, param_grid=param_grid)\n",
    "grid_result = grid.fit(X_train_no_pts, y_train_no_pts_softmax)\n",
    "print(f'Best accuracy score: {grid.best_score_}, best parameters: {grid.best_params_}')"
   ]
  },
  {
   "cell_type": "markdown",
   "metadata": {},
   "source": [
    "Tune `optimizer` by fixing batch_size = 10 and epochs = 5"
   ]
  },
  {
   "cell_type": "code",
   "execution_count": 231,
   "metadata": {},
   "outputs": [],
   "source": [
    "# define model function to feed in KerasClassifier\n",
    "def LSTM_RNN(n=222, optimizer='Adam'):\n",
    "    # create model\n",
    "    model = Sequential()\n",
    "    model.add(LSTM(32, input_shape=(10, n), return_sequences=False))\n",
    "    # add another dense layer\n",
    "    model.add(Dense(2, activation='relu'))\n",
    "    # add the final layer\n",
    "    model.add(Dense(2, activation='softmax'))\n",
    "    # compile model\n",
    "    model.compile(loss='binary_crossentropy', optimizer=optimizer, metrics=['accuracy'])\n",
    "    return model"
   ]
  },
  {
   "cell_type": "code",
   "execution_count": 232,
   "metadata": {},
   "outputs": [
    {
     "name": "stdout",
     "output_type": "stream",
     "text": [
      "Best accuracy score: 0.8711644676223763, best parameters: {'optimizer': 'Adadelta'}\n"
     ]
    }
   ],
   "source": [
    "np.random.seed(1009)\n",
    "optimizer = ['SGD', 'RMSprop', 'Adagrad', 'Adadelta', 'Adam', 'Adamax', 'Nadam']\n",
    "param_grid = dict(optimizer=optimizer)\n",
    "model = KerasClassifier(build_fn=LSTM_RNN, batch_size=10, epochs=5, verbose=0)\n",
    "grid = GridSearchCV(estimator=model, param_grid=param_grid)\n",
    "grid_result = grid.fit(X_train_no_pts, y_train_no_pts_softmax)\n",
    "print(f'Best accuracy score: {grid.best_score_}, best parameters: {grid.best_params_}')"
   ]
  },
  {
   "cell_type": "markdown",
   "metadata": {},
   "source": [
    "Tune `kernel_initializer` by fixing batch_size = 10, epochs = 5 and optimier = 'Adadelta'"
   ]
  },
  {
   "cell_type": "code",
   "execution_count": 233,
   "metadata": {},
   "outputs": [],
   "source": [
    "def LSTM_RNN(n=222, init_mode='uniform'):\n",
    "    # create model\n",
    "    model = Sequential()\n",
    "    model.add(LSTM(32, input_shape=(10, n), return_sequences=False))\n",
    "    # add another dense layer\n",
    "    model.add(Dense(2, activation='relu', kernel_initializer=init_mode))\n",
    "    # add the final layer\n",
    "    model.add(Dense(2, activation='softmax', kernel_initializer=init_mode))\n",
    "    # compile model\n",
    "    model.compile(loss='binary_crossentropy', optimizer='Adadelta', metrics=['accuracy'])\n",
    "    return model"
   ]
  },
  {
   "cell_type": "code",
   "execution_count": 235,
   "metadata": {},
   "outputs": [
    {
     "name": "stdout",
     "output_type": "stream",
     "text": [
      "Best accuracy score: 0.8782161172967151, best parameters: {'init_mode': 'glorot_uniform'}\n"
     ]
    }
   ],
   "source": [
    "np.random.seed(1009)\n",
    "init_mode = ['uniform', 'lecun_uniform', 'normal', 'zero', 'glorot_normal', 'glorot_uniform', 'he_normal', \n",
    "             'he_uniform']\n",
    "param_grid = dict(init_mode=init_mode)\n",
    "model = KerasClassifier(build_fn=LSTM_RNN, batch_size=10, epochs=5, verbose=0)\n",
    "grid = GridSearchCV(estimator=model, param_grid=param_grid)\n",
    "grid_result = grid.fit(X_train_no_pts, y_train_no_pts_softmax)\n",
    "print(f'Best accuracy score: {grid.best_score_}, best parameters: {grid.best_params_}')"
   ]
  },
  {
   "cell_type": "markdown",
   "metadata": {},
   "source": [
    "Tune number of `neurons` by fixing batch_size = 10, epochs = 5, optimier = 'Adadelta' and kernel_initializer = 'glorot_uniform'"
   ]
  },
  {
   "cell_type": "code",
   "execution_count": 236,
   "metadata": {},
   "outputs": [],
   "source": [
    "def LSTM_RNN(n=228, neurons=2):\n",
    "    # create model\n",
    "    model = Sequential()\n",
    "    model.add(SimpleRNN(32, input_shape=(10, n), return_sequences=False))\n",
    "    # add another dense layer\n",
    "    model.add(Dense(neurons, activation='relu', kernel_initializer='glorot_uniform'))\n",
    "    # add the final layer\n",
    "    model.add(Dense(2, activation='softmax', kernel_initializer='glorot_uniform'))\n",
    "    # compile model\n",
    "    model.compile(loss='binary_crossentropy', optimizer='Adadelta', metrics=['accuracy'])\n",
    "    return model"
   ]
  },
  {
   "cell_type": "code",
   "execution_count": 237,
   "metadata": {},
   "outputs": [
    {
     "name": "stdout",
     "output_type": "stream",
     "text": [
      "Best accuracy score: 0.8800490890342565, best parameters: {'neurons': 8}\n"
     ]
    }
   ],
   "source": [
    "np.random.seed(1009)\n",
    "neurons = [1, 2, 4, 8, 16, 32, 64]\n",
    "param_grid = dict(neurons=neurons)\n",
    "model = KerasClassifier(build_fn=LSTM_RNN, batch_size=10, epochs=5, verbose=0)\n",
    "grid = GridSearchCV(estimator=model, param_grid=param_grid)\n",
    "grid_result = grid.fit(X_train, y_train_softmax)\n",
    "print(f'Best accuracy score: {grid.best_score_}, best parameters: {grid.best_params_}')"
   ]
  },
  {
   "cell_type": "markdown",
   "metadata": {},
   "source": [
    "Again, the score of LSTM model did not show any clear advantage over simpleRNN and in fact it was slightly worse. We can see that the score was stuck around 87% to 88%, when we tune the hyperparameters step by step it only improved little by little everytime. We will use those to see how it works on the test set. The following are the hyperparameters we chose:\n",
    "1. `batch_size`: 10\n",
    "2. `epochs`: 5\n",
    "3. `optimizer`: 'Adadelta'\n",
    "4. `kernel_initializer`: 'glorot_uniform'\n",
    "5. `neurons`: 8"
   ]
  },
  {
   "cell_type": "code",
   "execution_count": 238,
   "metadata": {},
   "outputs": [
    {
     "name": "stdout",
     "output_type": "stream",
     "text": [
      "_________________________________________________________________\n",
      "Layer (type)                 Output Shape              Param #   \n",
      "=================================================================\n",
      "lstm_177 (LSTM)              (None, 32)                32640     \n",
      "_________________________________________________________________\n",
      "dense_1046 (Dense)           (None, 8)                 264       \n",
      "_________________________________________________________________\n",
      "dense_1047 (Dense)           (None, 2)                 18        \n",
      "=================================================================\n",
      "Total params: 32,922\n",
      "Trainable params: 32,922\n",
      "Non-trainable params: 0\n",
      "_________________________________________________________________\n",
      "None\n",
      "Train on 5247 samples, validate on 2250 samples\n",
      "Epoch 1/5\n",
      "5247/5247 [==============================] - 212s 40ms/step - loss: 0.5001 - acc: 0.7469 - val_loss: 0.3696 - val_acc: 0.8382\n",
      "Epoch 2/5\n",
      "5247/5247 [==============================] - 20s 4ms/step - loss: 0.2765 - acc: 0.8847 - val_loss: 0.2995 - val_acc: 0.8649\n",
      "Epoch 3/5\n",
      "5247/5247 [==============================] - 20s 4ms/step - loss: 0.2185 - acc: 0.9119 - val_loss: 0.2944 - val_acc: 0.8778\n",
      "Epoch 4/5\n",
      "5247/5247 [==============================] - 21s 4ms/step - loss: 0.1790 - acc: 0.9337 - val_loss: 0.3060 - val_acc: 0.8791\n",
      "Epoch 5/5\n",
      "5247/5247 [==============================] - 20s 4ms/step - loss: 0.1469 - acc: 0.9470 - val_loss: 0.3370 - val_acc: 0.8716\n"
     ]
    },
    {
     "data": {
      "text/plain": [
       "<keras.callbacks.History at 0x1c0a452dd8>"
      ]
     },
     "execution_count": 238,
     "metadata": {},
     "output_type": "execute_result"
    }
   ],
   "source": [
    "# define a model with hyperparameters showing above\n",
    "model = Sequential()\n",
    "model.add(LSTM(32, input_shape=(10, 222)))\n",
    "model.add(Dense(8, activation='relu', kernel_initializer='glorot_uniform'))\n",
    "model.add(Dense(2, activation='softmax', kernel_initializer='glorot_uniform'))\n",
    "model.compile(loss='binary_crossentropy', optimizer='Adadelta', metrics=['accuracy'])\n",
    "print(model.summary())\n",
    "model.fit(X_train_no_pts, y_train_no_pts_softmax, batch_size=10, epochs=5, \n",
    "          validation_data=(X_test_no_pts, y_test_no_pts_softmax))"
   ]
  },
  {
   "cell_type": "markdown",
   "metadata": {},
   "source": [
    "Same as using simpleRNN, LSTM has overfitting problem as well, the accuracy of training set reached to 94.7% whereas testing set accuracy was only 87.16%, the problem seemed to be more severe using matches data from 1991-2017, this was mentioned before that the variance between each example could be larger in a wider range of years."
   ]
  },
  {
   "cell_type": "markdown",
   "metadata": {},
   "source": [
    "### Predicting winning percentage\n",
    "In the last part, we will use both traditional model and RNN to predict the winning percentage of a certain player in a certain match, we will pick `Gradient_boosting_all_feature_drop_oppo_tree` from the traditional model and `simpleRNN` to compare the difference of the prediction."
   ]
  },
  {
   "cell_type": "code",
   "execution_count": 252,
   "metadata": {},
   "outputs": [
    {
     "data": {
      "text/plain": [
       "GradientBoostingClassifier(criterion='friedman_mse', init=None,\n",
       "              learning_rate=0.1, loss='deviance', max_depth=3,\n",
       "              max_features=None, max_leaf_nodes=None,\n",
       "              min_impurity_decrease=0.0, min_impurity_split=None,\n",
       "              min_samples_leaf=1, min_samples_split=2,\n",
       "              min_weight_fraction_leaf=0.0, n_estimators=100,\n",
       "              n_iter_no_change=None, presort='auto', random_state=None,\n",
       "              subsample=1.0, tol=0.0001, validation_fraction=0.1,\n",
       "              verbose=0, warm_start=False)"
      ]
     },
     "execution_count": 252,
     "metadata": {},
     "output_type": "execute_result"
    }
   ],
   "source": [
    "# instantiate gradient boosting, using the best hyperparameter tuned before\n",
    "gb = GradientBoostingClassifier(learning_rate=0.1)\n",
    "gb.fit(tennis_all_feature_clean_drop_oppo_X_train_tree, tennis_all_feature_clean_drop_oppo_y_train)"
   ]
  },
  {
   "cell_type": "markdown",
   "metadata": {},
   "source": [
    "We will use `predict_proba` methods from the gradient boosting on our test set"
   ]
  },
  {
   "cell_type": "code",
   "execution_count": 253,
   "metadata": {},
   "outputs": [],
   "source": [
    "gb_percentage = gb.predict_proba(tennis_all_feature_clean_drop_oppo_X_test_tree)"
   ]
  },
  {
   "cell_type": "code",
   "execution_count": 256,
   "metadata": {},
   "outputs": [],
   "source": [
    "player_2_per = gb_percentage[:,0].reshape(gb_percentage.shape[0], 1)\n",
    "player_1_per = gb_percentage[:,1].reshape(gb_percentage.shape[0], 1)"
   ]
  },
  {
   "cell_type": "code",
   "execution_count": 260,
   "metadata": {},
   "outputs": [],
   "source": [
    "gb_predict_df = pd.DataFrame(np.concatenate([player_1_per*100, player_2_per*100], 1), \n",
    "                columns=['Player_1_winning_%', 'Player_2_winning_%'])"
   ]
  },
  {
   "cell_type": "code",
   "execution_count": 261,
   "metadata": {},
   "outputs": [
    {
     "data": {
      "text/html": [
       "<div>\n",
       "<style scoped>\n",
       "    .dataframe tbody tr th:only-of-type {\n",
       "        vertical-align: middle;\n",
       "    }\n",
       "\n",
       "    .dataframe tbody tr th {\n",
       "        vertical-align: top;\n",
       "    }\n",
       "\n",
       "    .dataframe thead th {\n",
       "        text-align: right;\n",
       "    }\n",
       "</style>\n",
       "<table border=\"1\" class=\"dataframe\">\n",
       "  <thead>\n",
       "    <tr style=\"text-align: right;\">\n",
       "      <th></th>\n",
       "      <th>Player_1_winning_%</th>\n",
       "      <th>Player_2_winning_%</th>\n",
       "    </tr>\n",
       "  </thead>\n",
       "  <tbody>\n",
       "    <tr>\n",
       "      <th>0</th>\n",
       "      <td>8.599934</td>\n",
       "      <td>91.400066</td>\n",
       "    </tr>\n",
       "    <tr>\n",
       "      <th>1</th>\n",
       "      <td>9.654030</td>\n",
       "      <td>90.345970</td>\n",
       "    </tr>\n",
       "    <tr>\n",
       "      <th>2</th>\n",
       "      <td>1.893367</td>\n",
       "      <td>98.106633</td>\n",
       "    </tr>\n",
       "    <tr>\n",
       "      <th>3</th>\n",
       "      <td>1.083891</td>\n",
       "      <td>98.916109</td>\n",
       "    </tr>\n",
       "    <tr>\n",
       "      <th>4</th>\n",
       "      <td>39.516693</td>\n",
       "      <td>60.483307</td>\n",
       "    </tr>\n",
       "    <tr>\n",
       "      <th>5</th>\n",
       "      <td>96.146761</td>\n",
       "      <td>3.853239</td>\n",
       "    </tr>\n",
       "    <tr>\n",
       "      <th>6</th>\n",
       "      <td>94.911812</td>\n",
       "      <td>5.088188</td>\n",
       "    </tr>\n",
       "    <tr>\n",
       "      <th>7</th>\n",
       "      <td>3.612317</td>\n",
       "      <td>96.387683</td>\n",
       "    </tr>\n",
       "    <tr>\n",
       "      <th>8</th>\n",
       "      <td>98.687318</td>\n",
       "      <td>1.312682</td>\n",
       "    </tr>\n",
       "    <tr>\n",
       "      <th>9</th>\n",
       "      <td>5.184317</td>\n",
       "      <td>94.815683</td>\n",
       "    </tr>\n",
       "    <tr>\n",
       "      <th>10</th>\n",
       "      <td>51.929411</td>\n",
       "      <td>48.070589</td>\n",
       "    </tr>\n",
       "    <tr>\n",
       "      <th>11</th>\n",
       "      <td>96.053767</td>\n",
       "      <td>3.946233</td>\n",
       "    </tr>\n",
       "    <tr>\n",
       "      <th>12</th>\n",
       "      <td>0.929236</td>\n",
       "      <td>99.070764</td>\n",
       "    </tr>\n",
       "    <tr>\n",
       "      <th>13</th>\n",
       "      <td>2.764387</td>\n",
       "      <td>97.235613</td>\n",
       "    </tr>\n",
       "    <tr>\n",
       "      <th>14</th>\n",
       "      <td>97.759235</td>\n",
       "      <td>2.240765</td>\n",
       "    </tr>\n",
       "  </tbody>\n",
       "</table>\n",
       "</div>"
      ],
      "text/plain": [
       "    Player_1_winning_%  Player_2_winning_%\n",
       "0             8.599934           91.400066\n",
       "1             9.654030           90.345970\n",
       "2             1.893367           98.106633\n",
       "3             1.083891           98.916109\n",
       "4            39.516693           60.483307\n",
       "5            96.146761            3.853239\n",
       "6            94.911812            5.088188\n",
       "7             3.612317           96.387683\n",
       "8            98.687318            1.312682\n",
       "9             5.184317           94.815683\n",
       "10           51.929411           48.070589\n",
       "11           96.053767            3.946233\n",
       "12            0.929236           99.070764\n",
       "13            2.764387           97.235613\n",
       "14           97.759235            2.240765"
      ]
     },
     "metadata": {},
     "output_type": "display_data"
    }
   ],
   "source": [
    "display(gb_predict_df.head(15))"
   ]
  },
  {
   "cell_type": "markdown",
   "metadata": {},
   "source": [
    "The table showing above, every row represents a match and the winning percentages of both players were listed, it could be used to set odds by sports bidding companies as we mentioned. Next we will use RNN model to see the difference."
   ]
  },
  {
   "cell_type": "code",
   "execution_count": 262,
   "metadata": {},
   "outputs": [
    {
     "name": "stdout",
     "output_type": "stream",
     "text": [
      "_________________________________________________________________\n",
      "Layer (type)                 Output Shape              Param #   \n",
      "=================================================================\n",
      "simple_rnn_361 (SimpleRNN)   (None, 32)                8352      \n",
      "_________________________________________________________________\n",
      "dense_1048 (Dense)           (None, 2)                 66        \n",
      "_________________________________________________________________\n",
      "dense_1049 (Dense)           (None, 2)                 6         \n",
      "=================================================================\n",
      "Total params: 8,424\n",
      "Trainable params: 8,424\n",
      "Non-trainable params: 0\n",
      "_________________________________________________________________\n",
      "None\n",
      "Train on 8962 samples, validate on 3842 samples\n",
      "Epoch 1/10\n",
      "8962/8962 [==============================] - 197s 22ms/step - loss: 0.4472 - acc: 0.7859 - val_loss: 0.3710 - val_acc: 0.8280\n",
      "Epoch 2/10\n",
      "8962/8962 [==============================] - 13s 1ms/step - loss: 0.3134 - acc: 0.8674 - val_loss: 0.3330 - val_acc: 0.8503\n",
      "Epoch 3/10\n",
      "8962/8962 [==============================] - 13s 1ms/step - loss: 0.2761 - acc: 0.8825 - val_loss: 0.3089 - val_acc: 0.8647\n",
      "Epoch 4/10\n",
      "8962/8962 [==============================] - 13s 1ms/step - loss: 0.2546 - acc: 0.8923 - val_loss: 0.2917 - val_acc: 0.8725\n",
      "Epoch 5/10\n",
      "8962/8962 [==============================] - 13s 1ms/step - loss: 0.2405 - acc: 0.8969 - val_loss: 0.2850 - val_acc: 0.8756\n",
      "Epoch 6/10\n",
      "8962/8962 [==============================] - 13s 1ms/step - loss: 0.2302 - acc: 0.9055 - val_loss: 0.2846 - val_acc: 0.8779\n",
      "Epoch 7/10\n",
      "8962/8962 [==============================] - 13s 1ms/step - loss: 0.2226 - acc: 0.9075 - val_loss: 0.2792 - val_acc: 0.8777\n",
      "Epoch 8/10\n",
      "8962/8962 [==============================] - 13s 1ms/step - loss: 0.2150 - acc: 0.9101 - val_loss: 0.2748 - val_acc: 0.8837\n",
      "Epoch 9/10\n",
      "8962/8962 [==============================] - 13s 1ms/step - loss: 0.2089 - acc: 0.9141 - val_loss: 0.2794 - val_acc: 0.8800\n",
      "Epoch 10/10\n",
      "8962/8962 [==============================] - 13s 1ms/step - loss: 0.2036 - acc: 0.9161 - val_loss: 0.2861 - val_acc: 0.8769\n"
     ]
    },
    {
     "data": {
      "text/plain": [
       "<keras.callbacks.History at 0x1bc4997f60>"
      ]
     },
     "execution_count": 262,
     "metadata": {},
     "output_type": "execute_result"
    }
   ],
   "source": [
    "# retrain simpleRNN model using the best hyperparameters we tuned\n",
    "model = Sequential()\n",
    "model.add(SimpleRNN(32, input_shape=(10, 228)))\n",
    "model.add(Dense(2, activation='relu', kernel_initializer='lecun_uniform'))\n",
    "model.add(Dense(2, activation='softmax', kernel_initializer='lecun_uniform'))\n",
    "model.compile(loss='binary_crossentropy', optimizer='Adagrad', metrics=['accuracy'])\n",
    "print(model.summary())\n",
    "model.fit(X_train, y_train_softmax, batch_size=20, epochs=10, validation_data=(X_test, y_test_softmax))"
   ]
  },
  {
   "cell_type": "code",
   "execution_count": 269,
   "metadata": {},
   "outputs": [],
   "source": [
    "# construct dataframe\n",
    "rnn_predict_df = pd.DataFrame(model.predict(X_test)*100, \n",
    "                columns=['Player_1_winning_%', 'Player_2_winning_%'])"
   ]
  },
  {
   "cell_type": "code",
   "execution_count": 270,
   "metadata": {},
   "outputs": [
    {
     "data": {
      "text/html": [
       "<div>\n",
       "<style scoped>\n",
       "    .dataframe tbody tr th:only-of-type {\n",
       "        vertical-align: middle;\n",
       "    }\n",
       "\n",
       "    .dataframe tbody tr th {\n",
       "        vertical-align: top;\n",
       "    }\n",
       "\n",
       "    .dataframe thead th {\n",
       "        text-align: right;\n",
       "    }\n",
       "</style>\n",
       "<table border=\"1\" class=\"dataframe\">\n",
       "  <thead>\n",
       "    <tr style=\"text-align: right;\">\n",
       "      <th></th>\n",
       "      <th>Player_1_winning_%</th>\n",
       "      <th>Player_2_winning_%</th>\n",
       "    </tr>\n",
       "  </thead>\n",
       "  <tbody>\n",
       "    <tr>\n",
       "      <th>0</th>\n",
       "      <td>4.884050</td>\n",
       "      <td>95.115952</td>\n",
       "    </tr>\n",
       "    <tr>\n",
       "      <th>1</th>\n",
       "      <td>5.152960</td>\n",
       "      <td>94.847038</td>\n",
       "    </tr>\n",
       "    <tr>\n",
       "      <th>2</th>\n",
       "      <td>1.237315</td>\n",
       "      <td>98.762688</td>\n",
       "    </tr>\n",
       "    <tr>\n",
       "      <th>3</th>\n",
       "      <td>2.729187</td>\n",
       "      <td>97.270813</td>\n",
       "    </tr>\n",
       "    <tr>\n",
       "      <th>4</th>\n",
       "      <td>80.036789</td>\n",
       "      <td>19.963213</td>\n",
       "    </tr>\n",
       "    <tr>\n",
       "      <th>5</th>\n",
       "      <td>68.275558</td>\n",
       "      <td>31.724442</td>\n",
       "    </tr>\n",
       "    <tr>\n",
       "      <th>6</th>\n",
       "      <td>91.684052</td>\n",
       "      <td>8.315948</td>\n",
       "    </tr>\n",
       "    <tr>\n",
       "      <th>7</th>\n",
       "      <td>0.588841</td>\n",
       "      <td>99.411163</td>\n",
       "    </tr>\n",
       "    <tr>\n",
       "      <th>8</th>\n",
       "      <td>96.104454</td>\n",
       "      <td>3.895541</td>\n",
       "    </tr>\n",
       "    <tr>\n",
       "      <th>9</th>\n",
       "      <td>1.251860</td>\n",
       "      <td>98.748138</td>\n",
       "    </tr>\n",
       "    <tr>\n",
       "      <th>10</th>\n",
       "      <td>89.602051</td>\n",
       "      <td>10.397957</td>\n",
       "    </tr>\n",
       "    <tr>\n",
       "      <th>11</th>\n",
       "      <td>98.092178</td>\n",
       "      <td>1.907816</td>\n",
       "    </tr>\n",
       "    <tr>\n",
       "      <th>12</th>\n",
       "      <td>0.214849</td>\n",
       "      <td>99.785149</td>\n",
       "    </tr>\n",
       "    <tr>\n",
       "      <th>13</th>\n",
       "      <td>5.500398</td>\n",
       "      <td>94.499603</td>\n",
       "    </tr>\n",
       "    <tr>\n",
       "      <th>14</th>\n",
       "      <td>98.607788</td>\n",
       "      <td>1.392214</td>\n",
       "    </tr>\n",
       "  </tbody>\n",
       "</table>\n",
       "</div>"
      ],
      "text/plain": [
       "    Player_1_winning_%  Player_2_winning_%\n",
       "0             4.884050           95.115952\n",
       "1             5.152960           94.847038\n",
       "2             1.237315           98.762688\n",
       "3             2.729187           97.270813\n",
       "4            80.036789           19.963213\n",
       "5            68.275558           31.724442\n",
       "6            91.684052            8.315948\n",
       "7             0.588841           99.411163\n",
       "8            96.104454            3.895541\n",
       "9             1.251860           98.748138\n",
       "10           89.602051           10.397957\n",
       "11           98.092178            1.907816\n",
       "12            0.214849           99.785149\n",
       "13            5.500398           94.499603\n",
       "14           98.607788            1.392214"
      ]
     },
     "metadata": {},
     "output_type": "display_data"
    }
   ],
   "source": [
    "display(rnn_predict_df.head(15))"
   ]
  },
  {
   "cell_type": "markdown",
   "metadata": {},
   "source": [
    "If we compare two tables from gradient boosting and simpleRNN prediction, we can see in most of the cases the predicted winning percentage agree with each other and has similar percentage. There are some matches that two models deviate from each other, of course, for example, in match 4 gradient boosting predicted player 1 winning percentage as 39.52% whereas simpleRNN predicted as 80.04%, from the sports bidding company's point of view, we will first consider the accuracy of the model then use the probability of winning to set the odds."
   ]
  },
  {
   "cell_type": "markdown",
   "metadata": {},
   "source": [
    "## Conclusions"
   ]
  },
  {
   "cell_type": "markdown",
   "metadata": {},
   "source": [
    "In this notebook, we used both traditional machine learning models and deep learning models to compare the difference between the power of predicting atp tennis match outcome. Our data has been separated into two sets with matched from different ranges, 2009-2017 and 1991-2017, respectively due to the changing of ranking system over the years as mentioned in the previous notebook. `ranking_points` features were only included in the 2009-2017 match data since it was consistent throughout those years. We used accuracy as our evaluation metrics to compare the scores between models. We have found:\n",
    "\n",
    "1. Model-based feature selection could pick up the raw data information effectively and have almost comparable predicting power as using all features. It is also better than statistical-based selection.\n",
    "2. PCA data works with naive-bayes model, logistic regression and support vector machine pretty well but not with tree-based model.\n",
    "3. Logistic regression and gradient boosting both showed pretty consistent predicting power using boostrapping method, the accuracy score of test set on both models is even higher than the training set. Logistic regression may have slight edge over gradient boosting due to its faster training time.\n",
    "4. LSTM did not show any advantage over simpleRNN in deep learning model comparison, this is perhaps due to the over weighting on the match that is relatively \"far away\" from the current match.\n",
    "5. Deep learning models require much more computation resources for model training and hyperparameters tuning than traditional machine learning model.\n",
    "6. Deep learning models perform worse than the traditional models in our case due to limited ability to tune the ideal hyperparameters and lack of training examples.\n",
    "7. Match with wider year range(1991-2017) shows worse overfitting problem than match with narrower range(2009-2017), this could be due to the variation of matches of the former is higher and will need more training examples.\n",
    "8. Predicting winning percentage could help with sports bidding company to set up odds for gamblers before matches."
   ]
  }
 ],
 "metadata": {
  "kernelspec": {
   "display_name": "Python 3",
   "language": "python",
   "name": "python3"
  },
  "language_info": {
   "codemirror_mode": {
    "name": "ipython",
    "version": 3
   },
   "file_extension": ".py",
   "mimetype": "text/x-python",
   "name": "python",
   "nbconvert_exporter": "python",
   "pygments_lexer": "ipython3",
   "version": "3.7.0"
  }
 },
 "nbformat": 4,
 "nbformat_minor": 2
}
