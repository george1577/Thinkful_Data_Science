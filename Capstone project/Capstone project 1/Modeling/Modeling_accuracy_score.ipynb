{
 "cells": [
  {
   "cell_type": "markdown",
   "metadata": {},
   "source": [
    "# Diabetes Onset Detection -- Modeling 1"
   ]
  },
  {
   "cell_type": "markdown",
   "metadata": {},
   "source": [
    "## Goal\n",
    "1. Try different algorithms and build the prediction model, using accuracy as our evaluation metric\n",
    "    * Naive Bayes\n",
    "    * K-Nearest Neighbors\n",
    "    * Logistic Regression\n",
    "    * Decision Tree\n",
    "    * Random Forest\n",
    "    * Support Vector Machine\n",
    "    * Gradient Boosting\n",
    "2. Compare the performance of different imputation and normalization methods\n",
    "    * impute with mean\n",
    "    * impute with median\n",
    "    * z-score normalization\n",
    "    * min-max scaling"
   ]
  },
  {
   "cell_type": "markdown",
   "metadata": {},
   "source": [
    "### Importing useful packages"
   ]
  },
  {
   "cell_type": "code",
   "execution_count": 81,
   "metadata": {},
   "outputs": [],
   "source": [
    "%matplotlib inline\n",
    "import pandas as pd\n",
    "import numpy as np\n",
    "import seaborn as sns\n",
    "import matplotlib.pyplot as plt\n",
    "\n",
    "# supress warnings\n",
    "import warnings\n",
    "warnings.filterwarnings(\"ignore\")\n",
    "\n",
    "sns.set()\n",
    "sns.set_style(\"whitegrid\")\n",
    "\n",
    "# import model package\n",
    "from sklearn.naive_bayes import GaussianNB\n",
    "from sklearn.neighbors import KNeighborsClassifier\n",
    "from sklearn.linear_model import LogisticRegression\n",
    "from sklearn.tree import DecisionTreeClassifier\n",
    "from sklearn.ensemble import RandomForestClassifier\n",
    "from sklearn.svm import LinearSVC\n",
    "from sklearn.svm import SVC\n",
    "from sklearn.ensemble import GradientBoostingClassifier\n",
    "from sklearn.linear_model import SGDClassifier\n",
    "from sklearn.metrics import confusion_matrix\n",
    "from sklearn.model_selection import cross_val_score\n",
    "\n",
    "# import customized package\n",
    "from MLuseful import get_best_model_accuracy\n",
    "from MLuseful import roc_curve_plot\n",
    "from MLuseful import print_confusion_matrix"
   ]
  },
  {
   "cell_type": "markdown",
   "metadata": {},
   "source": [
    "### Loading data\n",
    "We will load the training and testing set from the feature engineering step and we will be ready to fit the model"
   ]
  },
  {
   "cell_type": "code",
   "execution_count": 82,
   "metadata": {},
   "outputs": [],
   "source": [
    "diabetes = pd.read_csv('../Data/diabetes_outliers_clean.csv')\n",
    "\n",
    "# z-score normalization\n",
    "diabetes_mean_X_train_z = pd.read_csv('../Data/diabetes_mean_X_train_z.csv')\n",
    "diabetes_mean_X_test_z = pd.read_csv('../Data/diabetes_mean_X_test_z.csv')\n",
    "diabetes_median_X_train_z = pd.read_csv('../Data/diabetes_median_X_train_z.csv')\n",
    "diabetes_median_X_test_z = pd.read_csv('../Data/diabetes_median_X_test_z.csv')\n",
    "diabetes_mean_X_train_z_PCA = pd.read_csv('../Data/diabetes_mean_X_train_z_PCA.csv')\n",
    "diabetes_median_X_train_z_PCA = pd.read_csv('../Data/diabetes_median_X_train_z_PCA.csv')\n",
    "diabetes_mean_X_test_z_PCA = pd.read_csv('../Data/diabetes_mean_X_test_z_PCA.csv')\n",
    "diabetes_median_X_test_z_PCA = pd.read_csv('../Data/diabetes_median_X_test_z_PCA.csv')\n",
    "\n",
    "# min-max scaling\n",
    "diabetes_mean_X_train_min_max = pd.read_csv('../Data/diabetes_mean_X_train_min_max.csv')\n",
    "diabetes_mean_X_test_min_max = pd.read_csv('../Data/diabetes_mean_X_test_min_max.csv')\n",
    "diabetes_median_X_train_min_max = pd.read_csv('../Data/diabetes_median_X_train_min_max.csv')\n",
    "diabetes_median_X_test_min_max = pd.read_csv('../Data/diabetes_median_X_test_min_max.csv')\n",
    "diabetes_mean_X_train_min_max_PCA = pd.read_csv('../Data/diabetes_mean_X_train_min_max_PCA.csv')\n",
    "diabetes_median_X_train_min_max_PCA = pd.read_csv('../Data/diabetes_median_X_train_min_max_PCA.csv')\n",
    "diabetes_mean_X_test_min_max_PCA = pd.read_csv('../Data/diabetes_mean_X_test_min_max_PCA.csv')\n",
    "diabetes_median_X_test_min_max_PCA = pd.read_csv('../Data/diabetes_median_X_test_min_max_PCA.csv')\n",
    "\n",
    "diabetes_y_train = pd.read_csv('../Data/diabetes_y_train.csv', header=None)\n",
    "diabetes_y_test = pd.read_csv('../Data/diabetes_y_test.csv', header=None)"
   ]
  },
  {
   "cell_type": "markdown",
   "metadata": {},
   "source": [
    "Before fitting the model, we need to see the base score we have to beat, the base score is basically calculated by the random guessing of the majority types in outcome variable"
   ]
  },
  {
   "cell_type": "code",
   "execution_count": 83,
   "metadata": {},
   "outputs": [
    {
     "data": {
      "text/plain": [
       "0    0.651042\n",
       "1    0.348958\n",
       "Name: Outcome, dtype: float64"
      ]
     },
     "execution_count": 83,
     "metadata": {},
     "output_type": "execute_result"
    }
   ],
   "source": [
    "diabetes['Outcome'].value_counts(normalize=True)"
   ]
  },
  {
   "cell_type": "markdown",
   "metadata": {},
   "source": [
    "From the table above, we can see the baseline score we need to beat is 0.651, since if we predict all the patients have no diabetes, we will get a score of 0.651. We will start to fit different models to find out the best in terms of fitting time, predicting accuracy...etc., we will do the grid search on hyperparameters of the algorithms and find out the best one that gives the highest accuracy, since accuracy might not be enough for the evaluation metrics, we will discuss more about it later, at this time we will use the accuracy score determine the best parameters"
   ]
  },
  {
   "cell_type": "markdown",
   "metadata": {},
   "source": [
    "#### Naive Bayes\n",
    "We will first try the simplest algorithm naive bayes, the basic assumptions of the naive bayes is the variables are independent to each other, this is more like an ideal assumption that almost never happens in the real world, but we will still see how it works since the algorithm is simple and fast"
   ]
  },
  {
   "cell_type": "markdown",
   "metadata": {},
   "source": [
    "We will include all the data we gathered and processed from data cleaning and feature engineering step, there is no need to split the data into training and testing set again since we already did it in previous steps"
   ]
  },
  {
   "cell_type": "code",
   "execution_count": 84,
   "metadata": {},
   "outputs": [],
   "source": [
    "# data dictionary\n",
    "data_all_train = {'mean-z-score': diabetes_mean_X_train_z, 'median-z-score': diabetes_median_X_train_z,\n",
    "'mean-min-max': diabetes_mean_X_train_min_max, 'median-min-max': diabetes_median_X_train_min_max,\n",
    "'mean-z-score-PCA': diabetes_mean_X_train_z_PCA, 'median-z-score-PCA': diabetes_median_X_train_z_PCA,\n",
    "'mean-min-max-PCA': diabetes_mean_X_train_min_max_PCA, 'median-min-max-PCA': diabetes_median_X_train_min_max_PCA}"
   ]
  },
  {
   "cell_type": "code",
   "execution_count": 85,
   "metadata": {},
   "outputs": [],
   "source": [
    "# create a new dictionary to collect all the score and all the best parameters\n",
    "all_score = {}\n",
    "all_params = {}"
   ]
  },
  {
   "cell_type": "code",
   "execution_count": 86,
   "metadata": {},
   "outputs": [
    {
     "name": "stdout",
     "output_type": "stream",
     "text": [
      "mean-z-score\n",
      "------------------------------------------------------------------------------------------\n",
      "Best accuracy : 0.7486033519553073\n",
      "Best Parameters: {'var_smoothing': 1e-11}\n",
      "Average Time to Fit (s): 0.003\n",
      "Average Time to Score (s): 0.001\n",
      "\n",
      "\n",
      "median-z-score\n",
      "------------------------------------------------------------------------------------------\n",
      "Best accuracy : 0.74487895716946\n",
      "Best Parameters: {'var_smoothing': 1e-11}\n",
      "Average Time to Fit (s): 0.003\n",
      "Average Time to Score (s): 0.001\n",
      "\n",
      "\n",
      "mean-min-max\n",
      "------------------------------------------------------------------------------------------\n",
      "Best accuracy : 0.7486033519553073\n",
      "Best Parameters: {'var_smoothing': 1e-11}\n",
      "Average Time to Fit (s): 0.002\n",
      "Average Time to Score (s): 0.001\n",
      "\n",
      "\n",
      "median-min-max\n",
      "------------------------------------------------------------------------------------------\n",
      "Best accuracy : 0.74487895716946\n",
      "Best Parameters: {'var_smoothing': 1e-11}\n",
      "Average Time to Fit (s): 0.003\n",
      "Average Time to Score (s): 0.001\n",
      "\n",
      "\n",
      "mean-z-score-PCA\n",
      "------------------------------------------------------------------------------------------\n",
      "Best accuracy : 0.7001862197392924\n",
      "Best Parameters: {'var_smoothing': 1e-11}\n",
      "Average Time to Fit (s): 0.003\n",
      "Average Time to Score (s): 0.001\n",
      "\n",
      "\n",
      "median-z-score-PCA\n",
      "------------------------------------------------------------------------------------------\n",
      "Best accuracy : 0.6945996275605214\n",
      "Best Parameters: {'var_smoothing': 1e-11}\n",
      "Average Time to Fit (s): 0.003\n",
      "Average Time to Score (s): 0.001\n",
      "\n",
      "\n",
      "mean-min-max-PCA\n",
      "------------------------------------------------------------------------------------------\n",
      "Best accuracy : 0.7001862197392924\n",
      "Best Parameters: {'var_smoothing': 1e-11}\n",
      "Average Time to Fit (s): 0.003\n",
      "Average Time to Score (s): 0.001\n",
      "\n",
      "\n",
      "median-min-max-PCA\n",
      "------------------------------------------------------------------------------------------\n",
      "Best accuracy : 0.7039106145251397\n",
      "Best Parameters: {'var_smoothing': 1e-11}\n",
      "Average Time to Fit (s): 0.003\n",
      "Average Time to Score (s): 0.001\n",
      "\n",
      "\n"
     ]
    }
   ],
   "source": [
    "naive = GaussianNB()\n",
    "\n",
    "# create an empty list to store the scores of naive bayes algorithms\n",
    "all_score['Naive_Bayes'] = []\n",
    "all_params['Naive_Bayes'] = []\n",
    "# specify the hyperparameters we are going to do gridsearch on\n",
    "naive_params = {'var_smoothing': [1e-11, 1e-10, 1e-9, 1e-8, 1e-7]}\n",
    "for name, data in data_all_train.items():\n",
    "    print(name)\n",
    "    print('-'*90)\n",
    "    best, score = get_best_model_accuracy(naive, naive_params, data, diabetes_y_train, score='accuracy')\n",
    "    all_score['Naive_Bayes'].append(score)\n",
    "    all_params['Naive_Bayes'].append(best)\n",
    "    print('\\n')"
   ]
  },
  {
   "cell_type": "markdown",
   "metadata": {},
   "source": [
    "It looks like for naive bias, the z-score and min-max method does not have much difference, for the PCA data, it looks like it does not help with the prediction, the accuracy score is lower than without the PCA, we have only tuned one hyperparameter here and it looks like `var_smoothing` = 1e-11 is the best for all models, the best accuracy score we got is 0.7486"
   ]
  },
  {
   "cell_type": "markdown",
   "metadata": {},
   "source": [
    "#### K-nearest neighbor\n",
    "Next we will try another simple algorithm called KNN, it basically gather the neighbors that are closest to the one we are predicting and each neighbor got a vote, the majority of the vote result will be the predictive value"
   ]
  },
  {
   "cell_type": "code",
   "execution_count": 87,
   "metadata": {},
   "outputs": [
    {
     "name": "stdout",
     "output_type": "stream",
     "text": [
      "mean-z-score\n",
      "------------------------------------------------------------------------------------------\n",
      "Best accuracy : 0.770949720670391\n",
      "Best Parameters: {'n_neighbors': 9}\n",
      "Average Time to Fit (s): 0.002\n",
      "Average Time to Score (s): 0.002\n",
      "\n",
      "\n",
      "median-z-score\n",
      "------------------------------------------------------------------------------------------\n",
      "Best accuracy : 0.776536312849162\n",
      "Best Parameters: {'n_neighbors': 11}\n",
      "Average Time to Fit (s): 0.003\n",
      "Average Time to Score (s): 0.003\n",
      "\n",
      "\n",
      "mean-min-max\n",
      "------------------------------------------------------------------------------------------\n",
      "Best accuracy : 0.776536312849162\n",
      "Best Parameters: {'n_neighbors': 9}\n",
      "Average Time to Fit (s): 0.003\n",
      "Average Time to Score (s): 0.003\n",
      "\n",
      "\n",
      "median-min-max\n",
      "------------------------------------------------------------------------------------------\n",
      "Best accuracy : 0.7783985102420856\n",
      "Best Parameters: {'n_neighbors': 9}\n",
      "Average Time to Fit (s): 0.003\n",
      "Average Time to Score (s): 0.002\n",
      "\n",
      "\n",
      "mean-z-score-PCA\n",
      "------------------------------------------------------------------------------------------\n",
      "Best accuracy : 0.7281191806331471\n",
      "Best Parameters: {'n_neighbors': 7}\n",
      "Average Time to Fit (s): 0.003\n",
      "Average Time to Score (s): 0.002\n",
      "\n",
      "\n",
      "median-z-score-PCA\n",
      "------------------------------------------------------------------------------------------\n",
      "Best accuracy : 0.7206703910614525\n",
      "Best Parameters: {'n_neighbors': 7}\n",
      "Average Time to Fit (s): 0.003\n",
      "Average Time to Score (s): 0.002\n",
      "\n",
      "\n",
      "mean-min-max-PCA\n",
      "------------------------------------------------------------------------------------------\n",
      "Best accuracy : 0.7318435754189944\n",
      "Best Parameters: {'n_neighbors': 5}\n",
      "Average Time to Fit (s): 0.003\n",
      "Average Time to Score (s): 0.002\n",
      "\n",
      "\n",
      "median-min-max-PCA\n",
      "------------------------------------------------------------------------------------------\n",
      "Best accuracy : 0.7243947858472998\n",
      "Best Parameters: {'n_neighbors': 7}\n",
      "Average Time to Fit (s): 0.002\n",
      "Average Time to Score (s): 0.002\n",
      "\n",
      "\n"
     ]
    }
   ],
   "source": [
    "knn = KNeighborsClassifier()\n",
    "\n",
    "# create an empty list to store the scores of knn algorithms\n",
    "all_score['KNN'] = []\n",
    "all_params['KNN'] = []\n",
    "knn_params = {'n_neighbors': [1,3,5,7,9,11]}\n",
    "\n",
    "for name, data in data_all_train.items():\n",
    "    print(name)\n",
    "    print('-'*90)\n",
    "    best, score = get_best_model_accuracy(knn, knn_params, data, diabetes_y_train, score='accuracy')\n",
    "    all_score['KNN'].append(score)\n",
    "    all_params['KNN'].append(best)\n",
    "    print('\\n')"
   ]
  },
  {
   "cell_type": "markdown",
   "metadata": {},
   "source": [
    "Same as naive bayes, PCA data perform worse than the feature engineered data group, note that each data has its own best hyperparameter, the highest accuracy score we got using knn algorithm is 0.7784"
   ]
  },
  {
   "cell_type": "markdown",
   "metadata": {},
   "source": [
    "#### Logistic Regression\n",
    "Now we will try the logistic regression, this is a more complicated algorithms than our previous two, it basically utilize the sigmoid function to calculate the probability of an example and use it to predict the outcome value, the default probability is set to be 0.5, when the hypothesis is greater or equal to 0.5, it will predict 1 and 0 otherwise "
   ]
  },
  {
   "cell_type": "code",
   "execution_count": 88,
   "metadata": {},
   "outputs": [
    {
     "name": "stdout",
     "output_type": "stream",
     "text": [
      "mean-z-score\n",
      "------------------------------------------------------------------------------------------\n",
      "Best accuracy : 0.770949720670391\n",
      "Best Parameters: {'C': 0.1, 'penalty': 'l1'}\n",
      "Average Time to Fit (s): 0.004\n",
      "Average Time to Score (s): 0.001\n",
      "\n",
      "\n",
      "median-z-score\n",
      "------------------------------------------------------------------------------------------\n",
      "Best accuracy : 0.770949720670391\n",
      "Best Parameters: {'C': 0.1, 'penalty': 'l1'}\n",
      "Average Time to Fit (s): 0.003\n",
      "Average Time to Score (s): 0.001\n",
      "\n",
      "\n",
      "mean-min-max\n",
      "------------------------------------------------------------------------------------------\n",
      "Best accuracy : 0.7728119180633147\n",
      "Best Parameters: {'C': 1, 'penalty': 'l2'}\n",
      "Average Time to Fit (s): 0.008\n",
      "Average Time to Score (s): 0.001\n",
      "\n",
      "\n",
      "median-min-max\n",
      "------------------------------------------------------------------------------------------\n",
      "Best accuracy : 0.7728119180633147\n",
      "Best Parameters: {'C': 1, 'penalty': 'l2'}\n",
      "Average Time to Fit (s): 0.006\n",
      "Average Time to Score (s): 0.001\n",
      "\n",
      "\n",
      "mean-z-score-PCA\n",
      "------------------------------------------------------------------------------------------\n",
      "Best accuracy : 0.7206703910614525\n",
      "Best Parameters: {'C': 0.1, 'penalty': 'l1'}\n",
      "Average Time to Fit (s): 0.003\n",
      "Average Time to Score (s): 0.001\n",
      "\n",
      "\n",
      "median-z-score-PCA\n",
      "------------------------------------------------------------------------------------------\n",
      "Best accuracy : 0.7262569832402235\n",
      "Best Parameters: {'C': 0.1, 'penalty': 'l1'}\n",
      "Average Time to Fit (s): 0.003\n",
      "Average Time to Score (s): 0.001\n",
      "\n",
      "\n",
      "mean-min-max-PCA\n",
      "------------------------------------------------------------------------------------------\n",
      "Best accuracy : 0.7355679702048417\n",
      "Best Parameters: {'C': 10, 'penalty': 'l2'}\n",
      "Average Time to Fit (s): 0.003\n",
      "Average Time to Score (s): 0.001\n",
      "\n",
      "\n",
      "median-min-max-PCA\n",
      "------------------------------------------------------------------------------------------\n",
      "Best accuracy : 0.7374301675977654\n",
      "Best Parameters: {'C': 10, 'penalty': 'l2'}\n",
      "Average Time to Fit (s): 0.003\n",
      "Average Time to Score (s): 0.001\n",
      "\n",
      "\n"
     ]
    }
   ],
   "source": [
    "lgr = LogisticRegression()\n",
    "\n",
    "# create an empty list to store the scores of logistic regress algorithms\n",
    "all_score['Logistic_regression'] = []\n",
    "all_params['Logistic_regression'] = []\n",
    "lgr_params = {'penalty': ['l1', 'l2'],\n",
    "              'C': [0.01, 0.1, 1, 10]}\n",
    "\n",
    "for name, data in data_all_train.items():\n",
    "    print(name)\n",
    "    print('-'*90)\n",
    "    best, score = get_best_model_accuracy(lgr, lgr_params, data, diabetes_y_train, score='accuracy')\n",
    "    all_score['Logistic_regression'].append(score)\n",
    "    all_params['Logistic_regression'].append(best)\n",
    "    print('\\n')"
   ]
  },
  {
   "cell_type": "markdown",
   "metadata": {},
   "source": [
    "The same trend of PCA data perform worse than feature engineered data still hold in logistic regression, the best score we got here is 0.7728, one thing to note that the average time to fit the model seems slightly longer, this suggest logistic regression algorithm is more complicated than naive bayes and knn"
   ]
  },
  {
   "cell_type": "markdown",
   "metadata": {},
   "source": [
    "#### Decision tree\n",
    "We will now test our tree model, this algorithm is different from previous models we fit, it basically uses a certain criteria to separate the data into two groups in each branch, the criteria is based on the maximum information gain "
   ]
  },
  {
   "cell_type": "code",
   "execution_count": 89,
   "metadata": {},
   "outputs": [
    {
     "name": "stdout",
     "output_type": "stream",
     "text": [
      "mean-z-score\n",
      "------------------------------------------------------------------------------------------\n",
      "Best accuracy : 0.7374301675977654\n",
      "Best Parameters: {'criterion': 'gini', 'max_depth': 5}\n",
      "Average Time to Fit (s): 0.005\n",
      "Average Time to Score (s): 0.001\n",
      "\n",
      "\n",
      "median-z-score\n",
      "------------------------------------------------------------------------------------------\n",
      "Best accuracy : 0.7467411545623837\n",
      "Best Parameters: {'criterion': 'gini', 'max_depth': 5}\n",
      "Average Time to Fit (s): 0.005\n",
      "Average Time to Score (s): 0.001\n",
      "\n",
      "\n",
      "mean-min-max\n",
      "------------------------------------------------------------------------------------------\n",
      "Best accuracy : 0.7430167597765364\n",
      "Best Parameters: {'criterion': 'gini', 'max_depth': 5}\n",
      "Average Time to Fit (s): 0.006\n",
      "Average Time to Score (s): 0.001\n",
      "\n",
      "\n",
      "median-min-max\n",
      "------------------------------------------------------------------------------------------\n",
      "Best accuracy : 0.7411545623836127\n",
      "Best Parameters: {'criterion': 'gini', 'max_depth': 5}\n",
      "Average Time to Fit (s): 0.007\n",
      "Average Time to Score (s): 0.002\n",
      "\n",
      "\n",
      "mean-z-score-PCA\n",
      "------------------------------------------------------------------------------------------\n",
      "Best accuracy : 0.707635009310987\n",
      "Best Parameters: {'criterion': 'gini', 'max_depth': 3}\n",
      "Average Time to Fit (s): 0.003\n",
      "Average Time to Score (s): 0.001\n",
      "\n",
      "\n",
      "median-z-score-PCA\n",
      "------------------------------------------------------------------------------------------\n",
      "Best accuracy : 0.7262569832402235\n",
      "Best Parameters: {'criterion': 'entropy', 'max_depth': 5}\n",
      "Average Time to Fit (s): 0.004\n",
      "Average Time to Score (s): 0.001\n",
      "\n",
      "\n",
      "mean-min-max-PCA\n",
      "------------------------------------------------------------------------------------------\n",
      "Best accuracy : 0.7150837988826816\n",
      "Best Parameters: {'criterion': 'gini', 'max_depth': 9}\n",
      "Average Time to Fit (s): 0.004\n",
      "Average Time to Score (s): 0.001\n",
      "\n",
      "\n",
      "median-min-max-PCA\n",
      "------------------------------------------------------------------------------------------\n",
      "Best accuracy : 0.7281191806331471\n",
      "Best Parameters: {'criterion': 'gini', 'max_depth': 3}\n",
      "Average Time to Fit (s): 0.003\n",
      "Average Time to Score (s): 0.001\n",
      "\n",
      "\n"
     ]
    }
   ],
   "source": [
    "dt = DecisionTreeClassifier()\n",
    "\n",
    "# create an empty list to store the scores of tree algorithms\n",
    "all_score['Decision_tree'] = []\n",
    "all_params['Decision_tree'] = []\n",
    "\n",
    "dt_params = {'criterion': ['gini', 'entropy'],\n",
    "             'max_depth': [1,3,5,7,9,11],}\n",
    "\n",
    "for name, data in data_all_train.items():\n",
    "    print(name)\n",
    "    print('-'*90)\n",
    "    best, score = get_best_model_accuracy(dt, dt_params, data, diabetes_y_train, score='accuracy')\n",
    "    all_score['Decision_tree'].append(score)\n",
    "    all_params['Decision_tree'].append(best)\n",
    "    print('\\n')"
   ]
  },
  {
   "cell_type": "markdown",
   "metadata": {},
   "source": [
    "Decision tree model has the highest score of 0.7467, it is comparable to the naive bayes model, since this is a single tree model, next we will take multiple trees altogether to improve our performance "
   ]
  },
  {
   "cell_type": "markdown",
   "metadata": {},
   "source": [
    "#### Random forest\n",
    "Random forest algorithm is based on the decision tree, it is an ensemble model that takes the random patch of the data each time and build a decision tree based on that, it then create multiple decision trees and take the maximum voting as the final prediction"
   ]
  },
  {
   "cell_type": "code",
   "execution_count": 90,
   "metadata": {},
   "outputs": [
    {
     "name": "stdout",
     "output_type": "stream",
     "text": [
      "mean-z-score\n",
      "------------------------------------------------------------------------------------------\n",
      "Best accuracy : 0.770949720670391\n",
      "Best Parameters: {'max_depth': 3, 'n_estimators': 500}\n",
      "Average Time to Fit (s): 0.181\n",
      "Average Time to Score (s): 0.018\n",
      "\n",
      "\n",
      "median-z-score\n",
      "------------------------------------------------------------------------------------------\n",
      "Best accuracy : 0.7802607076350093\n",
      "Best Parameters: {'max_depth': 9, 'n_estimators': 50}\n",
      "Average Time to Fit (s): 0.172\n",
      "Average Time to Score (s): 0.017\n",
      "\n",
      "\n",
      "mean-min-max\n",
      "------------------------------------------------------------------------------------------\n",
      "Best accuracy : 0.7783985102420856\n",
      "Best Parameters: {'max_depth': 5, 'n_estimators': 100}\n",
      "Average Time to Fit (s): 0.174\n",
      "Average Time to Score (s): 0.017\n",
      "\n",
      "\n",
      "median-min-max\n",
      "------------------------------------------------------------------------------------------\n",
      "Best accuracy : 0.7746741154562383\n",
      "Best Parameters: {'max_depth': 9, 'n_estimators': 100}\n",
      "Average Time to Fit (s): 0.172\n",
      "Average Time to Score (s): 0.017\n",
      "\n",
      "\n",
      "mean-z-score-PCA\n",
      "------------------------------------------------------------------------------------------\n",
      "Best accuracy : 0.7541899441340782\n",
      "Best Parameters: {'max_depth': 5, 'n_estimators': 10}\n",
      "Average Time to Fit (s): 0.162\n",
      "Average Time to Score (s): 0.017\n",
      "\n",
      "\n",
      "median-z-score-PCA\n",
      "------------------------------------------------------------------------------------------\n",
      "Best accuracy : 0.750465549348231\n",
      "Best Parameters: {'max_depth': 3, 'n_estimators': 100}\n",
      "Average Time to Fit (s): 0.162\n",
      "Average Time to Score (s): 0.017\n",
      "\n",
      "\n",
      "mean-min-max-PCA\n",
      "------------------------------------------------------------------------------------------\n",
      "Best accuracy : 0.7560521415270018\n",
      "Best Parameters: {'max_depth': 3, 'n_estimators': 50}\n",
      "Average Time to Fit (s): 0.162\n",
      "Average Time to Score (s): 0.017\n",
      "\n",
      "\n",
      "median-min-max-PCA\n",
      "------------------------------------------------------------------------------------------\n",
      "Best accuracy : 0.7579143389199255\n",
      "Best Parameters: {'max_depth': 3, 'n_estimators': 10}\n",
      "Average Time to Fit (s): 0.162\n",
      "Average Time to Score (s): 0.017\n",
      "\n",
      "\n"
     ]
    }
   ],
   "source": [
    "rf = RandomForestClassifier()\n",
    "\n",
    "# create an empty list to store the scores of tree algorithms\n",
    "all_score['Random_forest'] = []\n",
    "all_params['Random_forest'] = []\n",
    "\n",
    "rf_params = {'n_estimators': [10, 50, 100, 500],\n",
    "             'max_depth': [1,3,5,7,9]}\n",
    "\n",
    "for name, data in data_all_train.items():\n",
    "    print(name)\n",
    "    print('-'*90)\n",
    "    best, score = get_best_model_accuracy(rf, rf_params, data, diabetes_y_train, score='accuracy')\n",
    "    all_score['Random_forest'].append(score)\n",
    "    all_params['Random_forest'].append(best)\n",
    "    print('\\n')"
   ]
  },
  {
   "cell_type": "markdown",
   "metadata": {},
   "source": [
    "We can see that the average score of random forest is better than the decision tree, the best score we can get here is 0.7765, however, we can also see that the average time to fit the model is a lot longer than the decision tree, this is clearly a trade-off between accuracy score and model fitting time"
   ]
  },
  {
   "cell_type": "markdown",
   "metadata": {},
   "source": [
    "#### Support vector machine\n",
    "We will next try the support vector machine, this algorithms has a cost function that is modified from logistic regression, the modified version of cost function creates an ideal hyperplance in an n-dimensional space that separates the class with the maximum margin, we will first try the linear support vector machine"
   ]
  },
  {
   "cell_type": "code",
   "execution_count": 91,
   "metadata": {},
   "outputs": [
    {
     "name": "stdout",
     "output_type": "stream",
     "text": [
      "mean-z-score\n",
      "------------------------------------------------------------------------------------------\n",
      "Best accuracy : 0.7653631284916201\n",
      "Best Parameters: {'C': 0.01, 'penalty': 'l2'}\n",
      "Average Time to Fit (s): 0.009\n",
      "Average Time to Score (s): 0.0\n",
      "\n",
      "\n",
      "median-z-score\n",
      "------------------------------------------------------------------------------------------\n",
      "Best accuracy : 0.7672253258845437\n",
      "Best Parameters: {'C': 0.1, 'penalty': 'l2'}\n",
      "Average Time to Fit (s): 0.009\n",
      "Average Time to Score (s): 0.0\n",
      "\n",
      "\n",
      "mean-min-max\n",
      "------------------------------------------------------------------------------------------\n",
      "Best accuracy : 0.776536312849162\n",
      "Best Parameters: {'C': 0.1, 'penalty': 'l2'}\n",
      "Average Time to Fit (s): 0.007\n",
      "Average Time to Score (s): 0.0\n",
      "\n",
      "\n",
      "median-min-max\n",
      "------------------------------------------------------------------------------------------\n",
      "Best accuracy : 0.7728119180633147\n",
      "Best Parameters: {'C': 0.1, 'penalty': 'l2'}\n",
      "Average Time to Fit (s): 0.007\n",
      "Average Time to Score (s): 0.0\n",
      "\n",
      "\n",
      "mean-z-score-PCA\n",
      "------------------------------------------------------------------------------------------\n",
      "Best accuracy : 0.7206703910614525\n",
      "Best Parameters: {'C': 0.1, 'penalty': 'l2'}\n",
      "Average Time to Fit (s): 0.007\n",
      "Average Time to Score (s): 0.0\n",
      "\n",
      "\n",
      "median-z-score-PCA\n",
      "------------------------------------------------------------------------------------------\n",
      "Best accuracy : 0.7206703910614525\n",
      "Best Parameters: {'C': 1, 'penalty': 'l2'}\n",
      "Average Time to Fit (s): 0.007\n",
      "Average Time to Score (s): 0.0\n",
      "\n",
      "\n",
      "mean-min-max-PCA\n",
      "------------------------------------------------------------------------------------------\n",
      "Best accuracy : 0.7374301675977654\n",
      "Best Parameters: {'C': 10, 'penalty': 'l2'}\n",
      "Average Time to Fit (s): 0.005\n",
      "Average Time to Score (s): 0.0\n",
      "\n",
      "\n",
      "median-min-max-PCA\n",
      "------------------------------------------------------------------------------------------\n",
      "Best accuracy : 0.7374301675977654\n",
      "Best Parameters: {'C': 10, 'penalty': 'l2'}\n",
      "Average Time to Fit (s): 0.005\n",
      "Average Time to Score (s): 0.0\n",
      "\n",
      "\n"
     ]
    }
   ],
   "source": [
    "# linear support vector machine\n",
    "lsvc = LinearSVC()\n",
    "\n",
    "# create an empty list to store the scores of linear support vector machine algorithms\n",
    "all_score['LSVM'] = []\n",
    "all_params['LSVM'] = []\n",
    "lsvc_params = {'C': [0.01, 0.1, 1, 10, 100],\n",
    "               'penalty': ['l1', 'l2']}\n",
    "for name, data in data_all_train.items():\n",
    "    print(name)\n",
    "    print('-'*90)\n",
    "    best, score = get_best_model_accuracy(lsvc, lsvc_params, data, diabetes_y_train, score='accuracy')\n",
    "    all_score['LSVM'].append(score)\n",
    "    all_params['LSVM'].append(best)\n",
    "    print('\\n')"
   ]
  },
  {
   "cell_type": "markdown",
   "metadata": {},
   "source": [
    "The best score we got from linear support vector machine is 0.7765 and we can see that the average fitting time is quite fast, we will next try the non-linear kernel model"
   ]
  },
  {
   "cell_type": "code",
   "execution_count": 92,
   "metadata": {},
   "outputs": [
    {
     "name": "stdout",
     "output_type": "stream",
     "text": [
      "mean-z-score\n",
      "------------------------------------------------------------------------------------------\n",
      "Best accuracy : 0.7635009310986964\n",
      "Best Parameters: {'C': 1, 'kernel': 'rbf'}\n",
      "Average Time to Fit (s): 0.016\n",
      "Average Time to Score (s): 0.001\n",
      "\n",
      "\n",
      "median-z-score\n",
      "------------------------------------------------------------------------------------------\n",
      "Best accuracy : 0.7616387337057728\n",
      "Best Parameters: {'C': 1, 'kernel': 'rbf'}\n",
      "Average Time to Fit (s): 0.014\n",
      "Average Time to Score (s): 0.001\n",
      "\n",
      "\n",
      "mean-min-max\n",
      "------------------------------------------------------------------------------------------\n",
      "Best accuracy : 0.7746741154562383\n",
      "Best Parameters: {'C': 100, 'kernel': 'poly'}\n",
      "Average Time to Fit (s): 0.006\n",
      "Average Time to Score (s): 0.001\n",
      "\n",
      "\n",
      "median-min-max\n",
      "------------------------------------------------------------------------------------------\n",
      "Best accuracy : 0.7728119180633147\n",
      "Best Parameters: {'C': 100, 'kernel': 'poly'}\n",
      "Average Time to Fit (s): 0.006\n",
      "Average Time to Score (s): 0.002\n",
      "\n",
      "\n",
      "mean-z-score-PCA\n",
      "------------------------------------------------------------------------------------------\n",
      "Best accuracy : 0.7299813780260708\n",
      "Best Parameters: {'C': 10, 'kernel': 'rbf'}\n",
      "Average Time to Fit (s): 0.211\n",
      "Average Time to Score (s): 0.001\n",
      "\n",
      "\n",
      "median-z-score-PCA\n",
      "------------------------------------------------------------------------------------------\n",
      "Best accuracy : 0.7188081936685289\n",
      "Best Parameters: {'C': 1, 'kernel': 'rbf'}\n",
      "Average Time to Fit (s): 0.214\n",
      "Average Time to Score (s): 0.001\n",
      "\n",
      "\n",
      "mean-min-max-PCA\n",
      "------------------------------------------------------------------------------------------\n",
      "Best accuracy : 0.7374301675977654\n",
      "Best Parameters: {'C': 1, 'kernel': 'rbf'}\n",
      "Average Time to Fit (s): 0.005\n",
      "Average Time to Score (s): 0.001\n",
      "\n",
      "\n",
      "median-min-max-PCA\n",
      "------------------------------------------------------------------------------------------\n",
      "Best accuracy : 0.7392923649906891\n",
      "Best Parameters: {'C': 1, 'kernel': 'rbf'}\n",
      "Average Time to Fit (s): 0.005\n",
      "Average Time to Score (s): 0.001\n",
      "\n",
      "\n"
     ]
    }
   ],
   "source": [
    "# svc with non-linear kernel\n",
    "svc = SVC()\n",
    "\n",
    "# create an empty list to store the scores of non-linear support vector machine algorithms\n",
    "all_score['SVM'] = []\n",
    "all_params['SVM'] = []\n",
    "svc_params = {'C': [0.01, 0.1, 1, 10, 100],\n",
    "              'kernel': ['rbf', 'poly']}\n",
    "for name, data in data_all_train.items():\n",
    "    print(name)\n",
    "    print('-'*90)\n",
    "    best, score = get_best_model_accuracy(svc, svc_params, data, diabetes_y_train, score='accuracy')\n",
    "    all_score['SVM'].append(score)\n",
    "    all_params['SVM'].append(best)\n",
    "    print('\\n')"
   ]
  },
  {
   "cell_type": "markdown",
   "metadata": {},
   "source": [
    "The non-linear kernel support vector machine in this case actually has a lower score than the linear svm, the best score we got is 0.7747"
   ]
  },
  {
   "cell_type": "markdown",
   "metadata": {},
   "source": [
    "#### Gradient boosting\n",
    "Next we will try another ensemble model called gradient boosting, this algorithm basically use the weak learner model, at first the model will perform badly, however we will use another weak leaner to fit the unexplained residue from the previous weak learner, repeat it in series until we get the final output"
   ]
  },
  {
   "cell_type": "code",
   "execution_count": 93,
   "metadata": {},
   "outputs": [
    {
     "name": "stdout",
     "output_type": "stream",
     "text": [
      "mean-z-score\n",
      "------------------------------------------------------------------------------------------\n",
      "Best accuracy : 0.7597765363128491\n",
      "Best Parameters: {'learning_rate': 0.05, 'n_estimators': 100}\n",
      "Average Time to Fit (s): 0.193\n",
      "Average Time to Score (s): 0.001\n",
      "\n",
      "\n",
      "median-z-score\n",
      "------------------------------------------------------------------------------------------\n",
      "Best accuracy : 0.7653631284916201\n",
      "Best Parameters: {'learning_rate': 0.05, 'n_estimators': 100}\n",
      "Average Time to Fit (s): 0.192\n",
      "Average Time to Score (s): 0.001\n",
      "\n",
      "\n",
      "mean-min-max\n",
      "------------------------------------------------------------------------------------------\n",
      "Best accuracy : 0.7579143389199255\n",
      "Best Parameters: {'learning_rate': 0.01, 'n_estimators': 500}\n",
      "Average Time to Fit (s): 0.192\n",
      "Average Time to Score (s): 0.001\n",
      "\n",
      "\n",
      "median-min-max\n",
      "------------------------------------------------------------------------------------------\n",
      "Best accuracy : 0.7616387337057728\n",
      "Best Parameters: {'learning_rate': 0.05, 'n_estimators': 100}\n",
      "Average Time to Fit (s): 0.192\n",
      "Average Time to Score (s): 0.001\n",
      "\n",
      "\n",
      "mean-z-score-PCA\n",
      "------------------------------------------------------------------------------------------\n",
      "Best accuracy : 0.74487895716946\n",
      "Best Parameters: {'learning_rate': 0.1, 'n_estimators': 50}\n",
      "Average Time to Fit (s): 0.166\n",
      "Average Time to Score (s): 0.001\n",
      "\n",
      "\n",
      "median-z-score-PCA\n",
      "------------------------------------------------------------------------------------------\n",
      "Best accuracy : 0.7411545623836127\n",
      "Best Parameters: {'learning_rate': 0.05, 'n_estimators': 50}\n",
      "Average Time to Fit (s): 0.165\n",
      "Average Time to Score (s): 0.001\n",
      "\n",
      "\n",
      "mean-min-max-PCA\n",
      "------------------------------------------------------------------------------------------\n",
      "Best accuracy : 0.7374301675977654\n",
      "Best Parameters: {'learning_rate': 0.01, 'n_estimators': 100}\n",
      "Average Time to Fit (s): 0.165\n",
      "Average Time to Score (s): 0.001\n",
      "\n",
      "\n",
      "median-min-max-PCA\n",
      "------------------------------------------------------------------------------------------\n",
      "Best accuracy : 0.74487895716946\n",
      "Best Parameters: {'learning_rate': 0.05, 'n_estimators': 50}\n",
      "Average Time to Fit (s): 0.165\n",
      "Average Time to Score (s): 0.001\n",
      "\n",
      "\n"
     ]
    }
   ],
   "source": [
    "gbr = GradientBoostingClassifier()\n",
    "\n",
    "# create an empty list to store the scores of gradient boosting algorithms\n",
    "all_score['Gradient_boosting'] = []\n",
    "all_params['Gradient_boosting'] = []\n",
    "gbr_params = {'learning_rate': [0.01, 0.05, 0.1, 0.5, 1],\n",
    "              'n_estimators': [50, 100, 500]}\n",
    "\n",
    "for name, data in data_all_train.items():\n",
    "    print(name)\n",
    "    print('-'*90)\n",
    "    best, score = get_best_model_accuracy(gbr, gbr_params, data, diabetes_y_train, score='accuracy')\n",
    "    all_score['Gradient_boosting'].append(score)\n",
    "    all_params['Gradient_boosting'].append(best)\n",
    "    print('\\n')"
   ]
  },
  {
   "cell_type": "markdown",
   "metadata": {},
   "source": [
    "We can see that gradient boosting takes a while to fit the model, mostly due to the reason that it fits the weak learner in series, the best score we got is 0.7654"
   ]
  },
  {
   "cell_type": "markdown",
   "metadata": {},
   "source": [
    "Since we have gather all the scores and parameters from the model we fit, we will show the summary table as below"
   ]
  },
  {
   "cell_type": "code",
   "execution_count": 94,
   "metadata": {},
   "outputs": [
    {
     "data": {
      "text/html": [
       "<div>\n",
       "<style scoped>\n",
       "    .dataframe tbody tr th:only-of-type {\n",
       "        vertical-align: middle;\n",
       "    }\n",
       "\n",
       "    .dataframe tbody tr th {\n",
       "        vertical-align: top;\n",
       "    }\n",
       "\n",
       "    .dataframe thead th {\n",
       "        text-align: right;\n",
       "    }\n",
       "</style>\n",
       "<table border=\"1\" class=\"dataframe\">\n",
       "  <thead>\n",
       "    <tr style=\"text-align: right;\">\n",
       "      <th></th>\n",
       "      <th>Naive_Bayes</th>\n",
       "      <th>KNN</th>\n",
       "      <th>Logistic_regression</th>\n",
       "      <th>Decision_tree</th>\n",
       "      <th>Random_forest</th>\n",
       "      <th>LSVM</th>\n",
       "      <th>SVM</th>\n",
       "      <th>Gradient_boosting</th>\n",
       "      <th>Avg_sscore</th>\n",
       "    </tr>\n",
       "  </thead>\n",
       "  <tbody>\n",
       "    <tr>\n",
       "      <th>mean-z-score</th>\n",
       "      <td>0.748603</td>\n",
       "      <td>0.770950</td>\n",
       "      <td>0.770950</td>\n",
       "      <td>0.737430</td>\n",
       "      <td>0.770950</td>\n",
       "      <td>0.765363</td>\n",
       "      <td>0.763501</td>\n",
       "      <td>0.759777</td>\n",
       "      <td>0.760940</td>\n",
       "    </tr>\n",
       "    <tr>\n",
       "      <th>median-z-score</th>\n",
       "      <td>0.744879</td>\n",
       "      <td>0.776536</td>\n",
       "      <td>0.770950</td>\n",
       "      <td>0.746741</td>\n",
       "      <td>0.780261</td>\n",
       "      <td>0.767225</td>\n",
       "      <td>0.761639</td>\n",
       "      <td>0.765363</td>\n",
       "      <td>0.764199</td>\n",
       "    </tr>\n",
       "    <tr>\n",
       "      <th>mean-min-max</th>\n",
       "      <td>0.748603</td>\n",
       "      <td>0.776536</td>\n",
       "      <td>0.772812</td>\n",
       "      <td>0.743017</td>\n",
       "      <td>0.778399</td>\n",
       "      <td>0.776536</td>\n",
       "      <td>0.774674</td>\n",
       "      <td>0.757914</td>\n",
       "      <td>0.766061</td>\n",
       "    </tr>\n",
       "    <tr>\n",
       "      <th>median-min-max</th>\n",
       "      <td>0.744879</td>\n",
       "      <td>0.778399</td>\n",
       "      <td>0.772812</td>\n",
       "      <td>0.741155</td>\n",
       "      <td>0.774674</td>\n",
       "      <td>0.772812</td>\n",
       "      <td>0.772812</td>\n",
       "      <td>0.761639</td>\n",
       "      <td>0.764898</td>\n",
       "    </tr>\n",
       "    <tr>\n",
       "      <th>mean-z-score-PCA</th>\n",
       "      <td>0.700186</td>\n",
       "      <td>0.728119</td>\n",
       "      <td>0.720670</td>\n",
       "      <td>0.707635</td>\n",
       "      <td>0.754190</td>\n",
       "      <td>0.720670</td>\n",
       "      <td>0.729981</td>\n",
       "      <td>0.744879</td>\n",
       "      <td>0.725791</td>\n",
       "    </tr>\n",
       "    <tr>\n",
       "      <th>median-z-score-PCA</th>\n",
       "      <td>0.694600</td>\n",
       "      <td>0.720670</td>\n",
       "      <td>0.726257</td>\n",
       "      <td>0.726257</td>\n",
       "      <td>0.750466</td>\n",
       "      <td>0.720670</td>\n",
       "      <td>0.718808</td>\n",
       "      <td>0.741155</td>\n",
       "      <td>0.724860</td>\n",
       "    </tr>\n",
       "    <tr>\n",
       "      <th>mean-min-max-PCA</th>\n",
       "      <td>0.700186</td>\n",
       "      <td>0.731844</td>\n",
       "      <td>0.735568</td>\n",
       "      <td>0.715084</td>\n",
       "      <td>0.756052</td>\n",
       "      <td>0.737430</td>\n",
       "      <td>0.737430</td>\n",
       "      <td>0.737430</td>\n",
       "      <td>0.731378</td>\n",
       "    </tr>\n",
       "    <tr>\n",
       "      <th>median-min-max-PCA</th>\n",
       "      <td>0.703911</td>\n",
       "      <td>0.724395</td>\n",
       "      <td>0.737430</td>\n",
       "      <td>0.728119</td>\n",
       "      <td>0.757914</td>\n",
       "      <td>0.737430</td>\n",
       "      <td>0.739292</td>\n",
       "      <td>0.744879</td>\n",
       "      <td>0.734171</td>\n",
       "    </tr>\n",
       "  </tbody>\n",
       "</table>\n",
       "</div>"
      ],
      "text/plain": [
       "                    Naive_Bayes       KNN  Logistic_regression  Decision_tree  \\\n",
       "mean-z-score           0.748603  0.770950             0.770950       0.737430   \n",
       "median-z-score         0.744879  0.776536             0.770950       0.746741   \n",
       "mean-min-max           0.748603  0.776536             0.772812       0.743017   \n",
       "median-min-max         0.744879  0.778399             0.772812       0.741155   \n",
       "mean-z-score-PCA       0.700186  0.728119             0.720670       0.707635   \n",
       "median-z-score-PCA     0.694600  0.720670             0.726257       0.726257   \n",
       "mean-min-max-PCA       0.700186  0.731844             0.735568       0.715084   \n",
       "median-min-max-PCA     0.703911  0.724395             0.737430       0.728119   \n",
       "\n",
       "                    Random_forest      LSVM       SVM  Gradient_boosting  \\\n",
       "mean-z-score             0.770950  0.765363  0.763501           0.759777   \n",
       "median-z-score           0.780261  0.767225  0.761639           0.765363   \n",
       "mean-min-max             0.778399  0.776536  0.774674           0.757914   \n",
       "median-min-max           0.774674  0.772812  0.772812           0.761639   \n",
       "mean-z-score-PCA         0.754190  0.720670  0.729981           0.744879   \n",
       "median-z-score-PCA       0.750466  0.720670  0.718808           0.741155   \n",
       "mean-min-max-PCA         0.756052  0.737430  0.737430           0.737430   \n",
       "median-min-max-PCA       0.757914  0.737430  0.739292           0.744879   \n",
       "\n",
       "                    Avg_sscore  \n",
       "mean-z-score          0.760940  \n",
       "median-z-score        0.764199  \n",
       "mean-min-max          0.766061  \n",
       "median-min-max        0.764898  \n",
       "mean-z-score-PCA      0.725791  \n",
       "median-z-score-PCA    0.724860  \n",
       "mean-min-max-PCA      0.731378  \n",
       "median-min-max-PCA    0.734171  "
      ]
     },
     "execution_count": 94,
     "metadata": {},
     "output_type": "execute_result"
    }
   ],
   "source": [
    "# creating a dataframe for the score\n",
    "all_score_accuracy_df = pd.DataFrame(all_score, index=['mean-z-score', 'median-z-score', 'mean-min-max',\n",
    "                                              'median-min-max', 'mean-z-score-PCA', 'median-z-score-PCA',\n",
    "                                              'mean-min-max-PCA', 'median-min-max-PCA'])\n",
    "\n",
    "# add an average column to show the mean score of the data from all algorithms\n",
    "all_score_accuracy_df['Avg_sscore'] = all_score_accuracy_df.mean(axis=1)\n",
    "all_score_accuracy_df"
   ]
  },
  {
   "cell_type": "code",
   "execution_count": 95,
   "metadata": {},
   "outputs": [
    {
     "data": {
      "text/html": [
       "<div>\n",
       "<style scoped>\n",
       "    .dataframe tbody tr th:only-of-type {\n",
       "        vertical-align: middle;\n",
       "    }\n",
       "\n",
       "    .dataframe tbody tr th {\n",
       "        vertical-align: top;\n",
       "    }\n",
       "\n",
       "    .dataframe thead th {\n",
       "        text-align: right;\n",
       "    }\n",
       "</style>\n",
       "<table border=\"1\" class=\"dataframe\">\n",
       "  <thead>\n",
       "    <tr style=\"text-align: right;\">\n",
       "      <th></th>\n",
       "      <th>Naive_Bayes</th>\n",
       "      <th>KNN</th>\n",
       "      <th>Logistic_regression</th>\n",
       "      <th>Decision_tree</th>\n",
       "      <th>Random_forest</th>\n",
       "      <th>LSVM</th>\n",
       "      <th>SVM</th>\n",
       "      <th>Gradient_boosting</th>\n",
       "    </tr>\n",
       "  </thead>\n",
       "  <tbody>\n",
       "    <tr>\n",
       "      <th>mean-z-score</th>\n",
       "      <td>{'var_smoothing': 1e-11}</td>\n",
       "      <td>{'n_neighbors': 9}</td>\n",
       "      <td>{'C': 0.1, 'penalty': 'l1'}</td>\n",
       "      <td>{'criterion': 'gini', 'max_depth': 5}</td>\n",
       "      <td>{'max_depth': 3, 'n_estimators': 500}</td>\n",
       "      <td>{'C': 0.01, 'penalty': 'l2'}</td>\n",
       "      <td>{'C': 1, 'kernel': 'rbf'}</td>\n",
       "      <td>{'learning_rate': 0.05, 'n_estimators': 100}</td>\n",
       "    </tr>\n",
       "    <tr>\n",
       "      <th>median-z-score</th>\n",
       "      <td>{'var_smoothing': 1e-11}</td>\n",
       "      <td>{'n_neighbors': 11}</td>\n",
       "      <td>{'C': 0.1, 'penalty': 'l1'}</td>\n",
       "      <td>{'criterion': 'gini', 'max_depth': 5}</td>\n",
       "      <td>{'max_depth': 9, 'n_estimators': 50}</td>\n",
       "      <td>{'C': 0.1, 'penalty': 'l2'}</td>\n",
       "      <td>{'C': 1, 'kernel': 'rbf'}</td>\n",
       "      <td>{'learning_rate': 0.05, 'n_estimators': 100}</td>\n",
       "    </tr>\n",
       "    <tr>\n",
       "      <th>mean-min-max</th>\n",
       "      <td>{'var_smoothing': 1e-11}</td>\n",
       "      <td>{'n_neighbors': 9}</td>\n",
       "      <td>{'C': 1, 'penalty': 'l2'}</td>\n",
       "      <td>{'criterion': 'gini', 'max_depth': 5}</td>\n",
       "      <td>{'max_depth': 5, 'n_estimators': 100}</td>\n",
       "      <td>{'C': 0.1, 'penalty': 'l2'}</td>\n",
       "      <td>{'C': 100, 'kernel': 'poly'}</td>\n",
       "      <td>{'learning_rate': 0.01, 'n_estimators': 500}</td>\n",
       "    </tr>\n",
       "    <tr>\n",
       "      <th>median-min-max</th>\n",
       "      <td>{'var_smoothing': 1e-11}</td>\n",
       "      <td>{'n_neighbors': 9}</td>\n",
       "      <td>{'C': 1, 'penalty': 'l2'}</td>\n",
       "      <td>{'criterion': 'gini', 'max_depth': 5}</td>\n",
       "      <td>{'max_depth': 9, 'n_estimators': 100}</td>\n",
       "      <td>{'C': 0.1, 'penalty': 'l2'}</td>\n",
       "      <td>{'C': 100, 'kernel': 'poly'}</td>\n",
       "      <td>{'learning_rate': 0.05, 'n_estimators': 100}</td>\n",
       "    </tr>\n",
       "    <tr>\n",
       "      <th>mean-z-score-PCA</th>\n",
       "      <td>{'var_smoothing': 1e-11}</td>\n",
       "      <td>{'n_neighbors': 7}</td>\n",
       "      <td>{'C': 0.1, 'penalty': 'l1'}</td>\n",
       "      <td>{'criterion': 'gini', 'max_depth': 3}</td>\n",
       "      <td>{'max_depth': 5, 'n_estimators': 10}</td>\n",
       "      <td>{'C': 0.1, 'penalty': 'l2'}</td>\n",
       "      <td>{'C': 10, 'kernel': 'rbf'}</td>\n",
       "      <td>{'learning_rate': 0.1, 'n_estimators': 50}</td>\n",
       "    </tr>\n",
       "    <tr>\n",
       "      <th>median-z-score-PCA</th>\n",
       "      <td>{'var_smoothing': 1e-11}</td>\n",
       "      <td>{'n_neighbors': 7}</td>\n",
       "      <td>{'C': 0.1, 'penalty': 'l1'}</td>\n",
       "      <td>{'criterion': 'entropy', 'max_depth': 5}</td>\n",
       "      <td>{'max_depth': 3, 'n_estimators': 100}</td>\n",
       "      <td>{'C': 1, 'penalty': 'l2'}</td>\n",
       "      <td>{'C': 1, 'kernel': 'rbf'}</td>\n",
       "      <td>{'learning_rate': 0.05, 'n_estimators': 50}</td>\n",
       "    </tr>\n",
       "    <tr>\n",
       "      <th>mean-min-max-PCA</th>\n",
       "      <td>{'var_smoothing': 1e-11}</td>\n",
       "      <td>{'n_neighbors': 5}</td>\n",
       "      <td>{'C': 10, 'penalty': 'l2'}</td>\n",
       "      <td>{'criterion': 'gini', 'max_depth': 9}</td>\n",
       "      <td>{'max_depth': 3, 'n_estimators': 50}</td>\n",
       "      <td>{'C': 10, 'penalty': 'l2'}</td>\n",
       "      <td>{'C': 1, 'kernel': 'rbf'}</td>\n",
       "      <td>{'learning_rate': 0.01, 'n_estimators': 100}</td>\n",
       "    </tr>\n",
       "    <tr>\n",
       "      <th>median-min-max-PCA</th>\n",
       "      <td>{'var_smoothing': 1e-11}</td>\n",
       "      <td>{'n_neighbors': 7}</td>\n",
       "      <td>{'C': 10, 'penalty': 'l2'}</td>\n",
       "      <td>{'criterion': 'gini', 'max_depth': 3}</td>\n",
       "      <td>{'max_depth': 3, 'n_estimators': 10}</td>\n",
       "      <td>{'C': 10, 'penalty': 'l2'}</td>\n",
       "      <td>{'C': 1, 'kernel': 'rbf'}</td>\n",
       "      <td>{'learning_rate': 0.05, 'n_estimators': 50}</td>\n",
       "    </tr>\n",
       "  </tbody>\n",
       "</table>\n",
       "</div>"
      ],
      "text/plain": [
       "                                 Naive_Bayes                  KNN  \\\n",
       "mean-z-score        {'var_smoothing': 1e-11}   {'n_neighbors': 9}   \n",
       "median-z-score      {'var_smoothing': 1e-11}  {'n_neighbors': 11}   \n",
       "mean-min-max        {'var_smoothing': 1e-11}   {'n_neighbors': 9}   \n",
       "median-min-max      {'var_smoothing': 1e-11}   {'n_neighbors': 9}   \n",
       "mean-z-score-PCA    {'var_smoothing': 1e-11}   {'n_neighbors': 7}   \n",
       "median-z-score-PCA  {'var_smoothing': 1e-11}   {'n_neighbors': 7}   \n",
       "mean-min-max-PCA    {'var_smoothing': 1e-11}   {'n_neighbors': 5}   \n",
       "median-min-max-PCA  {'var_smoothing': 1e-11}   {'n_neighbors': 7}   \n",
       "\n",
       "                            Logistic_regression  \\\n",
       "mean-z-score        {'C': 0.1, 'penalty': 'l1'}   \n",
       "median-z-score      {'C': 0.1, 'penalty': 'l1'}   \n",
       "mean-min-max          {'C': 1, 'penalty': 'l2'}   \n",
       "median-min-max        {'C': 1, 'penalty': 'l2'}   \n",
       "mean-z-score-PCA    {'C': 0.1, 'penalty': 'l1'}   \n",
       "median-z-score-PCA  {'C': 0.1, 'penalty': 'l1'}   \n",
       "mean-min-max-PCA     {'C': 10, 'penalty': 'l2'}   \n",
       "median-min-max-PCA   {'C': 10, 'penalty': 'l2'}   \n",
       "\n",
       "                                               Decision_tree  \\\n",
       "mean-z-score           {'criterion': 'gini', 'max_depth': 5}   \n",
       "median-z-score         {'criterion': 'gini', 'max_depth': 5}   \n",
       "mean-min-max           {'criterion': 'gini', 'max_depth': 5}   \n",
       "median-min-max         {'criterion': 'gini', 'max_depth': 5}   \n",
       "mean-z-score-PCA       {'criterion': 'gini', 'max_depth': 3}   \n",
       "median-z-score-PCA  {'criterion': 'entropy', 'max_depth': 5}   \n",
       "mean-min-max-PCA       {'criterion': 'gini', 'max_depth': 9}   \n",
       "median-min-max-PCA     {'criterion': 'gini', 'max_depth': 3}   \n",
       "\n",
       "                                            Random_forest  \\\n",
       "mean-z-score        {'max_depth': 3, 'n_estimators': 500}   \n",
       "median-z-score       {'max_depth': 9, 'n_estimators': 50}   \n",
       "mean-min-max        {'max_depth': 5, 'n_estimators': 100}   \n",
       "median-min-max      {'max_depth': 9, 'n_estimators': 100}   \n",
       "mean-z-score-PCA     {'max_depth': 5, 'n_estimators': 10}   \n",
       "median-z-score-PCA  {'max_depth': 3, 'n_estimators': 100}   \n",
       "mean-min-max-PCA     {'max_depth': 3, 'n_estimators': 50}   \n",
       "median-min-max-PCA   {'max_depth': 3, 'n_estimators': 10}   \n",
       "\n",
       "                                            LSVM  \\\n",
       "mean-z-score        {'C': 0.01, 'penalty': 'l2'}   \n",
       "median-z-score       {'C': 0.1, 'penalty': 'l2'}   \n",
       "mean-min-max         {'C': 0.1, 'penalty': 'l2'}   \n",
       "median-min-max       {'C': 0.1, 'penalty': 'l2'}   \n",
       "mean-z-score-PCA     {'C': 0.1, 'penalty': 'l2'}   \n",
       "median-z-score-PCA     {'C': 1, 'penalty': 'l2'}   \n",
       "mean-min-max-PCA      {'C': 10, 'penalty': 'l2'}   \n",
       "median-min-max-PCA    {'C': 10, 'penalty': 'l2'}   \n",
       "\n",
       "                                             SVM  \\\n",
       "mean-z-score           {'C': 1, 'kernel': 'rbf'}   \n",
       "median-z-score         {'C': 1, 'kernel': 'rbf'}   \n",
       "mean-min-max        {'C': 100, 'kernel': 'poly'}   \n",
       "median-min-max      {'C': 100, 'kernel': 'poly'}   \n",
       "mean-z-score-PCA      {'C': 10, 'kernel': 'rbf'}   \n",
       "median-z-score-PCA     {'C': 1, 'kernel': 'rbf'}   \n",
       "mean-min-max-PCA       {'C': 1, 'kernel': 'rbf'}   \n",
       "median-min-max-PCA     {'C': 1, 'kernel': 'rbf'}   \n",
       "\n",
       "                                               Gradient_boosting  \n",
       "mean-z-score        {'learning_rate': 0.05, 'n_estimators': 100}  \n",
       "median-z-score      {'learning_rate': 0.05, 'n_estimators': 100}  \n",
       "mean-min-max        {'learning_rate': 0.01, 'n_estimators': 500}  \n",
       "median-min-max      {'learning_rate': 0.05, 'n_estimators': 100}  \n",
       "mean-z-score-PCA      {'learning_rate': 0.1, 'n_estimators': 50}  \n",
       "median-z-score-PCA   {'learning_rate': 0.05, 'n_estimators': 50}  \n",
       "mean-min-max-PCA    {'learning_rate': 0.01, 'n_estimators': 100}  \n",
       "median-min-max-PCA   {'learning_rate': 0.05, 'n_estimators': 50}  "
      ]
     },
     "execution_count": 95,
     "metadata": {},
     "output_type": "execute_result"
    }
   ],
   "source": [
    "all_params_accuracy_df = pd.DataFrame(all_params, index=['mean-z-score', 'median-z-score', 'mean-min-max',\n",
    "                                              'median-min-max', 'mean-z-score-PCA', 'median-z-score-PCA',\n",
    "                                              'mean-min-max-PCA', 'median-min-max-PCA'])\n",
    "all_params_accuracy_df"
   ]
  },
  {
   "cell_type": "code",
   "execution_count": 96,
   "metadata": {},
   "outputs": [
    {
     "data": {
      "text/plain": [
       "Random_forest          0.765363\n",
       "Gradient_boosting      0.751629\n",
       "Logistic_regression    0.750931\n",
       "KNN                    0.750931\n",
       "SVM                    0.749767\n",
       "LSVM                   0.749767\n",
       "Avg_sscore             0.746537\n",
       "Decision_tree          0.730680\n",
       "Naive_Bayes            0.723231\n",
       "dtype: float64"
      ]
     },
     "execution_count": 96,
     "metadata": {},
     "output_type": "execute_result"
    }
   ],
   "source": [
    "# sort the average score of all algorithms\n",
    "all_score_accuracy_df.mean().sort_values(ascending=False)"
   ]
  },
  {
   "cell_type": "code",
   "execution_count": 97,
   "metadata": {},
   "outputs": [
    {
     "data": {
      "text/plain": [
       "mean-min-max          0.766061\n",
       "median-min-max        0.764898\n",
       "median-z-score        0.764199\n",
       "mean-z-score          0.760940\n",
       "median-min-max-PCA    0.734171\n",
       "mean-min-max-PCA      0.731378\n",
       "mean-z-score-PCA      0.725791\n",
       "median-z-score-PCA    0.724860\n",
       "Name: Avg_sscore, dtype: float64"
      ]
     },
     "execution_count": 97,
     "metadata": {},
     "output_type": "execute_result"
    }
   ],
   "source": [
    "# sort the average score of all data\n",
    "all_score_accuracy_df['Avg_sscore'].sort_values(ascending=False)"
   ]
  },
  {
   "cell_type": "markdown",
   "metadata": {},
   "source": [
    "Looks like we have a winner here if we just take the average score of all the data, the random forest algorithm outperforms the other algorithm and the simple algorithm naive bayes, as expected, has the average lowest score. From the processed data point of view, we can see that the `mean-min-max` data has the highest score among all and the PCA method in general has the lower score than the feature engineering method "
   ]
  },
  {
   "cell_type": "markdown",
   "metadata": {},
   "source": [
    "Our next step is to use the best two in each algorithm on our test set to see how it performs on out of sample data, we will define a helper function to assist our goal"
   ]
  },
  {
   "cell_type": "code",
   "execution_count": 98,
   "metadata": {},
   "outputs": [],
   "source": [
    "# test set data dictionary\n",
    "data_all_test = {'mean-z-score': diabetes_mean_X_test_z, 'median-z-score': diabetes_median_X_test_z,\n",
    "'mean-min-max': diabetes_mean_X_test_min_max, 'median-min-max': diabetes_median_X_test_min_max,\n",
    "'mean-z-score-PCA': diabetes_mean_X_test_z_PCA, 'median-z-score-PCA': diabetes_median_X_test_z_PCA,\n",
    "'mean-min-max-PCA': diabetes_mean_X_test_min_max_PCA, 'median-min-max-PCA': diabetes_median_X_test_min_max_PCA}\n",
    "\n",
    "# algorithm dictionary\n",
    "algorithm = {'Naive_Bayes': GaussianNB, 'KNN': KNeighborsClassifier, 'Logistic_regression': LogisticRegression, \n",
    "        'Decision_tree': DecisionTreeClassifier, 'Random_forest': RandomForestClassifier, \n",
    "        'LSVM': LinearSVC, 'SVM': SVC, 'Gradient_boosting': GradientBoostingClassifier}\n",
    "\n",
    "# test score dictionary\n",
    "test_score = {}"
   ]
  },
  {
   "cell_type": "code",
   "execution_count": 99,
   "metadata": {},
   "outputs": [],
   "source": [
    "# define helper function\n",
    "def test_accuracy(algo, top=2): # use the top 2 algorithms as default\n",
    "    from sklearn.metrics import accuracy_score\n",
    "    rank = all_score_accuracy_df.rank(method='first', ascending=False) # get the ranking of data in each algorithm\n",
    "    for data in rank[algo][rank[algo] <= top].index: # pick only the highest two\n",
    "        model = algorithm[algo](**all_params_accuracy_df.loc[data, algo]) # fit the model with the best parameters\n",
    "        model.fit(data_all_train[data], diabetes_y_train)\n",
    "        score = accuracy_score(diabetes_y_test, model.predict(data_all_test[data]))\n",
    "        test_score[algo+'_'+data] = round(score,5)\n",
    "        \n",
    "        "
   ]
  },
  {
   "cell_type": "code",
   "execution_count": 100,
   "metadata": {},
   "outputs": [],
   "source": [
    "# run the function for each algorithm\n",
    "for algo in algorithm:\n",
    "    test_accuracy(algo, top=2)"
   ]
  },
  {
   "cell_type": "code",
   "execution_count": 101,
   "metadata": {},
   "outputs": [
    {
     "data": {
      "text/html": [
       "<div>\n",
       "<style scoped>\n",
       "    .dataframe tbody tr th:only-of-type {\n",
       "        vertical-align: middle;\n",
       "    }\n",
       "\n",
       "    .dataframe tbody tr th {\n",
       "        vertical-align: top;\n",
       "    }\n",
       "\n",
       "    .dataframe thead th {\n",
       "        text-align: right;\n",
       "    }\n",
       "</style>\n",
       "<table border=\"1\" class=\"dataframe\">\n",
       "  <thead>\n",
       "    <tr style=\"text-align: right;\">\n",
       "      <th></th>\n",
       "      <th>test_score</th>\n",
       "    </tr>\n",
       "  </thead>\n",
       "  <tbody>\n",
       "    <tr>\n",
       "      <th>Random_forest_mean-min-max</th>\n",
       "      <td>0.77056</td>\n",
       "    </tr>\n",
       "    <tr>\n",
       "      <th>SVM_median-min-max</th>\n",
       "      <td>0.77056</td>\n",
       "    </tr>\n",
       "    <tr>\n",
       "      <th>SVM_mean-min-max</th>\n",
       "      <td>0.76623</td>\n",
       "    </tr>\n",
       "    <tr>\n",
       "      <th>Naive_Bayes_mean-z-score</th>\n",
       "      <td>0.75758</td>\n",
       "    </tr>\n",
       "    <tr>\n",
       "      <th>Naive_Bayes_mean-min-max</th>\n",
       "      <td>0.75758</td>\n",
       "    </tr>\n",
       "    <tr>\n",
       "      <th>Random_forest_median-z-score</th>\n",
       "      <td>0.75325</td>\n",
       "    </tr>\n",
       "    <tr>\n",
       "      <th>Logistic_regression_mean-min-max</th>\n",
       "      <td>0.74892</td>\n",
       "    </tr>\n",
       "    <tr>\n",
       "      <th>Logistic_regression_median-min-max</th>\n",
       "      <td>0.74892</td>\n",
       "    </tr>\n",
       "    <tr>\n",
       "      <th>LSVM_mean-min-max</th>\n",
       "      <td>0.74892</td>\n",
       "    </tr>\n",
       "    <tr>\n",
       "      <th>LSVM_median-min-max</th>\n",
       "      <td>0.74892</td>\n",
       "    </tr>\n",
       "    <tr>\n",
       "      <th>Gradient_boosting_median-z-score</th>\n",
       "      <td>0.74892</td>\n",
       "    </tr>\n",
       "    <tr>\n",
       "      <th>Gradient_boosting_median-min-max</th>\n",
       "      <td>0.74892</td>\n",
       "    </tr>\n",
       "    <tr>\n",
       "      <th>KNN_median-z-score</th>\n",
       "      <td>0.74026</td>\n",
       "    </tr>\n",
       "    <tr>\n",
       "      <th>Decision_tree_median-z-score</th>\n",
       "      <td>0.74026</td>\n",
       "    </tr>\n",
       "    <tr>\n",
       "      <th>KNN_median-min-max</th>\n",
       "      <td>0.73160</td>\n",
       "    </tr>\n",
       "    <tr>\n",
       "      <th>Decision_tree_mean-min-max</th>\n",
       "      <td>0.73160</td>\n",
       "    </tr>\n",
       "  </tbody>\n",
       "</table>\n",
       "</div>"
      ],
      "text/plain": [
       "                                    test_score\n",
       "Random_forest_mean-min-max             0.77056\n",
       "SVM_median-min-max                     0.77056\n",
       "SVM_mean-min-max                       0.76623\n",
       "Naive_Bayes_mean-z-score               0.75758\n",
       "Naive_Bayes_mean-min-max               0.75758\n",
       "Random_forest_median-z-score           0.75325\n",
       "Logistic_regression_mean-min-max       0.74892\n",
       "Logistic_regression_median-min-max     0.74892\n",
       "LSVM_mean-min-max                      0.74892\n",
       "LSVM_median-min-max                    0.74892\n",
       "Gradient_boosting_median-z-score       0.74892\n",
       "Gradient_boosting_median-min-max       0.74892\n",
       "KNN_median-z-score                     0.74026\n",
       "Decision_tree_median-z-score           0.74026\n",
       "KNN_median-min-max                     0.73160\n",
       "Decision_tree_mean-min-max             0.73160"
      ]
     },
     "execution_count": 101,
     "metadata": {},
     "output_type": "execute_result"
    }
   ],
   "source": [
    "# create a dataframe to list all the score\n",
    "all_test_df = pd.DataFrame(test_score, index=['test_score'])\n",
    "all_test_df = all_test_df.T.sort_values(by='test_score', ascending=False)\n",
    "all_test_df"
   ]
  },
  {
   "cell_type": "markdown",
   "metadata": {},
   "source": [
    "From the table above, we can see that the highest accuracy score we got from the test set is 0.7965, this is close to 80% and is definitely better than our base score 65.1%, note that none of the processed data has the PCA component, since we only chose the first two pricipal components for our use, retain around 60% of our original variance, this will certainly lost some information from the original data, our last step is to pick the top 4 algorithm/data to test the consistency of our model, we will use the concept of boostrapping"
   ]
  },
  {
   "cell_type": "markdown",
   "metadata": {},
   "source": [
    "#### Bootstrapping to test model consistency"
   ]
  },
  {
   "cell_type": "markdown",
   "metadata": {},
   "source": [
    "Bootstrapping is a test on random sampling with replacement, we will use it to test our model consistency, the process is basically take a random sample from our test set, use the model to predict the sample outcome and record the accuracy score, replace the sample and resample again to repeat the process, we will do this for 2000 times and see the distribution of accuracy score from random sampling, we will pick 100 samples from the test set for each iteration"
   ]
  },
  {
   "cell_type": "code",
   "execution_count": 102,
   "metadata": {},
   "outputs": [],
   "source": [
    "# define helper function to plot the distribution of test score from random sampling\n",
    "def bootstrapping(algo, data, kde=True):\n",
    "    from sklearn.metrics import accuracy_score\n",
    "    \n",
    "    model = algorithm[algo](**all_params_accuracy_df.loc[data, algo])\n",
    "    model.fit(data_all_train[data], diabetes_y_train)\n",
    "    temp_data = pd.concat([data_all_test[data], diabetes_y_test], axis=1) # concatenate the outcome to sample together\n",
    "    score_list = []\n",
    "    for i in range(2000):\n",
    "        sample = temp_data.sample(100)\n",
    "        score = accuracy_score(sample[0], model.predict(sample.drop([0], axis=1)))\n",
    "        score_list.append(score)\n",
    "    \n",
    "    \n",
    "    fig, ax = plt.subplots(1,1,figsize=(15,10))\n",
    "    ax = sns.distplot(score_list, kde=kde)\n",
    "    ax.set_title('Accuracy score distribution from test set', size=18)\n",
    "    ax.set_xlabel('Score')\n",
    "    if not kde:\n",
    "        ax.set_ylabel('Count')\n",
    "    plt.show()\n",
    "    score_mean = np.mean(score_list)\n",
    "    score_std = np.std(score_list)\n",
    "    print('Average test score from random sampling: {}'.format(score_mean))\n",
    "    print('CV% of test score from random sampling: {}'.format(score_std/score_mean*100))\n",
    "   "
   ]
  },
  {
   "cell_type": "code",
   "execution_count": 103,
   "metadata": {},
   "outputs": [],
   "source": [
    "# define a helper function to generate sample index\n",
    "def sample_index(size=100, iteration=2000):\n",
    "    index_dict = {}\n",
    "    for i in range(iteration):\n",
    "        index = diabetes_y_test.sample(size, replace=True).index\n",
    "        index_dict[i] = index\n",
    "    return index_dict"
   ]
  },
  {
   "cell_type": "code",
   "execution_count": 104,
   "metadata": {},
   "outputs": [],
   "source": [
    "# define helper function to plot the distribution of test score from random sampling\n",
    "def bootstrapping(algo, data, index, kde=True):\n",
    "    from sklearn.metrics import accuracy_score\n",
    "    model = algorithm[algo](**all_params_accuracy_df.loc[data, algo])\n",
    "    model.fit(data_all_train[data], diabetes_y_train)\n",
    "    temp_data = pd.concat([data_all_test[data], diabetes_y_test], axis=1) # concatenate the outcome to sample together\n",
    "    score_list = []\n",
    "    \n",
    "    for i in range(len(index)):\n",
    "        sample = temp_data.iloc[index[i]]\n",
    "        score = accuracy_score(sample[0], model.predict(sample.drop([0], axis=1)))\n",
    "        score_list.append(score)\n",
    "    \n",
    "    \n",
    "    fig, ax = plt.subplots(1,1,figsize=(15,10))\n",
    "    ax = sns.distplot(score_list, kde=kde)\n",
    "    ax.set_title('Accuracy score distribution from test set', size=18)\n",
    "    ax.set_xlabel('Score')\n",
    "    if not kde:\n",
    "        ax.set_ylabel('Count')\n",
    "    plt.show()\n",
    "    score_mean = np.mean(score_list)\n",
    "    score_std = np.std(score_list)\n",
    "    print('Average test score from random sampling: {}'.format(score_mean))\n",
    "    print('CV% of test score from random sampling: {}'.format(score_std/score_mean*100))\n",
    "   "
   ]
  },
  {
   "cell_type": "markdown",
   "metadata": {},
   "source": [
    "We will use the function `sample_index` first to fix the index and use those for every model to ensure a fair game for comparison"
   ]
  },
  {
   "cell_type": "code",
   "execution_count": 105,
   "metadata": {},
   "outputs": [],
   "source": [
    "index = sample_index()"
   ]
  },
  {
   "cell_type": "markdown",
   "metadata": {},
   "source": [
    "#### Random_forest_mean-z-score\t"
   ]
  },
  {
   "cell_type": "code",
   "execution_count": 106,
   "metadata": {},
   "outputs": [
    {
     "data": {
      "image/png": "[encoded data removed]",
      "text/plain": [
       "<Figure size 1080x720 with 1 Axes>"
      ]
     },
     "metadata": {},
     "output_type": "display_data"
    },
    {
     "name": "stdout",
     "output_type": "stream",
     "text": [
      "Average test score from random sampling: 0.7439049999999999\n",
      "CV% of test score from random sampling: 5.835070859381091\n"
     ]
    }
   ],
   "source": [
    "bootstrapping('Random_forest', 'mean-z-score', index=index)"
   ]
  },
  {
   "cell_type": "markdown",
   "metadata": {},
   "source": [
    "#### SVM_median-min-max"
   ]
  },
  {
   "cell_type": "code",
   "execution_count": 107,
   "metadata": {},
   "outputs": [
    {
     "data": {
      "image/png": "[encoded data removed]",
      "text/plain": [
       "<Figure size 1080x720 with 1 Axes>"
      ]
     },
     "metadata": {},
     "output_type": "display_data"
    },
    {
     "name": "stdout",
     "output_type": "stream",
     "text": [
      "Average test score from random sampling: 0.7686099999999999\n",
      "CV% of test score from random sampling: 5.481062470642016\n"
     ]
    }
   ],
   "source": [
    "bootstrapping('SVM', 'median-min-max', index=index)"
   ]
  },
  {
   "cell_type": "markdown",
   "metadata": {},
   "source": [
    "#### SVM_mean-min-max"
   ]
  },
  {
   "cell_type": "code",
   "execution_count": 108,
   "metadata": {},
   "outputs": [
    {
     "data": {
      "image/png": "[encoded data removed]",
      "text/plain": [
       "<Figure size 1080x720 with 1 Axes>"
      ]
     },
     "metadata": {},
     "output_type": "display_data"
    },
    {
     "name": "stdout",
     "output_type": "stream",
     "text": [
      "Average test score from random sampling: 0.764445\n",
      "CV% of test score from random sampling: 5.551645176410778\n"
     ]
    }
   ],
   "source": [
    "bootstrapping('SVM', 'mean-min-max', index=index)"
   ]
  },
  {
   "cell_type": "markdown",
   "metadata": {},
   "source": [
    "#### Gradient_boosting_median-z-score\t"
   ]
  },
  {
   "cell_type": "code",
   "execution_count": 109,
   "metadata": {},
   "outputs": [
    {
     "data": {
      "image/png": "[encoded data removed]",
      "text/plain": [
       "<Figure size 1080x720 with 1 Axes>"
      ]
     },
     "metadata": {},
     "output_type": "display_data"
    },
    {
     "name": "stdout",
     "output_type": "stream",
     "text": [
      "Average test score from random sampling: 0.7519049999999999\n",
      "CV% of test score from random sampling: 5.697614232557526\n"
     ]
    }
   ],
   "source": [
    "bootstrapping('Gradient_boosting', 'median-z-score', index=index)"
   ]
  },
  {
   "cell_type": "markdown",
   "metadata": {},
   "source": [
    "### Conclusions\n",
    "In this notebook, we have used the accuracy as for our evaluation metric to find out the best model, we first use the training set and cross validation method to find out the best hyperparameters and algorithms/data combination, then we picked the top performers in each algorithms and use them on the test set, further filter out the top models and use the bootstrapping to see the consistency of out-of-sample performance by random sampling, we have found:\n",
    "1. Ensemble model like random forest and graident boosting have better performance in general, however the required amount of time to train is much longer than the other simpler models, this can be a disadvantage in big data regime\n",
    "2. PCA method seems to have no help in improving model performance, this could be due to the lost of explained variance from the original data\n",
    "3. When testing the out-of-sample performance and consistency using bootstrapping, there did not seem to exist too much difference between the top performers we filtered out from the test set accuracy score\n",
    "4. Since the model fitting time is pretty critical as well, we will select `SVM_median-min-max` to be our best model in this notebook, since the average model traning time is 0.007sec, a lot lower than the other top performers, and the average score, consistency are also comparable with the other top performers"
   ]
  }
 ],
 "metadata": {
  "kernelspec": {
   "display_name": "Python 3",
   "language": "python",
   "name": "python3"
  },
  "language_info": {
   "codemirror_mode": {
    "name": "ipython",
    "version": 3
   },
   "file_extension": ".py",
   "mimetype": "text/x-python",
   "name": "python",
   "nbconvert_exporter": "python",
   "pygments_lexer": "ipython3",
   "version": "3.7.0"
  }
 },
 "nbformat": 4,
 "nbformat_minor": 2
}
