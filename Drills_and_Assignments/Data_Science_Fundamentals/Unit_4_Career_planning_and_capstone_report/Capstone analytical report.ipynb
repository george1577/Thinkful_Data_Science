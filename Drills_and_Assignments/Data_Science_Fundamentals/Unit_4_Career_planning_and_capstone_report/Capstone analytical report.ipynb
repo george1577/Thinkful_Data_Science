{
 "cells": [
  {
   "cell_type": "code",
   "execution_count": 1,
   "metadata": {},
   "outputs": [],
   "source": [
    "%matplotlib inline\n",
    "import pandas as pd\n",
    "import numpy as np\n",
    "import matplotlib.pyplot as plt\n",
    "import seaborn as sns"
   ]
  },
  {
   "cell_type": "markdown",
   "metadata": {},
   "source": [
    "# Wine Reviews Data Exploration\n",
    "## Data\n",
    "This is the dataset I found on [Kaggle](https://www.kaggle.com/zynicide/wine-reviews), the original dataset was scraped from [WineEnthusiast](https://www.winemag.com/?s=&drink_type=wine). The collection of dataset was inspired by the movie [Somm](https://www.imdb.com/title/tt2204371/), which is a documentary movie that describes four sommeliers attempt to pass the Master Sommelier exam, a test with one of the lowest pass rates in the world.\n",
    "\n",
    "The reason I chose this dataset for my exploration report is that I found wine tasting a pretty important social skills and the more knowledge you have regarding wines, people seems to show more interests and repects of you. This dataset consists of around 280K observations and I think this is a good start of my first capstone project for exploratory data analysis practice.\n",
    "\n",
    "The dataset conssits of 2 tables, which were basically scraped in different times, both tables contain country, description, designation, points, price, province, regions, variety and winery. One of the table has more information about taster name, taster twitter handle and title of the wine review. \n",
    "\n"
   ]
  },
  {
   "cell_type": "markdown",
   "metadata": {},
   "source": [
    "## Analytic Questions\n",
    "### 1. What are the type of grapes that are mostly used to make the wine in each country? Further break down the information for US by state\n",
    "\n"
   ]
  },
  {
   "cell_type": "code",
   "execution_count": null,
   "metadata": {},
   "outputs": [],
   "source": []
  }
 ],
 "metadata": {
  "kernelspec": {
   "display_name": "Python 3",
   "language": "python",
   "name": "python3"
  },
  "language_info": {
   "codemirror_mode": {
    "name": "ipython",
    "version": 3
   },
   "file_extension": ".py",
   "mimetype": "text/x-python",
   "name": "python",
   "nbconvert_exporter": "python",
   "pygments_lexer": "ipython3",
   "version": "3.7.0"
  }
 },
 "nbformat": 4,
 "nbformat_minor": 2
}
