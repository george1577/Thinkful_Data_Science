{
 "cells": [
  {
   "cell_type": "code",
   "execution_count": 1,
   "metadata": {},
   "outputs": [],
   "source": [
    "%matplotlib inline\n",
    "import pandas as pd\n",
    "import numpy as np\n",
    "import matplotlib.pyplot as plt\n",
    "import seaborn as sns\n",
    "import scipy.stats"
   ]
  },
  {
   "cell_type": "code",
   "execution_count": 4,
   "metadata": {},
   "outputs": [
    {
     "data": {
      "text/plain": [
       "(2709, 10)"
      ]
     },
     "execution_count": 4,
     "metadata": {},
     "output_type": "execute_result"
    }
   ],
   "source": [
    "plane_crash = pd.read_csv('data/plane_crashes_data.csv')\n",
    "plane_crash.shape"
   ]
  },
  {
   "cell_type": "code",
   "execution_count": 3,
   "metadata": {},
   "outputs": [
    {
     "data": {
      "text/html": [
       "<div>\n",
       "<style scoped>\n",
       "    .dataframe tbody tr th:only-of-type {\n",
       "        vertical-align: middle;\n",
       "    }\n",
       "\n",
       "    .dataframe tbody tr th {\n",
       "        vertical-align: top;\n",
       "    }\n",
       "\n",
       "    .dataframe thead th {\n",
       "        text-align: right;\n",
       "    }\n",
       "</style>\n",
       "<table border=\"1\" class=\"dataframe\">\n",
       "  <thead>\n",
       "    <tr style=\"text-align: right;\">\n",
       "      <th></th>\n",
       "      <th>month</th>\n",
       "      <th>hour</th>\n",
       "      <th>year</th>\n",
       "      <th>location</th>\n",
       "      <th>operator</th>\n",
       "      <th>route</th>\n",
       "      <th>type</th>\n",
       "      <th>aboard</th>\n",
       "      <th>fatalities</th>\n",
       "      <th>summary</th>\n",
       "    </tr>\n",
       "  </thead>\n",
       "  <tbody>\n",
       "    <tr>\n",
       "      <th>0</th>\n",
       "      <td>1</td>\n",
       "      <td>12</td>\n",
       "      <td>1950</td>\n",
       "      <td>Near Vacas, Bolivia</td>\n",
       "      <td>Military - Bolivian Air Force</td>\n",
       "      <td>Valle grande - Cochabamba</td>\n",
       "      <td>Douglas C-47</td>\n",
       "      <td>32</td>\n",
       "      <td>32</td>\n",
       "      <td>Crashed while en route in the Andes mountains ...</td>\n",
       "    </tr>\n",
       "    <tr>\n",
       "      <th>1</th>\n",
       "      <td>3</td>\n",
       "      <td>20</td>\n",
       "      <td>1950</td>\n",
       "      <td>Minneapolis, Minnesota</td>\n",
       "      <td>Northwest Orient Airlines</td>\n",
       "      <td>Rochester Minn. - Minneapolis</td>\n",
       "      <td>Martin 202</td>\n",
       "      <td>13</td>\n",
       "      <td>13</td>\n",
       "      <td>Crashed into a flag pole, well marked by red n...</td>\n",
       "    </tr>\n",
       "    <tr>\n",
       "      <th>2</th>\n",
       "      <td>3</td>\n",
       "      <td>14</td>\n",
       "      <td>1950</td>\n",
       "      <td>Llandow Airport, Cardiff, Wales</td>\n",
       "      <td>Fairflight Ltd.</td>\n",
       "      <td>Llandow - Dublin</td>\n",
       "      <td>Avro 689 Tudor 5</td>\n",
       "      <td>83</td>\n",
       "      <td>80</td>\n",
       "      <td>During the approach to Runway 28 at Llandow Ai...</td>\n",
       "    </tr>\n",
       "    <tr>\n",
       "      <th>3</th>\n",
       "      <td>4</td>\n",
       "      <td>23</td>\n",
       "      <td>1950</td>\n",
       "      <td>Near Atsugi, Japan</td>\n",
       "      <td>Military - U.S. Air Force</td>\n",
       "      <td>Philippines - Japan</td>\n",
       "      <td>Douglas C-54D</td>\n",
       "      <td>35</td>\n",
       "      <td>35</td>\n",
       "      <td>Flew off its prescribed course and crashed int...</td>\n",
       "    </tr>\n",
       "    <tr>\n",
       "      <th>4</th>\n",
       "      <td>5</td>\n",
       "      <td>20</td>\n",
       "      <td>1950</td>\n",
       "      <td>Lagens Air Force Base, Azores</td>\n",
       "      <td>Military - U.S. Air Force</td>\n",
       "      <td>Bermuda - England</td>\n",
       "      <td>Boeing B-29</td>\n",
       "      <td>16</td>\n",
       "      <td>16</td>\n",
       "      <td>Crashed while attempting to land after being d...</td>\n",
       "    </tr>\n",
       "  </tbody>\n",
       "</table>\n",
       "</div>"
      ],
      "text/plain": [
       "   month hour  year                         location  \\\n",
       "0      1   12  1950              Near Vacas, Bolivia   \n",
       "1      3   20  1950           Minneapolis, Minnesota   \n",
       "2      3   14  1950  Llandow Airport, Cardiff, Wales   \n",
       "3      4   23  1950               Near Atsugi, Japan   \n",
       "4      5   20  1950    Lagens Air Force Base, Azores   \n",
       "\n",
       "                        operator                          route  \\\n",
       "0  Military - Bolivian Air Force      Valle grande - Cochabamba   \n",
       "1      Northwest Orient Airlines  Rochester Minn. - Minneapolis   \n",
       "2                Fairflight Ltd.               Llandow - Dublin   \n",
       "3      Military - U.S. Air Force            Philippines - Japan   \n",
       "4      Military - U.S. Air Force              Bermuda - England   \n",
       "\n",
       "               type  aboard  fatalities  \\\n",
       "0      Douglas C-47      32          32   \n",
       "1        Martin 202      13          13   \n",
       "2  Avro 689 Tudor 5      83          80   \n",
       "3     Douglas C-54D      35          35   \n",
       "4       Boeing B-29      16          16   \n",
       "\n",
       "                                             summary  \n",
       "0  Crashed while en route in the Andes mountains ...  \n",
       "1  Crashed into a flag pole, well marked by red n...  \n",
       "2  During the approach to Runway 28 at Llandow Ai...  \n",
       "3  Flew off its prescribed course and crashed int...  \n",
       "4  Crashed while attempting to land after being d...  "
      ]
     },
     "execution_count": 3,
     "metadata": {},
     "output_type": "execute_result"
    }
   ],
   "source": [
    "plane_crash.head()"
   ]
  },
  {
   "cell_type": "markdown",
   "metadata": {},
   "source": [
    "### What is the mean for number of people killed in plane crashes for the years 1980 to 2009 (inclusive of both years, rounded to the nearest 100th decimal place)?"
   ]
  },
  {
   "cell_type": "code",
   "execution_count": 19,
   "metadata": {},
   "outputs": [
    {
     "data": {
      "text/plain": [
       "24.932607215793055"
      ]
     },
     "execution_count": 19,
     "metadata": {},
     "output_type": "execute_result"
    }
   ],
   "source": [
    "plane_1980_2009 = plane_crash[(plane_crash['year']>=1980) & (plane_crash['year']<=2009)]\n",
    "plane_1980_2009['fatalities'].mean()                                                           "
   ]
  },
  {
   "cell_type": "markdown",
   "metadata": {},
   "source": [
    "### For the entire time period (1950 to 2009), which month has seen the most plane crashes?"
   ]
  },
  {
   "cell_type": "code",
   "execution_count": 11,
   "metadata": {},
   "outputs": [
    {
     "data": {
      "text/plain": [
       "1     255\n",
       "12    252\n",
       "3     251\n",
       "8     239\n",
       "7     234\n",
       "11    230\n",
       "9     228\n",
       "10    224\n",
       "2     209\n",
       "4     204\n",
       "6     202\n",
       "5     181\n",
       "Name: month, dtype: int64"
      ]
     },
     "execution_count": 11,
     "metadata": {},
     "output_type": "execute_result"
    }
   ],
   "source": [
    "plane_crash['month'].value_counts()"
   ]
  },
  {
   "cell_type": "markdown",
   "metadata": {},
   "source": [
    "### What is the highest number of fatalities in a single crash?"
   ]
  },
  {
   "cell_type": "code",
   "execution_count": 12,
   "metadata": {},
   "outputs": [
    {
     "data": {
      "text/plain": [
       "583"
      ]
     },
     "execution_count": 12,
     "metadata": {},
     "output_type": "execute_result"
    }
   ],
   "source": [
    "plane_crash['fatalities'].max()"
   ]
  },
  {
   "cell_type": "markdown",
   "metadata": {},
   "source": [
    "### What percentage of crashed flights have had 1 or more fatalities?"
   ]
  },
  {
   "cell_type": "code",
   "execution_count": 14,
   "metadata": {},
   "outputs": [
    {
     "data": {
      "text/plain": [
       "98.19121447028424"
      ]
     },
     "execution_count": 14,
     "metadata": {},
     "output_type": "execute_result"
    }
   ],
   "source": [
    "plane_crash[plane_crash['fatalities']>0].shape[0] / plane_crash.shape[0] * 100"
   ]
  },
  {
   "cell_type": "markdown",
   "metadata": {},
   "source": [
    "### What is the average percent of passengers (inclusive of crew) killed per plane crash for the entire period? *"
   ]
  },
  {
   "cell_type": "code",
   "execution_count": 16,
   "metadata": {},
   "outputs": [
    {
     "data": {
      "text/plain": [
       "82.31319223510573"
      ]
     },
     "execution_count": 16,
     "metadata": {},
     "output_type": "execute_result"
    }
   ],
   "source": [
    "plane_crash['percent_kill'] = plane_crash['fatalities'] / plane_crash['aboard'] * 100\n",
    "plane_crash['percent_kill'].mean()"
   ]
  },
  {
   "cell_type": "code",
   "execution_count": null,
   "metadata": {},
   "outputs": [],
   "source": []
  }
 ],
 "metadata": {
  "kernelspec": {
   "display_name": "Python 3",
   "language": "python",
   "name": "python3"
  },
  "language_info": {
   "codemirror_mode": {
    "name": "ipython",
    "version": 3
   },
   "file_extension": ".py",
   "mimetype": "text/x-python",
   "name": "python",
   "nbconvert_exporter": "python",
   "pygments_lexer": "ipython3",
   "version": "3.7.0"
  }
 },
 "nbformat": 4,
 "nbformat_minor": 2
}
