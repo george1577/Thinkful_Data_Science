{
 "cells": [
  {
   "cell_type": "markdown",
   "metadata": {},
   "source": [
    "# Narrative analytics and experimentation"
   ]
  },
  {
   "cell_type": "code",
   "execution_count": 1,
   "metadata": {},
   "outputs": [],
   "source": [
    "# set up environment and import modules\n",
    "import numpy as np\n",
    "import pandas as pd\n",
    "import matplotlib.pyplot as plt\n",
    "import seaborn as sns\n",
    "import warnings\n",
    "warnings.filterwarnings(\"ignore\")\n",
    "%matplotlib inline"
   ]
  },
  {
   "cell_type": "markdown",
   "metadata": {},
   "source": [
    "## Exploring dataset\n",
    "This dataset is from [IBM sample data sets](https://www.ibm.com/communities/analytics/watson-analytics-blog/guide-to-sample-datasets/), the dataset compose of data that describes several factors that comes into play of account receivable collections."
   ]
  },
  {
   "cell_type": "code",
   "execution_count": 3,
   "metadata": {},
   "outputs": [
    {
     "data": {
      "text/html": [
       "<div>\n",
       "<style scoped>\n",
       "    .dataframe tbody tr th:only-of-type {\n",
       "        vertical-align: middle;\n",
       "    }\n",
       "\n",
       "    .dataframe tbody tr th {\n",
       "        vertical-align: top;\n",
       "    }\n",
       "\n",
       "    .dataframe thead th {\n",
       "        text-align: right;\n",
       "    }\n",
       "</style>\n",
       "<table border=\"1\" class=\"dataframe\">\n",
       "  <thead>\n",
       "    <tr style=\"text-align: right;\">\n",
       "      <th></th>\n",
       "      <th>countryCode</th>\n",
       "      <th>customerID</th>\n",
       "      <th>PaperlessDate</th>\n",
       "      <th>invoiceNumber</th>\n",
       "      <th>InvoiceDate</th>\n",
       "      <th>DueDate</th>\n",
       "      <th>InvoiceAmount</th>\n",
       "      <th>Disputed</th>\n",
       "      <th>SettledDate</th>\n",
       "      <th>PaperlessBill</th>\n",
       "      <th>DaysToSettle</th>\n",
       "      <th>DaysLate</th>\n",
       "    </tr>\n",
       "  </thead>\n",
       "  <tbody>\n",
       "    <tr>\n",
       "      <th>0</th>\n",
       "      <td>391</td>\n",
       "      <td>0379-NEVHP</td>\n",
       "      <td>4/6/2013</td>\n",
       "      <td>611365</td>\n",
       "      <td>1/2/2013</td>\n",
       "      <td>2/1/2013</td>\n",
       "      <td>55.94</td>\n",
       "      <td>No</td>\n",
       "      <td>1/15/2013</td>\n",
       "      <td>Paper</td>\n",
       "      <td>13</td>\n",
       "      <td>0</td>\n",
       "    </tr>\n",
       "    <tr>\n",
       "      <th>1</th>\n",
       "      <td>406</td>\n",
       "      <td>8976-AMJEO</td>\n",
       "      <td>3/3/2012</td>\n",
       "      <td>7900770</td>\n",
       "      <td>1/26/2013</td>\n",
       "      <td>2/25/2013</td>\n",
       "      <td>61.74</td>\n",
       "      <td>Yes</td>\n",
       "      <td>3/3/2013</td>\n",
       "      <td>Electronic</td>\n",
       "      <td>36</td>\n",
       "      <td>6</td>\n",
       "    </tr>\n",
       "    <tr>\n",
       "      <th>2</th>\n",
       "      <td>391</td>\n",
       "      <td>2820-XGXSB</td>\n",
       "      <td>1/26/2012</td>\n",
       "      <td>9231909</td>\n",
       "      <td>7/3/2013</td>\n",
       "      <td>8/2/2013</td>\n",
       "      <td>65.88</td>\n",
       "      <td>No</td>\n",
       "      <td>7/8/2013</td>\n",
       "      <td>Electronic</td>\n",
       "      <td>5</td>\n",
       "      <td>0</td>\n",
       "    </tr>\n",
       "    <tr>\n",
       "      <th>3</th>\n",
       "      <td>406</td>\n",
       "      <td>9322-YCTQO</td>\n",
       "      <td>4/6/2012</td>\n",
       "      <td>9888306</td>\n",
       "      <td>2/10/2013</td>\n",
       "      <td>3/12/2013</td>\n",
       "      <td>105.92</td>\n",
       "      <td>No</td>\n",
       "      <td>3/17/2013</td>\n",
       "      <td>Electronic</td>\n",
       "      <td>35</td>\n",
       "      <td>5</td>\n",
       "    </tr>\n",
       "    <tr>\n",
       "      <th>4</th>\n",
       "      <td>818</td>\n",
       "      <td>6627-ELFBK</td>\n",
       "      <td>11/26/2012</td>\n",
       "      <td>15752855</td>\n",
       "      <td>10/25/2012</td>\n",
       "      <td>11/24/2012</td>\n",
       "      <td>72.27</td>\n",
       "      <td>Yes</td>\n",
       "      <td>11/28/2012</td>\n",
       "      <td>Paper</td>\n",
       "      <td>34</td>\n",
       "      <td>4</td>\n",
       "    </tr>\n",
       "  </tbody>\n",
       "</table>\n",
       "</div>"
      ],
      "text/plain": [
       "   countryCode  customerID PaperlessDate  invoiceNumber InvoiceDate  \\\n",
       "0          391  0379-NEVHP      4/6/2013         611365    1/2/2013   \n",
       "1          406  8976-AMJEO      3/3/2012        7900770   1/26/2013   \n",
       "2          391  2820-XGXSB     1/26/2012        9231909    7/3/2013   \n",
       "3          406  9322-YCTQO      4/6/2012        9888306   2/10/2013   \n",
       "4          818  6627-ELFBK    11/26/2012       15752855  10/25/2012   \n",
       "\n",
       "      DueDate  InvoiceAmount Disputed SettledDate PaperlessBill  DaysToSettle  \\\n",
       "0    2/1/2013          55.94       No   1/15/2013         Paper            13   \n",
       "1   2/25/2013          61.74      Yes    3/3/2013    Electronic            36   \n",
       "2    8/2/2013          65.88       No    7/8/2013    Electronic             5   \n",
       "3   3/12/2013         105.92       No   3/17/2013    Electronic            35   \n",
       "4  11/24/2012          72.27      Yes  11/28/2012         Paper            34   \n",
       "\n",
       "   DaysLate  \n",
       "0         0  \n",
       "1         6  \n",
       "2         0  \n",
       "3         5  \n",
       "4         4  "
      ]
     },
     "execution_count": 3,
     "metadata": {},
     "output_type": "execute_result"
    }
   ],
   "source": [
    "# read in dataset\n",
    "data = pd.read_csv('data/WA_Fn-UseC_-Accounts-Receivable.csv')\n",
    "data.head()"
   ]
  },
  {
   "cell_type": "code",
   "execution_count": 4,
   "metadata": {},
   "outputs": [
    {
     "name": "stdout",
     "output_type": "stream",
     "text": [
      "<class 'pandas.core.frame.DataFrame'>\n",
      "RangeIndex: 2466 entries, 0 to 2465\n",
      "Data columns (total 12 columns):\n",
      "countryCode      2466 non-null int64\n",
      "customerID       2466 non-null object\n",
      "PaperlessDate    2466 non-null object\n",
      "invoiceNumber    2466 non-null int64\n",
      "InvoiceDate      2466 non-null object\n",
      "DueDate          2466 non-null object\n",
      "InvoiceAmount    2466 non-null float64\n",
      "Disputed         2466 non-null object\n",
      "SettledDate      2466 non-null object\n",
      "PaperlessBill    2466 non-null object\n",
      "DaysToSettle     2466 non-null int64\n",
      "DaysLate         2466 non-null int64\n",
      "dtypes: float64(1), int64(4), object(7)\n",
      "memory usage: 231.3+ KB\n"
     ]
    }
   ],
   "source": [
    "# explorting each column of dataset\n",
    "data.info()"
   ]
  },
  {
   "cell_type": "code",
   "execution_count": 6,
   "metadata": {},
   "outputs": [
    {
     "data": {
      "text/plain": [
       "array(['0379-NEVHP', '8976-AMJEO', '2820-XGXSB', '9322-YCTQO',\n",
       "       '6627-ELFBK', '5148-SYKLB', '8690-EEBEO', '4460-ZXNDN',\n",
       "       '3831-FXWYK', '7654-DOLHO', '3993-QUNVJ', '5284-DJOZO',\n",
       "       '5924-UOPGH', '9117-LYRCE', '7695-NKUXM', '8820-BLYDZ',\n",
       "       '3568-JJMFW', '5613-UHVMG', '6833-ETVHD', '7758-WKLVM',\n",
       "       '6004-KITZM', '9841-XLGBV', '8156-PCYBM', '7946-HJDUR',\n",
       "       '2621-XCLEH', '8887-NCUZC', '9286-VLKMI', '6160-HCSFI',\n",
       "       '1080-NDGAE', '6296-UKEUZ', '6831-FIODB', '9174-IYKOC',\n",
       "       '2676-DZINU', '9014-WENVB', '1447-YZKCL', '8364-UWVLM',\n",
       "       '9323-NDIOV', '5920-DPXLN', '6708-DPYTF', '4632-QZOKX',\n",
       "       '2125-HJDLA', '5592-UQXSS', '9725-EZTEJ', '6177-VTITE',\n",
       "       '5529-TBPGK', '4640-FGEJI', '0688-XNJRO', '8389-TCXFQ',\n",
       "       '3569-VJWXS', '7050-KQLDO', '4092-ZAVRG', '9928-IJYBQ',\n",
       "       '6048-QPZCF', '1408-OQZUE', '7600-OISKG', '7856-ODQFO',\n",
       "       '5196-TWQXF', '3448-OWJOT', '7841-HROAQ', '3271-HYHDN',\n",
       "       '2447-JCFGW', '3598-DNURW', '9250-VHLWY', '8942-ERSWK',\n",
       "       '6077-FDQRK', '7245-CKNCN', '4651-PMEXQ', '0706-NRGUP',\n",
       "       '2687-XWAMA', '9212-BTDMX', '0465-DTULQ', '7228-LEPPM',\n",
       "       '9883-SDWFS', '6632-CGYHU', '5573-KSOIA', '5164-VMYWJ',\n",
       "       '5875-VZQCZ', '0709-LZRJV', '7938-EVASK', '9149-MATVB',\n",
       "       '8102-ABPKQ', '1604-LIFKX', '7260-ZHAKS', '2026-XLBER',\n",
       "       '9181-HEKGV', '3271-YDPUJ', '0625-TNJFG', '9758-AIEIK',\n",
       "       '7209-MDWKR', '0783-PEPYR', '6391-GBFQJ', '1168-BEASA',\n",
       "       '7372-CESLR', '2423-QOKIO', '3676-CQAIF', '2824-HJQPP',\n",
       "       '9460-VAZGD', '7329-TWKLF', '9771-QTLGZ', '0187-ERLSR'],\n",
       "      dtype=object)"
      ]
     },
     "execution_count": 6,
     "metadata": {},
     "output_type": "execute_result"
    }
   ],
   "source": [
    "# from above, it looks like there is no null data exists in any column, which saves us the step of missing data\n",
    "# imputation\n",
    "# let us dig into how many unique customer that exists in this dataset\n",
    "data.customerID.unique()"
   ]
  },
  {
   "cell_type": "markdown",
   "metadata": {},
   "source": [
    "From the company perspective, there are two variables we have more have more concerns of, the first one is `DaysToSettle`, which is the time period between `InvoiceDate` and `SettledDate`, we would like to have our customers pay the bill as soon as possible to have a faster cashflow turnover, the second one is the `DaysLate` variable, which is the days that have passed from the `DueDate` to `SettledDate`, in the ideal case, we would like this to be zero instead of any positive number.\n",
    "\n",
    "It will be interesting to see how each customer performs historically in these two variables."
   ]
  },
  {
   "cell_type": "code",
   "execution_count": 13,
   "metadata": {},
   "outputs": [
    {
     "data": {
      "text/html": [
       "<div>\n",
       "<style scoped>\n",
       "    .dataframe tbody tr th:only-of-type {\n",
       "        vertical-align: middle;\n",
       "    }\n",
       "\n",
       "    .dataframe tbody tr th {\n",
       "        vertical-align: top;\n",
       "    }\n",
       "\n",
       "    .dataframe thead th {\n",
       "        text-align: right;\n",
       "    }\n",
       "</style>\n",
       "<table border=\"1\" class=\"dataframe\">\n",
       "  <thead>\n",
       "    <tr style=\"text-align: right;\">\n",
       "      <th></th>\n",
       "      <th>DaysToSettle</th>\n",
       "    </tr>\n",
       "    <tr>\n",
       "      <th>customerID</th>\n",
       "      <th></th>\n",
       "    </tr>\n",
       "  </thead>\n",
       "  <tbody>\n",
       "    <tr>\n",
       "      <th>2621-XCLEH</th>\n",
       "      <td>49.533333</td>\n",
       "    </tr>\n",
       "    <tr>\n",
       "      <th>8102-ABPKQ</th>\n",
       "      <td>44.592593</td>\n",
       "    </tr>\n",
       "    <tr>\n",
       "      <th>0688-XNJRO</th>\n",
       "      <td>44.382353</td>\n",
       "    </tr>\n",
       "    <tr>\n",
       "      <th>1604-LIFKX</th>\n",
       "      <td>43.900000</td>\n",
       "    </tr>\n",
       "    <tr>\n",
       "      <th>5613-UHVMG</th>\n",
       "      <td>42.636364</td>\n",
       "    </tr>\n",
       "    <tr>\n",
       "      <th>4460-ZXNDN</th>\n",
       "      <td>41.928571</td>\n",
       "    </tr>\n",
       "    <tr>\n",
       "      <th>9181-HEKGV</th>\n",
       "      <td>41.739130</td>\n",
       "    </tr>\n",
       "    <tr>\n",
       "      <th>7758-WKLVM</th>\n",
       "      <td>41.608696</td>\n",
       "    </tr>\n",
       "    <tr>\n",
       "      <th>7228-LEPPM</th>\n",
       "      <td>40.875000</td>\n",
       "    </tr>\n",
       "    <tr>\n",
       "      <th>0783-PEPYR</th>\n",
       "      <td>40.190476</td>\n",
       "    </tr>\n",
       "    <tr>\n",
       "      <th>9117-LYRCE</th>\n",
       "      <td>40.000000</td>\n",
       "    </tr>\n",
       "    <tr>\n",
       "      <th>4632-QZOKX</th>\n",
       "      <td>38.588235</td>\n",
       "    </tr>\n",
       "    <tr>\n",
       "      <th>3676-CQAIF</th>\n",
       "      <td>37.588235</td>\n",
       "    </tr>\n",
       "    <tr>\n",
       "      <th>1408-OQZUE</th>\n",
       "      <td>37.434783</td>\n",
       "    </tr>\n",
       "    <tr>\n",
       "      <th>6708-DPYTF</th>\n",
       "      <td>37.300000</td>\n",
       "    </tr>\n",
       "  </tbody>\n",
       "</table>\n",
       "</div>"
      ],
      "text/plain": [
       "            DaysToSettle\n",
       "customerID              \n",
       "2621-XCLEH     49.533333\n",
       "8102-ABPKQ     44.592593\n",
       "0688-XNJRO     44.382353\n",
       "1604-LIFKX     43.900000\n",
       "5613-UHVMG     42.636364\n",
       "4460-ZXNDN     41.928571\n",
       "9181-HEKGV     41.739130\n",
       "7758-WKLVM     41.608696\n",
       "7228-LEPPM     40.875000\n",
       "0783-PEPYR     40.190476\n",
       "9117-LYRCE     40.000000\n",
       "4632-QZOKX     38.588235\n",
       "3676-CQAIF     37.588235\n",
       "1408-OQZUE     37.434783\n",
       "6708-DPYTF     37.300000"
      ]
     },
     "execution_count": 13,
     "metadata": {},
     "output_type": "execute_result"
    }
   ],
   "source": [
    "# explore the average DaysToSettle in each customer, listing only the top 15\n",
    "data.groupby(['customerID'])[['DaysToSettle']].mean().sort_values(by='DaysToSettle', ascending=False).head(15)"
   ]
  },
  {
   "cell_type": "code",
   "execution_count": 14,
   "metadata": {},
   "outputs": [
    {
     "data": {
      "text/html": [
       "<div>\n",
       "<style scoped>\n",
       "    .dataframe tbody tr th:only-of-type {\n",
       "        vertical-align: middle;\n",
       "    }\n",
       "\n",
       "    .dataframe tbody tr th {\n",
       "        vertical-align: top;\n",
       "    }\n",
       "\n",
       "    .dataframe thead th {\n",
       "        text-align: right;\n",
       "    }\n",
       "</style>\n",
       "<table border=\"1\" class=\"dataframe\">\n",
       "  <thead>\n",
       "    <tr style=\"text-align: right;\">\n",
       "      <th></th>\n",
       "      <th>DaysLate</th>\n",
       "    </tr>\n",
       "    <tr>\n",
       "      <th>customerID</th>\n",
       "      <th></th>\n",
       "    </tr>\n",
       "  </thead>\n",
       "  <tbody>\n",
       "    <tr>\n",
       "      <th>2621-XCLEH</th>\n",
       "      <td>19.600000</td>\n",
       "    </tr>\n",
       "    <tr>\n",
       "      <th>8102-ABPKQ</th>\n",
       "      <td>14.592593</td>\n",
       "    </tr>\n",
       "    <tr>\n",
       "      <th>0688-XNJRO</th>\n",
       "      <td>14.441176</td>\n",
       "    </tr>\n",
       "    <tr>\n",
       "      <th>1604-LIFKX</th>\n",
       "      <td>13.900000</td>\n",
       "    </tr>\n",
       "    <tr>\n",
       "      <th>5613-UHVMG</th>\n",
       "      <td>12.818182</td>\n",
       "    </tr>\n",
       "    <tr>\n",
       "      <th>9181-HEKGV</th>\n",
       "      <td>12.347826</td>\n",
       "    </tr>\n",
       "    <tr>\n",
       "      <th>4460-ZXNDN</th>\n",
       "      <td>12.285714</td>\n",
       "    </tr>\n",
       "    <tr>\n",
       "      <th>7758-WKLVM</th>\n",
       "      <td>11.869565</td>\n",
       "    </tr>\n",
       "    <tr>\n",
       "      <th>7228-LEPPM</th>\n",
       "      <td>10.916667</td>\n",
       "    </tr>\n",
       "    <tr>\n",
       "      <th>9117-LYRCE</th>\n",
       "      <td>10.782609</td>\n",
       "    </tr>\n",
       "    <tr>\n",
       "      <th>0783-PEPYR</th>\n",
       "      <td>10.190476</td>\n",
       "    </tr>\n",
       "    <tr>\n",
       "      <th>3676-CQAIF</th>\n",
       "      <td>9.000000</td>\n",
       "    </tr>\n",
       "    <tr>\n",
       "      <th>4632-QZOKX</th>\n",
       "      <td>8.823529</td>\n",
       "    </tr>\n",
       "    <tr>\n",
       "      <th>1408-OQZUE</th>\n",
       "      <td>8.434783</td>\n",
       "    </tr>\n",
       "    <tr>\n",
       "      <th>5573-KSOIA</th>\n",
       "      <td>7.875000</td>\n",
       "    </tr>\n",
       "  </tbody>\n",
       "</table>\n",
       "</div>"
      ],
      "text/plain": [
       "             DaysLate\n",
       "customerID           \n",
       "2621-XCLEH  19.600000\n",
       "8102-ABPKQ  14.592593\n",
       "0688-XNJRO  14.441176\n",
       "1604-LIFKX  13.900000\n",
       "5613-UHVMG  12.818182\n",
       "9181-HEKGV  12.347826\n",
       "4460-ZXNDN  12.285714\n",
       "7758-WKLVM  11.869565\n",
       "7228-LEPPM  10.916667\n",
       "9117-LYRCE  10.782609\n",
       "0783-PEPYR  10.190476\n",
       "3676-CQAIF   9.000000\n",
       "4632-QZOKX   8.823529\n",
       "1408-OQZUE   8.434783\n",
       "5573-KSOIA   7.875000"
      ]
     },
     "execution_count": 14,
     "metadata": {},
     "output_type": "execute_result"
    }
   ],
   "source": [
    "# explore the average DaysLate in each customer, listing only the top 15(worst customer)\n",
    "data.groupby(['customerID'])[['DaysLate']].mean().sort_values(by='DaysLate', ascending=False).head(15)"
   ]
  },
  {
   "cell_type": "markdown",
   "metadata": {},
   "source": [
    "From the data above, we can see that there are a lot of overlaps of the customers in this two variables, this is not too much of a surprise, since the customers who tend to have more days between invoice and settle date are likely to have higher chances of paying their debt late."
   ]
  },
  {
   "cell_type": "code",
   "execution_count": 26,
   "metadata": {},
   "outputs": [
    {
     "data": {
      "image/png": "[encoded data removed]",
      "text/plain": [
       "<Figure size 432x288 with 2 Axes>"
      ]
     },
     "metadata": {
      "needs_background": "light"
     },
     "output_type": "display_data"
    }
   ],
   "source": [
    "# let us double confirm the correlation between these two columns\n",
    "sns.heatmap(data.corr(), annot=True, cmap=\"YlGnBu\")\n",
    "plt.show()"
   ]
  },
  {
   "cell_type": "markdown",
   "metadata": {},
   "source": [
    "## The problem\n",
    "As we can see from the exploration of dataset, we know that there exists some account receivables collections problem among some customers. Account receivables is the balance of money due to a firm for goods or services delivered or used but not yet paid for by customers. This is part of the company's current assets but the cash has not yet arrived, it there is an issue of collection, it will cause a serious financial crisis of the firm if account receivable occupies a huge amount of company's current assets. "
   ]
  },
  {
   "cell_type": "markdown",
   "metadata": {},
   "source": [
    "## The potential solution\n",
    "The most important element of a firm is the people, from the ground level up to the CEO, the customer we are dealing with in this case is a firm as well, we need to think of human behavior to tackle this kind of problem. From economics point of view, we know that as the price declines, the demand will increase and *vice versa*. To potentially solve the debt collection problem, we could offer some incentives for the customers who fail to pay on-time most of the time. We could set up a critieria that if the customer pay within 15 days since the invoice day, we would have a 1% discount of the invoice amount. This may effectively reduce the `DaysToSettle` since firms always willing to minimize the expense and increase their profits."
   ]
  },
  {
   "cell_type": "markdown",
   "metadata": {},
   "source": [
    "## Rollout plan\n",
    "We will target our customers in the top 30 in `DaysToSettle` ranking from the longest to the shortest, this would be our samples of interest to run the experiment since they are the customers that seem to have problem paying their debts. \n",
    "\n",
    "The 30 companies will be seprated in two groups depends on the ranking and country code, we would like to minimize the effect of those two variables and to be as random as possible, the worst company that has the longest `DaysToSettle` will be assigned to ranking 1, we would like to have the total ranking numbers in each group to be as close as possible and the country of origins of the firm distribution to be similar between two groups.\n",
    "\n",
    "Group A will be the control, which we do not offer the incentive plans and keep the current terms as before, group B will be the experimental group, which we offer the incentive plan to have a 1% discount of invoice amount if the account receivable is collected within 15 days since issued. \n",
    "\n",
    "We will launch the plan to each gorup at the same time for three months and collect the related data from each firm."
   ]
  },
  {
   "cell_type": "markdown",
   "metadata": {},
   "source": [
    "## Success metric\n",
    "The succss metric we will be measuring here is the `DaysToSettle` in three month exprimental period. As mentioned previously, this is the time duration from the `InvoiceDate` to `SettledDate`, in practice, ususally when the firm issue the invoice, the customers have 1 month period to pay the bill, in our experiment, it will run for three months. So we will have three `DaysToSettle` datapoints from each company in both groups. We will take the average of those three to compare the previos three months average before we start the experiment."
   ]
  },
  {
   "cell_type": "markdown",
   "metadata": {},
   "source": [
    "## Secondary metrics\n",
    "As mentioned previously, `DaysToSettle` and `DaysLate` has a correlation of 0.82, we could use `DaysLate` variable as our secondary metric to double confirm the effectiveness of our experiment. Another metric that is worth taking a closer look is `PaperlessBill`, since we keep the form of bills as they are previously for a given customer, we could investigate whether the electronic form help with dealing our debt collection issue since electronic bill way is a more modern way compare to traditional paper form, it could potentially reduce the `DaysToSettle` as well."
   ]
  },
  {
   "cell_type": "markdown",
   "metadata": {},
   "source": [
    "## Evaluation\n",
    "If after three months, the `DaysToSettle` in incentive plan group shows a significant decrease while in the control group is relatively similar, we can conclude that the incentive plan proposed is effective in reducing account receivable collecting risk. \n",
    "\n",
    "If the result shows some decrease in `DaysToSettle` but not statistically significant (p-value > 0.05, for example), we will run the experiment for another three months before jumping into the real conclusion since sometimes time factor will play a significant role in experiment as well, maybe the quarter we ran the experiment is the off-season of the business and customers have less cash asset to pay the debt. If `DaysToSettle` did not decrease, then we will pull out the incentive plan and come up with another solution."
   ]
  },
  {
   "cell_type": "code",
   "execution_count": null,
   "metadata": {},
   "outputs": [],
   "source": []
  }
 ],
 "metadata": {
  "kernelspec": {
   "display_name": "Python 3",
   "language": "python",
   "name": "python3"
  },
  "language_info": {
   "codemirror_mode": {
    "name": "ipython",
    "version": 3
   },
   "file_extension": ".py",
   "mimetype": "text/x-python",
   "name": "python",
   "nbconvert_exporter": "python",
   "pygments_lexer": "ipython3",
   "version": "3.7.0"
  }
 },
 "nbformat": 4,
 "nbformat_minor": 2
}
