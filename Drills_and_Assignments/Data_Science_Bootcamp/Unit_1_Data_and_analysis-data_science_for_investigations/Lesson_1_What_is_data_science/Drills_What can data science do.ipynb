{
 "cells": [
  {
   "cell_type": "markdown",
   "metadata": {},
   "source": [
    "# Drill: What can data science do?"
   ]
  },
  {
   "cell_type": "markdown",
   "metadata": {},
   "source": [
    "### 1. You work at an e-commerce company that sells three goods: widgets, doodads, and fizzbangs. The head of advertising asks you which they should feature in their new advertising campaign. You have data on individual visitors' sessions (activity on a website, pageviews, and purchases), as well as whether or not those users converted from an advertisement for that session. You also have the cost and price information for the goods."
   ]
  },
  {
   "cell_type": "markdown",
   "metadata": {},
   "source": [
    "I will focus on the product that has the worse conversion rate if the visitors have viewed that page/product and try to make more advertising in the new campaign. In order to identify which product we should focus, we will utilize the data we have collected from the past, for example, using the data of activity on a website and the pageviews, we are able to make a visualization which product has the least visit or the least view. Then we can set up a condition: if visitor has visited the product webpage for a given period of time, what are the chances that they will eventually make a purchase? If the visitor has visited the product webpage time duration is high, but the conversion rate is low, that probably suggests that we need to have some new advertising stuff that can change their mind, perhaps adding a live chat window to see if visitors have any question regarding the products, or pop out a coupon code to have visitor to apply it after they put the products into the shopping cart. Of course, the cost and price has to play into the roles as well, if the cost of advertising outweight the profit of the products, we might further consider whether to focus on this particular product or not. "
   ]
  },
  {
   "cell_type": "markdown",
   "metadata": {},
   "source": [
    "### 2. You work at a web design company that offers to build websites for clients. Signups have slowed, and you are tasked with finding out why. The onboarding funnel has three steps: email and password signup, plan choice, and payment. On a user level you have information on what steps they have completed as well as timestamps for all of those events for the past 3 years. You also have information on marketing spend on a weekly level."
   ]
  },
  {
   "cell_type": "markdown",
   "metadata": {},
   "source": [
    "From the data we have collected in the past 3 years, we can break the data into two groups: clients that have visited the websites AND eventually signed up v.s. clients that have visited the webisted BUT did not sign up in the end. For those we did not sign up at the end, we could further break into sub-group using those three steps, clients who stuck at step 1, clients who set up email and password but did not make a choice and clients completed the first two steps but did not make the payment. From the data collected, we will know which steps that clients got stuck the most, for example,if most of the people who set up their email and password but did not make a plan choice, we might combine those two steps together in one and maybe show some incentives like free trial for a month on the page. For another example, if most people have set up their email and password, made a plan choice, but did not make a payment, we could add another incentive like if they sign up now, they could get a discount or so. The marketing spending would be another consideration as well, we need to calculate the marginal profit after we make the changes, by putting a lot of resource/fund but only a slight increase of signup rate is apparently a bad idea."
   ]
  },
  {
   "cell_type": "markdown",
   "metadata": {},
   "source": [
    "### 3. You work at a hotel website and currently the website ranks search results by price. For simplicity's sake, let's say it's a website for one city with 100 hotels. You are tasked with proposing a better ranking system. You have session information, price information for the hotels, and whether each hotel is currently available."
   ]
  },
  {
   "cell_type": "markdown",
   "metadata": {},
   "source": [
    "If this is a hotel website that has membership program, we would have data from the clients in the past, using the session information, we are able to know the preferences of the clients and the behaviors under a special situation, for example, the clients may tend to book the hotel that belongs to a certain brand chain, or the clients might prefer the hotel with a well-built facilities such as swimming pool or gym, or the clients are more of a luxurious style person. Based on the historical data we have collected, we are able to assign some sort of \"preference score\" to every hotel under our website for a specific client(customized), thus we could rank by the preference score and the clients are more likely to book them when they see their preferred hotels on the first page."
   ]
  },
  {
   "cell_type": "markdown",
   "metadata": {},
   "source": [
    "### 4. You work at a social network, and the management is worried about churn (users stopping using the product). You are tasked with finding out if their churn is atypical. You have three years of data for users with an entry for every time they've logged in, including the timestamp and length of session.\n"
   ]
  },
  {
   "cell_type": "markdown",
   "metadata": {},
   "source": [
    "From the data we have collected, we could filter out the users that have stopped using the product(define \"not using\" like did not log in in the past half year or so), from those non-active users, we could further analyze the timestamp and length of session data we collected, we might be able to find out \"a trend\" before they stop using the website, for example, maybe people who has not logged in for a while were from a certain region of the country or the world, or maybe people who are less tagged in their friends' posts are getting less and less likely to log in. From those data, we might be able to predict some potential users that are going to stop using before they actually stop using, we could customize their pages by providing more interesting videos/articles they have shown interests in the past or start recommending their friends on the website to tag them in the photos or some social events."
   ]
  }
 ],
 "metadata": {
  "kernelspec": {
   "display_name": "Python 3",
   "language": "python",
   "name": "python3"
  },
  "language_info": {
   "codemirror_mode": {
    "name": "ipython",
    "version": 3
   },
   "file_extension": ".py",
   "mimetype": "text/x-python",
   "name": "python",
   "nbconvert_exporter": "python",
   "pygments_lexer": "ipython3",
   "version": "3.7.0"
  }
 },
 "nbformat": 4,
 "nbformat_minor": 2
}
