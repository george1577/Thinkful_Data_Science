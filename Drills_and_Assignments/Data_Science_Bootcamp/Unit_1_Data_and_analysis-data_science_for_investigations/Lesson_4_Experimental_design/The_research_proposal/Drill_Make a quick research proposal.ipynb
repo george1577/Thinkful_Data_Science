{
 "cells": [
  {
   "cell_type": "markdown",
   "metadata": {},
   "source": [
    "# DRILL: Make a quick research proposal"
   ]
  },
  {
   "cell_type": "markdown",
   "metadata": {},
   "source": [
    "Look back to the potential experiments in the previous assignment. For one of those experiments, write up the essential points of a research proposal for an improved version of that experiment.\n",
    "\n",
    "Submit it and review with your mentor."
   ]
  },
  {
   "cell_type": "markdown",
   "metadata": {},
   "source": [
    "## Test versions experiment"
   ]
  },
  {
   "cell_type": "markdown",
   "metadata": {},
   "source": [
    "### The problem\n",
    "Test is one of the most common way to evaluate students learning experience, from test result, teacher can have a general idea of how each student performs in the class. However, test questions needs to be designed in caution, a too-easy test could not effectively distinguish good or bad student, if 98% of the students score 100/100 then this is apparently not an ideal test. On the other hand, a too-difficult test is not ideal either, with more than 80% of students score below 60 could not tell who actually performs better. We need to design a version of test that has some difficult questions, moderate questions as well as easy questions, with all levels of difficulty, we might be able to generate a close-to-normal distribution of scores so we could assign the grade A, B, C...based on student performance."
   ]
  },
  {
   "cell_type": "markdown",
   "metadata": {},
   "source": [
    "### The potential solution\n",
    "Teacher could assign the level of difficulties in each topics of curriculum and the test can consist of 1-2 questions from each level depends on the length of the test."
   ]
  },
  {
   "cell_type": "markdown",
   "metadata": {},
   "source": [
    "### The method of testing the solution\n",
    "We will design two different versions of test, one is as mentioned in the solution part, we will choose evenly number of test questions from each level of difficulties that are previously defined by the teacher so to make sure questions from every level of difficulties will show up on the test. Another version of test is to randomly choose the topic and put the questions on the test, this might not guarantee that the test will cover all the topics and difficulties since the weight of each topic might be different. We could re-examine the second version to make sure the test difficuties distribution is indeed different from the ideal version.\n",
    "\n",
    "Students will be divided into two groups with equal number, separate with classrooms, each classrooms consists of same number male and female, same distribution of good and bad students in each group, to help with defining good and bad, we could extract the grades from last few exams and analyze the general performance of each student. This is to avoid one group has more good/bad students than the others. \n",
    "\n",
    "Test are held in the same time, students are not told they will get different version of tests so there is no bias themselves. The classroom conditions should be as close as possible, for example, both have a.c. that will not potentially affect the student performance because of different room temperature.\n",
    "\n",
    "Analyze the grades in each group to see whether the ideal version of test has a near-normal distribution score. If the score distribution has significant difference, we will stick with this design of test questions in the future exam. If the trend is not obvious, run the same experiment for next exam. If still no difference, then we need to come up with another test design method."
   ]
  },
  {
   "cell_type": "code",
   "execution_count": null,
   "metadata": {},
   "outputs": [],
   "source": []
  }
 ],
 "metadata": {
  "kernelspec": {
   "display_name": "Python 3",
   "language": "python",
   "name": "python3"
  },
  "language_info": {
   "codemirror_mode": {
    "name": "ipython",
    "version": 3
   },
   "file_extension": ".py",
   "mimetype": "text/x-python",
   "name": "python",
   "nbconvert_exporter": "python",
   "pygments_lexer": "ipython3",
   "version": "3.7.0"
  }
 },
 "nbformat": 4,
 "nbformat_minor": 2
}
