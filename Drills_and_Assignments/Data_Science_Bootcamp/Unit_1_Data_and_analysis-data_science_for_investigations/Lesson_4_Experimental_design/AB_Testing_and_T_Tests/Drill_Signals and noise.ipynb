{
 "cells": [
  {
   "cell_type": "markdown",
   "metadata": {},
   "source": [
    "# DRILL: Signals and noise\n",
    "\n",
    "To help you find your bearings with regard to t-tests, calculate the t-values for the following numbers:\n",
    "\n",
    "1. $\\bar{y_1}= 5$, $\\bar{y_2}= 8$, $s_1= 1$, $s_2= 3$, $N_1= 200$, $N_2= 500$\n",
    "2. $\\bar{y_1}= 1090$, $\\bar{y_2}= 999$, $s_1= 400$, $s_2= 30$, $N_1= 900$, $N_2= 100$\n",
    "3. $\\bar{y_1}= 45$, $\\bar{y_2}= 40$, $s_1= 45$, $s_2= 40$, $N_1= 2000$, $N_2= 2000$"
   ]
  },
  {
   "cell_type": "code",
   "execution_count": 1,
   "metadata": {},
   "outputs": [],
   "source": [
    "import numpy as np"
   ]
  },
  {
   "cell_type": "code",
   "execution_count": 3,
   "metadata": {},
   "outputs": [
    {
     "name": "stdout",
     "output_type": "stream",
     "text": [
      "-19.78141420187361\n",
      "6.658536585365854\n",
      "3.7139067635410377\n"
     ]
    }
   ],
   "source": [
    "#1\n",
    "t1 = (5-8)/np.sqrt(1**2/200 + 3**2/500)\n",
    "print(t1)\n",
    "#2\n",
    "t2 = (1090-999)/np.sqrt(400**2/900 + 30**2/100)\n",
    "print(t2)\n",
    "#3\n",
    "t3 = (45-40)/np.sqrt(45**2/2000 + 40**2/2000)\n",
    "print(t3)"
   ]
  },
  {
   "cell_type": "code",
   "execution_count": null,
   "metadata": {},
   "outputs": [],
   "source": []
  }
 ],
 "metadata": {
  "kernelspec": {
   "display_name": "Python 3",
   "language": "python",
   "name": "python3"
  },
  "language_info": {
   "codemirror_mode": {
    "name": "ipython",
    "version": 3
   },
   "file_extension": ".py",
   "mimetype": "text/x-python",
   "name": "python",
   "nbconvert_exporter": "python",
   "pygments_lexer": "ipython3",
   "version": "3.7.0"
  }
 },
 "nbformat": 4,
 "nbformat_minor": 2
}
