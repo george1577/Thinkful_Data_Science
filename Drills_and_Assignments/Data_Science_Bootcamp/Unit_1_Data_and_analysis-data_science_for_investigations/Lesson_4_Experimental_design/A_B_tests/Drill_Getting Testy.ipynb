{
 "cells": [
  {
   "cell_type": "markdown",
   "metadata": {},
   "source": [
    "# DRILL: Getting Testy..."
   ]
  },
  {
   "cell_type": "markdown",
   "metadata": {},
   "source": [
    "#### For each of the following questions, outline how you could use an A/B test to find an answer. Be sure to identify all five key components of an A/B test we outlined above."
   ]
  },
  {
   "cell_type": "markdown",
   "metadata": {},
   "source": [
    "#### Does a new supplement help people sleep better?\n",
    "1. Two versions: Supposed we are selling a sleeping pills and we would like to know if a new supplement can help people sleep better, one version would be the current formula we have, another version is adding this new supplement.\n",
    "\n",
    "2. Sample: In sample selection, we will do it as random as possible, we will recruit two groups of people with about the same distribution in terms of age, gender, height, weight...etc, one group will be treated with the current formula and the other group will be treated with new supplement, people do not know which group they are in, in other words, they do not know whether they are taking the new or the old pills.\n",
    "\n",
    "3. Hypothesis: We are expecting the new supplement can help people sleep better than our current formula.\n",
    "\n",
    "4. Outcomes of interest: The key metric we will measure will be the number of hours people sleep in two groups.\n",
    "\n",
    "5. Other measured variables: We may measure how fast people fall asleep after they go to bed as a secondary outcome."
   ]
  },
  {
   "cell_type": "markdown",
   "metadata": {},
   "source": [
    "#### Will new uniforms help a gym's business?\n",
    "1. Two versions: Since this is an all or none testing, we could not have half of employees wearing old uniforms and half of them wearing new. We will have to change them all, one version is the current uniform design the employees wear, the other version is the new design of uniform.\n",
    "\n",
    "2. Sample: We do not have to separate employees into two groups, we basically change them to new design of uniform for a while(few months).\n",
    "\n",
    "3. Hypothesis: We are expecting the new uniform will help our gym's business.\n",
    "\n",
    "4. Outcomes of interest: Let's say we implement the new uniform treatment for half year(from Jan. to Jun.), we will compare the sales increase from the same period last year.\n",
    "\n",
    "5. Other measured variables: Since sales increase might due to other factors as well, we could measure the \"increase\" of sales increase to see if the new uniform did help our business. For example, we have the sales two years ago from Jan. to Jun., we have the same period of sales last year, record the sales increase, we have the sales for this year(with new uniforms), record the sales increase again and compare these two differences."
   ]
  },
  {
   "cell_type": "markdown",
   "metadata": {},
   "source": [
    "#### Will a new homepage improve my online exotic pet rental business?\n",
    "1. Two versions: One version is the current homepage design and the other version is the new homepage design.\n",
    "\n",
    "2. Sample: We could launch two different versions depends on the region people live, these two regions have to be selected as random as possible, especially the demographic compositions, try to make those as close as possible.\n",
    "\n",
    "3. Hypothesis: We are expecting the new homepage improve the online exotic pet rental business.\n",
    "\n",
    "4. Outcomes of interest: We launch two different versions to two different groups and record the sales from each group to compare the difference.\n",
    "\n",
    "5. Other measured variables: We could measure the time between people add the pets into the cart and making the real purchase."
   ]
  },
  {
   "cell_type": "markdown",
   "metadata": {},
   "source": [
    "#### If I put 'please read' in the email subject will more people read my emails?\n",
    "1. Two versions: One version is the current version of email without 'please read' in the subject, the other version is with 'please read' in the subject.\n",
    "\n",
    "2. Sample: We divide the subjects into two groups, again, as random as possible, with almost the similar people in each group so the difference will be mainly from the treatment, not the difference between the group itself.\n",
    "\n",
    "3. Hypothesis: We expect adding 'please read' in the email subject will have more people read our emails.\n",
    "\n",
    "4. Outcome of interest: We will record the 'reading rate' between each treatment to see whether the rate is indeed higher in the 'please read' group.\n",
    "\n",
    "5. Other measured variables: We could measure the time between people receive the email and how long it takes for them to actually open it to read."
   ]
  },
  {
   "cell_type": "code",
   "execution_count": null,
   "metadata": {},
   "outputs": [],
   "source": []
  }
 ],
 "metadata": {
  "kernelspec": {
   "display_name": "Python 3",
   "language": "python",
   "name": "python3"
  },
  "language_info": {
   "codemirror_mode": {
    "name": "ipython",
    "version": 3
   },
   "file_extension": ".py",
   "mimetype": "text/x-python",
   "name": "python",
   "nbconvert_exporter": "python",
   "pygments_lexer": "ipython3",
   "version": "3.7.0"
  }
 },
 "nbformat": 4,
 "nbformat_minor": 2
}
