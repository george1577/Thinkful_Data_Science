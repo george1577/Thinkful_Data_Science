{
 "cells": [
  {
   "cell_type": "markdown",
   "metadata": {},
   "source": [
    "# DRILL: Am I Biased?"
   ]
  },
  {
   "cell_type": "markdown",
   "metadata": {},
   "source": [
    "#### For each of the following scenarios, call out the potential biases in the proposed experiment. Do your best to try to discover not only the bias, but the initial design. There is plenty of room for interpretation here, so make sure to state what assumptions you're making."
   ]
  },
  {
   "cell_type": "markdown",
   "metadata": {},
   "source": [
    "#### 1. You're testing advertising emails for a bathing suit company and you test one version of the email in February and the other in May.\n",
    "Time bias: The two versions of eamil are tested in different time period of a year, Feburary is generally colder since it is in winter, people tend to stay indoors rather than going out to the beach. On the other hand, May is in the middle of spring and is a lot warmer, people are willing to go to the beach more often, so there are essentially at least another factor that plays in the role in affecting the sales of bathing suit besides different version of emails.\n",
    "\n",
    "The experimental design should be revised to not only randomize the people you are sending out the emails to, but also send them out at the same time to elimiate the time bias."
   ]
  },
  {
   "cell_type": "markdown",
   "metadata": {},
   "source": [
    "#### 2. You open a clinic to treat anxiety and find that the people who visit show a higher rate of anxiety than the general population.\n",
    "Since the clinic is specializing anxiety, usually people with that problem will tend to visit than the general population, just like hospital, though genral people go there for regular examination, most of the people who go there have some health issues."
   ]
  },
  {
   "cell_type": "markdown",
   "metadata": {},
   "source": [
    "#### 3. You launch a new ad billboard based campaign and see an increase in website visits in the first week.\n",
    "Since the observation of increase is only in the first week, this is a short period of time and it is too early to tell whether the new ad was really effective, the design should last longer. Another factor could be that 'first week' is in a holiday season, people do not need to work and have more time spending on the internet."
   ]
  },
  {
   "cell_type": "markdown",
   "metadata": {},
   "source": [
    "#### 4. You launch a loyalty program but see no change in visits in the first week.\n",
    "Same as question 3, one week is too short to tell whether the change is effective or not, the whole experiment should last longer and compare the same period of sign up/visit last year to compare the difference to see whether the loyalty program help the business or not."
   ]
  },
  {
   "cell_type": "code",
   "execution_count": null,
   "metadata": {},
   "outputs": [],
   "source": []
  }
 ],
 "metadata": {
  "kernelspec": {
   "display_name": "Python 3",
   "language": "python",
   "name": "python3"
  },
  "language_info": {
   "codemirror_mode": {
    "name": "ipython",
    "version": 3
   },
   "file_extension": ".py",
   "mimetype": "text/x-python",
   "name": "python",
   "nbconvert_exporter": "python",
   "pygments_lexer": "ipython3",
   "version": "3.7.0"
  }
 },
 "nbformat": 4,
 "nbformat_minor": 2
}
