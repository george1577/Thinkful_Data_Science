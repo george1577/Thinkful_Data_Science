{
 "cells": [
  {
   "cell_type": "markdown",
   "metadata": {},
   "source": [
    "# Model Comparison"
   ]
  },
  {
   "cell_type": "markdown",
   "metadata": {},
   "source": [
    "The main goal of this project is to compare the accuracy of model prediction, there are two candidates, K-nearest-neighbor(KNN) and Ordinary Least Square(OLS) regression. The dataset I chose is from Airbnb for price prediction, the city I selected is actually from my hometown: **Taipei, Taiwan**."
   ]
  },
  {
   "cell_type": "code",
   "execution_count": 232,
   "metadata": {},
   "outputs": [],
   "source": [
    "# set up environment\n",
    "%matplotlib inline\n",
    "import pandas as pd\n",
    "import numpy as np\n",
    "import matplotlib.pyplot as plt\n",
    "import seaborn as sns\n",
    "\n",
    "# ignore warning\n",
    "import warnings\n",
    "warnings.filterwarnings(\"ignore\")"
   ]
  },
  {
   "cell_type": "code",
   "execution_count": 233,
   "metadata": {},
   "outputs": [],
   "source": [
    "# import data\n",
    "taipei_raw = pd.read_csv('data/listings.csv')"
   ]
  },
  {
   "cell_type": "code",
   "execution_count": 234,
   "metadata": {},
   "outputs": [
    {
     "data": {
      "text/plain": [
       "(9088, 96)"
      ]
     },
     "execution_count": 234,
     "metadata": {},
     "output_type": "execute_result"
    }
   ],
   "source": [
    "# examine number of rows and columns\n",
    "taipei_raw.shape"
   ]
  },
  {
   "cell_type": "code",
   "execution_count": 235,
   "metadata": {},
   "outputs": [
    {
     "data": {
      "text/html": [
       "<div>\n",
       "<style scoped>\n",
       "    .dataframe tbody tr th:only-of-type {\n",
       "        vertical-align: middle;\n",
       "    }\n",
       "\n",
       "    .dataframe tbody tr th {\n",
       "        vertical-align: top;\n",
       "    }\n",
       "\n",
       "    .dataframe thead th {\n",
       "        text-align: right;\n",
       "    }\n",
       "</style>\n",
       "<table border=\"1\" class=\"dataframe\">\n",
       "  <thead>\n",
       "    <tr style=\"text-align: right;\">\n",
       "      <th></th>\n",
       "      <th>id</th>\n",
       "      <th>listing_url</th>\n",
       "      <th>scrape_id</th>\n",
       "      <th>last_scraped</th>\n",
       "      <th>name</th>\n",
       "      <th>summary</th>\n",
       "      <th>space</th>\n",
       "      <th>description</th>\n",
       "      <th>experiences_offered</th>\n",
       "      <th>neighborhood_overview</th>\n",
       "      <th>...</th>\n",
       "      <th>requires_license</th>\n",
       "      <th>license</th>\n",
       "      <th>jurisdiction_names</th>\n",
       "      <th>instant_bookable</th>\n",
       "      <th>is_business_travel_ready</th>\n",
       "      <th>cancellation_policy</th>\n",
       "      <th>require_guest_profile_picture</th>\n",
       "      <th>require_guest_phone_verification</th>\n",
       "      <th>calculated_host_listings_count</th>\n",
       "      <th>reviews_per_month</th>\n",
       "    </tr>\n",
       "  </thead>\n",
       "  <tbody>\n",
       "    <tr>\n",
       "      <th>0</th>\n",
       "      <td>68396</td>\n",
       "      <td>https://www.airbnb.com/rooms/68396</td>\n",
       "      <td>20181127024255</td>\n",
       "      <td>2018-11-27</td>\n",
       "      <td>Zhongxiao Dunhua Studio C near MRT</td>\n",
       "      <td>Prime location! Right in the center of Taipei'...</td>\n",
       "      <td>Located at Zhongxiao East Road of Daan distric...</td>\n",
       "      <td>Prime location! Right in the center of Taipei'...</td>\n",
       "      <td>none</td>\n",
       "      <td>NaN</td>\n",
       "      <td>...</td>\n",
       "      <td>f</td>\n",
       "      <td>NaN</td>\n",
       "      <td>{\"Taiwan VAT Tax\"}</td>\n",
       "      <td>f</td>\n",
       "      <td>f</td>\n",
       "      <td>strict_14_with_grace_period</td>\n",
       "      <td>f</td>\n",
       "      <td>f</td>\n",
       "      <td>13</td>\n",
       "      <td>0.03</td>\n",
       "    </tr>\n",
       "    <tr>\n",
       "      <th>1</th>\n",
       "      <td>68398</td>\n",
       "      <td>https://www.airbnb.com/rooms/68398</td>\n",
       "      <td>20181127024255</td>\n",
       "      <td>2018-11-27</td>\n",
       "      <td>Tonghua Vacation Studio C</td>\n",
       "      <td>Convenient location; close to MRT and walking ...</td>\n",
       "      <td>Private Studio apartment with ensuite bathroom...</td>\n",
       "      <td>Convenient location; close to MRT and walking ...</td>\n",
       "      <td>none</td>\n",
       "      <td>Locates in a quiet neighborhood of Tonghua Str...</td>\n",
       "      <td>...</td>\n",
       "      <td>f</td>\n",
       "      <td>NaN</td>\n",
       "      <td>{\"Taiwan VAT Tax\"}</td>\n",
       "      <td>f</td>\n",
       "      <td>f</td>\n",
       "      <td>strict_14_with_grace_period</td>\n",
       "      <td>f</td>\n",
       "      <td>f</td>\n",
       "      <td>13</td>\n",
       "      <td>0.08</td>\n",
       "    </tr>\n",
       "    <tr>\n",
       "      <th>2</th>\n",
       "      <td>74641</td>\n",
       "      <td>https://www.airbnb.com/rooms/74641</td>\n",
       "      <td>20181127024255</td>\n",
       "      <td>2018-11-27</td>\n",
       "      <td>黑白雙人房@南京復興站｡小巨蛋斜對面｡溫泉式浴缸｡</td>\n",
       "      <td>私人衛浴大套房,距南京復興站走路2分鐘｡面對7-11便利商店,旁邊就是南京微風百貨和IKEA...</td>\n",
       "      <td>I have 3 rooms for rent, each with a private b...</td>\n",
       "      <td>私人衛浴大套房,距南京復興站走路2分鐘｡面對7-11便利商店,旁邊就是南京微風百貨和IKEA...</td>\n",
       "      <td>none</td>\n",
       "      <td>This area is what we called Business &amp; Residen...</td>\n",
       "      <td>...</td>\n",
       "      <td>f</td>\n",
       "      <td>NaN</td>\n",
       "      <td>{\"Taiwan VAT Tax\"}</td>\n",
       "      <td>f</td>\n",
       "      <td>f</td>\n",
       "      <td>strict_14_with_grace_period</td>\n",
       "      <td>f</td>\n",
       "      <td>f</td>\n",
       "      <td>4</td>\n",
       "      <td>0.50</td>\n",
       "    </tr>\n",
       "    <tr>\n",
       "      <th>3</th>\n",
       "      <td>74643</td>\n",
       "      <td>https://www.airbnb.com/rooms/74643</td>\n",
       "      <td>20181127024255</td>\n",
       "      <td>2018-11-27</td>\n",
       "      <td>小巨蛋｡南京復興站溫馨套房</td>\n",
       "      <td>小巨蛋對面,距南京復興站走路2分鐘｡面對7-11便利商店,旁邊就是南京微風百貨;私人衛浴套房...</td>\n",
       "      <td>歡迎來台北,我們的小提琴工作室就在一旁,如果有興趣,我們很樂意和客人互動! 你的套房裡有清爽...</td>\n",
       "      <td>小巨蛋對面,距南京復興站走路2分鐘｡面對7-11便利商店,旁邊就是南京微風百貨;私人衛浴套房...</td>\n",
       "      <td>none</td>\n",
       "      <td>小巨蛋,慶城公園,南京復興捷運站,小巨蛋捷運站｡</td>\n",
       "      <td>...</td>\n",
       "      <td>f</td>\n",
       "      <td>NaN</td>\n",
       "      <td>{\"Taiwan VAT Tax\"}</td>\n",
       "      <td>f</td>\n",
       "      <td>f</td>\n",
       "      <td>strict_14_with_grace_period</td>\n",
       "      <td>f</td>\n",
       "      <td>f</td>\n",
       "      <td>4</td>\n",
       "      <td>0.48</td>\n",
       "    </tr>\n",
       "    <tr>\n",
       "      <th>4</th>\n",
       "      <td>178036</td>\n",
       "      <td>https://www.airbnb.com/rooms/178036</td>\n",
       "      <td>20181127024255</td>\n",
       "      <td>2018-11-27</td>\n",
       "      <td>單人床位 Single bunk bed [mixed dorm for 4pax]</td>\n",
       "      <td>Hello from Taipei  :) We are located at Zhongz...</td>\n",
       "      <td>This is a single bunk bed in Mixed dorm for 4,...</td>\n",
       "      <td>Hello from Taipei  :) We are located at Zhongz...</td>\n",
       "      <td>none</td>\n",
       "      <td>Local food within 5 mins walk 6 mins walk from...</td>\n",
       "      <td>...</td>\n",
       "      <td>f</td>\n",
       "      <td>NaN</td>\n",
       "      <td>{\"Taiwan VAT Tax\"}</td>\n",
       "      <td>t</td>\n",
       "      <td>f</td>\n",
       "      <td>moderate</td>\n",
       "      <td>f</td>\n",
       "      <td>f</td>\n",
       "      <td>8</td>\n",
       "      <td>0.57</td>\n",
       "    </tr>\n",
       "  </tbody>\n",
       "</table>\n",
       "<p>5 rows × 96 columns</p>\n",
       "</div>"
      ],
      "text/plain": [
       "       id                          listing_url       scrape_id last_scraped  \\\n",
       "0   68396   https://www.airbnb.com/rooms/68396  20181127024255   2018-11-27   \n",
       "1   68398   https://www.airbnb.com/rooms/68398  20181127024255   2018-11-27   \n",
       "2   74641   https://www.airbnb.com/rooms/74641  20181127024255   2018-11-27   \n",
       "3   74643   https://www.airbnb.com/rooms/74643  20181127024255   2018-11-27   \n",
       "4  178036  https://www.airbnb.com/rooms/178036  20181127024255   2018-11-27   \n",
       "\n",
       "                                         name  \\\n",
       "0          Zhongxiao Dunhua Studio C near MRT   \n",
       "1                   Tonghua Vacation Studio C   \n",
       "2                   黑白雙人房@南京復興站｡小巨蛋斜對面｡溫泉式浴缸｡   \n",
       "3                               小巨蛋｡南京復興站溫馨套房   \n",
       "4  單人床位 Single bunk bed [mixed dorm for 4pax]   \n",
       "\n",
       "                                             summary  \\\n",
       "0  Prime location! Right in the center of Taipei'...   \n",
       "1  Convenient location; close to MRT and walking ...   \n",
       "2  私人衛浴大套房,距南京復興站走路2分鐘｡面對7-11便利商店,旁邊就是南京微風百貨和IKEA...   \n",
       "3  小巨蛋對面,距南京復興站走路2分鐘｡面對7-11便利商店,旁邊就是南京微風百貨;私人衛浴套房...   \n",
       "4  Hello from Taipei  :) We are located at Zhongz...   \n",
       "\n",
       "                                               space  \\\n",
       "0  Located at Zhongxiao East Road of Daan distric...   \n",
       "1  Private Studio apartment with ensuite bathroom...   \n",
       "2  I have 3 rooms for rent, each with a private b...   \n",
       "3  歡迎來台北,我們的小提琴工作室就在一旁,如果有興趣,我們很樂意和客人互動! 你的套房裡有清爽...   \n",
       "4  This is a single bunk bed in Mixed dorm for 4,...   \n",
       "\n",
       "                                         description experiences_offered  \\\n",
       "0  Prime location! Right in the center of Taipei'...                none   \n",
       "1  Convenient location; close to MRT and walking ...                none   \n",
       "2  私人衛浴大套房,距南京復興站走路2分鐘｡面對7-11便利商店,旁邊就是南京微風百貨和IKEA...                none   \n",
       "3  小巨蛋對面,距南京復興站走路2分鐘｡面對7-11便利商店,旁邊就是南京微風百貨;私人衛浴套房...                none   \n",
       "4  Hello from Taipei  :) We are located at Zhongz...                none   \n",
       "\n",
       "                               neighborhood_overview        ...          \\\n",
       "0                                                NaN        ...           \n",
       "1  Locates in a quiet neighborhood of Tonghua Str...        ...           \n",
       "2  This area is what we called Business & Residen...        ...           \n",
       "3                           小巨蛋,慶城公園,南京復興捷運站,小巨蛋捷運站｡        ...           \n",
       "4  Local food within 5 mins walk 6 mins walk from...        ...           \n",
       "\n",
       "  requires_license license  jurisdiction_names instant_bookable  \\\n",
       "0                f     NaN  {\"Taiwan VAT Tax\"}                f   \n",
       "1                f     NaN  {\"Taiwan VAT Tax\"}                f   \n",
       "2                f     NaN  {\"Taiwan VAT Tax\"}                f   \n",
       "3                f     NaN  {\"Taiwan VAT Tax\"}                f   \n",
       "4                f     NaN  {\"Taiwan VAT Tax\"}                t   \n",
       "\n",
       "  is_business_travel_ready          cancellation_policy  \\\n",
       "0                        f  strict_14_with_grace_period   \n",
       "1                        f  strict_14_with_grace_period   \n",
       "2                        f  strict_14_with_grace_period   \n",
       "3                        f  strict_14_with_grace_period   \n",
       "4                        f                     moderate   \n",
       "\n",
       "   require_guest_profile_picture require_guest_phone_verification  \\\n",
       "0                              f                                f   \n",
       "1                              f                                f   \n",
       "2                              f                                f   \n",
       "3                              f                                f   \n",
       "4                              f                                f   \n",
       "\n",
       "   calculated_host_listings_count  reviews_per_month  \n",
       "0                              13               0.03  \n",
       "1                              13               0.08  \n",
       "2                               4               0.50  \n",
       "3                               4               0.48  \n",
       "4                               8               0.57  \n",
       "\n",
       "[5 rows x 96 columns]"
      ]
     },
     "execution_count": 235,
     "metadata": {},
     "output_type": "execute_result"
    }
   ],
   "source": [
    "# get a sense of what data looks like\n",
    "taipei_raw.head()"
   ]
  },
  {
   "cell_type": "code",
   "execution_count": 236,
   "metadata": {},
   "outputs": [
    {
     "name": "stdout",
     "output_type": "stream",
     "text": [
      "<class 'pandas.core.frame.DataFrame'>\n",
      "RangeIndex: 9088 entries, 0 to 9087\n",
      "Data columns (total 96 columns):\n",
      "id                                  9088 non-null int64\n",
      "listing_url                         9088 non-null object\n",
      "scrape_id                           9088 non-null int64\n",
      "last_scraped                        9088 non-null object\n",
      "name                                9083 non-null object\n",
      "summary                             8819 non-null object\n",
      "space                               6861 non-null object\n",
      "description                         9007 non-null object\n",
      "experiences_offered                 9088 non-null object\n",
      "neighborhood_overview               5553 non-null object\n",
      "notes                               5275 non-null object\n",
      "transit                             5798 non-null object\n",
      "access                              5818 non-null object\n",
      "interaction                         5388 non-null object\n",
      "house_rules                         5508 non-null object\n",
      "thumbnail_url                       0 non-null float64\n",
      "medium_url                          0 non-null float64\n",
      "picture_url                         9088 non-null object\n",
      "xl_picture_url                      0 non-null float64\n",
      "host_id                             9088 non-null int64\n",
      "host_url                            9088 non-null object\n",
      "host_name                           9088 non-null object\n",
      "host_since                          9088 non-null object\n",
      "host_location                       9071 non-null object\n",
      "host_about                          6398 non-null object\n",
      "host_response_time                  6915 non-null object\n",
      "host_response_rate                  6915 non-null object\n",
      "host_acceptance_rate                0 non-null float64\n",
      "host_is_superhost                   9088 non-null object\n",
      "host_thumbnail_url                  9088 non-null object\n",
      "host_picture_url                    9088 non-null object\n",
      "host_neighbourhood                  7348 non-null object\n",
      "host_listings_count                 9088 non-null int64\n",
      "host_total_listings_count           9088 non-null int64\n",
      "host_verifications                  9088 non-null object\n",
      "host_has_profile_pic                9088 non-null object\n",
      "host_identity_verified              9088 non-null object\n",
      "street                              9088 non-null object\n",
      "neighbourhood                       8749 non-null object\n",
      "neighbourhood_cleansed              9088 non-null object\n",
      "neighbourhood_group_cleansed        0 non-null float64\n",
      "city                                8955 non-null object\n",
      "state                               8684 non-null object\n",
      "zipcode                             8730 non-null object\n",
      "market                              9086 non-null object\n",
      "smart_location                      9088 non-null object\n",
      "country_code                        9088 non-null object\n",
      "country                             9088 non-null object\n",
      "latitude                            9088 non-null float64\n",
      "longitude                           9088 non-null float64\n",
      "is_location_exact                   9088 non-null object\n",
      "property_type                       9088 non-null object\n",
      "room_type                           9088 non-null object\n",
      "accommodates                        9088 non-null int64\n",
      "bathrooms                           9083 non-null float64\n",
      "bedrooms                            9085 non-null float64\n",
      "beds                                9071 non-null float64\n",
      "bed_type                            9088 non-null object\n",
      "amenities                           9088 non-null object\n",
      "square_feet                         56 non-null float64\n",
      "price                               9088 non-null object\n",
      "weekly_price                        683 non-null object\n",
      "monthly_price                       762 non-null object\n",
      "security_deposit                    5762 non-null object\n",
      "cleaning_fee                        6502 non-null object\n",
      "guests_included                     9088 non-null int64\n",
      "extra_people                        9088 non-null object\n",
      "minimum_nights                      9088 non-null int64\n",
      "maximum_nights                      9088 non-null int64\n",
      "calendar_updated                    9088 non-null object\n",
      "has_availability                    9088 non-null object\n",
      "availability_30                     9088 non-null int64\n",
      "availability_60                     9088 non-null int64\n",
      "availability_90                     9088 non-null int64\n",
      "availability_365                    9088 non-null int64\n",
      "calendar_last_scraped               9088 non-null object\n",
      "number_of_reviews                   9088 non-null int64\n",
      "first_review                        7226 non-null object\n",
      "last_review                         7227 non-null object\n",
      "review_scores_rating                7148 non-null float64\n",
      "review_scores_accuracy              7144 non-null float64\n",
      "review_scores_cleanliness           7146 non-null float64\n",
      "review_scores_checkin               7141 non-null float64\n",
      "review_scores_communication         7146 non-null float64\n",
      "review_scores_location              7139 non-null float64\n",
      "review_scores_value                 7139 non-null float64\n",
      "requires_license                    9088 non-null object\n",
      "license                             110 non-null object\n",
      "jurisdiction_names                  9084 non-null object\n",
      "instant_bookable                    9088 non-null object\n",
      "is_business_travel_ready            9088 non-null object\n",
      "cancellation_policy                 9088 non-null object\n",
      "require_guest_profile_picture       9088 non-null object\n",
      "require_guest_phone_verification    9088 non-null object\n",
      "calculated_host_listings_count      9088 non-null int64\n",
      "reviews_per_month                   7226 non-null float64\n",
      "dtypes: float64(19), int64(15), object(62)\n",
      "memory usage: 6.7+ MB\n"
     ]
    }
   ],
   "source": [
    "# list all the columns and information\n",
    "taipei_raw.info()"
   ]
  },
  {
   "cell_type": "markdown",
   "metadata": {},
   "source": [
    "We can see from above there are 96 columns in total, including our target column: price, we will not use all the columns as our feature since there are many columns that did not provide too much information for predicting listing price, such as `id`, `listing_url`, `scrape_id`...etc., at this point, we will select few features that are generally important for price prediction and we will add back other supplemental features if necessary. Before selecting features, we will first drop the columns that have more than half null value."
   ]
  },
  {
   "cell_type": "code",
   "execution_count": 237,
   "metadata": {},
   "outputs": [
    {
     "data": {
      "text/plain": [
       "(9088, 87)"
      ]
     },
     "execution_count": 237,
     "metadata": {},
     "output_type": "execute_result"
    }
   ],
   "source": [
    "# drop columns that have more than half NaN value\n",
    "taipei_clean = taipei_raw.dropna(thresh=len(taipei_raw)/2, axis=1).copy()\n",
    "taipei_clean.shape"
   ]
  },
  {
   "cell_type": "code",
   "execution_count": 238,
   "metadata": {},
   "outputs": [],
   "source": [
    "# selecting the most important features for price prediction\n",
    "features = ['host_response_time', 'host_response_rate', 'host_is_superhost', 'host_neighbourhood', \n",
    "            'host_listings_count', 'host_verifications', 'host_identity_verified', 'property_type',\n",
    "           'room_type', 'accommodates', 'bathrooms', 'beds', 'guests_included', 'minimum_nights', 'number_of_reviews',\n",
    "           'review_scores_rating', 'review_scores_accuracy', 'review_scores_cleanliness', 'review_scores_checkin', \n",
    "            'review_scores_communication', 'review_scores_location', 'review_scores_value', 'price'\n",
    "           ]"
   ]
  },
  {
   "cell_type": "code",
   "execution_count": 239,
   "metadata": {},
   "outputs": [],
   "source": [
    "# use all the features defined above for our model\n",
    "taipei_clean = taipei_clean[features]"
   ]
  },
  {
   "cell_type": "code",
   "execution_count": 240,
   "metadata": {
    "scrolled": false
   },
   "outputs": [
    {
     "data": {
      "image/png": "[encoded data removed]",
      "text/plain": [
       "<Figure size 864x720 with 2 Axes>"
      ]
     },
     "metadata": {
      "needs_background": "light"
     },
     "output_type": "display_data"
    }
   ],
   "source": [
    "# check the correlation between each column\n",
    "# print(taipei_clean.corr())\n",
    "fig, ax = plt.subplots(1,1, figsize=(12,10))\n",
    "ax = sns.heatmap(taipei_clean.corr())"
   ]
  },
  {
   "cell_type": "markdown",
   "metadata": {},
   "source": [
    "From the heatmap above, we can see there might exist some multi-collinearity issue if we include all columns in the features we just defined, the columns that have higher correlation lies in accommodation-related and review_score related groups, thus we will keep `accommodates` and `bathrooms`, for review part, we will keep only `review_scores_rating`"
   ]
  },
  {
   "cell_type": "code",
   "execution_count": 241,
   "metadata": {},
   "outputs": [],
   "source": [
    "# get the final features\n",
    "taipei_clean.drop(['beds', 'guests_included', 'review_scores_accuracy', 'review_scores_cleanliness', 'review_scores_checkin',\n",
    "            'review_scores_communication', 'review_scores_location', 'review_scores_value'], axis=1, inplace=True)"
   ]
  },
  {
   "cell_type": "code",
   "execution_count": 242,
   "metadata": {},
   "outputs": [
    {
     "data": {
      "image/png": "[encoded data removed]",
      "text/plain": [
       "<Figure size 864x720 with 2 Axes>"
      ]
     },
     "metadata": {
      "needs_background": "light"
     },
     "output_type": "display_data"
    }
   ],
   "source": [
    "# check the heatmap again\n",
    "fig, ax = plt.subplots(1,1, figsize=(12,10))\n",
    "ax = sns.heatmap(taipei_clean.corr())"
   ]
  },
  {
   "cell_type": "markdown",
   "metadata": {},
   "source": [
    "Looks much better for now, next we will start to clean up some null values."
   ]
  },
  {
   "cell_type": "code",
   "execution_count": 243,
   "metadata": {},
   "outputs": [
    {
     "name": "stdout",
     "output_type": "stream",
     "text": [
      "<class 'pandas.core.frame.DataFrame'>\n",
      "RangeIndex: 9088 entries, 0 to 9087\n",
      "Data columns (total 15 columns):\n",
      "host_response_time        6915 non-null object\n",
      "host_response_rate        6915 non-null object\n",
      "host_is_superhost         9088 non-null object\n",
      "host_neighbourhood        7348 non-null object\n",
      "host_listings_count       9088 non-null int64\n",
      "host_verifications        9088 non-null object\n",
      "host_identity_verified    9088 non-null object\n",
      "property_type             9088 non-null object\n",
      "room_type                 9088 non-null object\n",
      "accommodates              9088 non-null int64\n",
      "bathrooms                 9083 non-null float64\n",
      "minimum_nights            9088 non-null int64\n",
      "number_of_reviews         9088 non-null int64\n",
      "review_scores_rating      7148 non-null float64\n",
      "price                     9088 non-null object\n",
      "dtypes: float64(2), int64(4), object(9)\n",
      "memory usage: 1.0+ MB\n"
     ]
    }
   ],
   "source": [
    "# check the features again\n",
    "taipei_clean.info()"
   ]
  },
  {
   "cell_type": "code",
   "execution_count": 244,
   "metadata": {},
   "outputs": [],
   "source": [
    "# drop the rows that has NaN\n",
    "taipei_clean.dropna(inplace=True)"
   ]
  },
  {
   "cell_type": "code",
   "execution_count": 245,
   "metadata": {},
   "outputs": [
    {
     "name": "stdout",
     "output_type": "stream",
     "text": [
      "<class 'pandas.core.frame.DataFrame'>\n",
      "Int64Index: 4950 entries, 0 to 9046\n",
      "Data columns (total 15 columns):\n",
      "host_response_time        4950 non-null object\n",
      "host_response_rate        4950 non-null object\n",
      "host_is_superhost         4950 non-null object\n",
      "host_neighbourhood        4950 non-null object\n",
      "host_listings_count       4950 non-null int64\n",
      "host_verifications        4950 non-null object\n",
      "host_identity_verified    4950 non-null object\n",
      "property_type             4950 non-null object\n",
      "room_type                 4950 non-null object\n",
      "accommodates              4950 non-null int64\n",
      "bathrooms                 4950 non-null float64\n",
      "minimum_nights            4950 non-null int64\n",
      "number_of_reviews         4950 non-null int64\n",
      "review_scores_rating      4950 non-null float64\n",
      "price                     4950 non-null object\n",
      "dtypes: float64(2), int64(4), object(9)\n",
      "memory usage: 618.8+ KB\n"
     ]
    }
   ],
   "source": [
    "taipei_clean.info()"
   ]
  },
  {
   "cell_type": "markdown",
   "metadata": {},
   "source": [
    "Looks like we still have 4950 rows for our model, which should be good enough, we will now check the individual column to see if it requires any extra cleaning or not"
   ]
  },
  {
   "cell_type": "code",
   "execution_count": 246,
   "metadata": {},
   "outputs": [
    {
     "data": {
      "text/plain": [
       "within an hour        4271\n",
       "within a few hours     481\n",
       "within a day           187\n",
       "a few days or more      11\n",
       "Name: host_response_time, dtype: int64"
      ]
     },
     "execution_count": 246,
     "metadata": {},
     "output_type": "execute_result"
    }
   ],
   "source": [
    "# host_response_time\n",
    "taipei_clean['host_response_time'].value_counts()"
   ]
  },
  {
   "cell_type": "code",
   "execution_count": 247,
   "metadata": {},
   "outputs": [],
   "source": [
    "# transform the data type into category so no need to create dummy variables\n",
    "taipei_clean['host_response_time'] = taipei_clean['host_response_time'].astype('category')"
   ]
  },
  {
   "cell_type": "code",
   "execution_count": 248,
   "metadata": {},
   "outputs": [
    {
     "data": {
      "text/plain": [
       "100%    3446\n",
       "99%      350\n",
       "98%      163\n",
       "97%      127\n",
       "90%      114\n",
       "Name: host_response_rate, dtype: int64"
      ]
     },
     "execution_count": 248,
     "metadata": {},
     "output_type": "execute_result"
    }
   ],
   "source": [
    "# host_response_rate\n",
    "taipei_clean['host_response_rate'].value_counts().head()"
   ]
  },
  {
   "cell_type": "code",
   "execution_count": 249,
   "metadata": {},
   "outputs": [],
   "source": [
    "# clean up the % symbol and transform the column into int\n",
    "taipei_clean['host_response_rate'] = taipei_clean['host_response_rate'].str.extract('(.*)%').astype('int')"
   ]
  },
  {
   "cell_type": "code",
   "execution_count": 250,
   "metadata": {},
   "outputs": [
    {
     "data": {
      "text/plain": [
       "f    3464\n",
       "t    1486\n",
       "Name: host_is_superhost, dtype: int64"
      ]
     },
     "execution_count": 250,
     "metadata": {},
     "output_type": "execute_result"
    }
   ],
   "source": [
    "# host_is_superhost\n",
    "taipei_clean['host_is_superhost'].value_counts()"
   ]
  },
  {
   "cell_type": "code",
   "execution_count": 251,
   "metadata": {},
   "outputs": [],
   "source": [
    "# transform f and t to 0 and 1\n",
    "taipei_clean['host_is_superhost'] = taipei_clean['host_is_superhost'].map({'f': 0, 't': 1})"
   ]
  },
  {
   "cell_type": "code",
   "execution_count": 252,
   "metadata": {},
   "outputs": [
    {
     "data": {
      "text/plain": [
       "Wanhua                       1354\n",
       "Da'an                         903\n",
       "Zhongzheng                    726\n",
       "Zhongshan                     565\n",
       "Xinyi                         494\n",
       "Datong                        335\n",
       "Songshan                      175\n",
       "Shilin                        149\n",
       "Beitou                         87\n",
       "Wenshan                        68\n",
       "Neihu                          44\n",
       "Nangang                        33\n",
       "Klong Toey                      5\n",
       "Upper Sukhumvit                 3\n",
       "Tsim Sha Tsui                   2\n",
       "Cambridge                       2\n",
       "Battersea                       1\n",
       "Tongle Fang                     1\n",
       "Hillcrest                       1\n",
       "Central Business District       1\n",
       "Kings Cross                     1\n",
       "Name: host_neighbourhood, dtype: int64"
      ]
     },
     "execution_count": 252,
     "metadata": {},
     "output_type": "execute_result"
    }
   ],
   "source": [
    "# host_neighbourhood\n",
    "taipei_clean['host_neighbourhood'].value_counts()"
   ]
  },
  {
   "cell_type": "code",
   "execution_count": 253,
   "metadata": {},
   "outputs": [],
   "source": [
    "taipei_clean['host_neighbourhood'] = taipei_clean['host_neighbourhood'].astype('category')"
   ]
  },
  {
   "cell_type": "code",
   "execution_count": 254,
   "metadata": {},
   "outputs": [
    {
     "data": {
      "text/plain": [
       "0            ['email', 'phone', 'facebook', 'reviews']\n",
       "1            ['email', 'phone', 'facebook', 'reviews']\n",
       "2    ['email', 'phone', 'reviews', 'jumio', 'offlin...\n",
       "3    ['email', 'phone', 'reviews', 'jumio', 'offlin...\n",
       "4            ['email', 'phone', 'facebook', 'reviews']\n",
       "Name: host_verifications, dtype: object"
      ]
     },
     "execution_count": 254,
     "metadata": {},
     "output_type": "execute_result"
    }
   ],
   "source": [
    "# host_verifications\n",
    "taipei_clean['host_verifications'].head()"
   ]
  },
  {
   "cell_type": "markdown",
   "metadata": {},
   "source": [
    "The `host_verifications` column has a list of strings in each cell, we will transform it to the total number of ways of verifications, the larger the number, the more trustworthy of the host."
   ]
  },
  {
   "cell_type": "code",
   "execution_count": 255,
   "metadata": {},
   "outputs": [],
   "source": [
    "# transform the column\n",
    "taipei_clean['host_verifications'] = taipei_clean['host_verifications'].str.split(',').apply(len)"
   ]
  },
  {
   "cell_type": "code",
   "execution_count": 256,
   "metadata": {},
   "outputs": [
    {
     "data": {
      "text/plain": [
       "3     982\n",
       "5     965\n",
       "6     799\n",
       "8     634\n",
       "7     546\n",
       "4     491\n",
       "2     242\n",
       "9     215\n",
       "10     44\n",
       "1      30\n",
       "11      2\n",
       "Name: host_verifications, dtype: int64"
      ]
     },
     "execution_count": 256,
     "metadata": {},
     "output_type": "execute_result"
    }
   ],
   "source": [
    "# check the transformation\n",
    "taipei_clean['host_verifications'].value_counts()"
   ]
  },
  {
   "cell_type": "code",
   "execution_count": 257,
   "metadata": {},
   "outputs": [
    {
     "data": {
      "text/plain": [
       "f    2668\n",
       "t    2282\n",
       "Name: host_identity_verified, dtype: int64"
      ]
     },
     "execution_count": 257,
     "metadata": {},
     "output_type": "execute_result"
    }
   ],
   "source": [
    "# host_identity_verified\n",
    "taipei_clean['host_identity_verified'].value_counts()"
   ]
  },
  {
   "cell_type": "code",
   "execution_count": 258,
   "metadata": {},
   "outputs": [],
   "source": [
    "# map f to 0 and t to 1\n",
    "taipei_clean['host_identity_verified'] = taipei_clean['host_identity_verified'].map({'f': 0, 't': 1})"
   ]
  },
  {
   "cell_type": "code",
   "execution_count": 259,
   "metadata": {},
   "outputs": [
    {
     "data": {
      "text/plain": [
       "Apartment                 3123\n",
       "Condominium                580\n",
       "Hostel                     243\n",
       "Loft                       224\n",
       "House                      218\n",
       "Serviced apartment         207\n",
       "Townhouse                   73\n",
       "Bed and breakfast           51\n",
       "Guest suite                 45\n",
       "Boutique hotel              44\n",
       "Aparthotel                  37\n",
       "Minsu (Taiwan)              31\n",
       "Other                       28\n",
       "Guesthouse                  21\n",
       "Bungalow                    12\n",
       "Hotel                        7\n",
       "Tent                         2\n",
       "Castle                       1\n",
       "Villa                        1\n",
       "Hut                          1\n",
       "Heritage hotel (India)       1\n",
       "Name: property_type, dtype: int64"
      ]
     },
     "execution_count": 259,
     "metadata": {},
     "output_type": "execute_result"
    }
   ],
   "source": [
    "# property_type\n",
    "taipei_clean['property_type'].value_counts()"
   ]
  },
  {
   "cell_type": "code",
   "execution_count": 260,
   "metadata": {},
   "outputs": [],
   "source": [
    "# transform the column into category data type\n",
    "taipei_clean['property_type'] = taipei_clean['property_type'].astype('category')"
   ]
  },
  {
   "cell_type": "code",
   "execution_count": 261,
   "metadata": {},
   "outputs": [
    {
     "data": {
      "text/plain": [
       "Entire home/apt    3073\n",
       "Private room       1532\n",
       "Shared room         345\n",
       "Name: room_type, dtype: int64"
      ]
     },
     "execution_count": 261,
     "metadata": {},
     "output_type": "execute_result"
    }
   ],
   "source": [
    "# room_type\n",
    "taipei_clean['room_type'].value_counts()"
   ]
  },
  {
   "cell_type": "code",
   "execution_count": 262,
   "metadata": {},
   "outputs": [],
   "source": [
    "# transform the column into category data type\n",
    "taipei_clean['room_type'] = taipei_clean['room_type'].astype('category')"
   ]
  },
  {
   "cell_type": "code",
   "execution_count": 263,
   "metadata": {},
   "outputs": [
    {
     "data": {
      "text/plain": [
       "0    $1,544.00\n",
       "1      $926.00\n",
       "2    $1,544.00\n",
       "3    $1,297.00\n",
       "4      $401.00\n",
       "Name: price, dtype: object"
      ]
     },
     "execution_count": 263,
     "metadata": {},
     "output_type": "execute_result"
    }
   ],
   "source": [
    "# price is our target value, looks like it has some cleaning to be done\n",
    "taipei_clean['price'].head()"
   ]
  },
  {
   "cell_type": "code",
   "execution_count": 264,
   "metadata": {},
   "outputs": [],
   "source": [
    "taipei_clean['price'] = taipei_clean['price'].str.extract('\\$(.*)\\.', expand=False).str.replace(',', '').astype('float')"
   ]
  },
  {
   "cell_type": "code",
   "execution_count": 265,
   "metadata": {},
   "outputs": [
    {
     "name": "stdout",
     "output_type": "stream",
     "text": [
      "<class 'pandas.core.frame.DataFrame'>\n",
      "Int64Index: 4950 entries, 0 to 9046\n",
      "Data columns (total 15 columns):\n",
      "host_response_time        4950 non-null category\n",
      "host_response_rate        4950 non-null int64\n",
      "host_is_superhost         4950 non-null int64\n",
      "host_neighbourhood        4950 non-null category\n",
      "host_listings_count       4950 non-null int64\n",
      "host_verifications        4950 non-null int64\n",
      "host_identity_verified    4950 non-null int64\n",
      "property_type             4950 non-null category\n",
      "room_type                 4950 non-null category\n",
      "accommodates              4950 non-null int64\n",
      "bathrooms                 4950 non-null float64\n",
      "minimum_nights            4950 non-null int64\n",
      "number_of_reviews         4950 non-null int64\n",
      "review_scores_rating      4950 non-null float64\n",
      "price                     4950 non-null float64\n",
      "dtypes: category(4), float64(3), int64(8)\n",
      "memory usage: 485.3 KB\n"
     ]
    }
   ],
   "source": [
    "taipei_clean.info()"
   ]
  },
  {
   "cell_type": "markdown",
   "metadata": {},
   "source": [
    "Lastly, we will deal with our categorical variables since many models can not handle string values"
   ]
  },
  {
   "cell_type": "markdown",
   "metadata": {},
   "source": [
    "The next step we will start to fit in our model, before that, we first split our data into training and testing sets"
   ]
  },
  {
   "cell_type": "code",
   "execution_count": 266,
   "metadata": {},
   "outputs": [],
   "source": [
    "category = ['host_response_time', 'host_neighbourhood', 'property_type', 'room_type']\n",
    "dummy = pd.get_dummies(taipei_clean[category])\n",
    "\n",
    "# concatanate dummy variables to the original dataset\n",
    "taipei_clean = pd.concat([taipei_clean, dummy], axis=1)\n",
    "\n",
    "# drop the original column\n",
    "taipei_clean.drop(category, axis=1, inplace=True)"
   ]
  },
  {
   "cell_type": "code",
   "execution_count": 267,
   "metadata": {},
   "outputs": [],
   "source": [
    "from sklearn.model_selection import train_test_split\n",
    "X_train, X_test, y_train, y_test = train_test_split(taipei_clean.drop('price', axis=1), \n",
    "                                                    taipei_clean['price'], random_state=1009)"
   ]
  },
  {
   "cell_type": "markdown",
   "metadata": {},
   "source": [
    "We first test our OLS model"
   ]
  },
  {
   "cell_type": "code",
   "execution_count": 268,
   "metadata": {},
   "outputs": [],
   "source": [
    "from sklearn.linear_model import LinearRegression\n",
    "# Instantiate and fit our model.\n",
    "lr = LinearRegression()\n",
    "lr.fit(X_train, y_train)\n",
    "prediction_OLS = lr.predict(X_test)"
   ]
  },
  {
   "cell_type": "code",
   "execution_count": 269,
   "metadata": {},
   "outputs": [
    {
     "name": "stdout",
     "output_type": "stream",
     "text": [
      "3637496.298616863\n"
     ]
    }
   ],
   "source": [
    "from sklearn.metrics import mean_squared_error\n",
    "error_OLS = mean_squared_error(prediction_OLS, y_test)\n",
    "print(error_OLS)"
   ]
  },
  {
   "cell_type": "markdown",
   "metadata": {},
   "source": [
    "Next we will test the KNN model"
   ]
  },
  {
   "cell_type": "code",
   "execution_count": 270,
   "metadata": {},
   "outputs": [],
   "source": [
    "# first we need to normalize the data otherwise knn model will have over-wieghted issue on large-value column\n",
    "from sklearn.preprocessing import scale\n",
    "from scipy import stats\n",
    "X_train_knn = pd.DataFrame(scale(X_train), columns=X_train.columns)\n",
    "X_test_knn = pd.DataFrame(scale(X_test), columns=X_train.columns)"
   ]
  },
  {
   "cell_type": "code",
   "execution_count": 271,
   "metadata": {},
   "outputs": [],
   "source": [
    "# first we need to normalize the data otherwise knn model will have over-wieghted issue on large-value column\n",
    "from sklearn.preprocessing import StandardScaler\n",
    "from scipy import stats\n",
    "from sklearn.neighbors import KNeighborsRegressor\n",
    "neighbors = KNeighborsRegressor(n_neighbors=5)\n",
    "neighbors.fit(X_train_knn, y_train)\n",
    "prediction_KNN = neighbors.predict(X_test_knn)"
   ]
  },
  {
   "cell_type": "code",
   "execution_count": 272,
   "metadata": {},
   "outputs": [
    {
     "name": "stdout",
     "output_type": "stream",
     "text": [
      "8302181.242972536\n"
     ]
    }
   ],
   "source": [
    "error_KNN = mean_squared_error(prediction_KNN, y_test)\n",
    "print(error_KNN)"
   ]
  },
  {
   "cell_type": "code",
   "execution_count": 274,
   "metadata": {},
   "outputs": [
    {
     "name": "stdout",
     "output_type": "stream",
     "text": [
      "{'n_neighbors': 1}\n",
      "-51509115.6325431\n"
     ]
    }
   ],
   "source": [
    "# use GridSearchCV to find the best parameters\n",
    "from sklearn.model_selection import GridSearchCV\n",
    "\n",
    "hyperparameters = {\n",
    "    \"n_neighbors\": range(1,5)\n",
    "}\n",
    "\n",
    "grid = GridSearchCV(KNeighborsRegressor(), param_grid=hyperparameters, cv=10, scoring=\"neg_mean_squared_error\")\n",
    "grid.fit(X_train_knn, y_train)\n",
    "print(grid.best_params_)\n",
    "print(grid.best_score_)"
   ]
  },
  {
   "cell_type": "markdown",
   "metadata": {},
   "source": [
    "In this project, we use two different approaches for our regression model, the first one is the linear regression and the second one is the knn regression. As we can see, linear regression is an analytical approach and it came up with a coefficient with every features that were in the model, when feed in the test dataset, we can see the mean square error is around 3.6 million. On the other hand, the peformance of KNN regression method highly depends on the number of neighbors chosen, the error could vary a lot. Linear regression is often used when the feature has shown linear relationship and KNN regression can often handle non-linear relationship since it is not an analytical model, it basically grabs whatever are similar to the test example we want to predict."
   ]
  }
 ],
 "metadata": {
  "kernelspec": {
   "display_name": "Python 3",
   "language": "python",
   "name": "python3"
  },
  "language_info": {
   "codemirror_mode": {
    "name": "ipython",
    "version": 3
   },
   "file_extension": ".py",
   "mimetype": "text/x-python",
   "name": "python",
   "nbconvert_exporter": "python",
   "pygments_lexer": "ipython3",
   "version": "3.7.0"
  }
 },
 "nbformat": 4,
 "nbformat_minor": 2
}
