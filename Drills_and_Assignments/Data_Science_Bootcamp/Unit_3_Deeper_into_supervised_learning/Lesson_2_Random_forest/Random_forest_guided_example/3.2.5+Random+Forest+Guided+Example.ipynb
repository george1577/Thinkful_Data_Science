{
 "cells": [
  {
   "cell_type": "code",
   "execution_count": 1,
   "metadata": {
    "run_control": {
     "frozen": false,
     "read_only": false
    }
   },
   "outputs": [],
   "source": [
    "import pandas as pd\n",
    "import numpy as np\n",
    "import matplotlib.pyplot as plt\n",
    "import warnings\n",
    "warnings.filterwarnings(\"ignore\")\n",
    "%matplotlib inline"
   ]
  },
  {
   "cell_type": "markdown",
   "metadata": {
    "run_control": {
     "frozen": false,
     "read_only": false
    }
   },
   "source": [
    "We've talked about Random Forests. Now it's time to build one.\n",
    "\n",
    "Here we'll use data from Lending Club to predict the state of a loan given some information about it. You can find the dataset [here](https://www.lendingclub.com/info/download-data.action). We'll use 2015 data. ([Thinkful mirror](https://www.dropbox.com/s/m7z42lubaiory33/LoanStats3d.csv?dl=0))"
   ]
  },
  {
   "cell_type": "code",
   "execution_count": 2,
   "metadata": {
    "run_control": {
     "frozen": false,
     "read_only": false
    }
   },
   "outputs": [],
   "source": [
    "# Replace the path with the correct path for your data.\n",
    "y2015 = pd.read_csv(\n",
    "    'https://www.dropbox.com/s/0so14yudedjmm5m/LoanStats3d.csv?dl=1',\n",
    "    skipinitialspace=True,\n",
    "    header=1\n",
    ")\n",
    "\n",
    "# Note the warning about dtypes."
   ]
  },
  {
   "cell_type": "code",
   "execution_count": 3,
   "metadata": {},
   "outputs": [
    {
     "data": {
      "text/html": [
       "<div>\n",
       "<style scoped>\n",
       "    .dataframe tbody tr th:only-of-type {\n",
       "        vertical-align: middle;\n",
       "    }\n",
       "\n",
       "    .dataframe tbody tr th {\n",
       "        vertical-align: top;\n",
       "    }\n",
       "\n",
       "    .dataframe thead th {\n",
       "        text-align: right;\n",
       "    }\n",
       "</style>\n",
       "<table border=\"1\" class=\"dataframe\">\n",
       "  <thead>\n",
       "    <tr style=\"text-align: right;\">\n",
       "      <th></th>\n",
       "      <th>id</th>\n",
       "      <th>member_id</th>\n",
       "      <th>loan_amnt</th>\n",
       "      <th>funded_amnt</th>\n",
       "      <th>funded_amnt_inv</th>\n",
       "      <th>term</th>\n",
       "      <th>int_rate</th>\n",
       "      <th>installment</th>\n",
       "      <th>grade</th>\n",
       "      <th>sub_grade</th>\n",
       "      <th>...</th>\n",
       "      <th>num_tl_90g_dpd_24m</th>\n",
       "      <th>num_tl_op_past_12m</th>\n",
       "      <th>pct_tl_nvr_dlq</th>\n",
       "      <th>percent_bc_gt_75</th>\n",
       "      <th>pub_rec_bankruptcies</th>\n",
       "      <th>tax_liens</th>\n",
       "      <th>tot_hi_cred_lim</th>\n",
       "      <th>total_bal_ex_mort</th>\n",
       "      <th>total_bc_limit</th>\n",
       "      <th>total_il_high_credit_limit</th>\n",
       "    </tr>\n",
       "  </thead>\n",
       "  <tbody>\n",
       "    <tr>\n",
       "      <th>0</th>\n",
       "      <td>68009401</td>\n",
       "      <td>72868139.0</td>\n",
       "      <td>16000.0</td>\n",
       "      <td>16000.0</td>\n",
       "      <td>16000.0</td>\n",
       "      <td>60 months</td>\n",
       "      <td>14.85%</td>\n",
       "      <td>379.39</td>\n",
       "      <td>C</td>\n",
       "      <td>C5</td>\n",
       "      <td>...</td>\n",
       "      <td>0.0</td>\n",
       "      <td>2.0</td>\n",
       "      <td>78.9</td>\n",
       "      <td>0.0</td>\n",
       "      <td>0.0</td>\n",
       "      <td>2.0</td>\n",
       "      <td>298100.0</td>\n",
       "      <td>31329.0</td>\n",
       "      <td>281300.0</td>\n",
       "      <td>13400.0</td>\n",
       "    </tr>\n",
       "    <tr>\n",
       "      <th>1</th>\n",
       "      <td>68354783</td>\n",
       "      <td>73244544.0</td>\n",
       "      <td>9600.0</td>\n",
       "      <td>9600.0</td>\n",
       "      <td>9600.0</td>\n",
       "      <td>36 months</td>\n",
       "      <td>7.49%</td>\n",
       "      <td>298.58</td>\n",
       "      <td>A</td>\n",
       "      <td>A4</td>\n",
       "      <td>...</td>\n",
       "      <td>0.0</td>\n",
       "      <td>2.0</td>\n",
       "      <td>100.0</td>\n",
       "      <td>66.7</td>\n",
       "      <td>0.0</td>\n",
       "      <td>0.0</td>\n",
       "      <td>88635.0</td>\n",
       "      <td>55387.0</td>\n",
       "      <td>12500.0</td>\n",
       "      <td>75635.0</td>\n",
       "    </tr>\n",
       "    <tr>\n",
       "      <th>2</th>\n",
       "      <td>68466916</td>\n",
       "      <td>73356753.0</td>\n",
       "      <td>25000.0</td>\n",
       "      <td>25000.0</td>\n",
       "      <td>25000.0</td>\n",
       "      <td>36 months</td>\n",
       "      <td>7.49%</td>\n",
       "      <td>777.55</td>\n",
       "      <td>A</td>\n",
       "      <td>A4</td>\n",
       "      <td>...</td>\n",
       "      <td>0.0</td>\n",
       "      <td>0.0</td>\n",
       "      <td>100.0</td>\n",
       "      <td>20.0</td>\n",
       "      <td>0.0</td>\n",
       "      <td>0.0</td>\n",
       "      <td>373572.0</td>\n",
       "      <td>68056.0</td>\n",
       "      <td>38400.0</td>\n",
       "      <td>82117.0</td>\n",
       "    </tr>\n",
       "    <tr>\n",
       "      <th>3</th>\n",
       "      <td>68466961</td>\n",
       "      <td>73356799.0</td>\n",
       "      <td>28000.0</td>\n",
       "      <td>28000.0</td>\n",
       "      <td>28000.0</td>\n",
       "      <td>36 months</td>\n",
       "      <td>6.49%</td>\n",
       "      <td>858.05</td>\n",
       "      <td>A</td>\n",
       "      <td>A2</td>\n",
       "      <td>...</td>\n",
       "      <td>0.0</td>\n",
       "      <td>0.0</td>\n",
       "      <td>91.7</td>\n",
       "      <td>22.2</td>\n",
       "      <td>0.0</td>\n",
       "      <td>0.0</td>\n",
       "      <td>304003.0</td>\n",
       "      <td>74920.0</td>\n",
       "      <td>41500.0</td>\n",
       "      <td>42503.0</td>\n",
       "    </tr>\n",
       "    <tr>\n",
       "      <th>4</th>\n",
       "      <td>68495092</td>\n",
       "      <td>73384866.0</td>\n",
       "      <td>8650.0</td>\n",
       "      <td>8650.0</td>\n",
       "      <td>8650.0</td>\n",
       "      <td>36 months</td>\n",
       "      <td>19.89%</td>\n",
       "      <td>320.99</td>\n",
       "      <td>E</td>\n",
       "      <td>E3</td>\n",
       "      <td>...</td>\n",
       "      <td>0.0</td>\n",
       "      <td>12.0</td>\n",
       "      <td>100.0</td>\n",
       "      <td>50.0</td>\n",
       "      <td>1.0</td>\n",
       "      <td>0.0</td>\n",
       "      <td>38998.0</td>\n",
       "      <td>18926.0</td>\n",
       "      <td>2750.0</td>\n",
       "      <td>18248.0</td>\n",
       "    </tr>\n",
       "  </tbody>\n",
       "</table>\n",
       "<p>5 rows × 111 columns</p>\n",
       "</div>"
      ],
      "text/plain": [
       "         id   member_id  loan_amnt  funded_amnt  funded_amnt_inv        term  \\\n",
       "0  68009401  72868139.0    16000.0      16000.0          16000.0   60 months   \n",
       "1  68354783  73244544.0     9600.0       9600.0           9600.0   36 months   \n",
       "2  68466916  73356753.0    25000.0      25000.0          25000.0   36 months   \n",
       "3  68466961  73356799.0    28000.0      28000.0          28000.0   36 months   \n",
       "4  68495092  73384866.0     8650.0       8650.0           8650.0   36 months   \n",
       "\n",
       "  int_rate  installment grade sub_grade            ...              \\\n",
       "0   14.85%       379.39     C        C5            ...               \n",
       "1    7.49%       298.58     A        A4            ...               \n",
       "2    7.49%       777.55     A        A4            ...               \n",
       "3    6.49%       858.05     A        A2            ...               \n",
       "4   19.89%       320.99     E        E3            ...               \n",
       "\n",
       "  num_tl_90g_dpd_24m num_tl_op_past_12m pct_tl_nvr_dlq  percent_bc_gt_75  \\\n",
       "0                0.0                2.0           78.9               0.0   \n",
       "1                0.0                2.0          100.0              66.7   \n",
       "2                0.0                0.0          100.0              20.0   \n",
       "3                0.0                0.0           91.7              22.2   \n",
       "4                0.0               12.0          100.0              50.0   \n",
       "\n",
       "  pub_rec_bankruptcies tax_liens tot_hi_cred_lim total_bal_ex_mort  \\\n",
       "0                  0.0       2.0        298100.0           31329.0   \n",
       "1                  0.0       0.0         88635.0           55387.0   \n",
       "2                  0.0       0.0        373572.0           68056.0   \n",
       "3                  0.0       0.0        304003.0           74920.0   \n",
       "4                  1.0       0.0         38998.0           18926.0   \n",
       "\n",
       "  total_bc_limit total_il_high_credit_limit  \n",
       "0       281300.0                    13400.0  \n",
       "1        12500.0                    75635.0  \n",
       "2        38400.0                    82117.0  \n",
       "3        41500.0                    42503.0  \n",
       "4         2750.0                    18248.0  \n",
       "\n",
       "[5 rows x 111 columns]"
      ]
     },
     "execution_count": 3,
     "metadata": {},
     "output_type": "execute_result"
    }
   ],
   "source": [
    "y2015.head()"
   ]
  },
  {
   "cell_type": "markdown",
   "metadata": {
    "run_control": {
     "frozen": false,
     "read_only": false
    }
   },
   "source": [
    "## The Blind Approach\n",
    "\n",
    "Now, as we've seen before, creating a model is the easy part. Let's try just using everything we've got and throwing it without much thought into a Random Forest. SKLearn requires the independent variables to be be numeric, and all we want is dummy variables so let's use `get_dummies` from Pandas to generate a dummy variable for every categorical colummn and see what happens off of this kind of naive approach."
   ]
  },
  {
   "cell_type": "markdown",
   "metadata": {
    "run_control": {
     "frozen": false,
     "read_only": false
    }
   },
   "source": [
    "Did your kernel die? My kernel died.\n",
    "\n",
    "Guess it isn't always going to be that easy...\n",
    "\n",
    "Can you think of what went wrong?\n",
    "\n",
    "(You're going to have to reset your kernel and reload the column, BUT DON'T RUN THE MODEL AGAIN OR YOU'LL CRASH THE KERNEL AGAIN!)\n",
    "\n",
    "## Data Cleaning\n",
    "\n",
    "Well, `get_dummies` can be a very memory intensive thing, particularly if data are typed poorly. We got a warning about that earlier. Mixed data types get converted to objects, and that could create huge problems. Our dataset is about 400,000 rows. If there's a bad type there its going to see 400,000 distinct values and try to create dummies for all of them. That's bad. Lets look at all our categorical variables and see how many distinct counts there are..."
   ]
  },
  {
   "cell_type": "code",
   "execution_count": 4,
   "metadata": {
    "run_control": {
     "frozen": false,
     "read_only": false
    },
    "scrolled": true
   },
   "outputs": [
    {
     "data": {
      "text/plain": [
       "id                           421097\n",
       "term                              2\n",
       "int_rate                        110\n",
       "grade                             7\n",
       "sub_grade                        35\n",
       "emp_title                    120812\n",
       "emp_length                       11\n",
       "home_ownership                    4\n",
       "verification_status               3\n",
       "issue_d                          12\n",
       "loan_status                       7\n",
       "pymnt_plan                        1\n",
       "url                          421095\n",
       "desc                             34\n",
       "purpose                          14\n",
       "title                            27\n",
       "zip_code                        914\n",
       "addr_state                       49\n",
       "earliest_cr_line                668\n",
       "revol_util                     1211\n",
       "initial_list_status               2\n",
       "last_pymnt_d                     25\n",
       "next_pymnt_d                      4\n",
       "last_credit_pull_d               26\n",
       "application_type                  2\n",
       "verification_status_joint         3\n",
       "dtype: int64"
      ]
     },
     "execution_count": 4,
     "metadata": {},
     "output_type": "execute_result"
    }
   ],
   "source": [
    "categorical = y2015.select_dtypes(include=['object'])\n",
    "categorical.nunique()"
   ]
  },
  {
   "cell_type": "markdown",
   "metadata": {
    "run_control": {
     "frozen": false,
     "read_only": false
    }
   },
   "source": [
    "Well that right there is what's called a problem. Some of these have over a hundred thousand distinct types. Lets drop the ones with over 30 unique values, converting to numeric where it makes sense. In doing this there's a lot of code that gets written to just see if the numeric conversion makes sense. It's a manual process that we'll abstract away and just include the conversion.\n",
    "\n",
    "You could extract numeric features from the dates, but here we'll just drop them. There's a lot of data, it shouldn't be a huge problem."
   ]
  },
  {
   "cell_type": "code",
   "execution_count": 5,
   "metadata": {},
   "outputs": [
    {
     "data": {
      "text/plain": [
       "0     14.85%\n",
       "1      7.49%\n",
       "2      7.49%\n",
       "3      6.49%\n",
       "4     19.89%\n",
       "Name: int_rate, dtype: object"
      ]
     },
     "execution_count": 5,
     "metadata": {},
     "output_type": "execute_result"
    }
   ],
   "source": [
    "y2015['int_rate'].head()"
   ]
  },
  {
   "cell_type": "code",
   "execution_count": 6,
   "metadata": {
    "run_control": {
     "frozen": false,
     "read_only": false
    }
   },
   "outputs": [],
   "source": [
    "# Convert ID and Interest Rate to numeric.\n",
    "y2015['id'] = pd.to_numeric(y2015['id'], errors='coerce')\n",
    "y2015['int_rate'] = pd.to_numeric(y2015['int_rate'].str.strip('%'), errors='coerce')\n",
    "\n",
    "# Drop other columns with many unique variables\n",
    "y2015.drop(['url', 'emp_title', 'zip_code', 'earliest_cr_line', 'revol_util',\n",
    "            'sub_grade', 'addr_state', 'desc'], 1, inplace=True)"
   ]
  },
  {
   "cell_type": "code",
   "execution_count": 7,
   "metadata": {},
   "outputs": [
    {
     "data": {
      "text/plain": [
       "id                                     2\n",
       "member_id                              2\n",
       "loan_amnt                              2\n",
       "funded_amnt                            2\n",
       "funded_amnt_inv                        2\n",
       "term                                   2\n",
       "int_rate                               2\n",
       "installment                            2\n",
       "grade                                  2\n",
       "emp_length                         23819\n",
       "home_ownership                         2\n",
       "annual_inc                             2\n",
       "verification_status                    2\n",
       "issue_d                                2\n",
       "loan_status                            2\n",
       "pymnt_plan                             2\n",
       "purpose                                2\n",
       "title                                134\n",
       "dti                                    2\n",
       "delinq_2yrs                            2\n",
       "inq_last_6mths                         2\n",
       "mths_since_last_delinq            203964\n",
       "mths_since_last_record            346682\n",
       "open_acc                               2\n",
       "pub_rec                                2\n",
       "revol_bal                              2\n",
       "total_acc                              2\n",
       "initial_list_status                    2\n",
       "out_prncp                              2\n",
       "out_prncp_inv                          2\n",
       "                                   ...  \n",
       "mo_sin_old_rev_tl_op                   2\n",
       "mo_sin_rcnt_rev_tl_op                  2\n",
       "mo_sin_rcnt_tl                         2\n",
       "mort_acc                               2\n",
       "mths_since_recent_bc                3800\n",
       "mths_since_recent_bc_dlq          312497\n",
       "mths_since_recent_inq              44601\n",
       "mths_since_recent_revol_delinq    269360\n",
       "num_accts_ever_120_pd                  2\n",
       "num_actv_bc_tl                         2\n",
       "num_actv_rev_tl                        2\n",
       "num_bc_sats                            2\n",
       "num_bc_tl                              2\n",
       "num_il_tl                              2\n",
       "num_op_rev_tl                          2\n",
       "num_rev_accts                          3\n",
       "num_rev_tl_bal_gt_0                    2\n",
       "num_sats                               2\n",
       "num_tl_120dpd_2m                   19232\n",
       "num_tl_30dpd                           2\n",
       "num_tl_90g_dpd_24m                     2\n",
       "num_tl_op_past_12m                     2\n",
       "pct_tl_nvr_dlq                         2\n",
       "percent_bc_gt_75                    4241\n",
       "pub_rec_bankruptcies                   2\n",
       "tax_liens                              2\n",
       "tot_hi_cred_lim                        2\n",
       "total_bal_ex_mort                      2\n",
       "total_bc_limit                         2\n",
       "total_il_high_credit_limit             2\n",
       "Length: 103, dtype: int64"
      ]
     },
     "execution_count": 7,
     "metadata": {},
     "output_type": "execute_result"
    }
   ],
   "source": [
    "y2015.isnull().sum()"
   ]
  },
  {
   "cell_type": "markdown",
   "metadata": {},
   "source": [
    "Wonder what was causing the dtype error on the id column, which _should_ have all been integers? Let's look at the end of the file."
   ]
  },
  {
   "cell_type": "code",
   "execution_count": 8,
   "metadata": {},
   "outputs": [
    {
     "data": {
      "text/html": [
       "<div>\n",
       "<style scoped>\n",
       "    .dataframe tbody tr th:only-of-type {\n",
       "        vertical-align: middle;\n",
       "    }\n",
       "\n",
       "    .dataframe tbody tr th {\n",
       "        vertical-align: top;\n",
       "    }\n",
       "\n",
       "    .dataframe thead th {\n",
       "        text-align: right;\n",
       "    }\n",
       "</style>\n",
       "<table border=\"1\" class=\"dataframe\">\n",
       "  <thead>\n",
       "    <tr style=\"text-align: right;\">\n",
       "      <th></th>\n",
       "      <th>id</th>\n",
       "      <th>member_id</th>\n",
       "      <th>loan_amnt</th>\n",
       "      <th>funded_amnt</th>\n",
       "      <th>funded_amnt_inv</th>\n",
       "      <th>term</th>\n",
       "      <th>int_rate</th>\n",
       "      <th>installment</th>\n",
       "      <th>grade</th>\n",
       "      <th>emp_length</th>\n",
       "      <th>...</th>\n",
       "      <th>num_tl_90g_dpd_24m</th>\n",
       "      <th>num_tl_op_past_12m</th>\n",
       "      <th>pct_tl_nvr_dlq</th>\n",
       "      <th>percent_bc_gt_75</th>\n",
       "      <th>pub_rec_bankruptcies</th>\n",
       "      <th>tax_liens</th>\n",
       "      <th>tot_hi_cred_lim</th>\n",
       "      <th>total_bal_ex_mort</th>\n",
       "      <th>total_bc_limit</th>\n",
       "      <th>total_il_high_credit_limit</th>\n",
       "    </tr>\n",
       "  </thead>\n",
       "  <tbody>\n",
       "    <tr>\n",
       "      <th>421095</th>\n",
       "      <td>NaN</td>\n",
       "      <td>NaN</td>\n",
       "      <td>NaN</td>\n",
       "      <td>NaN</td>\n",
       "      <td>NaN</td>\n",
       "      <td>NaN</td>\n",
       "      <td>NaN</td>\n",
       "      <td>NaN</td>\n",
       "      <td>NaN</td>\n",
       "      <td>NaN</td>\n",
       "      <td>...</td>\n",
       "      <td>NaN</td>\n",
       "      <td>NaN</td>\n",
       "      <td>NaN</td>\n",
       "      <td>NaN</td>\n",
       "      <td>NaN</td>\n",
       "      <td>NaN</td>\n",
       "      <td>NaN</td>\n",
       "      <td>NaN</td>\n",
       "      <td>NaN</td>\n",
       "      <td>NaN</td>\n",
       "    </tr>\n",
       "    <tr>\n",
       "      <th>421096</th>\n",
       "      <td>NaN</td>\n",
       "      <td>NaN</td>\n",
       "      <td>NaN</td>\n",
       "      <td>NaN</td>\n",
       "      <td>NaN</td>\n",
       "      <td>NaN</td>\n",
       "      <td>NaN</td>\n",
       "      <td>NaN</td>\n",
       "      <td>NaN</td>\n",
       "      <td>NaN</td>\n",
       "      <td>...</td>\n",
       "      <td>NaN</td>\n",
       "      <td>NaN</td>\n",
       "      <td>NaN</td>\n",
       "      <td>NaN</td>\n",
       "      <td>NaN</td>\n",
       "      <td>NaN</td>\n",
       "      <td>NaN</td>\n",
       "      <td>NaN</td>\n",
       "      <td>NaN</td>\n",
       "      <td>NaN</td>\n",
       "    </tr>\n",
       "  </tbody>\n",
       "</table>\n",
       "<p>2 rows × 103 columns</p>\n",
       "</div>"
      ],
      "text/plain": [
       "        id  member_id  loan_amnt  funded_amnt  funded_amnt_inv term  int_rate  \\\n",
       "421095 NaN        NaN        NaN          NaN              NaN  NaN       NaN   \n",
       "421096 NaN        NaN        NaN          NaN              NaN  NaN       NaN   \n",
       "\n",
       "        installment grade emp_length             ...              \\\n",
       "421095          NaN   NaN        NaN             ...               \n",
       "421096          NaN   NaN        NaN             ...               \n",
       "\n",
       "       num_tl_90g_dpd_24m  num_tl_op_past_12m pct_tl_nvr_dlq percent_bc_gt_75  \\\n",
       "421095                NaN                 NaN            NaN              NaN   \n",
       "421096                NaN                 NaN            NaN              NaN   \n",
       "\n",
       "       pub_rec_bankruptcies tax_liens tot_hi_cred_lim total_bal_ex_mort  \\\n",
       "421095                  NaN       NaN             NaN               NaN   \n",
       "421096                  NaN       NaN             NaN               NaN   \n",
       "\n",
       "        total_bc_limit  total_il_high_credit_limit  \n",
       "421095             NaN                         NaN  \n",
       "421096             NaN                         NaN  \n",
       "\n",
       "[2 rows x 103 columns]"
      ]
     },
     "execution_count": 8,
     "metadata": {},
     "output_type": "execute_result"
    }
   ],
   "source": [
    "y2015[y2015['id'].isnull()]"
   ]
  },
  {
   "cell_type": "code",
   "execution_count": 10,
   "metadata": {},
   "outputs": [],
   "source": [
    "# Remove two summary rows at the end that don't actually contain data.\n",
    "y2015 = y2015[:-2]"
   ]
  },
  {
   "cell_type": "markdown",
   "metadata": {
    "run_control": {
     "frozen": false,
     "read_only": false
    }
   },
   "source": [
    "Now this should be better. Let's try again."
   ]
  },
  {
   "cell_type": "code",
   "execution_count": 37,
   "metadata": {
    "run_control": {
     "frozen": false,
     "read_only": false
    }
   },
   "outputs": [
    {
     "data": {
      "text/plain": [
       "Index(['id', 'member_id', 'loan_amnt', 'funded_amnt', 'funded_amnt_inv',\n",
       "       'int_rate', 'installment', 'annual_inc', 'dti', 'delinq_2yrs',\n",
       "       ...\n",
       "       'last_credit_pull_d_Nov-2016', 'last_credit_pull_d_Oct-2015',\n",
       "       'last_credit_pull_d_Oct-2016', 'last_credit_pull_d_Sep-2015',\n",
       "       'last_credit_pull_d_Sep-2016', 'application_type_INDIVIDUAL',\n",
       "       'application_type_JOINT', 'verification_status_joint_Not Verified',\n",
       "       'verification_status_joint_Source Verified',\n",
       "       'verification_status_joint_Verified'],\n",
       "      dtype='object', length=237)"
      ]
     },
     "execution_count": 37,
     "metadata": {},
     "output_type": "execute_result"
    }
   ],
   "source": [
    "pd.get_dummies(y2015).columns"
   ]
  },
  {
   "cell_type": "markdown",
   "metadata": {
    "run_control": {
     "frozen": false,
     "read_only": false
    }
   },
   "source": [
    "It finally works! We had to sacrifice sub grade, state address and description, but that's fine. If you want to include them you could run the dummies independently and then append them back to the dataframe.\n",
    "\n",
    "## Second Attempt\n",
    "\n",
    "Now let's try this model again.\n",
    "\n",
    "We're also going to drop NA columns, rather than impute, because our data is rich enough that we can probably get away with it.\n",
    "\n",
    "This model may take a few minutes to run."
   ]
  },
  {
   "cell_type": "code",
   "execution_count": 38,
   "metadata": {},
   "outputs": [
    {
     "data": {
      "text/plain": [
       "35"
      ]
     },
     "execution_count": 38,
     "metadata": {},
     "output_type": "execute_result"
    }
   ],
   "source": [
    "# see how many columns has null value\n",
    "test = y2015.isnull().sum()\n",
    "len(test[test>0])"
   ]
  },
  {
   "cell_type": "code",
   "execution_count": 30,
   "metadata": {
    "run_control": {
     "frozen": false,
     "read_only": false
    }
   },
   "outputs": [
    {
     "data": {
      "text/plain": [
       "(421095, 201)"
      ]
     },
     "execution_count": 30,
     "metadata": {},
     "output_type": "execute_result"
    }
   ],
   "source": [
    "from sklearn import ensemble\n",
    "from sklearn.model_selection import cross_val_score\n",
    "\n",
    "rfc = ensemble.RandomForestClassifier()\n",
    "X = y2015.drop('loan_status', 1)\n",
    "Y = y2015['loan_status']\n",
    "X = pd.get_dummies(X)\n",
    "X = X.dropna(axis=1)\n",
    "X.shape\n",
    "\n",
    "cross_val_score(rfc, X, Y, cv=10)"
   ]
  },
  {
   "cell_type": "markdown",
   "metadata": {
    "run_control": {
     "frozen": false,
     "read_only": false
    }
   },
   "source": [
    "The score cross validation reports is the accuracy of the tree. Here we're about 98% accurate.\n",
    "\n",
    "That works pretty well, but there are a few potential problems. Firstly, we didn't really do much in the way of feature selection or model refinement. As such there are a lot of features in there that we don't really need. Some of them are actually quite impressively useless.\n",
    "\n",
    "There's also some variance in the scores. The fact that one gave us only 93% accuracy while others gave higher than 98 is concerning. This variance could be corrected by increasing the number of estimators. That will make it take even longer to run, however, and it is already quite slow."
   ]
  },
  {
   "cell_type": "markdown",
   "metadata": {},
   "source": [
    "## DRILL: Third Attempt\n",
    "\n",
    "So here's your task. Get rid of as much data as possible without dropping below an average of 90% accuracy in a 10-fold cross validation.\n",
    "\n",
    "You'll want to do a few things in this process. First, dive into the data that we have and see which features are most important. This can be the raw features or the generated dummies. You may want to use PCA or correlation matrices.\n",
    "\n",
    "Can you do it without using anything related to payment amount or outstanding principal? How do you know?"
   ]
  },
  {
   "cell_type": "code",
   "execution_count": 42,
   "metadata": {
    "run_control": {
     "frozen": false,
     "read_only": false
    }
   },
   "outputs": [
    {
     "data": {
      "text/plain": [
       "(421095, 201)"
      ]
     },
     "execution_count": 42,
     "metadata": {},
     "output_type": "execute_result"
    }
   ],
   "source": [
    "# check how many columns \n",
    "X.shape"
   ]
  },
  {
   "cell_type": "markdown",
   "metadata": {},
   "source": [
    "We first try to apply PCA on cleaned data with the dummy columns together, since PCA will be affected by the original value, we will have to normalize each feature before applying"
   ]
  },
  {
   "cell_type": "code",
   "execution_count": 18,
   "metadata": {},
   "outputs": [
    {
     "data": {
      "text/plain": [
       "58"
      ]
     },
     "execution_count": 18,
     "metadata": {},
     "output_type": "execute_result"
    }
   ],
   "source": [
    "len(y2015.dropna(axis=1).select_dtypes(['number']).columns)"
   ]
  },
  {
   "cell_type": "code",
   "execution_count": 16,
   "metadata": {},
   "outputs": [
    {
     "data": {
      "text/plain": [
       "Index(['term', 'grade', 'home_ownership', 'verification_status', 'issue_d',\n",
       "       'loan_status', 'pymnt_plan', 'purpose', 'initial_list_status',\n",
       "       'application_type'],\n",
       "      dtype='object')"
      ]
     },
     "execution_count": 16,
     "metadata": {},
     "output_type": "execute_result"
    }
   ],
   "source": [
    "len(y2015.dropna(axis=1).select_dtypes(['object']).columns)"
   ]
  },
  {
   "cell_type": "code",
   "execution_count": 23,
   "metadata": {},
   "outputs": [],
   "source": [
    "# approach 1\n",
    "# perform PCA on cleaned data without the dummy columns\n",
    "# normalize the numeric variables before performing PCA\n",
    "from sklearn.preprocessing import scale\n",
    "\n",
    "# isolate the numeric variable\n",
    "X_1 = scale(y2015.dropna(axis=1).select_dtypes(['number']))\n",
    "y_1 = y2015.dropna(axis=1)['loan_status']"
   ]
  },
  {
   "cell_type": "code",
   "execution_count": 26,
   "metadata": {},
   "outputs": [
    {
     "data": {
      "text/html": [
       "<div>\n",
       "<style scoped>\n",
       "    .dataframe tbody tr th:only-of-type {\n",
       "        vertical-align: middle;\n",
       "    }\n",
       "\n",
       "    .dataframe tbody tr th {\n",
       "        vertical-align: top;\n",
       "    }\n",
       "\n",
       "    .dataframe thead th {\n",
       "        text-align: right;\n",
       "    }\n",
       "</style>\n",
       "<table border=\"1\" class=\"dataframe\">\n",
       "  <thead>\n",
       "    <tr style=\"text-align: right;\">\n",
       "      <th></th>\n",
       "      <th>1</th>\n",
       "      <th>2</th>\n",
       "      <th>3</th>\n",
       "      <th>4</th>\n",
       "      <th>5</th>\n",
       "      <th>6</th>\n",
       "      <th>7</th>\n",
       "      <th>8</th>\n",
       "      <th>9</th>\n",
       "      <th>10</th>\n",
       "      <th>loan_status</th>\n",
       "    </tr>\n",
       "  </thead>\n",
       "  <tbody>\n",
       "    <tr>\n",
       "      <th>0</th>\n",
       "      <td>3.587556</td>\n",
       "      <td>1.542228</td>\n",
       "      <td>2.500079</td>\n",
       "      <td>-2.773611</td>\n",
       "      <td>3.408671</td>\n",
       "      <td>1.467261</td>\n",
       "      <td>-0.920762</td>\n",
       "      <td>4.500378</td>\n",
       "      <td>-0.110521</td>\n",
       "      <td>-0.193243</td>\n",
       "      <td>Current</td>\n",
       "    </tr>\n",
       "    <tr>\n",
       "      <th>1</th>\n",
       "      <td>-3.384063</td>\n",
       "      <td>-0.562259</td>\n",
       "      <td>1.331779</td>\n",
       "      <td>-0.835384</td>\n",
       "      <td>0.572886</td>\n",
       "      <td>-1.392441</td>\n",
       "      <td>-0.884068</td>\n",
       "      <td>-0.585214</td>\n",
       "      <td>-1.520458</td>\n",
       "      <td>-0.162051</td>\n",
       "      <td>Current</td>\n",
       "    </tr>\n",
       "    <tr>\n",
       "      <th>2</th>\n",
       "      <td>2.394113</td>\n",
       "      <td>-4.347264</td>\n",
       "      <td>-1.491743</td>\n",
       "      <td>2.668561</td>\n",
       "      <td>2.177444</td>\n",
       "      <td>-0.731460</td>\n",
       "      <td>-1.979200</td>\n",
       "      <td>0.087153</td>\n",
       "      <td>-2.835595</td>\n",
       "      <td>-0.696067</td>\n",
       "      <td>Fully Paid</td>\n",
       "    </tr>\n",
       "    <tr>\n",
       "      <th>3</th>\n",
       "      <td>4.207465</td>\n",
       "      <td>-0.860229</td>\n",
       "      <td>1.954085</td>\n",
       "      <td>-3.130148</td>\n",
       "      <td>2.049866</td>\n",
       "      <td>1.005176</td>\n",
       "      <td>-0.597040</td>\n",
       "      <td>0.154247</td>\n",
       "      <td>-0.970431</td>\n",
       "      <td>-0.883438</td>\n",
       "      <td>Current</td>\n",
       "    </tr>\n",
       "    <tr>\n",
       "      <th>4</th>\n",
       "      <td>-0.160651</td>\n",
       "      <td>5.590080</td>\n",
       "      <td>-3.166568</td>\n",
       "      <td>0.729965</td>\n",
       "      <td>-2.985111</td>\n",
       "      <td>-1.984900</td>\n",
       "      <td>-2.237551</td>\n",
       "      <td>2.440572</td>\n",
       "      <td>-2.571400</td>\n",
       "      <td>0.775232</td>\n",
       "      <td>Fully Paid</td>\n",
       "    </tr>\n",
       "  </tbody>\n",
       "</table>\n",
       "</div>"
      ],
      "text/plain": [
       "          1         2         3         4         5         6         7  \\\n",
       "0  3.587556  1.542228  2.500079 -2.773611  3.408671  1.467261 -0.920762   \n",
       "1 -3.384063 -0.562259  1.331779 -0.835384  0.572886 -1.392441 -0.884068   \n",
       "2  2.394113 -4.347264 -1.491743  2.668561  2.177444 -0.731460 -1.979200   \n",
       "3  4.207465 -0.860229  1.954085 -3.130148  2.049866  1.005176 -0.597040   \n",
       "4 -0.160651  5.590080 -3.166568  0.729965 -2.985111 -1.984900 -2.237551   \n",
       "\n",
       "          8         9        10 loan_status  \n",
       "0  4.500378 -0.110521 -0.193243     Current  \n",
       "1 -0.585214 -1.520458 -0.162051     Current  \n",
       "2  0.087153 -2.835595 -0.696067  Fully Paid  \n",
       "3  0.154247 -0.970431 -0.883438     Current  \n",
       "4  2.440572 -2.571400  0.775232  Fully Paid  "
      ]
     },
     "execution_count": 26,
     "metadata": {},
     "output_type": "execute_result"
    }
   ],
   "source": [
    "from sklearn.decomposition import PCA\n",
    "# try 10 components first\n",
    "pca = PCA(n_components=10)\n",
    "principalComponents = pca.fit_transform(X_1)\n",
    "pca_df = pd.DataFrame(data = principalComponents, columns = list(range(1,11)))\n",
    "pca_df = pd.concat([pca_df, y_1], axis=1)\n",
    "pca_df.head()"
   ]
  },
  {
   "cell_type": "code",
   "execution_count": 28,
   "metadata": {},
   "outputs": [
    {
     "data": {
      "text/plain": [
       "0.6384755170307805"
      ]
     },
     "execution_count": 28,
     "metadata": {},
     "output_type": "execute_result"
    }
   ],
   "source": [
    "# show how much variance is explained by n_components=10\n",
    "pca.explained_variance_ratio_.sum()"
   ]
  },
  {
   "cell_type": "markdown",
   "metadata": {},
   "source": [
    "Looks like there is around 63.85% retained with n_components = 10, let us use the model to train to see what are the cv scores"
   ]
  },
  {
   "cell_type": "code",
   "execution_count": 29,
   "metadata": {},
   "outputs": [
    {
     "data": {
      "text/plain": [
       "array([0.8829047 , 0.89684405, 0.89881504, 0.90076227, 0.89658038,\n",
       "       0.89033484, 0.88368282, 0.88534518, 0.89659677, 0.81427825])"
      ]
     },
     "execution_count": 29,
     "metadata": {},
     "output_type": "execute_result"
    }
   ],
   "source": [
    "# check the model performace\n",
    "cross_val_score(rfc, pca_df.drop('loan_status', axis=1), pca_df['loan_status'], cv=10)"
   ]
  },
  {
   "cell_type": "markdown",
   "metadata": {},
   "source": [
    "We can see that our first approach was not that successful, only one of the scores is higher than 90% and it ranges from 81.43% to 90.08%, which varies quite a lot"
   ]
  },
  {
   "cell_type": "code",
   "execution_count": 39,
   "metadata": {},
   "outputs": [
    {
     "data": {
      "text/plain": [
       "(421095, 58)"
      ]
     },
     "execution_count": 39,
     "metadata": {},
     "output_type": "execute_result"
    }
   ],
   "source": [
    "X_1.shape"
   ]
  },
  {
   "cell_type": "code",
   "execution_count": 40,
   "metadata": {},
   "outputs": [],
   "source": [
    "# approach 2\n",
    "# use the approach 1 plus the dummy variables\n",
    "\n",
    "# get dummy variables from object dtype \n",
    "dummy = pd.get_dummies(y2015.dropna(axis=1).drop('loan_status', axis=1).select_dtypes(['object']))\n",
    "\n",
    "# concatenate pca_df generated previously and dummy variables\n",
    "pca_df2 = pd.concat([pca_df, dummy], axis=1)"
   ]
  },
  {
   "cell_type": "code",
   "execution_count": 43,
   "metadata": {},
   "outputs": [
    {
     "data": {
      "text/html": [
       "<div>\n",
       "<style scoped>\n",
       "    .dataframe tbody tr th:only-of-type {\n",
       "        vertical-align: middle;\n",
       "    }\n",
       "\n",
       "    .dataframe tbody tr th {\n",
       "        vertical-align: top;\n",
       "    }\n",
       "\n",
       "    .dataframe thead th {\n",
       "        text-align: right;\n",
       "    }\n",
       "</style>\n",
       "<table border=\"1\" class=\"dataframe\">\n",
       "  <thead>\n",
       "    <tr style=\"text-align: right;\">\n",
       "      <th></th>\n",
       "      <th>1</th>\n",
       "      <th>2</th>\n",
       "      <th>3</th>\n",
       "      <th>4</th>\n",
       "      <th>5</th>\n",
       "      <th>6</th>\n",
       "      <th>7</th>\n",
       "      <th>8</th>\n",
       "      <th>9</th>\n",
       "      <th>10</th>\n",
       "      <th>...</th>\n",
       "      <th>purpose_moving</th>\n",
       "      <th>purpose_other</th>\n",
       "      <th>purpose_renewable_energy</th>\n",
       "      <th>purpose_small_business</th>\n",
       "      <th>purpose_vacation</th>\n",
       "      <th>purpose_wedding</th>\n",
       "      <th>initial_list_status_f</th>\n",
       "      <th>initial_list_status_w</th>\n",
       "      <th>application_type_INDIVIDUAL</th>\n",
       "      <th>application_type_JOINT</th>\n",
       "    </tr>\n",
       "  </thead>\n",
       "  <tbody>\n",
       "    <tr>\n",
       "      <th>0</th>\n",
       "      <td>3.587556</td>\n",
       "      <td>1.542228</td>\n",
       "      <td>2.500079</td>\n",
       "      <td>-2.773611</td>\n",
       "      <td>3.408671</td>\n",
       "      <td>1.467261</td>\n",
       "      <td>-0.920762</td>\n",
       "      <td>4.500378</td>\n",
       "      <td>-0.110521</td>\n",
       "      <td>-0.193243</td>\n",
       "      <td>...</td>\n",
       "      <td>0</td>\n",
       "      <td>0</td>\n",
       "      <td>0</td>\n",
       "      <td>0</td>\n",
       "      <td>0</td>\n",
       "      <td>0</td>\n",
       "      <td>0</td>\n",
       "      <td>1</td>\n",
       "      <td>1</td>\n",
       "      <td>0</td>\n",
       "    </tr>\n",
       "    <tr>\n",
       "      <th>1</th>\n",
       "      <td>-3.384063</td>\n",
       "      <td>-0.562259</td>\n",
       "      <td>1.331779</td>\n",
       "      <td>-0.835384</td>\n",
       "      <td>0.572886</td>\n",
       "      <td>-1.392441</td>\n",
       "      <td>-0.884068</td>\n",
       "      <td>-0.585214</td>\n",
       "      <td>-1.520458</td>\n",
       "      <td>-0.162051</td>\n",
       "      <td>...</td>\n",
       "      <td>0</td>\n",
       "      <td>0</td>\n",
       "      <td>0</td>\n",
       "      <td>0</td>\n",
       "      <td>0</td>\n",
       "      <td>0</td>\n",
       "      <td>0</td>\n",
       "      <td>1</td>\n",
       "      <td>1</td>\n",
       "      <td>0</td>\n",
       "    </tr>\n",
       "    <tr>\n",
       "      <th>2</th>\n",
       "      <td>2.394113</td>\n",
       "      <td>-4.347264</td>\n",
       "      <td>-1.491743</td>\n",
       "      <td>2.668561</td>\n",
       "      <td>2.177444</td>\n",
       "      <td>-0.731460</td>\n",
       "      <td>-1.979200</td>\n",
       "      <td>0.087153</td>\n",
       "      <td>-2.835595</td>\n",
       "      <td>-0.696067</td>\n",
       "      <td>...</td>\n",
       "      <td>0</td>\n",
       "      <td>0</td>\n",
       "      <td>0</td>\n",
       "      <td>0</td>\n",
       "      <td>0</td>\n",
       "      <td>0</td>\n",
       "      <td>0</td>\n",
       "      <td>1</td>\n",
       "      <td>1</td>\n",
       "      <td>0</td>\n",
       "    </tr>\n",
       "    <tr>\n",
       "      <th>3</th>\n",
       "      <td>4.207465</td>\n",
       "      <td>-0.860229</td>\n",
       "      <td>1.954085</td>\n",
       "      <td>-3.130148</td>\n",
       "      <td>2.049866</td>\n",
       "      <td>1.005176</td>\n",
       "      <td>-0.597040</td>\n",
       "      <td>0.154247</td>\n",
       "      <td>-0.970431</td>\n",
       "      <td>-0.883438</td>\n",
       "      <td>...</td>\n",
       "      <td>0</td>\n",
       "      <td>0</td>\n",
       "      <td>0</td>\n",
       "      <td>0</td>\n",
       "      <td>0</td>\n",
       "      <td>0</td>\n",
       "      <td>0</td>\n",
       "      <td>1</td>\n",
       "      <td>1</td>\n",
       "      <td>0</td>\n",
       "    </tr>\n",
       "    <tr>\n",
       "      <th>4</th>\n",
       "      <td>-0.160651</td>\n",
       "      <td>5.590080</td>\n",
       "      <td>-3.166568</td>\n",
       "      <td>0.729965</td>\n",
       "      <td>-2.985111</td>\n",
       "      <td>-1.984900</td>\n",
       "      <td>-2.237551</td>\n",
       "      <td>2.440572</td>\n",
       "      <td>-2.571400</td>\n",
       "      <td>0.775232</td>\n",
       "      <td>...</td>\n",
       "      <td>0</td>\n",
       "      <td>0</td>\n",
       "      <td>0</td>\n",
       "      <td>0</td>\n",
       "      <td>0</td>\n",
       "      <td>0</td>\n",
       "      <td>0</td>\n",
       "      <td>1</td>\n",
       "      <td>1</td>\n",
       "      <td>0</td>\n",
       "    </tr>\n",
       "  </tbody>\n",
       "</table>\n",
       "<p>5 rows × 58 columns</p>\n",
       "</div>"
      ],
      "text/plain": [
       "          1         2         3         4         5         6         7  \\\n",
       "0  3.587556  1.542228  2.500079 -2.773611  3.408671  1.467261 -0.920762   \n",
       "1 -3.384063 -0.562259  1.331779 -0.835384  0.572886 -1.392441 -0.884068   \n",
       "2  2.394113 -4.347264 -1.491743  2.668561  2.177444 -0.731460 -1.979200   \n",
       "3  4.207465 -0.860229  1.954085 -3.130148  2.049866  1.005176 -0.597040   \n",
       "4 -0.160651  5.590080 -3.166568  0.729965 -2.985111 -1.984900 -2.237551   \n",
       "\n",
       "          8         9        10           ...           purpose_moving  \\\n",
       "0  4.500378 -0.110521 -0.193243           ...                        0   \n",
       "1 -0.585214 -1.520458 -0.162051           ...                        0   \n",
       "2  0.087153 -2.835595 -0.696067           ...                        0   \n",
       "3  0.154247 -0.970431 -0.883438           ...                        0   \n",
       "4  2.440572 -2.571400  0.775232           ...                        0   \n",
       "\n",
       "   purpose_other  purpose_renewable_energy  purpose_small_business  \\\n",
       "0              0                         0                       0   \n",
       "1              0                         0                       0   \n",
       "2              0                         0                       0   \n",
       "3              0                         0                       0   \n",
       "4              0                         0                       0   \n",
       "\n",
       "   purpose_vacation  purpose_wedding  initial_list_status_f  \\\n",
       "0                 0                0                      0   \n",
       "1                 0                0                      0   \n",
       "2                 0                0                      0   \n",
       "3                 0                0                      0   \n",
       "4                 0                0                      0   \n",
       "\n",
       "   initial_list_status_w  application_type_INDIVIDUAL  application_type_JOINT  \n",
       "0                      1                            1                       0  \n",
       "1                      1                            1                       0  \n",
       "2                      1                            1                       0  \n",
       "3                      1                            1                       0  \n",
       "4                      1                            1                       0  \n",
       "\n",
       "[5 rows x 58 columns]"
      ]
     },
     "execution_count": 43,
     "metadata": {},
     "output_type": "execute_result"
    }
   ],
   "source": [
    "pca_df2.head()"
   ]
  },
  {
   "cell_type": "markdown",
   "metadata": {},
   "source": [
    "We can see by using only the numerical columns that are existing in the original data, with the same n_components we are able to reach around 63.85% explained variance"
   ]
  },
  {
   "cell_type": "code",
   "execution_count": 44,
   "metadata": {},
   "outputs": [
    {
     "data": {
      "text/plain": [
       "array([0.8051103 , 0.85072784, 0.81641376, 0.85239011, 0.83709333,\n",
       "       0.80719544, 0.60775606, 0.79218219, 0.53041062, 0.49772004])"
      ]
     },
     "execution_count": 44,
     "metadata": {},
     "output_type": "execute_result"
    }
   ],
   "source": [
    "# check the model performace\n",
    "cross_val_score(rfc, pca_df2.drop('loan_status', axis=1), pca_df2['loan_status'], cv=10)"
   ]
  },
  {
   "cell_type": "markdown",
   "metadata": {},
   "source": [
    "From above we can see that the performance is actually worse than approach 1, the average scores is worse and the variance is quite high"
   ]
  },
  {
   "cell_type": "code",
   "execution_count": 45,
   "metadata": {},
   "outputs": [
    {
     "data": {
      "text/plain": [
       "array([0.67920496, 0.62463489, 0.61634727, 0.47277433, 0.23191641,\n",
       "       0.21151745, 0.24099361, 0.36244033, 0.29643527, 0.26414288])"
      ]
     },
     "execution_count": 45,
     "metadata": {},
     "output_type": "execute_result"
    }
   ],
   "source": [
    "# approach 3\n",
    "# let's try using only dummy variables to see how it works\n",
    "cross_val_score(rfc, dummy, y2015['loan_status'], cv=10)"
   ]
  },
  {
   "cell_type": "markdown",
   "metadata": {},
   "source": [
    "Approach 3 is not working well either since the dummy variables might not have enough information"
   ]
  },
  {
   "cell_type": "code",
   "execution_count": 48,
   "metadata": {},
   "outputs": [
    {
     "data": {
      "text/html": [
       "<div>\n",
       "<style scoped>\n",
       "    .dataframe tbody tr th:only-of-type {\n",
       "        vertical-align: middle;\n",
       "    }\n",
       "\n",
       "    .dataframe tbody tr th {\n",
       "        vertical-align: top;\n",
       "    }\n",
       "\n",
       "    .dataframe thead th {\n",
       "        text-align: right;\n",
       "    }\n",
       "</style>\n",
       "<table border=\"1\" class=\"dataframe\">\n",
       "  <thead>\n",
       "    <tr style=\"text-align: right;\">\n",
       "      <th></th>\n",
       "      <th>1</th>\n",
       "      <th>2</th>\n",
       "      <th>3</th>\n",
       "      <th>4</th>\n",
       "      <th>5</th>\n",
       "      <th>6</th>\n",
       "      <th>7</th>\n",
       "      <th>8</th>\n",
       "      <th>9</th>\n",
       "      <th>10</th>\n",
       "      <th>...</th>\n",
       "      <th>13</th>\n",
       "      <th>14</th>\n",
       "      <th>15</th>\n",
       "      <th>16</th>\n",
       "      <th>17</th>\n",
       "      <th>18</th>\n",
       "      <th>19</th>\n",
       "      <th>20</th>\n",
       "      <th>21</th>\n",
       "      <th>loan_status</th>\n",
       "    </tr>\n",
       "  </thead>\n",
       "  <tbody>\n",
       "    <tr>\n",
       "      <th>0</th>\n",
       "      <td>3.587607</td>\n",
       "      <td>1.542822</td>\n",
       "      <td>2.497115</td>\n",
       "      <td>-2.769188</td>\n",
       "      <td>3.414635</td>\n",
       "      <td>1.492371</td>\n",
       "      <td>-0.966697</td>\n",
       "      <td>4.471896</td>\n",
       "      <td>-0.093769</td>\n",
       "      <td>-0.340039</td>\n",
       "      <td>...</td>\n",
       "      <td>4.737746</td>\n",
       "      <td>2.853299</td>\n",
       "      <td>0.732505</td>\n",
       "      <td>-0.897892</td>\n",
       "      <td>0.949175</td>\n",
       "      <td>0.372726</td>\n",
       "      <td>1.212529</td>\n",
       "      <td>-0.508882</td>\n",
       "      <td>-2.536186</td>\n",
       "      <td>Current</td>\n",
       "    </tr>\n",
       "    <tr>\n",
       "      <th>1</th>\n",
       "      <td>-3.384058</td>\n",
       "      <td>-0.562359</td>\n",
       "      <td>1.332801</td>\n",
       "      <td>-0.835535</td>\n",
       "      <td>0.572890</td>\n",
       "      <td>-1.398066</td>\n",
       "      <td>-0.880401</td>\n",
       "      <td>-0.577942</td>\n",
       "      <td>-1.528011</td>\n",
       "      <td>-0.142107</td>\n",
       "      <td>...</td>\n",
       "      <td>0.424352</td>\n",
       "      <td>0.031339</td>\n",
       "      <td>-0.612518</td>\n",
       "      <td>-0.017270</td>\n",
       "      <td>0.409217</td>\n",
       "      <td>0.073189</td>\n",
       "      <td>0.434963</td>\n",
       "      <td>0.096213</td>\n",
       "      <td>0.349258</td>\n",
       "      <td>Current</td>\n",
       "    </tr>\n",
       "    <tr>\n",
       "      <th>2</th>\n",
       "      <td>2.394150</td>\n",
       "      <td>-4.347372</td>\n",
       "      <td>-1.491508</td>\n",
       "      <td>2.668102</td>\n",
       "      <td>2.180352</td>\n",
       "      <td>-0.743873</td>\n",
       "      <td>-1.989684</td>\n",
       "      <td>0.102663</td>\n",
       "      <td>-2.839922</td>\n",
       "      <td>-0.682567</td>\n",
       "      <td>...</td>\n",
       "      <td>-0.584371</td>\n",
       "      <td>-0.303788</td>\n",
       "      <td>0.020492</td>\n",
       "      <td>0.157292</td>\n",
       "      <td>0.218071</td>\n",
       "      <td>-0.045620</td>\n",
       "      <td>0.295756</td>\n",
       "      <td>0.026661</td>\n",
       "      <td>0.107090</td>\n",
       "      <td>Fully Paid</td>\n",
       "    </tr>\n",
       "    <tr>\n",
       "      <th>3</th>\n",
       "      <td>4.207456</td>\n",
       "      <td>-0.860188</td>\n",
       "      <td>1.954999</td>\n",
       "      <td>-3.131020</td>\n",
       "      <td>2.050355</td>\n",
       "      <td>1.005209</td>\n",
       "      <td>-0.591475</td>\n",
       "      <td>0.162134</td>\n",
       "      <td>-0.975715</td>\n",
       "      <td>-0.882808</td>\n",
       "      <td>...</td>\n",
       "      <td>-0.018464</td>\n",
       "      <td>0.266317</td>\n",
       "      <td>0.250897</td>\n",
       "      <td>-0.195588</td>\n",
       "      <td>0.208160</td>\n",
       "      <td>0.015159</td>\n",
       "      <td>0.248680</td>\n",
       "      <td>-0.267994</td>\n",
       "      <td>0.062722</td>\n",
       "      <td>Current</td>\n",
       "    </tr>\n",
       "    <tr>\n",
       "      <th>4</th>\n",
       "      <td>-0.160650</td>\n",
       "      <td>5.590026</td>\n",
       "      <td>-3.170345</td>\n",
       "      <td>0.731112</td>\n",
       "      <td>-2.982766</td>\n",
       "      <td>-1.974397</td>\n",
       "      <td>-2.262176</td>\n",
       "      <td>2.462850</td>\n",
       "      <td>-2.658032</td>\n",
       "      <td>0.741899</td>\n",
       "      <td>...</td>\n",
       "      <td>-1.769680</td>\n",
       "      <td>-0.448726</td>\n",
       "      <td>1.622850</td>\n",
       "      <td>0.038927</td>\n",
       "      <td>-1.147668</td>\n",
       "      <td>0.149240</td>\n",
       "      <td>-2.202011</td>\n",
       "      <td>0.560763</td>\n",
       "      <td>-0.004974</td>\n",
       "      <td>Fully Paid</td>\n",
       "    </tr>\n",
       "  </tbody>\n",
       "</table>\n",
       "<p>5 rows × 22 columns</p>\n",
       "</div>"
      ],
      "text/plain": [
       "          1         2         3         4         5         6         7  \\\n",
       "0  3.587607  1.542822  2.497115 -2.769188  3.414635  1.492371 -0.966697   \n",
       "1 -3.384058 -0.562359  1.332801 -0.835535  0.572890 -1.398066 -0.880401   \n",
       "2  2.394150 -4.347372 -1.491508  2.668102  2.180352 -0.743873 -1.989684   \n",
       "3  4.207456 -0.860188  1.954999 -3.131020  2.050355  1.005209 -0.591475   \n",
       "4 -0.160650  5.590026 -3.170345  0.731112 -2.982766 -1.974397 -2.262176   \n",
       "\n",
       "          8         9        10     ...             13        14        15  \\\n",
       "0  4.471896 -0.093769 -0.340039     ...       4.737746  2.853299  0.732505   \n",
       "1 -0.577942 -1.528011 -0.142107     ...       0.424352  0.031339 -0.612518   \n",
       "2  0.102663 -2.839922 -0.682567     ...      -0.584371 -0.303788  0.020492   \n",
       "3  0.162134 -0.975715 -0.882808     ...      -0.018464  0.266317  0.250897   \n",
       "4  2.462850 -2.658032  0.741899     ...      -1.769680 -0.448726  1.622850   \n",
       "\n",
       "         16        17        18        19        20        21  loan_status  \n",
       "0 -0.897892  0.949175  0.372726  1.212529 -0.508882 -2.536186      Current  \n",
       "1 -0.017270  0.409217  0.073189  0.434963  0.096213  0.349258      Current  \n",
       "2  0.157292  0.218071 -0.045620  0.295756  0.026661  0.107090   Fully Paid  \n",
       "3 -0.195588  0.208160  0.015159  0.248680 -0.267994  0.062722      Current  \n",
       "4  0.038927 -1.147668  0.149240 -2.202011  0.560763 -0.004974   Fully Paid  \n",
       "\n",
       "[5 rows x 22 columns]"
      ]
     },
     "execution_count": 48,
     "metadata": {},
     "output_type": "execute_result"
    }
   ],
   "source": [
    "# approach 4\n",
    "# this time we use a different parameters for setting our pca model, instead of specify n_components, we set up a\n",
    "# 85% explained variance criteria and later to see how many n_components it require\n",
    "pca_4 = PCA(0.85)\n",
    "principalComponents = pca_4.fit_transform(X_1)\n",
    "pca_df4 = pd.DataFrame(data = principalComponents, columns = list(range(1,pca_4.n_components_ + 1)))\n",
    "pca_df4 = pd.concat([pca_df4, y_1], axis=1)\n",
    "pca_df4.head()"
   ]
  },
  {
   "cell_type": "code",
   "execution_count": 49,
   "metadata": {},
   "outputs": [
    {
     "data": {
      "text/plain": [
       "0.8514485523435925"
      ]
     },
     "execution_count": 49,
     "metadata": {},
     "output_type": "execute_result"
    }
   ],
   "source": [
    "# verify the percentage of variance explained is at least 80%\n",
    "pca_4.explained_variance_ratio_.sum()"
   ]
  },
  {
   "cell_type": "markdown",
   "metadata": {},
   "source": [
    "We can see there are 21 components required to reach the 85% threshold, we will use these components to measure the performance of our model"
   ]
  },
  {
   "cell_type": "code",
   "execution_count": 50,
   "metadata": {},
   "outputs": [
    {
     "data": {
      "text/plain": [
       "array([0.8792952 , 0.88651421, 0.89114483, 0.89024245, 0.89128473,\n",
       "       0.89149846, 0.89014225, 0.89199459, 0.89683426, 0.83971406])"
      ]
     },
     "execution_count": 50,
     "metadata": {},
     "output_type": "execute_result"
    }
   ],
   "source": [
    "# check the model performance\n",
    "cross_val_score(rfc, pca_df4.drop('loan_status', axis=1), pca_df4['loan_status'], cv=10)"
   ]
  },
  {
   "cell_type": "markdown",
   "metadata": {},
   "source": [
    "Looks like simply increase the n_components are not enough, the next approach we will use some categorical variables we dropped off previously and combine with the pca method"
   ]
  },
  {
   "cell_type": "code",
   "execution_count": 51,
   "metadata": {},
   "outputs": [
    {
     "data": {
      "text/html": [
       "<div>\n",
       "<style scoped>\n",
       "    .dataframe tbody tr th:only-of-type {\n",
       "        vertical-align: middle;\n",
       "    }\n",
       "\n",
       "    .dataframe tbody tr th {\n",
       "        vertical-align: top;\n",
       "    }\n",
       "\n",
       "    .dataframe thead th {\n",
       "        text-align: right;\n",
       "    }\n",
       "</style>\n",
       "<table border=\"1\" class=\"dataframe\">\n",
       "  <thead>\n",
       "    <tr style=\"text-align: right;\">\n",
       "      <th></th>\n",
       "      <th>term_ 36 months</th>\n",
       "      <th>term_ 60 months</th>\n",
       "      <th>grade_A</th>\n",
       "      <th>grade_B</th>\n",
       "      <th>grade_C</th>\n",
       "      <th>grade_D</th>\n",
       "      <th>grade_E</th>\n",
       "      <th>grade_F</th>\n",
       "      <th>grade_G</th>\n",
       "      <th>home_ownership_ANY</th>\n",
       "      <th>...</th>\n",
       "      <th>13</th>\n",
       "      <th>14</th>\n",
       "      <th>15</th>\n",
       "      <th>16</th>\n",
       "      <th>17</th>\n",
       "      <th>18</th>\n",
       "      <th>19</th>\n",
       "      <th>20</th>\n",
       "      <th>21</th>\n",
       "      <th>loan_status</th>\n",
       "    </tr>\n",
       "  </thead>\n",
       "  <tbody>\n",
       "    <tr>\n",
       "      <th>0</th>\n",
       "      <td>0</td>\n",
       "      <td>1</td>\n",
       "      <td>0</td>\n",
       "      <td>0</td>\n",
       "      <td>1</td>\n",
       "      <td>0</td>\n",
       "      <td>0</td>\n",
       "      <td>0</td>\n",
       "      <td>0</td>\n",
       "      <td>0</td>\n",
       "      <td>...</td>\n",
       "      <td>4.737746</td>\n",
       "      <td>2.853299</td>\n",
       "      <td>0.732505</td>\n",
       "      <td>-0.897892</td>\n",
       "      <td>0.949175</td>\n",
       "      <td>0.372726</td>\n",
       "      <td>1.212529</td>\n",
       "      <td>-0.508882</td>\n",
       "      <td>-2.536186</td>\n",
       "      <td>Current</td>\n",
       "    </tr>\n",
       "    <tr>\n",
       "      <th>1</th>\n",
       "      <td>1</td>\n",
       "      <td>0</td>\n",
       "      <td>1</td>\n",
       "      <td>0</td>\n",
       "      <td>0</td>\n",
       "      <td>0</td>\n",
       "      <td>0</td>\n",
       "      <td>0</td>\n",
       "      <td>0</td>\n",
       "      <td>0</td>\n",
       "      <td>...</td>\n",
       "      <td>0.424352</td>\n",
       "      <td>0.031339</td>\n",
       "      <td>-0.612518</td>\n",
       "      <td>-0.017270</td>\n",
       "      <td>0.409217</td>\n",
       "      <td>0.073189</td>\n",
       "      <td>0.434963</td>\n",
       "      <td>0.096213</td>\n",
       "      <td>0.349258</td>\n",
       "      <td>Current</td>\n",
       "    </tr>\n",
       "    <tr>\n",
       "      <th>2</th>\n",
       "      <td>1</td>\n",
       "      <td>0</td>\n",
       "      <td>1</td>\n",
       "      <td>0</td>\n",
       "      <td>0</td>\n",
       "      <td>0</td>\n",
       "      <td>0</td>\n",
       "      <td>0</td>\n",
       "      <td>0</td>\n",
       "      <td>0</td>\n",
       "      <td>...</td>\n",
       "      <td>-0.584371</td>\n",
       "      <td>-0.303788</td>\n",
       "      <td>0.020492</td>\n",
       "      <td>0.157292</td>\n",
       "      <td>0.218071</td>\n",
       "      <td>-0.045620</td>\n",
       "      <td>0.295756</td>\n",
       "      <td>0.026661</td>\n",
       "      <td>0.107090</td>\n",
       "      <td>Fully Paid</td>\n",
       "    </tr>\n",
       "    <tr>\n",
       "      <th>3</th>\n",
       "      <td>1</td>\n",
       "      <td>0</td>\n",
       "      <td>1</td>\n",
       "      <td>0</td>\n",
       "      <td>0</td>\n",
       "      <td>0</td>\n",
       "      <td>0</td>\n",
       "      <td>0</td>\n",
       "      <td>0</td>\n",
       "      <td>0</td>\n",
       "      <td>...</td>\n",
       "      <td>-0.018464</td>\n",
       "      <td>0.266317</td>\n",
       "      <td>0.250897</td>\n",
       "      <td>-0.195588</td>\n",
       "      <td>0.208160</td>\n",
       "      <td>0.015159</td>\n",
       "      <td>0.248680</td>\n",
       "      <td>-0.267994</td>\n",
       "      <td>0.062722</td>\n",
       "      <td>Current</td>\n",
       "    </tr>\n",
       "    <tr>\n",
       "      <th>4</th>\n",
       "      <td>1</td>\n",
       "      <td>0</td>\n",
       "      <td>0</td>\n",
       "      <td>0</td>\n",
       "      <td>0</td>\n",
       "      <td>0</td>\n",
       "      <td>1</td>\n",
       "      <td>0</td>\n",
       "      <td>0</td>\n",
       "      <td>0</td>\n",
       "      <td>...</td>\n",
       "      <td>-1.769680</td>\n",
       "      <td>-0.448726</td>\n",
       "      <td>1.622850</td>\n",
       "      <td>0.038927</td>\n",
       "      <td>-1.147668</td>\n",
       "      <td>0.149240</td>\n",
       "      <td>-2.202011</td>\n",
       "      <td>0.560763</td>\n",
       "      <td>-0.004974</td>\n",
       "      <td>Fully Paid</td>\n",
       "    </tr>\n",
       "  </tbody>\n",
       "</table>\n",
       "<p>5 rows × 69 columns</p>\n",
       "</div>"
      ],
      "text/plain": [
       "   term_ 36 months  term_ 60 months  grade_A  grade_B  grade_C  grade_D  \\\n",
       "0                0                1        0        0        1        0   \n",
       "1                1                0        1        0        0        0   \n",
       "2                1                0        1        0        0        0   \n",
       "3                1                0        1        0        0        0   \n",
       "4                1                0        0        0        0        0   \n",
       "\n",
       "   grade_E  grade_F  grade_G  home_ownership_ANY     ...             13  \\\n",
       "0        0        0        0                   0     ...       4.737746   \n",
       "1        0        0        0                   0     ...       0.424352   \n",
       "2        0        0        0                   0     ...      -0.584371   \n",
       "3        0        0        0                   0     ...      -0.018464   \n",
       "4        1        0        0                   0     ...      -1.769680   \n",
       "\n",
       "         14        15        16        17        18        19        20  \\\n",
       "0  2.853299  0.732505 -0.897892  0.949175  0.372726  1.212529 -0.508882   \n",
       "1  0.031339 -0.612518 -0.017270  0.409217  0.073189  0.434963  0.096213   \n",
       "2 -0.303788  0.020492  0.157292  0.218071 -0.045620  0.295756  0.026661   \n",
       "3  0.266317  0.250897 -0.195588  0.208160  0.015159  0.248680 -0.267994   \n",
       "4 -0.448726  1.622850  0.038927 -1.147668  0.149240 -2.202011  0.560763   \n",
       "\n",
       "         21  loan_status  \n",
       "0 -2.536186      Current  \n",
       "1  0.349258      Current  \n",
       "2  0.107090   Fully Paid  \n",
       "3  0.062722      Current  \n",
       "4 -0.004974   Fully Paid  \n",
       "\n",
       "[5 rows x 69 columns]"
      ]
     },
     "execution_count": 51,
     "metadata": {},
     "output_type": "execute_result"
    }
   ],
   "source": [
    "# approach 5\n",
    "# combine with the approach 1 and 4, keep n_components at 22 and add more categorical variables to enhance performance\n",
    "pca_df5 = pd.concat([dummy, pca_df4], axis=1)\n",
    "pca_df5.head()"
   ]
  },
  {
   "cell_type": "code",
   "execution_count": 52,
   "metadata": {},
   "outputs": [
    {
     "data": {
      "text/plain": [
       "array([0.8319204 , 0.84942177, 0.84626345, 0.8528413 , 0.83405367,\n",
       "       0.83706958, 0.60120164, 0.8033437 , 0.55233097, 0.57825488])"
      ]
     },
     "execution_count": 52,
     "metadata": {},
     "output_type": "execute_result"
    }
   ],
   "source": [
    "# check the model performance\n",
    "cross_val_score(rfc, pca_df5.drop('loan_status', axis=1), pca_df5['loan_status'], cv=10)"
   ]
  },
  {
   "cell_type": "markdown",
   "metadata": {},
   "source": [
    "Looks like increasing the explained variance of PCA model did not help with predicting"
   ]
  },
  {
   "cell_type": "markdown",
   "metadata": {},
   "source": [
    "As showing above, there is a lot of variance in approach 4"
   ]
  },
  {
   "cell_type": "code",
   "execution_count": 57,
   "metadata": {},
   "outputs": [
    {
     "data": {
      "text/html": [
       "<div>\n",
       "<style scoped>\n",
       "    .dataframe tbody tr th:only-of-type {\n",
       "        vertical-align: middle;\n",
       "    }\n",
       "\n",
       "    .dataframe tbody tr th {\n",
       "        vertical-align: top;\n",
       "    }\n",
       "\n",
       "    .dataframe thead th {\n",
       "        text-align: right;\n",
       "    }\n",
       "</style>\n",
       "<table border=\"1\" class=\"dataframe\">\n",
       "  <thead>\n",
       "    <tr style=\"text-align: right;\">\n",
       "      <th></th>\n",
       "      <th>1</th>\n",
       "      <th>2</th>\n",
       "      <th>3</th>\n",
       "      <th>4</th>\n",
       "      <th>5</th>\n",
       "      <th>6</th>\n",
       "      <th>7</th>\n",
       "      <th>8</th>\n",
       "      <th>9</th>\n",
       "      <th>10</th>\n",
       "      <th>...</th>\n",
       "      <th>36</th>\n",
       "      <th>37</th>\n",
       "      <th>38</th>\n",
       "      <th>39</th>\n",
       "      <th>40</th>\n",
       "      <th>41</th>\n",
       "      <th>42</th>\n",
       "      <th>43</th>\n",
       "      <th>44</th>\n",
       "      <th>loan_status</th>\n",
       "    </tr>\n",
       "  </thead>\n",
       "  <tbody>\n",
       "    <tr>\n",
       "      <th>0</th>\n",
       "      <td>3.803204</td>\n",
       "      <td>1.733366</td>\n",
       "      <td>2.807995</td>\n",
       "      <td>3.739107</td>\n",
       "      <td>-2.665364</td>\n",
       "      <td>0.463240</td>\n",
       "      <td>1.751558</td>\n",
       "      <td>2.573931</td>\n",
       "      <td>0.039352</td>\n",
       "      <td>0.744901</td>\n",
       "      <td>...</td>\n",
       "      <td>0.151379</td>\n",
       "      <td>-0.483356</td>\n",
       "      <td>-0.458853</td>\n",
       "      <td>-0.525128</td>\n",
       "      <td>0.107627</td>\n",
       "      <td>0.411544</td>\n",
       "      <td>0.694009</td>\n",
       "      <td>-0.625779</td>\n",
       "      <td>0.270826</td>\n",
       "      <td>Current</td>\n",
       "    </tr>\n",
       "    <tr>\n",
       "      <th>1</th>\n",
       "      <td>-3.286988</td>\n",
       "      <td>-0.462205</td>\n",
       "      <td>2.937167</td>\n",
       "      <td>2.086317</td>\n",
       "      <td>-0.864989</td>\n",
       "      <td>-1.272114</td>\n",
       "      <td>-1.417369</td>\n",
       "      <td>0.208508</td>\n",
       "      <td>-0.017976</td>\n",
       "      <td>0.399168</td>\n",
       "      <td>...</td>\n",
       "      <td>0.417571</td>\n",
       "      <td>-0.622631</td>\n",
       "      <td>-0.241005</td>\n",
       "      <td>-0.362490</td>\n",
       "      <td>0.028360</td>\n",
       "      <td>0.276346</td>\n",
       "      <td>0.250468</td>\n",
       "      <td>-0.051457</td>\n",
       "      <td>0.100011</td>\n",
       "      <td>Current</td>\n",
       "    </tr>\n",
       "    <tr>\n",
       "      <th>2</th>\n",
       "      <td>2.397898</td>\n",
       "      <td>-3.590142</td>\n",
       "      <td>3.729239</td>\n",
       "      <td>-2.100663</td>\n",
       "      <td>-0.609316</td>\n",
       "      <td>-4.577682</td>\n",
       "      <td>-0.865288</td>\n",
       "      <td>0.570653</td>\n",
       "      <td>0.339263</td>\n",
       "      <td>0.897360</td>\n",
       "      <td>...</td>\n",
       "      <td>-0.094844</td>\n",
       "      <td>-0.496075</td>\n",
       "      <td>-0.108718</td>\n",
       "      <td>-0.172886</td>\n",
       "      <td>0.106581</td>\n",
       "      <td>0.167811</td>\n",
       "      <td>0.125607</td>\n",
       "      <td>0.001798</td>\n",
       "      <td>0.053263</td>\n",
       "      <td>Fully Paid</td>\n",
       "    </tr>\n",
       "    <tr>\n",
       "      <th>3</th>\n",
       "      <td>4.102428</td>\n",
       "      <td>-0.197696</td>\n",
       "      <td>3.379993</td>\n",
       "      <td>2.705649</td>\n",
       "      <td>-2.980878</td>\n",
       "      <td>-0.473052</td>\n",
       "      <td>1.042699</td>\n",
       "      <td>0.028069</td>\n",
       "      <td>0.657102</td>\n",
       "      <td>0.030822</td>\n",
       "      <td>...</td>\n",
       "      <td>-0.297413</td>\n",
       "      <td>-0.241428</td>\n",
       "      <td>0.031344</td>\n",
       "      <td>-0.278329</td>\n",
       "      <td>0.061737</td>\n",
       "      <td>0.086118</td>\n",
       "      <td>0.298950</td>\n",
       "      <td>0.046307</td>\n",
       "      <td>0.069505</td>\n",
       "      <td>Current</td>\n",
       "    </tr>\n",
       "    <tr>\n",
       "      <th>4</th>\n",
       "      <td>-0.448468</td>\n",
       "      <td>5.411917</td>\n",
       "      <td>-4.257646</td>\n",
       "      <td>0.160013</td>\n",
       "      <td>1.364454</td>\n",
       "      <td>-5.085337</td>\n",
       "      <td>-0.898545</td>\n",
       "      <td>2.693024</td>\n",
       "      <td>-0.214697</td>\n",
       "      <td>0.436574</td>\n",
       "      <td>...</td>\n",
       "      <td>-0.894802</td>\n",
       "      <td>-0.701297</td>\n",
       "      <td>0.472412</td>\n",
       "      <td>-0.106318</td>\n",
       "      <td>-0.091341</td>\n",
       "      <td>0.376829</td>\n",
       "      <td>-0.078016</td>\n",
       "      <td>0.533623</td>\n",
       "      <td>-0.008370</td>\n",
       "      <td>Fully Paid</td>\n",
       "    </tr>\n",
       "  </tbody>\n",
       "</table>\n",
       "<p>5 rows × 45 columns</p>\n",
       "</div>"
      ],
      "text/plain": [
       "          1         2         3         4         5         6         7  \\\n",
       "0  3.803204  1.733366  2.807995  3.739107 -2.665364  0.463240  1.751558   \n",
       "1 -3.286988 -0.462205  2.937167  2.086317 -0.864989 -1.272114 -1.417369   \n",
       "2  2.397898 -3.590142  3.729239 -2.100663 -0.609316 -4.577682 -0.865288   \n",
       "3  4.102428 -0.197696  3.379993  2.705649 -2.980878 -0.473052  1.042699   \n",
       "4 -0.448468  5.411917 -4.257646  0.160013  1.364454 -5.085337 -0.898545   \n",
       "\n",
       "          8         9        10     ...             36        37        38  \\\n",
       "0  2.573931  0.039352  0.744901     ...       0.151379 -0.483356 -0.458853   \n",
       "1  0.208508 -0.017976  0.399168     ...       0.417571 -0.622631 -0.241005   \n",
       "2  0.570653  0.339263  0.897360     ...      -0.094844 -0.496075 -0.108718   \n",
       "3  0.028069  0.657102  0.030822     ...      -0.297413 -0.241428  0.031344   \n",
       "4  2.693024 -0.214697  0.436574     ...      -0.894802 -0.701297  0.472412   \n",
       "\n",
       "         39        40        41        42        43        44  loan_status  \n",
       "0 -0.525128  0.107627  0.411544  0.694009 -0.625779  0.270826      Current  \n",
       "1 -0.362490  0.028360  0.276346  0.250468 -0.051457  0.100011      Current  \n",
       "2 -0.172886  0.106581  0.167811  0.125607  0.001798  0.053263   Fully Paid  \n",
       "3 -0.278329  0.061737  0.086118  0.298950  0.046307  0.069505      Current  \n",
       "4 -0.106318 -0.091341  0.376829 -0.078016  0.533623 -0.008370   Fully Paid  \n",
       "\n",
       "[5 rows x 45 columns]"
      ]
     },
     "execution_count": 57,
     "metadata": {},
     "output_type": "execute_result"
    }
   ],
   "source": [
    "# approach 5\n",
    "# perform PCA on cleaned data with the dummy columns but choosing more components in PCA\n",
    "from sklearn.preprocessing import StandardScaler\n",
    "scaler = StandardScaler()\n",
    "X_5 = y2015.dropna(axis=1)\n",
    "y_5 = X_5['loan_status']\n",
    "X_5 = scaler.fit_transform(pd.get_dummies(X_5.drop('loan_status', axis=1)))\n",
    "\n",
    "pca_5 = PCA(0.8)\n",
    "principalComponents = pca_5.fit_transform(X_5)\n",
    "pca_df_5 = pd.DataFrame(data = principalComponents, columns = list(range(1,pca_5.n_components_ + 1)))\n",
    "pca_df_5 = pd.concat([pca_df_5, y_5], axis=1)\n",
    "pca_df_5.head()"
   ]
  },
  {
   "cell_type": "code",
   "execution_count": 58,
   "metadata": {},
   "outputs": [
    {
     "data": {
      "text/plain": [
       "array([0.83512621, 0.86951153, 0.84676213, 0.87205243, 0.84668725,\n",
       "       0.82795061, 0.5910138 , 0.80828326, 0.5443038 , 0.54681043])"
      ]
     },
     "execution_count": 58,
     "metadata": {},
     "output_type": "execute_result"
    }
   ],
   "source": [
    "# check the model performace\n",
    "cross_val_score(rfc, pca_df_5.drop('loan_status', axis=1), pca_df_5['loan_status'], cv=10)"
   ]
  },
  {
   "cell_type": "markdown",
   "metadata": {},
   "source": [
    "Looks like increasing the explained variance of PCA model did not help with predicting power. Our next approach will be using some feature selections method to filter out some useless and redundant features."
   ]
  },
  {
   "cell_type": "code",
   "execution_count": 165,
   "metadata": {},
   "outputs": [],
   "source": [
    "# re-read the data\n",
    "y2015_raw = pd.read_csv(\n",
    "    'https://www.dropbox.com/s/0so14yudedjmm5m/LoanStats3d.csv?dl=1',\n",
    "    skipinitialspace=True,\n",
    "    header=1\n",
    ")"
   ]
  },
  {
   "cell_type": "code",
   "execution_count": 166,
   "metadata": {},
   "outputs": [
    {
     "data": {
      "text/plain": [
       "(421097, 111)"
      ]
     },
     "execution_count": 166,
     "metadata": {},
     "output_type": "execute_result"
    }
   ],
   "source": [
    "y2015_raw.shape"
   ]
  },
  {
   "cell_type": "code",
   "execution_count": 167,
   "metadata": {},
   "outputs": [],
   "source": [
    "y2015_raw = y2015_raw[:-2]"
   ]
  },
  {
   "cell_type": "code",
   "execution_count": 168,
   "metadata": {},
   "outputs": [],
   "source": [
    "# Convert ID and Interest Rate to numeric.\n",
    "y2015_raw['id'] = pd.to_numeric(y2015_raw['id'], errors='coerce')\n",
    "y2015_raw['int_rate'] = pd.to_numeric(y2015_raw['int_rate'].str.strip('%'), errors='coerce')"
   ]
  },
  {
   "cell_type": "code",
   "execution_count": 170,
   "metadata": {},
   "outputs": [],
   "source": [
    "# check the features that have more than 35 unique values, those columns are useless for prediction since the \n",
    "# variance is too high\n",
    "drop_col = y2015_raw.select_dtypes(['object']).nunique()[y2015_raw.select_dtypes(['object']).nunique()>35].index\n",
    "y2015_clean = y2015_raw.drop(drop_col, axis=1)\n",
    "\n",
    "# drop the columns that have more than 100 null value\n",
    "drop_col2 = y2015_clean.isnull().sum()[y2015_clean.isnull().sum()>100].index\n",
    "y2015_clean.drop(drop_col2, axis=1, inplace=True)"
   ]
  },
  {
   "cell_type": "code",
   "execution_count": 171,
   "metadata": {},
   "outputs": [
    {
     "data": {
      "text/plain": [
       "Index(['id', 'member_id', 'loan_amnt', 'funded_amnt', 'funded_amnt_inv',\n",
       "       'term', 'int_rate', 'installment', 'grade', 'sub_grade',\n",
       "       'home_ownership', 'annual_inc', 'verification_status', 'issue_d',\n",
       "       'loan_status', 'pymnt_plan', 'purpose', 'dti', 'delinq_2yrs',\n",
       "       'inq_last_6mths', 'open_acc', 'pub_rec', 'revol_bal', 'total_acc',\n",
       "       'initial_list_status', 'out_prncp', 'out_prncp_inv', 'total_pymnt',\n",
       "       'total_pymnt_inv', 'total_rec_prncp', 'total_rec_int',\n",
       "       'total_rec_late_fee', 'recoveries', 'collection_recovery_fee',\n",
       "       'last_pymnt_amnt', 'last_credit_pull_d', 'collections_12_mths_ex_med',\n",
       "       'policy_code', 'application_type', 'acc_now_delinq', 'tot_coll_amt',\n",
       "       'tot_cur_bal', 'total_rev_hi_lim', 'acc_open_past_24mths',\n",
       "       'avg_cur_bal', 'chargeoff_within_12_mths', 'delinq_amnt',\n",
       "       'mo_sin_old_rev_tl_op', 'mo_sin_rcnt_rev_tl_op', 'mo_sin_rcnt_tl',\n",
       "       'mort_acc', 'num_accts_ever_120_pd', 'num_actv_bc_tl',\n",
       "       'num_actv_rev_tl', 'num_bc_sats', 'num_bc_tl', 'num_il_tl',\n",
       "       'num_op_rev_tl', 'num_rev_accts', 'num_rev_tl_bal_gt_0', 'num_sats',\n",
       "       'num_tl_30dpd', 'num_tl_90g_dpd_24m', 'num_tl_op_past_12m',\n",
       "       'pct_tl_nvr_dlq', 'pub_rec_bankruptcies', 'tax_liens',\n",
       "       'tot_hi_cred_lim', 'total_bal_ex_mort', 'total_bc_limit',\n",
       "       'total_il_high_credit_limit'],\n",
       "      dtype='object')"
      ]
     },
     "execution_count": 171,
     "metadata": {},
     "output_type": "execute_result"
    }
   ],
   "source": [
    "# check the columns after cleaning step1\n",
    "y2015_clean.columns"
   ]
  },
  {
   "cell_type": "code",
   "execution_count": 172,
   "metadata": {},
   "outputs": [
    {
     "data": {
      "image/png": "[encoded data removed]",
      "text/plain": [
       "<Figure size 1152x1152 with 2 Axes>"
      ]
     },
     "metadata": {
      "needs_background": "light"
     },
     "output_type": "display_data"
    }
   ],
   "source": [
    "# check the correlation of the data\n",
    "import seaborn as sns\n",
    "plt.figure(figsize=(16,16))\n",
    "sns.heatmap(y2015_clean.corr(), cmap=\"Blues\")\n",
    "plt.show()"
   ]
  },
  {
   "cell_type": "markdown",
   "metadata": {},
   "source": [
    "From the heatmap above, we can definitely get rid of some features that have high correlation with others"
   ]
  },
  {
   "cell_type": "code",
   "execution_count": 174,
   "metadata": {},
   "outputs": [],
   "source": [
    "drop_col3 = ['id', 'member_id','funded_amnt', 'funded_amnt_inv', 'installment', 'out_prncp_inv', 'total_pymnt_inv', 'total_rec_int',\n",
    "             'collection_recovery_fee', 'policy_code', 'last_pymnt_amnt', 'revol_bal', 'avg_cur_bal', \n",
    "             'mo_sin_old_rev_tl_op', 'num_actv_rev_tl', 'num_bc_sats', 'num_bc_tl', 'open_acc', 'num_actv_bc_tl',\n",
    "            'num_actv_rev_tl', 'num_bc_tl', 'num_rev_tl_bal_gt_0', 'num_sats', 'tot_cur_bal', 'total_bal_ex_mort']\n",
    "y2015_clean.drop(drop_col3, axis=1, inplace=True)"
   ]
  },
  {
   "cell_type": "code",
   "execution_count": 175,
   "metadata": {},
   "outputs": [
    {
     "data": {
      "image/png": "[encoded data removed]",
      "text/plain": [
       "<Figure size 864x864 with 2 Axes>"
      ]
     },
     "metadata": {
      "needs_background": "light"
     },
     "output_type": "display_data"
    }
   ],
   "source": [
    "# reinspect the heatmap after cleaning\n",
    "plt.figure(figsize=(12,12))\n",
    "sns.heatmap(y2015_clean.corr(), cmap=\"Blues\")\n",
    "plt.show()"
   ]
  },
  {
   "cell_type": "code",
   "execution_count": 176,
   "metadata": {},
   "outputs": [],
   "source": [
    "# drop more columns\n",
    "drop_col4 = ['out_prncp', 'total_pymnt', 'total_rec_prncp', 'num_il_tl', 'num_op_rev_tl','pub_rec_bankruptcies',\n",
    "            'tax_liens', 'num_tl_30dpd', 'acc_open_past_24mths', 'mo_sin_rcnt_rev_tl_op', 'tot_hi_cred_lim',\n",
    "            'total_bc_limit']\n",
    "y2015_clean.drop(drop_col4, axis=1, inplace=True)"
   ]
  },
  {
   "cell_type": "code",
   "execution_count": 177,
   "metadata": {},
   "outputs": [
    {
     "data": {
      "image/png": "[encoded data removed]",
      "text/plain": [
       "<Figure size 576x576 with 2 Axes>"
      ]
     },
     "metadata": {
      "needs_background": "light"
     },
     "output_type": "display_data"
    }
   ],
   "source": [
    "plt.figure(figsize=(8,8))\n",
    "sns.heatmap(y2015_clean.corr(), cmap=\"Blues\")\n",
    "plt.show()"
   ]
  },
  {
   "cell_type": "code",
   "execution_count": 178,
   "metadata": {},
   "outputs": [],
   "source": [
    "# seems there are three more columns need to be dropped\n",
    "y2015_clean.drop(['num_rev_accts', 'delinq_2yrs', 'total_rev_hi_lim'], axis=1, inplace=True)"
   ]
  },
  {
   "cell_type": "code",
   "execution_count": 181,
   "metadata": {},
   "outputs": [],
   "source": [
    "y2015_clean.dropna(inplace=True)"
   ]
  },
  {
   "cell_type": "code",
   "execution_count": 183,
   "metadata": {},
   "outputs": [
    {
     "data": {
      "text/html": [
       "<div>\n",
       "<style scoped>\n",
       "    .dataframe tbody tr th:only-of-type {\n",
       "        vertical-align: middle;\n",
       "    }\n",
       "\n",
       "    .dataframe tbody tr th {\n",
       "        vertical-align: top;\n",
       "    }\n",
       "\n",
       "    .dataframe thead th {\n",
       "        text-align: right;\n",
       "    }\n",
       "</style>\n",
       "<table border=\"1\" class=\"dataframe\">\n",
       "  <thead>\n",
       "    <tr style=\"text-align: right;\">\n",
       "      <th></th>\n",
       "      <th>loan_amnt</th>\n",
       "      <th>term</th>\n",
       "      <th>int_rate</th>\n",
       "      <th>grade</th>\n",
       "      <th>sub_grade</th>\n",
       "      <th>home_ownership</th>\n",
       "      <th>annual_inc</th>\n",
       "      <th>verification_status</th>\n",
       "      <th>issue_d</th>\n",
       "      <th>loan_status</th>\n",
       "      <th>...</th>\n",
       "      <th>tot_coll_amt</th>\n",
       "      <th>chargeoff_within_12_mths</th>\n",
       "      <th>delinq_amnt</th>\n",
       "      <th>mo_sin_rcnt_tl</th>\n",
       "      <th>mort_acc</th>\n",
       "      <th>num_accts_ever_120_pd</th>\n",
       "      <th>num_tl_90g_dpd_24m</th>\n",
       "      <th>num_tl_op_past_12m</th>\n",
       "      <th>pct_tl_nvr_dlq</th>\n",
       "      <th>total_il_high_credit_limit</th>\n",
       "    </tr>\n",
       "  </thead>\n",
       "  <tbody>\n",
       "    <tr>\n",
       "      <th>0</th>\n",
       "      <td>16000.0</td>\n",
       "      <td>60 months</td>\n",
       "      <td>14.85</td>\n",
       "      <td>C</td>\n",
       "      <td>C5</td>\n",
       "      <td>MORTGAGE</td>\n",
       "      <td>48000.0</td>\n",
       "      <td>Not Verified</td>\n",
       "      <td>Dec-2015</td>\n",
       "      <td>Current</td>\n",
       "      <td>...</td>\n",
       "      <td>0.0</td>\n",
       "      <td>0.0</td>\n",
       "      <td>0.0</td>\n",
       "      <td>6.0</td>\n",
       "      <td>2.0</td>\n",
       "      <td>2.0</td>\n",
       "      <td>0.0</td>\n",
       "      <td>2.0</td>\n",
       "      <td>78.9</td>\n",
       "      <td>13400.0</td>\n",
       "    </tr>\n",
       "    <tr>\n",
       "      <th>1</th>\n",
       "      <td>9600.0</td>\n",
       "      <td>36 months</td>\n",
       "      <td>7.49</td>\n",
       "      <td>A</td>\n",
       "      <td>A4</td>\n",
       "      <td>MORTGAGE</td>\n",
       "      <td>60000.0</td>\n",
       "      <td>Not Verified</td>\n",
       "      <td>Dec-2015</td>\n",
       "      <td>Current</td>\n",
       "      <td>...</td>\n",
       "      <td>0.0</td>\n",
       "      <td>0.0</td>\n",
       "      <td>0.0</td>\n",
       "      <td>9.0</td>\n",
       "      <td>0.0</td>\n",
       "      <td>0.0</td>\n",
       "      <td>0.0</td>\n",
       "      <td>2.0</td>\n",
       "      <td>100.0</td>\n",
       "      <td>75635.0</td>\n",
       "    </tr>\n",
       "    <tr>\n",
       "      <th>2</th>\n",
       "      <td>25000.0</td>\n",
       "      <td>36 months</td>\n",
       "      <td>7.49</td>\n",
       "      <td>A</td>\n",
       "      <td>A4</td>\n",
       "      <td>MORTGAGE</td>\n",
       "      <td>109000.0</td>\n",
       "      <td>Not Verified</td>\n",
       "      <td>Dec-2015</td>\n",
       "      <td>Fully Paid</td>\n",
       "      <td>...</td>\n",
       "      <td>0.0</td>\n",
       "      <td>0.0</td>\n",
       "      <td>0.0</td>\n",
       "      <td>13.0</td>\n",
       "      <td>3.0</td>\n",
       "      <td>0.0</td>\n",
       "      <td>0.0</td>\n",
       "      <td>0.0</td>\n",
       "      <td>100.0</td>\n",
       "      <td>82117.0</td>\n",
       "    </tr>\n",
       "    <tr>\n",
       "      <th>3</th>\n",
       "      <td>28000.0</td>\n",
       "      <td>36 months</td>\n",
       "      <td>6.49</td>\n",
       "      <td>A</td>\n",
       "      <td>A2</td>\n",
       "      <td>MORTGAGE</td>\n",
       "      <td>92000.0</td>\n",
       "      <td>Not Verified</td>\n",
       "      <td>Dec-2015</td>\n",
       "      <td>Current</td>\n",
       "      <td>...</td>\n",
       "      <td>0.0</td>\n",
       "      <td>0.0</td>\n",
       "      <td>0.0</td>\n",
       "      <td>19.0</td>\n",
       "      <td>2.0</td>\n",
       "      <td>0.0</td>\n",
       "      <td>0.0</td>\n",
       "      <td>0.0</td>\n",
       "      <td>91.7</td>\n",
       "      <td>42503.0</td>\n",
       "    </tr>\n",
       "    <tr>\n",
       "      <th>4</th>\n",
       "      <td>8650.0</td>\n",
       "      <td>36 months</td>\n",
       "      <td>19.89</td>\n",
       "      <td>E</td>\n",
       "      <td>E3</td>\n",
       "      <td>RENT</td>\n",
       "      <td>55000.0</td>\n",
       "      <td>Verified</td>\n",
       "      <td>Dec-2015</td>\n",
       "      <td>Fully Paid</td>\n",
       "      <td>...</td>\n",
       "      <td>0.0</td>\n",
       "      <td>0.0</td>\n",
       "      <td>0.0</td>\n",
       "      <td>0.0</td>\n",
       "      <td>0.0</td>\n",
       "      <td>0.0</td>\n",
       "      <td>0.0</td>\n",
       "      <td>12.0</td>\n",
       "      <td>100.0</td>\n",
       "      <td>18248.0</td>\n",
       "    </tr>\n",
       "  </tbody>\n",
       "</table>\n",
       "<p>5 rows × 33 columns</p>\n",
       "</div>"
      ],
      "text/plain": [
       "   loan_amnt        term  int_rate grade sub_grade home_ownership  annual_inc  \\\n",
       "0    16000.0   60 months     14.85     C        C5       MORTGAGE     48000.0   \n",
       "1     9600.0   36 months      7.49     A        A4       MORTGAGE     60000.0   \n",
       "2    25000.0   36 months      7.49     A        A4       MORTGAGE    109000.0   \n",
       "3    28000.0   36 months      6.49     A        A2       MORTGAGE     92000.0   \n",
       "4     8650.0   36 months     19.89     E        E3           RENT     55000.0   \n",
       "\n",
       "  verification_status   issue_d loan_status            ...              \\\n",
       "0        Not Verified  Dec-2015     Current            ...               \n",
       "1        Not Verified  Dec-2015     Current            ...               \n",
       "2        Not Verified  Dec-2015  Fully Paid            ...               \n",
       "3        Not Verified  Dec-2015     Current            ...               \n",
       "4            Verified  Dec-2015  Fully Paid            ...               \n",
       "\n",
       "  tot_coll_amt chargeoff_within_12_mths  delinq_amnt  mo_sin_rcnt_tl  \\\n",
       "0          0.0                      0.0          0.0             6.0   \n",
       "1          0.0                      0.0          0.0             9.0   \n",
       "2          0.0                      0.0          0.0            13.0   \n",
       "3          0.0                      0.0          0.0            19.0   \n",
       "4          0.0                      0.0          0.0             0.0   \n",
       "\n",
       "   mort_acc  num_accts_ever_120_pd num_tl_90g_dpd_24m  num_tl_op_past_12m  \\\n",
       "0       2.0                    2.0                0.0                 2.0   \n",
       "1       0.0                    0.0                0.0                 2.0   \n",
       "2       3.0                    0.0                0.0                 0.0   \n",
       "3       2.0                    0.0                0.0                 0.0   \n",
       "4       0.0                    0.0                0.0                12.0   \n",
       "\n",
       "   pct_tl_nvr_dlq total_il_high_credit_limit  \n",
       "0            78.9                    13400.0  \n",
       "1           100.0                    75635.0  \n",
       "2           100.0                    82117.0  \n",
       "3            91.7                    42503.0  \n",
       "4           100.0                    18248.0  \n",
       "\n",
       "[5 rows x 33 columns]"
      ]
     },
     "execution_count": 183,
     "metadata": {},
     "output_type": "execute_result"
    }
   ],
   "source": [
    "y2015_clean.head()"
   ]
  },
  {
   "cell_type": "code",
   "execution_count": 187,
   "metadata": {},
   "outputs": [
    {
     "data": {
      "text/plain": [
       "0       Current\n",
       "1       Current\n",
       "2    Fully Paid\n",
       "3       Current\n",
       "4    Fully Paid\n",
       "Name: loan_status, dtype: object"
      ]
     },
     "execution_count": 187,
     "metadata": {},
     "output_type": "execute_result"
    }
   ],
   "source": [
    "y2015_clean['loan_status'].head()"
   ]
  },
  {
   "cell_type": "code",
   "execution_count": 199,
   "metadata": {},
   "outputs": [
    {
     "data": {
      "text/plain": [
       "array([0.82768938, 0.82590834, 0.82457848, 0.8297554 , 0.82825932,\n",
       "       0.82519592, 0.82172457, 0.82242857, 0.82335059, 0.80154376])"
      ]
     },
     "execution_count": 199,
     "metadata": {},
     "output_type": "execute_result"
    }
   ],
   "source": [
    "# approach 6\n",
    "# after feature selection, we will try to use it to predict directly without using PCA\n",
    "X_6 = pd.get_dummies(y2015_clean.drop(['loan_status', 'issue_d', 'pymnt_plan'], axis=1))\n",
    "y_6 = y2015_clean['loan_status']\n",
    "cross_val_score(rfc, X_6, y_6, cv=10)"
   ]
  },
  {
   "cell_type": "code",
   "execution_count": 193,
   "metadata": {},
   "outputs": [
    {
     "data": {
      "text/html": [
       "<div>\n",
       "<style scoped>\n",
       "    .dataframe tbody tr th:only-of-type {\n",
       "        vertical-align: middle;\n",
       "    }\n",
       "\n",
       "    .dataframe tbody tr th {\n",
       "        vertical-align: top;\n",
       "    }\n",
       "\n",
       "    .dataframe thead th {\n",
       "        text-align: right;\n",
       "    }\n",
       "</style>\n",
       "<table border=\"1\" class=\"dataframe\">\n",
       "  <thead>\n",
       "    <tr style=\"text-align: right;\">\n",
       "      <th></th>\n",
       "      <th>term</th>\n",
       "      <th>grade</th>\n",
       "      <th>sub_grade</th>\n",
       "      <th>home_ownership</th>\n",
       "      <th>verification_status</th>\n",
       "      <th>issue_d</th>\n",
       "      <th>loan_status</th>\n",
       "      <th>pymnt_plan</th>\n",
       "      <th>purpose</th>\n",
       "      <th>initial_list_status</th>\n",
       "      <th>last_credit_pull_d</th>\n",
       "      <th>application_type</th>\n",
       "    </tr>\n",
       "  </thead>\n",
       "  <tbody>\n",
       "    <tr>\n",
       "      <th>0</th>\n",
       "      <td>60 months</td>\n",
       "      <td>C</td>\n",
       "      <td>C5</td>\n",
       "      <td>MORTGAGE</td>\n",
       "      <td>Not Verified</td>\n",
       "      <td>Dec-2015</td>\n",
       "      <td>Current</td>\n",
       "      <td>n</td>\n",
       "      <td>credit_card</td>\n",
       "      <td>w</td>\n",
       "      <td>Jan-2017</td>\n",
       "      <td>INDIVIDUAL</td>\n",
       "    </tr>\n",
       "    <tr>\n",
       "      <th>1</th>\n",
       "      <td>36 months</td>\n",
       "      <td>A</td>\n",
       "      <td>A4</td>\n",
       "      <td>MORTGAGE</td>\n",
       "      <td>Not Verified</td>\n",
       "      <td>Dec-2015</td>\n",
       "      <td>Current</td>\n",
       "      <td>n</td>\n",
       "      <td>credit_card</td>\n",
       "      <td>w</td>\n",
       "      <td>Jan-2017</td>\n",
       "      <td>INDIVIDUAL</td>\n",
       "    </tr>\n",
       "    <tr>\n",
       "      <th>2</th>\n",
       "      <td>36 months</td>\n",
       "      <td>A</td>\n",
       "      <td>A4</td>\n",
       "      <td>MORTGAGE</td>\n",
       "      <td>Not Verified</td>\n",
       "      <td>Dec-2015</td>\n",
       "      <td>Fully Paid</td>\n",
       "      <td>n</td>\n",
       "      <td>debt_consolidation</td>\n",
       "      <td>w</td>\n",
       "      <td>Jan-2017</td>\n",
       "      <td>INDIVIDUAL</td>\n",
       "    </tr>\n",
       "    <tr>\n",
       "      <th>3</th>\n",
       "      <td>36 months</td>\n",
       "      <td>A</td>\n",
       "      <td>A2</td>\n",
       "      <td>MORTGAGE</td>\n",
       "      <td>Not Verified</td>\n",
       "      <td>Dec-2015</td>\n",
       "      <td>Current</td>\n",
       "      <td>n</td>\n",
       "      <td>debt_consolidation</td>\n",
       "      <td>w</td>\n",
       "      <td>Jan-2017</td>\n",
       "      <td>INDIVIDUAL</td>\n",
       "    </tr>\n",
       "    <tr>\n",
       "      <th>4</th>\n",
       "      <td>36 months</td>\n",
       "      <td>E</td>\n",
       "      <td>E3</td>\n",
       "      <td>RENT</td>\n",
       "      <td>Verified</td>\n",
       "      <td>Dec-2015</td>\n",
       "      <td>Fully Paid</td>\n",
       "      <td>n</td>\n",
       "      <td>debt_consolidation</td>\n",
       "      <td>w</td>\n",
       "      <td>Jun-2016</td>\n",
       "      <td>INDIVIDUAL</td>\n",
       "    </tr>\n",
       "  </tbody>\n",
       "</table>\n",
       "</div>"
      ],
      "text/plain": [
       "         term grade sub_grade home_ownership verification_status   issue_d  \\\n",
       "0   60 months     C        C5       MORTGAGE        Not Verified  Dec-2015   \n",
       "1   36 months     A        A4       MORTGAGE        Not Verified  Dec-2015   \n",
       "2   36 months     A        A4       MORTGAGE        Not Verified  Dec-2015   \n",
       "3   36 months     A        A2       MORTGAGE        Not Verified  Dec-2015   \n",
       "4   36 months     E        E3           RENT            Verified  Dec-2015   \n",
       "\n",
       "  loan_status pymnt_plan             purpose initial_list_status  \\\n",
       "0     Current          n         credit_card                   w   \n",
       "1     Current          n         credit_card                   w   \n",
       "2  Fully Paid          n  debt_consolidation                   w   \n",
       "3     Current          n  debt_consolidation                   w   \n",
       "4  Fully Paid          n  debt_consolidation                   w   \n",
       "\n",
       "  last_credit_pull_d application_type  \n",
       "0           Jan-2017       INDIVIDUAL  \n",
       "1           Jan-2017       INDIVIDUAL  \n",
       "2           Jan-2017       INDIVIDUAL  \n",
       "3           Jan-2017       INDIVIDUAL  \n",
       "4           Jun-2016       INDIVIDUAL  "
      ]
     },
     "execution_count": 193,
     "metadata": {},
     "output_type": "execute_result"
    }
   ],
   "source": [
    "y2015_clean.select_dtypes(['object']).head()"
   ]
  },
  {
   "cell_type": "code",
   "execution_count": null,
   "metadata": {},
   "outputs": [],
   "source": []
  }
 ],
 "metadata": {
  "hide_input": false,
  "kernelspec": {
   "display_name": "Python 3",
   "language": "python",
   "name": "python3"
  },
  "language_info": {
   "codemirror_mode": {
    "name": "ipython",
    "version": 3
   },
   "file_extension": ".py",
   "mimetype": "text/x-python",
   "name": "python",
   "nbconvert_exporter": "python",
   "pygments_lexer": "ipython3",
   "version": "3.7.0"
  },
  "toc": {
   "colors": {
    "hover_highlight": "#DAA520",
    "running_highlight": "#FF0000",
    "selected_highlight": "#FFD700"
   },
   "moveMenuLeft": true,
   "nav_menu": {
    "height": "86px",
    "width": "252px"
   },
   "navigate_menu": true,
   "number_sections": true,
   "sideBar": true,
   "threshold": 4,
   "toc_cell": false,
   "toc_section_display": "block",
   "toc_window_display": false
  }
 },
 "nbformat": 4,
 "nbformat_minor": 2
}
