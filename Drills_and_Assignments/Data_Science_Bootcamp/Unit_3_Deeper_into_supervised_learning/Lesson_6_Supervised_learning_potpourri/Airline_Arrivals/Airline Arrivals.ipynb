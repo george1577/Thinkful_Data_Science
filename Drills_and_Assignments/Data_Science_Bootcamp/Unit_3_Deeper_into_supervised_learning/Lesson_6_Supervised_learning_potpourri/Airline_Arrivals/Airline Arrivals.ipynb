{
 "cells": [
  {
   "cell_type": "code",
   "execution_count": 41,
   "metadata": {},
   "outputs": [],
   "source": [
    "# setting environment\n",
    "%matplotlib inline\n",
    "import pandas as pd\n",
    "import numpy as np\n",
    "import seaborn as sns\n",
    "import matplotlib.pyplot as plt\n",
    "\n",
    "# supress warnings\n",
    "import warnings\n",
    "warnings.filterwarnings(\"ignore\")"
   ]
  },
  {
   "cell_type": "code",
   "execution_count": 42,
   "metadata": {},
   "outputs": [],
   "source": [
    "# read in data\n",
    "airline2008 = pd.read_csv('data/2008.csv')"
   ]
  },
  {
   "cell_type": "code",
   "execution_count": 43,
   "metadata": {},
   "outputs": [
    {
     "data": {
      "text/plain": [
       "(7009728, 29)"
      ]
     },
     "execution_count": 43,
     "metadata": {},
     "output_type": "execute_result"
    }
   ],
   "source": [
    "# examine the size of dataset\n",
    "airline2008.shape"
   ]
  },
  {
   "cell_type": "code",
   "execution_count": 44,
   "metadata": {},
   "outputs": [
    {
     "data": {
      "text/html": [
       "<div>\n",
       "<style scoped>\n",
       "    .dataframe tbody tr th:only-of-type {\n",
       "        vertical-align: middle;\n",
       "    }\n",
       "\n",
       "    .dataframe tbody tr th {\n",
       "        vertical-align: top;\n",
       "    }\n",
       "\n",
       "    .dataframe thead th {\n",
       "        text-align: right;\n",
       "    }\n",
       "</style>\n",
       "<table border=\"1\" class=\"dataframe\">\n",
       "  <thead>\n",
       "    <tr style=\"text-align: right;\">\n",
       "      <th></th>\n",
       "      <th>Year</th>\n",
       "      <th>Month</th>\n",
       "      <th>DayofMonth</th>\n",
       "      <th>DayOfWeek</th>\n",
       "      <th>DepTime</th>\n",
       "      <th>CRSDepTime</th>\n",
       "      <th>ArrTime</th>\n",
       "      <th>CRSArrTime</th>\n",
       "      <th>UniqueCarrier</th>\n",
       "      <th>FlightNum</th>\n",
       "      <th>...</th>\n",
       "      <th>TaxiIn</th>\n",
       "      <th>TaxiOut</th>\n",
       "      <th>Cancelled</th>\n",
       "      <th>CancellationCode</th>\n",
       "      <th>Diverted</th>\n",
       "      <th>CarrierDelay</th>\n",
       "      <th>WeatherDelay</th>\n",
       "      <th>NASDelay</th>\n",
       "      <th>SecurityDelay</th>\n",
       "      <th>LateAircraftDelay</th>\n",
       "    </tr>\n",
       "  </thead>\n",
       "  <tbody>\n",
       "    <tr>\n",
       "      <th>0</th>\n",
       "      <td>2008</td>\n",
       "      <td>1</td>\n",
       "      <td>3</td>\n",
       "      <td>4</td>\n",
       "      <td>2003.0</td>\n",
       "      <td>1955</td>\n",
       "      <td>2211.0</td>\n",
       "      <td>2225</td>\n",
       "      <td>WN</td>\n",
       "      <td>335</td>\n",
       "      <td>...</td>\n",
       "      <td>4.0</td>\n",
       "      <td>8.0</td>\n",
       "      <td>0</td>\n",
       "      <td>NaN</td>\n",
       "      <td>0</td>\n",
       "      <td>NaN</td>\n",
       "      <td>NaN</td>\n",
       "      <td>NaN</td>\n",
       "      <td>NaN</td>\n",
       "      <td>NaN</td>\n",
       "    </tr>\n",
       "    <tr>\n",
       "      <th>1</th>\n",
       "      <td>2008</td>\n",
       "      <td>1</td>\n",
       "      <td>3</td>\n",
       "      <td>4</td>\n",
       "      <td>754.0</td>\n",
       "      <td>735</td>\n",
       "      <td>1002.0</td>\n",
       "      <td>1000</td>\n",
       "      <td>WN</td>\n",
       "      <td>3231</td>\n",
       "      <td>...</td>\n",
       "      <td>5.0</td>\n",
       "      <td>10.0</td>\n",
       "      <td>0</td>\n",
       "      <td>NaN</td>\n",
       "      <td>0</td>\n",
       "      <td>NaN</td>\n",
       "      <td>NaN</td>\n",
       "      <td>NaN</td>\n",
       "      <td>NaN</td>\n",
       "      <td>NaN</td>\n",
       "    </tr>\n",
       "    <tr>\n",
       "      <th>2</th>\n",
       "      <td>2008</td>\n",
       "      <td>1</td>\n",
       "      <td>3</td>\n",
       "      <td>4</td>\n",
       "      <td>628.0</td>\n",
       "      <td>620</td>\n",
       "      <td>804.0</td>\n",
       "      <td>750</td>\n",
       "      <td>WN</td>\n",
       "      <td>448</td>\n",
       "      <td>...</td>\n",
       "      <td>3.0</td>\n",
       "      <td>17.0</td>\n",
       "      <td>0</td>\n",
       "      <td>NaN</td>\n",
       "      <td>0</td>\n",
       "      <td>NaN</td>\n",
       "      <td>NaN</td>\n",
       "      <td>NaN</td>\n",
       "      <td>NaN</td>\n",
       "      <td>NaN</td>\n",
       "    </tr>\n",
       "    <tr>\n",
       "      <th>3</th>\n",
       "      <td>2008</td>\n",
       "      <td>1</td>\n",
       "      <td>3</td>\n",
       "      <td>4</td>\n",
       "      <td>926.0</td>\n",
       "      <td>930</td>\n",
       "      <td>1054.0</td>\n",
       "      <td>1100</td>\n",
       "      <td>WN</td>\n",
       "      <td>1746</td>\n",
       "      <td>...</td>\n",
       "      <td>3.0</td>\n",
       "      <td>7.0</td>\n",
       "      <td>0</td>\n",
       "      <td>NaN</td>\n",
       "      <td>0</td>\n",
       "      <td>NaN</td>\n",
       "      <td>NaN</td>\n",
       "      <td>NaN</td>\n",
       "      <td>NaN</td>\n",
       "      <td>NaN</td>\n",
       "    </tr>\n",
       "    <tr>\n",
       "      <th>4</th>\n",
       "      <td>2008</td>\n",
       "      <td>1</td>\n",
       "      <td>3</td>\n",
       "      <td>4</td>\n",
       "      <td>1829.0</td>\n",
       "      <td>1755</td>\n",
       "      <td>1959.0</td>\n",
       "      <td>1925</td>\n",
       "      <td>WN</td>\n",
       "      <td>3920</td>\n",
       "      <td>...</td>\n",
       "      <td>3.0</td>\n",
       "      <td>10.0</td>\n",
       "      <td>0</td>\n",
       "      <td>NaN</td>\n",
       "      <td>0</td>\n",
       "      <td>2.0</td>\n",
       "      <td>0.0</td>\n",
       "      <td>0.0</td>\n",
       "      <td>0.0</td>\n",
       "      <td>32.0</td>\n",
       "    </tr>\n",
       "  </tbody>\n",
       "</table>\n",
       "<p>5 rows × 29 columns</p>\n",
       "</div>"
      ],
      "text/plain": [
       "   Year  Month  DayofMonth  DayOfWeek  DepTime  CRSDepTime  ArrTime  \\\n",
       "0  2008      1           3          4   2003.0        1955   2211.0   \n",
       "1  2008      1           3          4    754.0         735   1002.0   \n",
       "2  2008      1           3          4    628.0         620    804.0   \n",
       "3  2008      1           3          4    926.0         930   1054.0   \n",
       "4  2008      1           3          4   1829.0        1755   1959.0   \n",
       "\n",
       "   CRSArrTime UniqueCarrier  FlightNum        ...         TaxiIn  TaxiOut  \\\n",
       "0        2225            WN        335        ...            4.0      8.0   \n",
       "1        1000            WN       3231        ...            5.0     10.0   \n",
       "2         750            WN        448        ...            3.0     17.0   \n",
       "3        1100            WN       1746        ...            3.0      7.0   \n",
       "4        1925            WN       3920        ...            3.0     10.0   \n",
       "\n",
       "   Cancelled  CancellationCode  Diverted  CarrierDelay WeatherDelay NASDelay  \\\n",
       "0          0               NaN         0           NaN          NaN      NaN   \n",
       "1          0               NaN         0           NaN          NaN      NaN   \n",
       "2          0               NaN         0           NaN          NaN      NaN   \n",
       "3          0               NaN         0           NaN          NaN      NaN   \n",
       "4          0               NaN         0           2.0          0.0      0.0   \n",
       "\n",
       "   SecurityDelay  LateAircraftDelay  \n",
       "0            NaN                NaN  \n",
       "1            NaN                NaN  \n",
       "2            NaN                NaN  \n",
       "3            NaN                NaN  \n",
       "4            0.0               32.0  \n",
       "\n",
       "[5 rows x 29 columns]"
      ]
     },
     "execution_count": 44,
     "metadata": {},
     "output_type": "execute_result"
    }
   ],
   "source": [
    "# check the first few rows to see what it looks like\n",
    "airline2008.head()"
   ]
  },
  {
   "cell_type": "code",
   "execution_count": 45,
   "metadata": {},
   "outputs": [
    {
     "name": "stdout",
     "output_type": "stream",
     "text": [
      "<class 'pandas.core.frame.DataFrame'>\n",
      "RangeIndex: 7009728 entries, 0 to 7009727\n",
      "Data columns (total 29 columns):\n",
      "Year                 int64\n",
      "Month                int64\n",
      "DayofMonth           int64\n",
      "DayOfWeek            int64\n",
      "DepTime              float64\n",
      "CRSDepTime           int64\n",
      "ArrTime              float64\n",
      "CRSArrTime           int64\n",
      "UniqueCarrier        object\n",
      "FlightNum            int64\n",
      "TailNum              object\n",
      "ActualElapsedTime    float64\n",
      "CRSElapsedTime       float64\n",
      "AirTime              float64\n",
      "ArrDelay             float64\n",
      "DepDelay             float64\n",
      "Origin               object\n",
      "Dest                 object\n",
      "Distance             int64\n",
      "TaxiIn               float64\n",
      "TaxiOut              float64\n",
      "Cancelled            int64\n",
      "CancellationCode     object\n",
      "Diverted             int64\n",
      "CarrierDelay         float64\n",
      "WeatherDelay         float64\n",
      "NASDelay             float64\n",
      "SecurityDelay        float64\n",
      "LateAircraftDelay    float64\n",
      "dtypes: float64(14), int64(10), object(5)\n",
      "memory usage: 1.5+ GB\n"
     ]
    }
   ],
   "source": [
    "# check the info of each column\n",
    "airline2008.info()"
   ]
  },
  {
   "cell_type": "code",
   "execution_count": 46,
   "metadata": {},
   "outputs": [
    {
     "data": {
      "text/html": [
       "<div>\n",
       "<style scoped>\n",
       "    .dataframe tbody tr th:only-of-type {\n",
       "        vertical-align: middle;\n",
       "    }\n",
       "\n",
       "    .dataframe tbody tr th {\n",
       "        vertical-align: top;\n",
       "    }\n",
       "\n",
       "    .dataframe thead th {\n",
       "        text-align: right;\n",
       "    }\n",
       "</style>\n",
       "<table border=\"1\" class=\"dataframe\">\n",
       "  <thead>\n",
       "    <tr style=\"text-align: right;\">\n",
       "      <th></th>\n",
       "      <th>DepTime</th>\n",
       "      <th>CRSDepTime</th>\n",
       "      <th>ArrTime</th>\n",
       "      <th>CRSArrTime</th>\n",
       "      <th>ActualElapsedTime</th>\n",
       "      <th>CRSElapsedTime</th>\n",
       "      <th>AirTime</th>\n",
       "      <th>ArrDelay</th>\n",
       "      <th>DepDelay</th>\n",
       "      <th>TaxiIn</th>\n",
       "      <th>TaxiOut</th>\n",
       "    </tr>\n",
       "  </thead>\n",
       "  <tbody>\n",
       "    <tr>\n",
       "      <th>0</th>\n",
       "      <td>2003.0</td>\n",
       "      <td>1955</td>\n",
       "      <td>2211.0</td>\n",
       "      <td>2225</td>\n",
       "      <td>128.0</td>\n",
       "      <td>150.0</td>\n",
       "      <td>116.0</td>\n",
       "      <td>-14.0</td>\n",
       "      <td>8.0</td>\n",
       "      <td>4.0</td>\n",
       "      <td>8.0</td>\n",
       "    </tr>\n",
       "    <tr>\n",
       "      <th>1</th>\n",
       "      <td>754.0</td>\n",
       "      <td>735</td>\n",
       "      <td>1002.0</td>\n",
       "      <td>1000</td>\n",
       "      <td>128.0</td>\n",
       "      <td>145.0</td>\n",
       "      <td>113.0</td>\n",
       "      <td>2.0</td>\n",
       "      <td>19.0</td>\n",
       "      <td>5.0</td>\n",
       "      <td>10.0</td>\n",
       "    </tr>\n",
       "    <tr>\n",
       "      <th>2</th>\n",
       "      <td>628.0</td>\n",
       "      <td>620</td>\n",
       "      <td>804.0</td>\n",
       "      <td>750</td>\n",
       "      <td>96.0</td>\n",
       "      <td>90.0</td>\n",
       "      <td>76.0</td>\n",
       "      <td>14.0</td>\n",
       "      <td>8.0</td>\n",
       "      <td>3.0</td>\n",
       "      <td>17.0</td>\n",
       "    </tr>\n",
       "    <tr>\n",
       "      <th>3</th>\n",
       "      <td>926.0</td>\n",
       "      <td>930</td>\n",
       "      <td>1054.0</td>\n",
       "      <td>1100</td>\n",
       "      <td>88.0</td>\n",
       "      <td>90.0</td>\n",
       "      <td>78.0</td>\n",
       "      <td>-6.0</td>\n",
       "      <td>-4.0</td>\n",
       "      <td>3.0</td>\n",
       "      <td>7.0</td>\n",
       "    </tr>\n",
       "    <tr>\n",
       "      <th>4</th>\n",
       "      <td>1829.0</td>\n",
       "      <td>1755</td>\n",
       "      <td>1959.0</td>\n",
       "      <td>1925</td>\n",
       "      <td>90.0</td>\n",
       "      <td>90.0</td>\n",
       "      <td>77.0</td>\n",
       "      <td>34.0</td>\n",
       "      <td>34.0</td>\n",
       "      <td>3.0</td>\n",
       "      <td>10.0</td>\n",
       "    </tr>\n",
       "    <tr>\n",
       "      <th>5</th>\n",
       "      <td>1940.0</td>\n",
       "      <td>1915</td>\n",
       "      <td>2121.0</td>\n",
       "      <td>2110</td>\n",
       "      <td>101.0</td>\n",
       "      <td>115.0</td>\n",
       "      <td>87.0</td>\n",
       "      <td>11.0</td>\n",
       "      <td>25.0</td>\n",
       "      <td>4.0</td>\n",
       "      <td>10.0</td>\n",
       "    </tr>\n",
       "    <tr>\n",
       "      <th>6</th>\n",
       "      <td>1937.0</td>\n",
       "      <td>1830</td>\n",
       "      <td>2037.0</td>\n",
       "      <td>1940</td>\n",
       "      <td>240.0</td>\n",
       "      <td>250.0</td>\n",
       "      <td>230.0</td>\n",
       "      <td>57.0</td>\n",
       "      <td>67.0</td>\n",
       "      <td>3.0</td>\n",
       "      <td>7.0</td>\n",
       "    </tr>\n",
       "    <tr>\n",
       "      <th>7</th>\n",
       "      <td>1039.0</td>\n",
       "      <td>1040</td>\n",
       "      <td>1132.0</td>\n",
       "      <td>1150</td>\n",
       "      <td>233.0</td>\n",
       "      <td>250.0</td>\n",
       "      <td>219.0</td>\n",
       "      <td>-18.0</td>\n",
       "      <td>-1.0</td>\n",
       "      <td>7.0</td>\n",
       "      <td>7.0</td>\n",
       "    </tr>\n",
       "    <tr>\n",
       "      <th>8</th>\n",
       "      <td>617.0</td>\n",
       "      <td>615</td>\n",
       "      <td>652.0</td>\n",
       "      <td>650</td>\n",
       "      <td>95.0</td>\n",
       "      <td>95.0</td>\n",
       "      <td>70.0</td>\n",
       "      <td>2.0</td>\n",
       "      <td>2.0</td>\n",
       "      <td>6.0</td>\n",
       "      <td>19.0</td>\n",
       "    </tr>\n",
       "    <tr>\n",
       "      <th>9</th>\n",
       "      <td>1620.0</td>\n",
       "      <td>1620</td>\n",
       "      <td>1639.0</td>\n",
       "      <td>1655</td>\n",
       "      <td>79.0</td>\n",
       "      <td>95.0</td>\n",
       "      <td>70.0</td>\n",
       "      <td>-16.0</td>\n",
       "      <td>0.0</td>\n",
       "      <td>3.0</td>\n",
       "      <td>6.0</td>\n",
       "    </tr>\n",
       "  </tbody>\n",
       "</table>\n",
       "</div>"
      ],
      "text/plain": [
       "   DepTime  CRSDepTime  ArrTime  CRSArrTime  ActualElapsedTime  \\\n",
       "0   2003.0        1955   2211.0        2225              128.0   \n",
       "1    754.0         735   1002.0        1000              128.0   \n",
       "2    628.0         620    804.0         750               96.0   \n",
       "3    926.0         930   1054.0        1100               88.0   \n",
       "4   1829.0        1755   1959.0        1925               90.0   \n",
       "5   1940.0        1915   2121.0        2110              101.0   \n",
       "6   1937.0        1830   2037.0        1940              240.0   \n",
       "7   1039.0        1040   1132.0        1150              233.0   \n",
       "8    617.0         615    652.0         650               95.0   \n",
       "9   1620.0        1620   1639.0        1655               79.0   \n",
       "\n",
       "   CRSElapsedTime  AirTime  ArrDelay  DepDelay  TaxiIn  TaxiOut  \n",
       "0           150.0    116.0     -14.0       8.0     4.0      8.0  \n",
       "1           145.0    113.0       2.0      19.0     5.0     10.0  \n",
       "2            90.0     76.0      14.0       8.0     3.0     17.0  \n",
       "3            90.0     78.0      -6.0      -4.0     3.0      7.0  \n",
       "4            90.0     77.0      34.0      34.0     3.0     10.0  \n",
       "5           115.0     87.0      11.0      25.0     4.0     10.0  \n",
       "6           250.0    230.0      57.0      67.0     3.0      7.0  \n",
       "7           250.0    219.0     -18.0      -1.0     7.0      7.0  \n",
       "8            95.0     70.0       2.0       2.0     6.0     19.0  \n",
       "9            95.0     70.0     -16.0       0.0     3.0      6.0  "
      ]
     },
     "execution_count": 46,
     "metadata": {},
     "output_type": "execute_result"
    }
   ],
   "source": [
    "# check the related column\n",
    "airline2008[['DepTime', 'CRSDepTime', 'ArrTime', 'CRSArrTime', 'ActualElapsedTime', 'CRSElapsedTime', 'AirTime',\n",
    "            'ArrDelay', 'DepDelay', 'TaxiIn', 'TaxiOut']].head(10)"
   ]
  },
  {
   "cell_type": "markdown",
   "metadata": {},
   "source": [
    "The goal of this project is to predict how late flights will be, thus `ArrDelay` column will be our outcome variable, one thing to be aware of is the leaking information that might be in the dataset, for example, we could easily calculate the answer by substracting scheduled arrival time `CRSArrTime` from actual arrival time `ArrTime`. We should only use the columns that was known when the flight has not actually taken off yet, for instance, we need to drop `DepTime`, `ActualElapsedTime`, `ArrTime`, those are \"future\" information that we would not have known."
   ]
  },
  {
   "cell_type": "code",
   "execution_count": 47,
   "metadata": {},
   "outputs": [
    {
     "data": {
      "text/plain": [
       "Year                       0\n",
       "Month                      0\n",
       "DayofMonth                 0\n",
       "DayOfWeek                  0\n",
       "DepTime               136246\n",
       "CRSDepTime                 0\n",
       "ArrTime               151649\n",
       "CRSArrTime                 0\n",
       "UniqueCarrier              0\n",
       "FlightNum                  0\n",
       "TailNum                83365\n",
       "ActualElapsedTime     154699\n",
       "CRSElapsedTime           844\n",
       "AirTime               154699\n",
       "ArrDelay              154699\n",
       "DepDelay              136246\n",
       "Origin                     0\n",
       "Dest                       0\n",
       "Distance                   0\n",
       "TaxiIn                151649\n",
       "TaxiOut               137058\n",
       "Cancelled                  0\n",
       "CancellationCode     6872294\n",
       "Diverted                   0\n",
       "CarrierDelay         5484993\n",
       "WeatherDelay         5484993\n",
       "NASDelay             5484993\n",
       "SecurityDelay        5484993\n",
       "LateAircraftDelay    5484993\n",
       "dtype: int64"
      ]
     },
     "execution_count": 47,
     "metadata": {},
     "output_type": "execute_result"
    }
   ],
   "source": [
    "# check the null values in the dataset\n",
    "airline2008.isnull().sum()"
   ]
  },
  {
   "cell_type": "markdown",
   "metadata": {},
   "source": [
    "Obviously we have some data cleaning to do before jumping into the problem, we are only interested in predicting the late flight, flight is only considered \"late\" if the actual arrival time is 30 minutes more than the scheduled, thus we only need to keep the flights that are late as our training set, we can eliminate the cancelled flights as well since this is not going to provide much information, let's keep the flights that have value 0 in `Cancelled` column to see if we clean out most of the null."
   ]
  },
  {
   "cell_type": "code",
   "execution_count": 48,
   "metadata": {},
   "outputs": [
    {
     "data": {
      "text/plain": [
       "Year                       0\n",
       "Month                      0\n",
       "DayofMonth                 0\n",
       "DayOfWeek                  0\n",
       "DepTime                    0\n",
       "CRSDepTime                 0\n",
       "ArrTime                14215\n",
       "CRSArrTime                 0\n",
       "UniqueCarrier              0\n",
       "FlightNum                  0\n",
       "TailNum                    7\n",
       "ActualElapsedTime      17265\n",
       "CRSElapsedTime           598\n",
       "AirTime                17265\n",
       "ArrDelay               17265\n",
       "DepDelay                   0\n",
       "Origin                     0\n",
       "Dest                       0\n",
       "Distance                   0\n",
       "TaxiIn                 14215\n",
       "TaxiOut                    0\n",
       "Cancelled                  0\n",
       "CancellationCode     6872294\n",
       "Diverted                   0\n",
       "CarrierDelay         5347559\n",
       "WeatherDelay         5347559\n",
       "NASDelay             5347559\n",
       "SecurityDelay        5347559\n",
       "LateAircraftDelay    5347559\n",
       "dtype: int64"
      ]
     },
     "execution_count": 48,
     "metadata": {},
     "output_type": "execute_result"
    }
   ],
   "source": [
    "# keep data with cancelled column equals 0\n",
    "airline2008_clean = airline2008[airline2008['Cancelled']==0]\n",
    "airline2008_clean.isnull().sum()"
   ]
  },
  {
   "cell_type": "markdown",
   "metadata": {},
   "source": [
    "We definitely clean out a lot of rows here, our next step is to keep only the flights that are late(`ArrDelay` > 30)"
   ]
  },
  {
   "cell_type": "code",
   "execution_count": 49,
   "metadata": {},
   "outputs": [
    {
     "data": {
      "text/plain": [
       "Year                      0\n",
       "Month                     0\n",
       "DayofMonth                0\n",
       "DayOfWeek                 0\n",
       "DepTime                   0\n",
       "CRSDepTime                0\n",
       "ArrTime                   0\n",
       "CRSArrTime                0\n",
       "UniqueCarrier             0\n",
       "FlightNum                 0\n",
       "TailNum                   2\n",
       "ActualElapsedTime         0\n",
       "CRSElapsedTime            0\n",
       "AirTime                   0\n",
       "ArrDelay                  0\n",
       "DepDelay                  0\n",
       "Origin                    0\n",
       "Dest                      0\n",
       "Distance                  0\n",
       "TaxiIn                    0\n",
       "TaxiOut                   0\n",
       "Cancelled                 0\n",
       "CancellationCode     901398\n",
       "Diverted                  0\n",
       "CarrierDelay              0\n",
       "WeatherDelay              0\n",
       "NASDelay                  0\n",
       "SecurityDelay             0\n",
       "LateAircraftDelay         0\n",
       "dtype: int64"
      ]
     },
     "execution_count": 49,
     "metadata": {},
     "output_type": "execute_result"
    }
   ],
   "source": [
    "# keep only the late flights\n",
    "airline2008_clean = airline2008_clean[airline2008_clean['ArrDelay'] > 30]\n",
    "airline2008_clean.isnull().sum()"
   ]
  },
  {
   "cell_type": "code",
   "execution_count": 50,
   "metadata": {},
   "outputs": [],
   "source": [
    "# drop cancellationcode since it does not make sense if the flight is not cancelled\n",
    "airline2008_clean.drop(['CancellationCode'], axis=1, inplace=True)"
   ]
  },
  {
   "cell_type": "code",
   "execution_count": 51,
   "metadata": {},
   "outputs": [
    {
     "data": {
      "text/plain": [
       "(901398, 28)"
      ]
     },
     "execution_count": 51,
     "metadata": {},
     "output_type": "execute_result"
    }
   ],
   "source": [
    "# check the cleaned dataset size\n",
    "airline2008_clean.shape"
   ]
  },
  {
   "cell_type": "markdown",
   "metadata": {},
   "source": [
    "We reduce our data size from around 7 million into 900K, which should definitely accelerate the model fitting, our next step is to drop the columns that have leaking information"
   ]
  },
  {
   "cell_type": "code",
   "execution_count": 52,
   "metadata": {},
   "outputs": [],
   "source": [
    "col_drop = ['DepTime', 'ArrTime', 'ActualElapsedTime', 'AirTime', 'DepDelay', 'TaxiIn', 'TaxiOut',\n",
    "           'CarrierDelay', 'WeatherDelay', 'NASDelay', 'SecurityDelay', 'LateAircraftDelay']\n",
    "airline2008_clean.drop(col_drop, axis=1, inplace=True)"
   ]
  },
  {
   "cell_type": "code",
   "execution_count": 53,
   "metadata": {},
   "outputs": [
    {
     "data": {
      "text/html": [
       "<div>\n",
       "<style scoped>\n",
       "    .dataframe tbody tr th:only-of-type {\n",
       "        vertical-align: middle;\n",
       "    }\n",
       "\n",
       "    .dataframe tbody tr th {\n",
       "        vertical-align: top;\n",
       "    }\n",
       "\n",
       "    .dataframe thead th {\n",
       "        text-align: right;\n",
       "    }\n",
       "</style>\n",
       "<table border=\"1\" class=\"dataframe\">\n",
       "  <thead>\n",
       "    <tr style=\"text-align: right;\">\n",
       "      <th></th>\n",
       "      <th>Year</th>\n",
       "      <th>Month</th>\n",
       "      <th>DayofMonth</th>\n",
       "      <th>DayOfWeek</th>\n",
       "      <th>CRSDepTime</th>\n",
       "      <th>CRSArrTime</th>\n",
       "      <th>UniqueCarrier</th>\n",
       "      <th>FlightNum</th>\n",
       "      <th>TailNum</th>\n",
       "      <th>CRSElapsedTime</th>\n",
       "      <th>ArrDelay</th>\n",
       "      <th>Origin</th>\n",
       "      <th>Dest</th>\n",
       "      <th>Distance</th>\n",
       "      <th>Cancelled</th>\n",
       "      <th>Diverted</th>\n",
       "    </tr>\n",
       "  </thead>\n",
       "  <tbody>\n",
       "    <tr>\n",
       "      <th>4</th>\n",
       "      <td>2008</td>\n",
       "      <td>1</td>\n",
       "      <td>3</td>\n",
       "      <td>4</td>\n",
       "      <td>1755</td>\n",
       "      <td>1925</td>\n",
       "      <td>WN</td>\n",
       "      <td>3920</td>\n",
       "      <td>N464WN</td>\n",
       "      <td>90.0</td>\n",
       "      <td>34.0</td>\n",
       "      <td>IND</td>\n",
       "      <td>BWI</td>\n",
       "      <td>515</td>\n",
       "      <td>0</td>\n",
       "      <td>0</td>\n",
       "    </tr>\n",
       "    <tr>\n",
       "      <th>6</th>\n",
       "      <td>2008</td>\n",
       "      <td>1</td>\n",
       "      <td>3</td>\n",
       "      <td>4</td>\n",
       "      <td>1830</td>\n",
       "      <td>1940</td>\n",
       "      <td>WN</td>\n",
       "      <td>509</td>\n",
       "      <td>N763SW</td>\n",
       "      <td>250.0</td>\n",
       "      <td>57.0</td>\n",
       "      <td>IND</td>\n",
       "      <td>LAS</td>\n",
       "      <td>1591</td>\n",
       "      <td>0</td>\n",
       "      <td>0</td>\n",
       "    </tr>\n",
       "    <tr>\n",
       "      <th>11</th>\n",
       "      <td>2008</td>\n",
       "      <td>1</td>\n",
       "      <td>3</td>\n",
       "      <td>4</td>\n",
       "      <td>1510</td>\n",
       "      <td>1725</td>\n",
       "      <td>WN</td>\n",
       "      <td>1333</td>\n",
       "      <td>N334SW</td>\n",
       "      <td>135.0</td>\n",
       "      <td>80.0</td>\n",
       "      <td>IND</td>\n",
       "      <td>MCO</td>\n",
       "      <td>828</td>\n",
       "      <td>0</td>\n",
       "      <td>0</td>\n",
       "    </tr>\n",
       "    <tr>\n",
       "      <th>19</th>\n",
       "      <td>2008</td>\n",
       "      <td>1</td>\n",
       "      <td>3</td>\n",
       "      <td>4</td>\n",
       "      <td>1325</td>\n",
       "      <td>1435</td>\n",
       "      <td>WN</td>\n",
       "      <td>54</td>\n",
       "      <td>N643SW</td>\n",
       "      <td>70.0</td>\n",
       "      <td>37.0</td>\n",
       "      <td>ISP</td>\n",
       "      <td>BWI</td>\n",
       "      <td>220</td>\n",
       "      <td>0</td>\n",
       "      <td>0</td>\n",
       "    </tr>\n",
       "    <tr>\n",
       "      <th>26</th>\n",
       "      <td>2008</td>\n",
       "      <td>1</td>\n",
       "      <td>3</td>\n",
       "      <td>4</td>\n",
       "      <td>1255</td>\n",
       "      <td>1610</td>\n",
       "      <td>WN</td>\n",
       "      <td>188</td>\n",
       "      <td>N215WN</td>\n",
       "      <td>195.0</td>\n",
       "      <td>47.0</td>\n",
       "      <td>ISP</td>\n",
       "      <td>FLL</td>\n",
       "      <td>1093</td>\n",
       "      <td>0</td>\n",
       "      <td>0</td>\n",
       "    </tr>\n",
       "  </tbody>\n",
       "</table>\n",
       "</div>"
      ],
      "text/plain": [
       "    Year  Month  DayofMonth  DayOfWeek  CRSDepTime  CRSArrTime UniqueCarrier  \\\n",
       "4   2008      1           3          4        1755        1925            WN   \n",
       "6   2008      1           3          4        1830        1940            WN   \n",
       "11  2008      1           3          4        1510        1725            WN   \n",
       "19  2008      1           3          4        1325        1435            WN   \n",
       "26  2008      1           3          4        1255        1610            WN   \n",
       "\n",
       "    FlightNum TailNum  CRSElapsedTime  ArrDelay Origin Dest  Distance  \\\n",
       "4        3920  N464WN            90.0      34.0    IND  BWI       515   \n",
       "6         509  N763SW           250.0      57.0    IND  LAS      1591   \n",
       "11       1333  N334SW           135.0      80.0    IND  MCO       828   \n",
       "19         54  N643SW            70.0      37.0    ISP  BWI       220   \n",
       "26        188  N215WN           195.0      47.0    ISP  FLL      1093   \n",
       "\n",
       "    Cancelled  Diverted  \n",
       "4           0         0  \n",
       "6           0         0  \n",
       "11          0         0  \n",
       "19          0         0  \n",
       "26          0         0  "
      ]
     },
     "execution_count": 53,
     "metadata": {},
     "output_type": "execute_result"
    }
   ],
   "source": [
    "airline2008_clean.head()"
   ]
  },
  {
   "cell_type": "code",
   "execution_count": 54,
   "metadata": {},
   "outputs": [
    {
     "data": {
      "text/plain": [
       "Year                 1\n",
       "Month               12\n",
       "DayofMonth          31\n",
       "DayOfWeek            7\n",
       "CRSDepTime        1174\n",
       "CRSArrTime        1347\n",
       "UniqueCarrier       20\n",
       "FlightNum         7464\n",
       "TailNum           5341\n",
       "CRSElapsedTime     498\n",
       "ArrDelay          1028\n",
       "Origin             301\n",
       "Dest               301\n",
       "Distance          1401\n",
       "Cancelled            1\n",
       "Diverted             1\n",
       "dtype: int64"
      ]
     },
     "execution_count": 54,
     "metadata": {},
     "output_type": "execute_result"
    }
   ],
   "source": [
    "# check the number of unique values in each column and decide whether we should drop the columns or not\n",
    "airline2008_clean.nunique()"
   ]
  },
  {
   "cell_type": "markdown",
   "metadata": {},
   "source": [
    "Since `Year`, `Cancelled` and `Diverted` column has only one unique value, it does not provide any information for our prediction purpose, we will drop those"
   ]
  },
  {
   "cell_type": "code",
   "execution_count": 55,
   "metadata": {},
   "outputs": [],
   "source": [
    "# drop more columns\n",
    "airline2008_clean.drop(['Year', 'Cancelled', 'Diverted'], axis=1, inplace=True)"
   ]
  },
  {
   "cell_type": "code",
   "execution_count": 56,
   "metadata": {},
   "outputs": [],
   "source": [
    "airline2008_clean.drop(['FlightNum', 'TailNum'], axis=1, inplace=True)"
   ]
  },
  {
   "cell_type": "markdown",
   "metadata": {},
   "source": [
    "After some data cleaning, our next step is to examine the features and do some feature engineering and selection"
   ]
  },
  {
   "cell_type": "code",
   "execution_count": 57,
   "metadata": {},
   "outputs": [
    {
     "data": {
      "image/png": "[encoded data removed]",
      "text/plain": [
       "<Figure size 864x864 with 2 Axes>"
      ]
     },
     "metadata": {
      "needs_background": "light"
     },
     "output_type": "display_data"
    }
   ],
   "source": [
    "# check the correlation of each column\n",
    "fig, ax = plt.subplots(1,1, figsize=(12,12))\n",
    "ax = sns.heatmap(airline2008_clean.corr())"
   ]
  },
  {
   "cell_type": "markdown",
   "metadata": {},
   "source": [
    "We can see there are many time-associated columns, we will deal with them to extract some useful information first, we first deal with CRSDepTime and CRSArrTime, since these two columns represent time but they actually use the number, we will extract the \"hour\" information only since the minutes are too detail it probably will not help much with our model, on the other hand, hour has information like midnight, morning, noon, afternoon...etc. and might be somehow related how much the flight will delay"
   ]
  },
  {
   "cell_type": "code",
   "execution_count": 58,
   "metadata": {},
   "outputs": [],
   "source": [
    "# create a function that extracts the hour information\n",
    "def extract_hour(col):\n",
    "    col = str(col)\n",
    "    if len(col) in [1,2]:\n",
    "        return 0\n",
    "    elif len(col) == 3:\n",
    "        return int(col[0])\n",
    "    else:\n",
    "        return int(col[:2])            "
   ]
  },
  {
   "cell_type": "code",
   "execution_count": 59,
   "metadata": {},
   "outputs": [],
   "source": [
    "airline2008_clean['Dep_hour'] = airline2008_clean['CRSDepTime'].apply(extract_hour)\n",
    "airline2008_clean['Arr_hour'] = airline2008_clean['CRSArrTime'].apply(extract_hour)"
   ]
  },
  {
   "cell_type": "code",
   "execution_count": 60,
   "metadata": {},
   "outputs": [
    {
     "data": {
      "text/html": [
       "<div>\n",
       "<style scoped>\n",
       "    .dataframe tbody tr th:only-of-type {\n",
       "        vertical-align: middle;\n",
       "    }\n",
       "\n",
       "    .dataframe tbody tr th {\n",
       "        vertical-align: top;\n",
       "    }\n",
       "\n",
       "    .dataframe thead th {\n",
       "        text-align: right;\n",
       "    }\n",
       "</style>\n",
       "<table border=\"1\" class=\"dataframe\">\n",
       "  <thead>\n",
       "    <tr style=\"text-align: right;\">\n",
       "      <th></th>\n",
       "      <th>Month</th>\n",
       "      <th>DayofMonth</th>\n",
       "      <th>DayOfWeek</th>\n",
       "      <th>CRSDepTime</th>\n",
       "      <th>CRSArrTime</th>\n",
       "      <th>UniqueCarrier</th>\n",
       "      <th>CRSElapsedTime</th>\n",
       "      <th>ArrDelay</th>\n",
       "      <th>Origin</th>\n",
       "      <th>Dest</th>\n",
       "      <th>Distance</th>\n",
       "      <th>Dep_hour</th>\n",
       "      <th>Arr_hour</th>\n",
       "    </tr>\n",
       "  </thead>\n",
       "  <tbody>\n",
       "    <tr>\n",
       "      <th>2847551</th>\n",
       "      <td>5</td>\n",
       "      <td>4</td>\n",
       "      <td>7</td>\n",
       "      <td>805</td>\n",
       "      <td>913</td>\n",
       "      <td>9E</td>\n",
       "      <td>68.0</td>\n",
       "      <td>50.0</td>\n",
       "      <td>FWA</td>\n",
       "      <td>DTW</td>\n",
       "      <td>128</td>\n",
       "      <td>8</td>\n",
       "      <td>9</td>\n",
       "    </tr>\n",
       "    <tr>\n",
       "      <th>3540948</th>\n",
       "      <td>6</td>\n",
       "      <td>6</td>\n",
       "      <td>5</td>\n",
       "      <td>1155</td>\n",
       "      <td>1448</td>\n",
       "      <td>B6</td>\n",
       "      <td>173.0</td>\n",
       "      <td>88.0</td>\n",
       "      <td>SYR</td>\n",
       "      <td>FLL</td>\n",
       "      <td>1197</td>\n",
       "      <td>11</td>\n",
       "      <td>14</td>\n",
       "    </tr>\n",
       "    <tr>\n",
       "      <th>3319841</th>\n",
       "      <td>6</td>\n",
       "      <td>25</td>\n",
       "      <td>3</td>\n",
       "      <td>1740</td>\n",
       "      <td>1844</td>\n",
       "      <td>EV</td>\n",
       "      <td>64.0</td>\n",
       "      <td>61.0</td>\n",
       "      <td>TLH</td>\n",
       "      <td>MCO</td>\n",
       "      <td>227</td>\n",
       "      <td>17</td>\n",
       "      <td>18</td>\n",
       "    </tr>\n",
       "    <tr>\n",
       "      <th>524059</th>\n",
       "      <td>1</td>\n",
       "      <td>31</td>\n",
       "      <td>4</td>\n",
       "      <td>1515</td>\n",
       "      <td>1840</td>\n",
       "      <td>AA</td>\n",
       "      <td>145.0</td>\n",
       "      <td>98.0</td>\n",
       "      <td>MIA</td>\n",
       "      <td>SJU</td>\n",
       "      <td>1045</td>\n",
       "      <td>15</td>\n",
       "      <td>18</td>\n",
       "    </tr>\n",
       "    <tr>\n",
       "      <th>4171600</th>\n",
       "      <td>7</td>\n",
       "      <td>14</td>\n",
       "      <td>1</td>\n",
       "      <td>1855</td>\n",
       "      <td>2148</td>\n",
       "      <td>B6</td>\n",
       "      <td>173.0</td>\n",
       "      <td>63.0</td>\n",
       "      <td>PBI</td>\n",
       "      <td>LGA</td>\n",
       "      <td>1035</td>\n",
       "      <td>18</td>\n",
       "      <td>21</td>\n",
       "    </tr>\n",
       "  </tbody>\n",
       "</table>\n",
       "</div>"
      ],
      "text/plain": [
       "         Month  DayofMonth  DayOfWeek  CRSDepTime  CRSArrTime UniqueCarrier  \\\n",
       "2847551      5           4          7         805         913            9E   \n",
       "3540948      6           6          5        1155        1448            B6   \n",
       "3319841      6          25          3        1740        1844            EV   \n",
       "524059       1          31          4        1515        1840            AA   \n",
       "4171600      7          14          1        1855        2148            B6   \n",
       "\n",
       "         CRSElapsedTime  ArrDelay Origin Dest  Distance  Dep_hour  Arr_hour  \n",
       "2847551            68.0      50.0    FWA  DTW       128         8         9  \n",
       "3540948           173.0      88.0    SYR  FLL      1197        11        14  \n",
       "3319841            64.0      61.0    TLH  MCO       227        17        18  \n",
       "524059            145.0      98.0    MIA  SJU      1045        15        18  \n",
       "4171600           173.0      63.0    PBI  LGA      1035        18        21  "
      ]
     },
     "execution_count": 60,
     "metadata": {},
     "output_type": "execute_result"
    }
   ],
   "source": [
    "# check the result\n",
    "airline2008_clean.sample(5)"
   ]
  },
  {
   "cell_type": "markdown",
   "metadata": {},
   "source": [
    "Next we will deal with `DayOfWeek` column, we will create a binary column `Weekend` to check whether the amount of delay is different between weekend and weekday flights"
   ]
  },
  {
   "cell_type": "code",
   "execution_count": 61,
   "metadata": {},
   "outputs": [],
   "source": [
    "# create weekend column\n",
    "airline2008_clean['Weekend'] = np.where(airline2008_clean['DayOfWeek'] > 5, 1, 0)"
   ]
  },
  {
   "cell_type": "code",
   "execution_count": 62,
   "metadata": {},
   "outputs": [
    {
     "data": {
      "text/plain": [
       "0    669366\n",
       "1    232032\n",
       "Name: Weekend, dtype: int64"
      ]
     },
     "execution_count": 62,
     "metadata": {},
     "output_type": "execute_result"
    }
   ],
   "source": [
    "airline2008_clean['Weekend'].value_counts()"
   ]
  },
  {
   "cell_type": "code",
   "execution_count": 63,
   "metadata": {},
   "outputs": [
    {
     "data": {
      "image/png": "[encoded data removed]",
      "text/plain": [
       "<Figure size 432x288 with 1 Axes>"
      ]
     },
     "metadata": {
      "needs_background": "light"
     },
     "output_type": "display_data"
    }
   ],
   "source": [
    "# plot the amount of delay between weekdays and weekends flight\n",
    "ax = airline2008_clean.groupby('Weekend')['ArrDelay'].mean().plot(kind='bar')\n",
    "ax.set_title('Arrival delay between weekends and weekdays')\n",
    "ax.set_ylabel('Minutes')\n",
    "plt.show()"
   ]
  },
  {
   "cell_type": "markdown",
   "metadata": {},
   "source": [
    "Looks like flights on weekends seem to delay more than on weekdays. Our next step is to deal with the categorical variables: `UniqueCarrier`, `Origin`, `Dest`, since they are purely nominal and does not have any particular order, we will use the pd.get_dummies function directly. One thing to note is `Month`, `DayofMonth` and `DayofWeek` columns, they should be categorical as well since the number should not have order in this case."
   ]
  },
  {
   "cell_type": "code",
   "execution_count": 64,
   "metadata": {},
   "outputs": [
    {
     "name": "stdout",
     "output_type": "stream",
     "text": [
      "<class 'pandas.core.frame.DataFrame'>\n",
      "Int64Index: 901398 entries, 4 to 7009718\n",
      "Data columns (total 14 columns):\n",
      "Month             901398 non-null object\n",
      "DayofMonth        901398 non-null object\n",
      "DayOfWeek         901398 non-null object\n",
      "CRSDepTime        901398 non-null int64\n",
      "CRSArrTime        901398 non-null int64\n",
      "UniqueCarrier     901398 non-null object\n",
      "CRSElapsedTime    901398 non-null float64\n",
      "ArrDelay          901398 non-null float64\n",
      "Origin            901398 non-null object\n",
      "Dest              901398 non-null object\n",
      "Distance          901398 non-null int64\n",
      "Dep_hour          901398 non-null int64\n",
      "Arr_hour          901398 non-null int64\n",
      "Weekend           901398 non-null int64\n",
      "dtypes: float64(2), int64(6), object(6)\n",
      "memory usage: 103.2+ MB\n"
     ]
    }
   ],
   "source": [
    "# convert three columns to object type\n",
    "airline2008_clean[['Month', 'DayofMonth', 'DayOfWeek']] = airline2008_clean[['Month', 'DayofMonth', \n",
    "                                                                             'DayOfWeek']].astype('str')\n",
    "airline2008_clean.info()"
   ]
  },
  {
   "cell_type": "code",
   "execution_count": 65,
   "metadata": {},
   "outputs": [],
   "source": [
    "# deal with dummy variables\n",
    "airline2008_clean = pd.get_dummies(airline2008_clean)"
   ]
  },
  {
   "cell_type": "code",
   "execution_count": 66,
   "metadata": {},
   "outputs": [],
   "source": [
    "# drop the original data we use to create other features\n",
    "airline2008_clean.drop(['CRSDepTime', 'CRSArrTime'], axis=1, inplace=True)"
   ]
  },
  {
   "cell_type": "markdown",
   "metadata": {},
   "source": [
    "Now we are ready to fit our model, we first create a function that determines the performance of a particular model"
   ]
  },
  {
   "cell_type": "code",
   "execution_count": 67,
   "metadata": {},
   "outputs": [],
   "source": [
    "from sklearn.model_selection import GridSearchCV\n",
    "def get_best_model(model, params, X, y):\n",
    "    grid = GridSearchCV(model, params, error_score=0., cv=3, scoring='neg_mean_squared_error')\n",
    "    grid.fit(X, y)\n",
    "    # our classical metric for performance\n",
    "    print(\"Best Accuracy: {}\".format(grid.best_score_))\n",
    "    # the best parameters that caused the best accuracy\n",
    "    print(\"Best Parameters: {}\".format(grid.best_params_))\n",
    "    # the average time it took a model to fit to the data (in seconds)\n",
    "    print(\"Average Time to Fit (s): {}\".format(round(grid.cv_results_['mean_fit_time'].mean(), 3)))\n",
    "    # the average time it took a model to predict out of sample data (in seconds)\n",
    "    # this metric gives us insight into how this model will perform in real-time analysis\n",
    "    print(\"Average Time to Score (s): {}\".format(round(grid.cv_results_['mean_score_time'].mean(), 3)))\n",
    "    "
   ]
  },
  {
   "cell_type": "code",
   "execution_count": 68,
   "metadata": {},
   "outputs": [],
   "source": [
    "# split our model into training and testing set\n",
    "from sklearn.model_selection import train_test_split\n",
    "X_train, X_test, y_train, y_test = train_test_split(airline2008_clean.drop(['ArrDelay'], axis=1),\n",
    "                                                airline2008_clean['ArrDelay'], test_size=0.3, random_state=1009)"
   ]
  },
  {
   "cell_type": "markdown",
   "metadata": {},
   "source": [
    "### Linear regression"
   ]
  },
  {
   "cell_type": "code",
   "execution_count": 69,
   "metadata": {},
   "outputs": [
    {
     "data": {
      "text/plain": [
       "Distance          1395\n",
       "CRSElapsedTime     493\n",
       "Dep_hour            24\n",
       "Arr_hour            24\n",
       "Origin_JAN           2\n",
       "dtype: int64"
      ]
     },
     "execution_count": 69,
     "metadata": {},
     "output_type": "execute_result"
    }
   ],
   "source": [
    "X_train.nunique().sort_values(ascending=False).head()"
   ]
  },
  {
   "cell_type": "code",
   "execution_count": 30,
   "metadata": {},
   "outputs": [
    {
     "name": "stdout",
     "output_type": "stream",
     "text": [
      "Best Accuracy: -4819855.645325443\n",
      "Best Parameters: {'fit_intercept': True}\n",
      "Average Time to Fit (s): 26.316\n",
      "Average Time to Score (s): 0.963\n"
     ]
    }
   ],
   "source": [
    "from sklearn.linear_model import LinearRegression\n",
    "lr = LinearRegression()\n",
    "# set up hyperparameters\n",
    "lr_params = {'fit_intercept': [True, False]}\n",
    "get_best_model(lr, lr_params, X_train, y_train)"
   ]
  },
  {
   "cell_type": "markdown",
   "metadata": {},
   "source": [
    "### Ridge regression"
   ]
  },
  {
   "cell_type": "code",
   "execution_count": 31,
   "metadata": {},
   "outputs": [
    {
     "name": "stdout",
     "output_type": "stream",
     "text": [
      "Best Accuracy: -3973.657729411533\n",
      "Best Parameters: {'alpha': 100}\n",
      "Average Time to Fit (s): 8.145\n",
      "Average Time to Score (s): 0.929\n"
     ]
    }
   ],
   "source": [
    "from sklearn.linear_model import Ridge\n",
    "rg = Ridge()\n",
    "# set up hyperparameters\n",
    "rg_params = {'alpha':[0.1,1,10,100]}\n",
    "get_best_model(rg, rg_params, X_train, y_train)"
   ]
  },
  {
   "cell_type": "markdown",
   "metadata": {},
   "source": [
    "### Lasso regression"
   ]
  },
  {
   "cell_type": "code",
   "execution_count": null,
   "metadata": {},
   "outputs": [],
   "source": [
    "from sklearn.linear_model import Lasso\n",
    "la = Lasso()\n",
    "# set up hyperparameters\n",
    "la_params = {'alpha':[0.001,0.01,0.1,1,10,100]}\n",
    "get_best_model(la, la_params, X_train, y_train)"
   ]
  },
  {
   "cell_type": "code",
   "execution_count": null,
   "metadata": {},
   "outputs": [],
   "source": []
  },
  {
   "cell_type": "markdown",
   "metadata": {},
   "source": [
    "### Decision tree"
   ]
  },
  {
   "cell_type": "code",
   "execution_count": 71,
   "metadata": {},
   "outputs": [
    {
     "name": "stdout",
     "output_type": "stream",
     "text": [
      "Best Accuracy: -3940.0307703813196\n",
      "Best Parameters: {'max_depth': 7}\n",
      "Average Time to Fit (s): 11.995\n",
      "Average Time to Score (s): 1.317\n"
     ]
    }
   ],
   "source": [
    "from sklearn.tree import DecisionTreeRegressor\n",
    "tree = DecisionTreeRegressor()\n",
    "# set up hyperparameters\n",
    "tree_params = {'max_depth':[3,5,7]}\n",
    "get_best_model(tree, tree_params, X_train, y_train)"
   ]
  },
  {
   "cell_type": "code",
   "execution_count": null,
   "metadata": {},
   "outputs": [],
   "source": []
  },
  {
   "cell_type": "markdown",
   "metadata": {},
   "source": [
    "### Support vector machine"
   ]
  },
  {
   "cell_type": "code",
   "execution_count": 72,
   "metadata": {},
   "outputs": [
    {
     "name": "stdout",
     "output_type": "stream",
     "text": [
      "Best Accuracy: -4843.271397966354\n",
      "Best Parameters: {'C': 0.1}\n",
      "Average Time to Fit (s): 147.785\n",
      "Average Time to Score (s): 1.054\n"
     ]
    }
   ],
   "source": [
    "from sklearn.svm import LinearSVR\n",
    "svr = LinearSVR()\n",
    "# set up hyperparameters\n",
    "svr_params = {'C': [0.1,1,10,100]}\n",
    "get_best_model(svr, svr_params, X_train, y_train)"
   ]
  },
  {
   "cell_type": "code",
   "execution_count": 73,
   "metadata": {},
   "outputs": [
    {
     "name": "stdout",
     "output_type": "stream",
     "text": [
      "Performance: 3883.0650024928154\n"
     ]
    }
   ],
   "source": [
    "# use decision tree model to test the test set\n",
    "from sklearn.metrics import mean_squared_error\n",
    "tree = DecisionTreeRegressor(max_depth=7)\n",
    "tree.fit(X_train, y_train)\n",
    "print('Performance: {}'.format(mean_squared_error(y_test, tree.predict(X_test))))"
   ]
  },
  {
   "cell_type": "code",
   "execution_count": null,
   "metadata": {},
   "outputs": [],
   "source": []
  }
 ],
 "metadata": {
  "kernelspec": {
   "display_name": "Python 3",
   "language": "python",
   "name": "python3"
  },
  "language_info": {
   "codemirror_mode": {
    "name": "ipython",
    "version": 3
   },
   "file_extension": ".py",
   "mimetype": "text/x-python",
   "name": "python",
   "nbconvert_exporter": "python",
   "pygments_lexer": "ipython3",
   "version": "3.7.0"
  }
 },
 "nbformat": 4,
 "nbformat_minor": 2
}
