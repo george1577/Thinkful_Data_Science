{
 "cells": [
  {
   "cell_type": "code",
   "execution_count": 64,
   "metadata": {},
   "outputs": [],
   "source": [
    "# import packages\n",
    "import pandas as pd\n",
    "import numpy as np\n",
    "import seaborn as sns\n",
    "import matplotlib.pyplot as plt\n",
    "\n",
    "# supress warnings\n",
    "import warnings\n",
    "warnings.filterwarnings(\"ignore\")"
   ]
  },
  {
   "cell_type": "code",
   "execution_count": 65,
   "metadata": {},
   "outputs": [],
   "source": [
    "# import data\n",
    "NY_crime_2013 = pd.read_excel('data/table_8_offenses_known_to_law_enforcement_new_york_by_city_2013.xls', \n",
    "                              skiprows=range(4))"
   ]
  },
  {
   "cell_type": "code",
   "execution_count": 66,
   "metadata": {},
   "outputs": [
    {
     "data": {
      "text/html": [
       "<div>\n",
       "<style scoped>\n",
       "    .dataframe tbody tr th:only-of-type {\n",
       "        vertical-align: middle;\n",
       "    }\n",
       "\n",
       "    .dataframe tbody tr th {\n",
       "        vertical-align: top;\n",
       "    }\n",
       "\n",
       "    .dataframe thead th {\n",
       "        text-align: right;\n",
       "    }\n",
       "</style>\n",
       "<table border=\"1\" class=\"dataframe\">\n",
       "  <thead>\n",
       "    <tr style=\"text-align: right;\">\n",
       "      <th></th>\n",
       "      <th>City</th>\n",
       "      <th>Population</th>\n",
       "      <th>Violent\n",
       "crime</th>\n",
       "      <th>Murder and\n",
       "nonnegligent\n",
       "manslaughter</th>\n",
       "      <th>Rape\n",
       "(revised\n",
       "definition)1</th>\n",
       "      <th>Rape\n",
       "(legacy\n",
       "definition)2</th>\n",
       "      <th>Robbery</th>\n",
       "      <th>Aggravated\n",
       "assault</th>\n",
       "      <th>Property\n",
       "crime</th>\n",
       "      <th>Burglary</th>\n",
       "      <th>Larceny-\n",
       "theft</th>\n",
       "      <th>Motor\n",
       "vehicle\n",
       "theft</th>\n",
       "      <th>Arson3</th>\n",
       "    </tr>\n",
       "  </thead>\n",
       "  <tbody>\n",
       "    <tr>\n",
       "      <th>0</th>\n",
       "      <td>Adams Village</td>\n",
       "      <td>1861.0</td>\n",
       "      <td>0.0</td>\n",
       "      <td>0.0</td>\n",
       "      <td>NaN</td>\n",
       "      <td>0.0</td>\n",
       "      <td>0.0</td>\n",
       "      <td>0.0</td>\n",
       "      <td>12.0</td>\n",
       "      <td>2.0</td>\n",
       "      <td>10.0</td>\n",
       "      <td>0.0</td>\n",
       "      <td>0.0</td>\n",
       "    </tr>\n",
       "    <tr>\n",
       "      <th>1</th>\n",
       "      <td>Addison Town and Village</td>\n",
       "      <td>2577.0</td>\n",
       "      <td>3.0</td>\n",
       "      <td>0.0</td>\n",
       "      <td>NaN</td>\n",
       "      <td>0.0</td>\n",
       "      <td>0.0</td>\n",
       "      <td>3.0</td>\n",
       "      <td>24.0</td>\n",
       "      <td>3.0</td>\n",
       "      <td>20.0</td>\n",
       "      <td>1.0</td>\n",
       "      <td>0.0</td>\n",
       "    </tr>\n",
       "    <tr>\n",
       "      <th>2</th>\n",
       "      <td>Akron Village</td>\n",
       "      <td>2846.0</td>\n",
       "      <td>3.0</td>\n",
       "      <td>0.0</td>\n",
       "      <td>NaN</td>\n",
       "      <td>0.0</td>\n",
       "      <td>0.0</td>\n",
       "      <td>3.0</td>\n",
       "      <td>16.0</td>\n",
       "      <td>1.0</td>\n",
       "      <td>15.0</td>\n",
       "      <td>0.0</td>\n",
       "      <td>0.0</td>\n",
       "    </tr>\n",
       "    <tr>\n",
       "      <th>3</th>\n",
       "      <td>Albany</td>\n",
       "      <td>97956.0</td>\n",
       "      <td>791.0</td>\n",
       "      <td>8.0</td>\n",
       "      <td>NaN</td>\n",
       "      <td>30.0</td>\n",
       "      <td>227.0</td>\n",
       "      <td>526.0</td>\n",
       "      <td>4090.0</td>\n",
       "      <td>705.0</td>\n",
       "      <td>3243.0</td>\n",
       "      <td>142.0</td>\n",
       "      <td>NaN</td>\n",
       "    </tr>\n",
       "    <tr>\n",
       "      <th>4</th>\n",
       "      <td>Albion Village</td>\n",
       "      <td>6388.0</td>\n",
       "      <td>23.0</td>\n",
       "      <td>0.0</td>\n",
       "      <td>NaN</td>\n",
       "      <td>3.0</td>\n",
       "      <td>4.0</td>\n",
       "      <td>16.0</td>\n",
       "      <td>223.0</td>\n",
       "      <td>53.0</td>\n",
       "      <td>165.0</td>\n",
       "      <td>5.0</td>\n",
       "      <td>NaN</td>\n",
       "    </tr>\n",
       "  </tbody>\n",
       "</table>\n",
       "</div>"
      ],
      "text/plain": [
       "                       City  Population  Violent\\ncrime  \\\n",
       "0             Adams Village      1861.0             0.0   \n",
       "1  Addison Town and Village      2577.0             3.0   \n",
       "2             Akron Village      2846.0             3.0   \n",
       "3                    Albany     97956.0           791.0   \n",
       "4            Albion Village      6388.0            23.0   \n",
       "\n",
       "   Murder and\\nnonnegligent\\nmanslaughter  Rape\\n(revised\\ndefinition)1  \\\n",
       "0                                     0.0                           NaN   \n",
       "1                                     0.0                           NaN   \n",
       "2                                     0.0                           NaN   \n",
       "3                                     8.0                           NaN   \n",
       "4                                     0.0                           NaN   \n",
       "\n",
       "   Rape\\n(legacy\\ndefinition)2  Robbery  Aggravated\\nassault  Property\\ncrime  \\\n",
       "0                          0.0      0.0                  0.0             12.0   \n",
       "1                          0.0      0.0                  3.0             24.0   \n",
       "2                          0.0      0.0                  3.0             16.0   \n",
       "3                         30.0    227.0                526.0           4090.0   \n",
       "4                          3.0      4.0                 16.0            223.0   \n",
       "\n",
       "   Burglary  Larceny-\\ntheft  Motor\\nvehicle\\ntheft  Arson3  \n",
       "0       2.0             10.0                    0.0     0.0  \n",
       "1       3.0             20.0                    1.0     0.0  \n",
       "2       1.0             15.0                    0.0     0.0  \n",
       "3     705.0           3243.0                  142.0     NaN  \n",
       "4      53.0            165.0                    5.0     NaN  "
      ]
     },
     "execution_count": 66,
     "metadata": {},
     "output_type": "execute_result"
    }
   ],
   "source": [
    "NY_crime_2013.head()"
   ]
  },
  {
   "cell_type": "code",
   "execution_count": 67,
   "metadata": {},
   "outputs": [
    {
     "name": "stdout",
     "output_type": "stream",
     "text": [
      "<class 'pandas.core.frame.DataFrame'>\n",
      "RangeIndex: 351 entries, 0 to 350\n",
      "Data columns (total 13 columns):\n",
      "City                                    351 non-null object\n",
      "Population                              348 non-null float64\n",
      "Violent\n",
      "crime                           348 non-null float64\n",
      "Murder and\n",
      "nonnegligent\n",
      "manslaughter    348 non-null float64\n",
      "Rape\n",
      "(revised\n",
      "definition)1              0 non-null float64\n",
      "Rape\n",
      "(legacy\n",
      "definition)2               348 non-null float64\n",
      "Robbery                                 348 non-null float64\n",
      "Aggravated\n",
      "assault                      348 non-null float64\n",
      "Property\n",
      "crime                          348 non-null float64\n",
      "Burglary                                348 non-null float64\n",
      "Larceny-\n",
      "theft                          348 non-null float64\n",
      "Motor\n",
      "vehicle\n",
      "theft                     348 non-null float64\n",
      "Arson3                                  187 non-null float64\n",
      "dtypes: float64(12), object(1)\n",
      "memory usage: 35.7+ KB\n"
     ]
    }
   ],
   "source": [
    "# check the NaN distribution in each column\n",
    "NY_crime_2013.info()"
   ]
  },
  {
   "cell_type": "code",
   "execution_count": 68,
   "metadata": {},
   "outputs": [],
   "source": [
    "# drop the Rape (revised definition)1 column\n",
    "NY_crime_2013.drop(NY_crime_2013.columns[4], axis=1, inplace=True)"
   ]
  },
  {
   "cell_type": "code",
   "execution_count": 69,
   "metadata": {},
   "outputs": [
    {
     "data": {
      "text/html": [
       "<div>\n",
       "<style scoped>\n",
       "    .dataframe tbody tr th:only-of-type {\n",
       "        vertical-align: middle;\n",
       "    }\n",
       "\n",
       "    .dataframe tbody tr th {\n",
       "        vertical-align: top;\n",
       "    }\n",
       "\n",
       "    .dataframe thead th {\n",
       "        text-align: right;\n",
       "    }\n",
       "</style>\n",
       "<table border=\"1\" class=\"dataframe\">\n",
       "  <thead>\n",
       "    <tr style=\"text-align: right;\">\n",
       "      <th></th>\n",
       "      <th>City</th>\n",
       "      <th>Population</th>\n",
       "      <th>Violent\n",
       "crime</th>\n",
       "      <th>Murder and\n",
       "nonnegligent\n",
       "manslaughter</th>\n",
       "      <th>Rape\n",
       "(legacy\n",
       "definition)2</th>\n",
       "      <th>Robbery</th>\n",
       "      <th>Aggravated\n",
       "assault</th>\n",
       "      <th>Property\n",
       "crime</th>\n",
       "      <th>Burglary</th>\n",
       "      <th>Larceny-\n",
       "theft</th>\n",
       "      <th>Motor\n",
       "vehicle\n",
       "theft</th>\n",
       "      <th>Arson3</th>\n",
       "    </tr>\n",
       "  </thead>\n",
       "  <tbody>\n",
       "    <tr>\n",
       "      <th>0</th>\n",
       "      <td>Adams Village</td>\n",
       "      <td>1861.0</td>\n",
       "      <td>0.0</td>\n",
       "      <td>0.0</td>\n",
       "      <td>0.0</td>\n",
       "      <td>0.0</td>\n",
       "      <td>0.0</td>\n",
       "      <td>12.0</td>\n",
       "      <td>2.0</td>\n",
       "      <td>10.0</td>\n",
       "      <td>0.0</td>\n",
       "      <td>0.0</td>\n",
       "    </tr>\n",
       "    <tr>\n",
       "      <th>1</th>\n",
       "      <td>Addison Town and Village</td>\n",
       "      <td>2577.0</td>\n",
       "      <td>3.0</td>\n",
       "      <td>0.0</td>\n",
       "      <td>0.0</td>\n",
       "      <td>0.0</td>\n",
       "      <td>3.0</td>\n",
       "      <td>24.0</td>\n",
       "      <td>3.0</td>\n",
       "      <td>20.0</td>\n",
       "      <td>1.0</td>\n",
       "      <td>0.0</td>\n",
       "    </tr>\n",
       "    <tr>\n",
       "      <th>2</th>\n",
       "      <td>Akron Village</td>\n",
       "      <td>2846.0</td>\n",
       "      <td>3.0</td>\n",
       "      <td>0.0</td>\n",
       "      <td>0.0</td>\n",
       "      <td>0.0</td>\n",
       "      <td>3.0</td>\n",
       "      <td>16.0</td>\n",
       "      <td>1.0</td>\n",
       "      <td>15.0</td>\n",
       "      <td>0.0</td>\n",
       "      <td>0.0</td>\n",
       "    </tr>\n",
       "    <tr>\n",
       "      <th>3</th>\n",
       "      <td>Albany</td>\n",
       "      <td>97956.0</td>\n",
       "      <td>791.0</td>\n",
       "      <td>8.0</td>\n",
       "      <td>30.0</td>\n",
       "      <td>227.0</td>\n",
       "      <td>526.0</td>\n",
       "      <td>4090.0</td>\n",
       "      <td>705.0</td>\n",
       "      <td>3243.0</td>\n",
       "      <td>142.0</td>\n",
       "      <td>NaN</td>\n",
       "    </tr>\n",
       "    <tr>\n",
       "      <th>4</th>\n",
       "      <td>Albion Village</td>\n",
       "      <td>6388.0</td>\n",
       "      <td>23.0</td>\n",
       "      <td>0.0</td>\n",
       "      <td>3.0</td>\n",
       "      <td>4.0</td>\n",
       "      <td>16.0</td>\n",
       "      <td>223.0</td>\n",
       "      <td>53.0</td>\n",
       "      <td>165.0</td>\n",
       "      <td>5.0</td>\n",
       "      <td>NaN</td>\n",
       "    </tr>\n",
       "  </tbody>\n",
       "</table>\n",
       "</div>"
      ],
      "text/plain": [
       "                       City  Population  Violent\\ncrime  \\\n",
       "0             Adams Village      1861.0             0.0   \n",
       "1  Addison Town and Village      2577.0             3.0   \n",
       "2             Akron Village      2846.0             3.0   \n",
       "3                    Albany     97956.0           791.0   \n",
       "4            Albion Village      6388.0            23.0   \n",
       "\n",
       "   Murder and\\nnonnegligent\\nmanslaughter  Rape\\n(legacy\\ndefinition)2  \\\n",
       "0                                     0.0                          0.0   \n",
       "1                                     0.0                          0.0   \n",
       "2                                     0.0                          0.0   \n",
       "3                                     8.0                         30.0   \n",
       "4                                     0.0                          3.0   \n",
       "\n",
       "   Robbery  Aggravated\\nassault  Property\\ncrime  Burglary  Larceny-\\ntheft  \\\n",
       "0      0.0                  0.0             12.0       2.0             10.0   \n",
       "1      0.0                  3.0             24.0       3.0             20.0   \n",
       "2      0.0                  3.0             16.0       1.0             15.0   \n",
       "3    227.0                526.0           4090.0     705.0           3243.0   \n",
       "4      4.0                 16.0            223.0      53.0            165.0   \n",
       "\n",
       "   Motor\\nvehicle\\ntheft  Arson3  \n",
       "0                    0.0     0.0  \n",
       "1                    1.0     0.0  \n",
       "2                    0.0     0.0  \n",
       "3                  142.0     NaN  \n",
       "4                    5.0     NaN  "
      ]
     },
     "execution_count": 69,
     "metadata": {},
     "output_type": "execute_result"
    }
   ],
   "source": [
    "NY_crime_2013.head()"
   ]
  },
  {
   "cell_type": "code",
   "execution_count": 70,
   "metadata": {},
   "outputs": [
    {
     "data": {
      "text/plain": [
       "City                                       object\n",
       "Population                                float64\n",
       "Violent\\ncrime                            float64\n",
       "Murder and\\nnonnegligent\\nmanslaughter    float64\n",
       "Rape\\n(legacy\\ndefinition)2               float64\n",
       "Robbery                                   float64\n",
       "Aggravated\\nassault                       float64\n",
       "Property\\ncrime                           float64\n",
       "Burglary                                  float64\n",
       "Larceny-\\ntheft                           float64\n",
       "Motor\\nvehicle\\ntheft                     float64\n",
       "Arson3                                    float64\n",
       "dtype: object"
      ]
     },
     "execution_count": 70,
     "metadata": {},
     "output_type": "execute_result"
    }
   ],
   "source": [
    "# check the data type of each column\n",
    "NY_crime_2013.dtypes"
   ]
  },
  {
   "cell_type": "code",
   "execution_count": 71,
   "metadata": {},
   "outputs": [],
   "source": [
    "# since the assumed multivariable regression model includes only population, murder and robbery column\n",
    "# keep only those three and property crime as the output\n",
    "col = NY_crime_2013.columns\n",
    "NY_crime_2013_clean = NY_crime_2013[[col[1], col[3], col[5], col[7]]]"
   ]
  },
  {
   "cell_type": "code",
   "execution_count": 72,
   "metadata": {},
   "outputs": [
    {
     "data": {
      "text/html": [
       "<div>\n",
       "<style scoped>\n",
       "    .dataframe tbody tr th:only-of-type {\n",
       "        vertical-align: middle;\n",
       "    }\n",
       "\n",
       "    .dataframe tbody tr th {\n",
       "        vertical-align: top;\n",
       "    }\n",
       "\n",
       "    .dataframe thead th {\n",
       "        text-align: right;\n",
       "    }\n",
       "</style>\n",
       "<table border=\"1\" class=\"dataframe\">\n",
       "  <thead>\n",
       "    <tr style=\"text-align: right;\">\n",
       "      <th></th>\n",
       "      <th>Population</th>\n",
       "      <th>Murder and\n",
       "nonnegligent\n",
       "manslaughter</th>\n",
       "      <th>Robbery</th>\n",
       "      <th>Property\n",
       "crime</th>\n",
       "    </tr>\n",
       "  </thead>\n",
       "  <tbody>\n",
       "    <tr>\n",
       "      <th>0</th>\n",
       "      <td>1861.0</td>\n",
       "      <td>0.0</td>\n",
       "      <td>0.0</td>\n",
       "      <td>12.0</td>\n",
       "    </tr>\n",
       "    <tr>\n",
       "      <th>1</th>\n",
       "      <td>2577.0</td>\n",
       "      <td>0.0</td>\n",
       "      <td>0.0</td>\n",
       "      <td>24.0</td>\n",
       "    </tr>\n",
       "    <tr>\n",
       "      <th>2</th>\n",
       "      <td>2846.0</td>\n",
       "      <td>0.0</td>\n",
       "      <td>0.0</td>\n",
       "      <td>16.0</td>\n",
       "    </tr>\n",
       "    <tr>\n",
       "      <th>3</th>\n",
       "      <td>97956.0</td>\n",
       "      <td>8.0</td>\n",
       "      <td>227.0</td>\n",
       "      <td>4090.0</td>\n",
       "    </tr>\n",
       "    <tr>\n",
       "      <th>4</th>\n",
       "      <td>6388.0</td>\n",
       "      <td>0.0</td>\n",
       "      <td>4.0</td>\n",
       "      <td>223.0</td>\n",
       "    </tr>\n",
       "  </tbody>\n",
       "</table>\n",
       "</div>"
      ],
      "text/plain": [
       "   Population  Murder and\\nnonnegligent\\nmanslaughter  Robbery  \\\n",
       "0      1861.0                                     0.0      0.0   \n",
       "1      2577.0                                     0.0      0.0   \n",
       "2      2846.0                                     0.0      0.0   \n",
       "3     97956.0                                     8.0    227.0   \n",
       "4      6388.0                                     0.0      4.0   \n",
       "\n",
       "   Property\\ncrime  \n",
       "0             12.0  \n",
       "1             24.0  \n",
       "2             16.0  \n",
       "3           4090.0  \n",
       "4            223.0  "
      ]
     },
     "execution_count": 72,
     "metadata": {},
     "output_type": "execute_result"
    }
   ],
   "source": [
    "NY_crime_2013_clean.head()"
   ]
  },
  {
   "cell_type": "code",
   "execution_count": 73,
   "metadata": {},
   "outputs": [
    {
     "data": {
      "text/plain": [
       "Index(['Population', 'Murder and\\nnonnegligent\\nmanslaughter', 'Robbery',\n",
       "       'Property\\ncrime'],\n",
       "      dtype='object')"
      ]
     },
     "execution_count": 73,
     "metadata": {},
     "output_type": "execute_result"
    }
   ],
   "source": [
    "NY_crime_2013_clean.columns"
   ]
  },
  {
   "cell_type": "code",
   "execution_count": 74,
   "metadata": {},
   "outputs": [],
   "source": [
    "# rename column\n",
    "NY_crime_2013_clean.rename(columns={NY_crime_2013_clean.columns[1]: 'Murder', \n",
    "                                    NY_crime_2013_clean.columns[3]: 'Property_crime'}, inplace=True)"
   ]
  },
  {
   "cell_type": "code",
   "execution_count": 75,
   "metadata": {},
   "outputs": [
    {
     "data": {
      "text/html": [
       "<div>\n",
       "<style scoped>\n",
       "    .dataframe tbody tr th:only-of-type {\n",
       "        vertical-align: middle;\n",
       "    }\n",
       "\n",
       "    .dataframe tbody tr th {\n",
       "        vertical-align: top;\n",
       "    }\n",
       "\n",
       "    .dataframe thead th {\n",
       "        text-align: right;\n",
       "    }\n",
       "</style>\n",
       "<table border=\"1\" class=\"dataframe\">\n",
       "  <thead>\n",
       "    <tr style=\"text-align: right;\">\n",
       "      <th></th>\n",
       "      <th>Population</th>\n",
       "      <th>Murder</th>\n",
       "      <th>Robbery</th>\n",
       "      <th>Property_crime</th>\n",
       "    </tr>\n",
       "  </thead>\n",
       "  <tbody>\n",
       "    <tr>\n",
       "      <th>0</th>\n",
       "      <td>1861.0</td>\n",
       "      <td>0.0</td>\n",
       "      <td>0.0</td>\n",
       "      <td>12.0</td>\n",
       "    </tr>\n",
       "    <tr>\n",
       "      <th>1</th>\n",
       "      <td>2577.0</td>\n",
       "      <td>0.0</td>\n",
       "      <td>0.0</td>\n",
       "      <td>24.0</td>\n",
       "    </tr>\n",
       "    <tr>\n",
       "      <th>2</th>\n",
       "      <td>2846.0</td>\n",
       "      <td>0.0</td>\n",
       "      <td>0.0</td>\n",
       "      <td>16.0</td>\n",
       "    </tr>\n",
       "    <tr>\n",
       "      <th>3</th>\n",
       "      <td>97956.0</td>\n",
       "      <td>8.0</td>\n",
       "      <td>227.0</td>\n",
       "      <td>4090.0</td>\n",
       "    </tr>\n",
       "    <tr>\n",
       "      <th>4</th>\n",
       "      <td>6388.0</td>\n",
       "      <td>0.0</td>\n",
       "      <td>4.0</td>\n",
       "      <td>223.0</td>\n",
       "    </tr>\n",
       "  </tbody>\n",
       "</table>\n",
       "</div>"
      ],
      "text/plain": [
       "   Population  Murder  Robbery  Property_crime\n",
       "0      1861.0     0.0      0.0            12.0\n",
       "1      2577.0     0.0      0.0            24.0\n",
       "2      2846.0     0.0      0.0            16.0\n",
       "3     97956.0     8.0    227.0          4090.0\n",
       "4      6388.0     0.0      4.0           223.0"
      ]
     },
     "execution_count": 75,
     "metadata": {},
     "output_type": "execute_result"
    }
   ],
   "source": [
    "NY_crime_2013_clean.head()"
   ]
  },
  {
   "cell_type": "code",
   "execution_count": 76,
   "metadata": {},
   "outputs": [],
   "source": [
    "# drop rows if any column of that row has NaN\n",
    "NY_crime_2013_clean.dropna(inplace=True)"
   ]
  },
  {
   "cell_type": "code",
   "execution_count": 77,
   "metadata": {},
   "outputs": [
    {
     "data": {
      "image/png": "[encoded data removed]",
      "text/plain": [
       "<Figure size 720x720 with 4 Axes>"
      ]
     },
     "metadata": {
      "needs_background": "light"
     },
     "output_type": "display_data"
    }
   ],
   "source": [
    "# inspect each column to see if there is any potential outlier\n",
    "fig, ax = plt.subplots(nrows=2, ncols=2, figsize=(10,10))\n",
    "NY_crime_2013_clean.boxplot(column='Population', ax=ax[0][0])\n",
    "NY_crime_2013_clean.boxplot(column='Murder', ax=ax[1][0])\n",
    "NY_crime_2013_clean.boxplot(column='Robbery', ax=ax[0][1])\n",
    "NY_crime_2013_clean.boxplot(column='Property_crime', ax=ax[1][1])\n",
    "plt.show()"
   ]
  },
  {
   "cell_type": "code",
   "execution_count": 78,
   "metadata": {},
   "outputs": [],
   "source": [
    "# clean up the outliers\n",
    "NY_crime_2013_clean = NY_crime_2013_clean[NY_crime_2013_clean['Population'] < 8000000]\n",
    "NY_crime_2013_clean = NY_crime_2013_clean[NY_crime_2013_clean['Murder'] < 300]\n",
    "NY_crime_2013_clean = NY_crime_2013_clean[NY_crime_2013_clean['Robbery'] < 17500]\n",
    "NY_crime_2013_clean = NY_crime_2013_clean[NY_crime_2013_clean['Property_crime'] < 120000]"
   ]
  },
  {
   "cell_type": "code",
   "execution_count": 79,
   "metadata": {},
   "outputs": [],
   "source": [
    "# convert murder and robbery column to categorical variable\n",
    "NY_crime_2013_clean['Murder_cat'] = np.where(NY_crime_2013_clean['Murder'] > 0, 1, 0)\n",
    "NY_crime_2013_clean['Robbery_cat'] = np.where(NY_crime_2013_clean['Robbery'] > 0, 1, 0)"
   ]
  },
  {
   "cell_type": "code",
   "execution_count": 80,
   "metadata": {},
   "outputs": [],
   "source": [
    "# create another column population square\n",
    "NY_crime_2013_clean['Population_sq'] = np.square(NY_crime_2013_clean['Population'])"
   ]
  },
  {
   "cell_type": "code",
   "execution_count": 81,
   "metadata": {},
   "outputs": [
    {
     "data": {
      "text/html": [
       "<div>\n",
       "<style scoped>\n",
       "    .dataframe tbody tr th:only-of-type {\n",
       "        vertical-align: middle;\n",
       "    }\n",
       "\n",
       "    .dataframe tbody tr th {\n",
       "        vertical-align: top;\n",
       "    }\n",
       "\n",
       "    .dataframe thead th {\n",
       "        text-align: right;\n",
       "    }\n",
       "</style>\n",
       "<table border=\"1\" class=\"dataframe\">\n",
       "  <thead>\n",
       "    <tr style=\"text-align: right;\">\n",
       "      <th></th>\n",
       "      <th>Population</th>\n",
       "      <th>Murder</th>\n",
       "      <th>Robbery</th>\n",
       "      <th>Property_crime</th>\n",
       "      <th>Murder_cat</th>\n",
       "      <th>Robbery_cat</th>\n",
       "      <th>Population_sq</th>\n",
       "    </tr>\n",
       "  </thead>\n",
       "  <tbody>\n",
       "    <tr>\n",
       "      <th>0</th>\n",
       "      <td>1861.0</td>\n",
       "      <td>0.0</td>\n",
       "      <td>0.0</td>\n",
       "      <td>12.0</td>\n",
       "      <td>0</td>\n",
       "      <td>0</td>\n",
       "      <td>3.463321e+06</td>\n",
       "    </tr>\n",
       "    <tr>\n",
       "      <th>1</th>\n",
       "      <td>2577.0</td>\n",
       "      <td>0.0</td>\n",
       "      <td>0.0</td>\n",
       "      <td>24.0</td>\n",
       "      <td>0</td>\n",
       "      <td>0</td>\n",
       "      <td>6.640929e+06</td>\n",
       "    </tr>\n",
       "    <tr>\n",
       "      <th>2</th>\n",
       "      <td>2846.0</td>\n",
       "      <td>0.0</td>\n",
       "      <td>0.0</td>\n",
       "      <td>16.0</td>\n",
       "      <td>0</td>\n",
       "      <td>0</td>\n",
       "      <td>8.099716e+06</td>\n",
       "    </tr>\n",
       "    <tr>\n",
       "      <th>3</th>\n",
       "      <td>97956.0</td>\n",
       "      <td>8.0</td>\n",
       "      <td>227.0</td>\n",
       "      <td>4090.0</td>\n",
       "      <td>1</td>\n",
       "      <td>1</td>\n",
       "      <td>9.595378e+09</td>\n",
       "    </tr>\n",
       "    <tr>\n",
       "      <th>4</th>\n",
       "      <td>6388.0</td>\n",
       "      <td>0.0</td>\n",
       "      <td>4.0</td>\n",
       "      <td>223.0</td>\n",
       "      <td>0</td>\n",
       "      <td>1</td>\n",
       "      <td>4.080654e+07</td>\n",
       "    </tr>\n",
       "  </tbody>\n",
       "</table>\n",
       "</div>"
      ],
      "text/plain": [
       "   Population  Murder  Robbery  Property_crime  Murder_cat  Robbery_cat  \\\n",
       "0      1861.0     0.0      0.0            12.0           0            0   \n",
       "1      2577.0     0.0      0.0            24.0           0            0   \n",
       "2      2846.0     0.0      0.0            16.0           0            0   \n",
       "3     97956.0     8.0    227.0          4090.0           1            1   \n",
       "4      6388.0     0.0      4.0           223.0           0            1   \n",
       "\n",
       "   Population_sq  \n",
       "0   3.463321e+06  \n",
       "1   6.640929e+06  \n",
       "2   8.099716e+06  \n",
       "3   9.595378e+09  \n",
       "4   4.080654e+07  "
      ]
     },
     "execution_count": 81,
     "metadata": {},
     "output_type": "execute_result"
    }
   ],
   "source": [
    "NY_crime_2013_clean.head()"
   ]
  },
  {
   "cell_type": "code",
   "execution_count": 82,
   "metadata": {},
   "outputs": [],
   "source": [
    "# rearrange the column order\n",
    "NY_crime_2013_clean = NY_crime_2013_clean[['Population', 'Population_sq', 'Murder', 'Murder_cat',  \n",
    "                                           'Robbery', 'Robbery_cat', 'Property_crime']]"
   ]
  },
  {
   "cell_type": "code",
   "execution_count": 83,
   "metadata": {},
   "outputs": [
    {
     "data": {
      "text/html": [
       "<div>\n",
       "<style scoped>\n",
       "    .dataframe tbody tr th:only-of-type {\n",
       "        vertical-align: middle;\n",
       "    }\n",
       "\n",
       "    .dataframe tbody tr th {\n",
       "        vertical-align: top;\n",
       "    }\n",
       "\n",
       "    .dataframe thead th {\n",
       "        text-align: right;\n",
       "    }\n",
       "</style>\n",
       "<table border=\"1\" class=\"dataframe\">\n",
       "  <thead>\n",
       "    <tr style=\"text-align: right;\">\n",
       "      <th></th>\n",
       "      <th>Population</th>\n",
       "      <th>Population_sq</th>\n",
       "      <th>Murder</th>\n",
       "      <th>Murder_cat</th>\n",
       "      <th>Robbery</th>\n",
       "      <th>Robbery_cat</th>\n",
       "      <th>Property_crime</th>\n",
       "    </tr>\n",
       "  </thead>\n",
       "  <tbody>\n",
       "    <tr>\n",
       "      <th>0</th>\n",
       "      <td>1861.0</td>\n",
       "      <td>3.463321e+06</td>\n",
       "      <td>0.0</td>\n",
       "      <td>0</td>\n",
       "      <td>0.0</td>\n",
       "      <td>0</td>\n",
       "      <td>12.0</td>\n",
       "    </tr>\n",
       "    <tr>\n",
       "      <th>1</th>\n",
       "      <td>2577.0</td>\n",
       "      <td>6.640929e+06</td>\n",
       "      <td>0.0</td>\n",
       "      <td>0</td>\n",
       "      <td>0.0</td>\n",
       "      <td>0</td>\n",
       "      <td>24.0</td>\n",
       "    </tr>\n",
       "    <tr>\n",
       "      <th>2</th>\n",
       "      <td>2846.0</td>\n",
       "      <td>8.099716e+06</td>\n",
       "      <td>0.0</td>\n",
       "      <td>0</td>\n",
       "      <td>0.0</td>\n",
       "      <td>0</td>\n",
       "      <td>16.0</td>\n",
       "    </tr>\n",
       "    <tr>\n",
       "      <th>3</th>\n",
       "      <td>97956.0</td>\n",
       "      <td>9.595378e+09</td>\n",
       "      <td>8.0</td>\n",
       "      <td>1</td>\n",
       "      <td>227.0</td>\n",
       "      <td>1</td>\n",
       "      <td>4090.0</td>\n",
       "    </tr>\n",
       "    <tr>\n",
       "      <th>4</th>\n",
       "      <td>6388.0</td>\n",
       "      <td>4.080654e+07</td>\n",
       "      <td>0.0</td>\n",
       "      <td>0</td>\n",
       "      <td>4.0</td>\n",
       "      <td>1</td>\n",
       "      <td>223.0</td>\n",
       "    </tr>\n",
       "  </tbody>\n",
       "</table>\n",
       "</div>"
      ],
      "text/plain": [
       "   Population  Population_sq  Murder  Murder_cat  Robbery  Robbery_cat  \\\n",
       "0      1861.0   3.463321e+06     0.0           0      0.0            0   \n",
       "1      2577.0   6.640929e+06     0.0           0      0.0            0   \n",
       "2      2846.0   8.099716e+06     0.0           0      0.0            0   \n",
       "3     97956.0   9.595378e+09     8.0           1    227.0            1   \n",
       "4      6388.0   4.080654e+07     0.0           0      4.0            1   \n",
       "\n",
       "   Property_crime  \n",
       "0            12.0  \n",
       "1            24.0  \n",
       "2            16.0  \n",
       "3          4090.0  \n",
       "4           223.0  "
      ]
     },
     "execution_count": 83,
     "metadata": {},
     "output_type": "execute_result"
    }
   ],
   "source": [
    "NY_crime_2013_clean.head()"
   ]
  },
  {
   "cell_type": "code",
   "execution_count": 84,
   "metadata": {},
   "outputs": [
    {
     "name": "stdout",
     "output_type": "stream",
     "text": [
      "\n",
      "Coefficients: \n",
      " [1.29510871e-02 1.14920528e-07 1.95038666e+02 9.28205845e+01]\n",
      "\n",
      "Intercept: \n",
      " -16.815866321663577\n",
      "\n",
      "R-squared:\n",
      "0.8444937611173492\n"
     ]
    }
   ],
   "source": [
    "# approach 1\n",
    "# predicting Property_crime using cleaned dataset (changed the Murder and Robbery to catgorical data)\n",
    "from sklearn import linear_model\n",
    "regr = linear_model.LinearRegression()\n",
    "Y = NY_crime_2013_clean['Property_crime']\n",
    "X = NY_crime_2013_clean[['Population', 'Population_sq', 'Murder_cat', 'Robbery_cat']]\n",
    "regr.fit(X, Y)\n",
    "predict = regr.predict(X)\n",
    "residue = Y - predict\n",
    "\n",
    "# Inspect the result\n",
    "print('\\nCoefficients: \\n', regr.coef_)\n",
    "print('\\nIntercept: \\n', regr.intercept_)\n",
    "print('\\nR-squared:')\n",
    "print(regr.score(X, Y))"
   ]
  },
  {
   "cell_type": "code",
   "execution_count": 85,
   "metadata": {},
   "outputs": [
    {
     "name": "stdout",
     "output_type": "stream",
     "text": [
      "\n",
      "Coefficients: \n",
      " [350.21255176 581.48932251  67.33602185  45.48350159]\n",
      "\n",
      "Intercept: \n",
      " 385.7521613832853\n",
      "\n",
      "R-squared:\n",
      "0.8444937611173491\n"
     ]
    }
   ],
   "source": [
    "# approach 2\n",
    "# apply scaling to the column\n",
    "from sklearn.preprocessing import StandardScaler \n",
    "X2 = StandardScaler().fit_transform(X)\n",
    "regr.fit(X2, Y)\n",
    "predict = regr.predict(X2)\n",
    "residue = Y - predict\n",
    "\n",
    "# Inspect the result\n",
    "print('\\nCoefficients: \\n', regr.coef_)\n",
    "print('\\nIntercept: \\n', regr.intercept_)\n",
    "print('\\nR-squared:')\n",
    "print(regr.score(X2, Y))"
   ]
  },
  {
   "cell_type": "code",
   "execution_count": 86,
   "metadata": {},
   "outputs": [
    {
     "name": "stdout",
     "output_type": "stream",
     "text": [
      "\n",
      "Coefficients: \n",
      " [ 1.20858758e-02  1.17379037e-07  2.52393185e+02  1.02026190e+02\n",
      " -1.90898080e+02]\n",
      "\n",
      "Intercept: \n",
      " -13.384098371504706\n",
      "\n",
      "R-squared:\n",
      "0.846151761415821\n"
     ]
    }
   ],
   "source": [
    "# approach 3\n",
    "# adding feature interaction between Murder and Robbery, adding more weight if Murder and Robbery occur at the \n",
    "# same time, in other words, both equal to 1\n",
    "NY_crime_2013_clean['interaction'] = np.where((NY_crime_2013_clean['Murder'] == 1) & \n",
    "                                              (NY_crime_2013_clean['Robbery'] == 1),\n",
    "                                              2, 0)\n",
    "X3 = NY_crime_2013_clean[['Population', 'Population_sq', 'Murder_cat', 'Robbery_cat', 'interaction']]\n",
    "regr.fit(X3, Y)\n",
    "predict = regr.predict(X3)\n",
    "residue = Y - predict\n",
    "\n",
    "# Inspect the result\n",
    "print('\\nCoefficients: \\n', regr.coef_)\n",
    "print('\\nIntercept: \\n', regr.intercept_)\n",
    "print('\\nR-squared:')\n",
    "print(regr.score(X3, Y))"
   ]
  },
  {
   "cell_type": "code",
   "execution_count": 87,
   "metadata": {},
   "outputs": [
    {
     "name": "stdout",
     "output_type": "stream",
     "text": [
      "\n",
      "Coefficients: \n",
      " [ 2.05519792e-02 -7.19468320e-08  1.02643383e+02  5.13001360e+00]\n",
      "\n",
      "Intercept: \n",
      " -25.039858198831496\n",
      "\n",
      "R-squared:\n",
      "0.939283140822447\n"
     ]
    }
   ],
   "source": [
    "# appraoch 4\n",
    "# using original Murder and Robbery data without categorizing them\n",
    "X4 = NY_crime_2013_clean[['Population', 'Population_sq', 'Murder', 'Robbery']]\n",
    "regr.fit(X4, Y)\n",
    "predict = regr.predict(X4)\n",
    "residue = Y - predict\n",
    "\n",
    "# Inspect the result\n",
    "print('\\nCoefficients: \\n', regr.coef_)\n",
    "print('\\nIntercept: \\n', regr.intercept_)\n",
    "print('\\nR-squared:')\n",
    "print(regr.score(X4, Y))"
   ]
  },
  {
   "cell_type": "code",
   "execution_count": 88,
   "metadata": {},
   "outputs": [
    {
     "data": {
      "image/png": "[encoded data removed]",
      "text/plain": [
       "<Figure size 432x288 with 1 Axes>"
      ]
     },
     "metadata": {
      "needs_background": "light"
     },
     "output_type": "display_data"
    },
    {
     "data": {
      "image/png": "[encoded data removed]",
      "text/plain": [
       "<Figure size 432x288 with 1 Axes>"
      ]
     },
     "metadata": {
      "needs_background": "light"
     },
     "output_type": "display_data"
    }
   ],
   "source": [
    "# test the normality of Y\n",
    "plt.hist(Y)\n",
    "plt.show()\n",
    "plt.hist(Y**.15)\n",
    "plt.show()"
   ]
  },
  {
   "cell_type": "code",
   "execution_count": 89,
   "metadata": {},
   "outputs": [
    {
     "name": "stdout",
     "output_type": "stream",
     "text": [
      "\n",
      "Coefficients: \n",
      " [ 2.98944953e-05 -1.46220329e-10 -1.58237717e-02  3.59954704e-03]\n",
      "\n",
      "Intercept: \n",
      " 1.6778754835056362\n",
      "\n",
      "R-squared:\n",
      "0.6219544970428141\n"
     ]
    }
   ],
   "source": [
    "# approach 5\n",
    "# transform Y to make it more close to normal distribution\n",
    "X5 = NY_crime_2013_clean[['Population', 'Population_sq', 'Murder', 'Robbery']]\n",
    "regr.fit(X5, Y**0.15)\n",
    "predict = regr.predict(X5)\n",
    "residue = Y**0.15 - predict\n",
    "\n",
    "# Inspect the result\n",
    "print('\\nCoefficients: \\n', regr.coef_)\n",
    "print('\\nIntercept: \\n', regr.intercept_)\n",
    "print('\\nR-squared:')\n",
    "print(regr.score(X5, Y**0.15))"
   ]
  },
  {
   "cell_type": "code",
   "execution_count": 90,
   "metadata": {},
   "outputs": [
    {
     "data": {
      "text/plain": [
       "<matplotlib.collections.PathCollection at 0x1a1de48048>"
      ]
     },
     "execution_count": 90,
     "metadata": {},
     "output_type": "execute_result"
    },
    {
     "data": {
      "image/png": "[encoded data removed]",
      "text/plain": [
       "<Figure size 432x288 with 1 Axes>"
      ]
     },
     "metadata": {
      "needs_background": "light"
     },
     "output_type": "display_data"
    }
   ],
   "source": [
    "# test of heteroscedasticity\n",
    "plt.scatter(predict, residue)"
   ]
  }
 ],
 "metadata": {
  "kernelspec": {
   "display_name": "Python 3",
   "language": "python",
   "name": "python3"
  },
  "language_info": {
   "codemirror_mode": {
    "name": "ipython",
    "version": 3
   },
   "file_extension": ".py",
   "mimetype": "text/x-python",
   "name": "python",
   "nbconvert_exporter": "python",
   "pygments_lexer": "ipython3",
   "version": "3.7.0"
  }
 },
 "nbformat": 4,
 "nbformat_minor": 2
}
