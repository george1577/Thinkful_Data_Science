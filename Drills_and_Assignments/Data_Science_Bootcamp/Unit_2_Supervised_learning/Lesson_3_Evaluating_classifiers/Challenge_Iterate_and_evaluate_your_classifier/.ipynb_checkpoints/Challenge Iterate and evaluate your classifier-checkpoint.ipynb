{
 "cells": [
  {
   "cell_type": "code",
   "execution_count": 94,
   "metadata": {},
   "outputs": [],
   "source": [
    "# setting environment\n",
    "import pandas as pd\n",
    "import numpy as np\n",
    "import matplotlib.pyplot as plt\n",
    "import seaborn as sns\n",
    "import warnings\n",
    "warnings.filterwarnings(\"ignore\")"
   ]
  },
  {
   "cell_type": "markdown",
   "metadata": {},
   "source": [
    "From our previous assignment, we have done feature engineering and feature selection of our raw data and exported to csv file."
   ]
  },
  {
   "cell_type": "code",
   "execution_count": 95,
   "metadata": {},
   "outputs": [],
   "source": [
    "# read in both raw and clean file\n",
    "KS_raw = pd.read_csv('data/Kickstarter.csv')\n",
    "KS_clean = pd.read_csv('data/KS_clean.csv')"
   ]
  },
  {
   "cell_type": "code",
   "execution_count": 96,
   "metadata": {},
   "outputs": [
    {
     "data": {
      "text/html": [
       "<div>\n",
       "<style scoped>\n",
       "    .dataframe tbody tr th:only-of-type {\n",
       "        vertical-align: middle;\n",
       "    }\n",
       "\n",
       "    .dataframe tbody tr th {\n",
       "        vertical-align: top;\n",
       "    }\n",
       "\n",
       "    .dataframe thead th {\n",
       "        text-align: right;\n",
       "    }\n",
       "</style>\n",
       "<table border=\"1\" class=\"dataframe\">\n",
       "  <thead>\n",
       "    <tr style=\"text-align: right;\">\n",
       "      <th></th>\n",
       "      <th>backers_count</th>\n",
       "      <th>disable_communication</th>\n",
       "      <th>goal</th>\n",
       "      <th>is_starrable</th>\n",
       "      <th>staff_pick</th>\n",
       "      <th>state</th>\n",
       "      <th>name_Action</th>\n",
       "      <th>name_Animals</th>\n",
       "      <th>name_Audio</th>\n",
       "      <th>name_Children's Books</th>\n",
       "      <th>...</th>\n",
       "      <th>color_2577151</th>\n",
       "      <th>color_51627</th>\n",
       "      <th>color_58341</th>\n",
       "      <th>color_6526716</th>\n",
       "      <th>location_AU</th>\n",
       "      <th>location_CA</th>\n",
       "      <th>location_DE</th>\n",
       "      <th>location_GB</th>\n",
       "      <th>location_Others</th>\n",
       "      <th>location_US</th>\n",
       "    </tr>\n",
       "  </thead>\n",
       "  <tbody>\n",
       "    <tr>\n",
       "      <th>0</th>\n",
       "      <td>170</td>\n",
       "      <td>0</td>\n",
       "      <td>25000.0</td>\n",
       "      <td>0</td>\n",
       "      <td>0</td>\n",
       "      <td>1</td>\n",
       "      <td>0</td>\n",
       "      <td>0</td>\n",
       "      <td>0</td>\n",
       "      <td>0</td>\n",
       "      <td>...</td>\n",
       "      <td>0</td>\n",
       "      <td>0</td>\n",
       "      <td>0</td>\n",
       "      <td>0</td>\n",
       "      <td>0</td>\n",
       "      <td>0</td>\n",
       "      <td>0</td>\n",
       "      <td>0</td>\n",
       "      <td>0</td>\n",
       "      <td>1</td>\n",
       "    </tr>\n",
       "    <tr>\n",
       "      <th>1</th>\n",
       "      <td>10</td>\n",
       "      <td>0</td>\n",
       "      <td>500.0</td>\n",
       "      <td>0</td>\n",
       "      <td>0</td>\n",
       "      <td>1</td>\n",
       "      <td>0</td>\n",
       "      <td>0</td>\n",
       "      <td>0</td>\n",
       "      <td>1</td>\n",
       "      <td>...</td>\n",
       "      <td>0</td>\n",
       "      <td>0</td>\n",
       "      <td>0</td>\n",
       "      <td>0</td>\n",
       "      <td>0</td>\n",
       "      <td>0</td>\n",
       "      <td>0</td>\n",
       "      <td>0</td>\n",
       "      <td>0</td>\n",
       "      <td>1</td>\n",
       "    </tr>\n",
       "    <tr>\n",
       "      <th>2</th>\n",
       "      <td>0</td>\n",
       "      <td>0</td>\n",
       "      <td>3500.0</td>\n",
       "      <td>0</td>\n",
       "      <td>0</td>\n",
       "      <td>0</td>\n",
       "      <td>0</td>\n",
       "      <td>0</td>\n",
       "      <td>1</td>\n",
       "      <td>0</td>\n",
       "      <td>...</td>\n",
       "      <td>0</td>\n",
       "      <td>0</td>\n",
       "      <td>0</td>\n",
       "      <td>0</td>\n",
       "      <td>0</td>\n",
       "      <td>1</td>\n",
       "      <td>0</td>\n",
       "      <td>0</td>\n",
       "      <td>0</td>\n",
       "      <td>0</td>\n",
       "    </tr>\n",
       "    <tr>\n",
       "      <th>3</th>\n",
       "      <td>0</td>\n",
       "      <td>0</td>\n",
       "      <td>20000.0</td>\n",
       "      <td>0</td>\n",
       "      <td>0</td>\n",
       "      <td>0</td>\n",
       "      <td>0</td>\n",
       "      <td>0</td>\n",
       "      <td>0</td>\n",
       "      <td>0</td>\n",
       "      <td>...</td>\n",
       "      <td>0</td>\n",
       "      <td>0</td>\n",
       "      <td>0</td>\n",
       "      <td>0</td>\n",
       "      <td>0</td>\n",
       "      <td>0</td>\n",
       "      <td>0</td>\n",
       "      <td>0</td>\n",
       "      <td>0</td>\n",
       "      <td>1</td>\n",
       "    </tr>\n",
       "    <tr>\n",
       "      <th>4</th>\n",
       "      <td>62</td>\n",
       "      <td>0</td>\n",
       "      <td>5000.0</td>\n",
       "      <td>0</td>\n",
       "      <td>1</td>\n",
       "      <td>1</td>\n",
       "      <td>0</td>\n",
       "      <td>0</td>\n",
       "      <td>0</td>\n",
       "      <td>0</td>\n",
       "      <td>...</td>\n",
       "      <td>0</td>\n",
       "      <td>0</td>\n",
       "      <td>0</td>\n",
       "      <td>0</td>\n",
       "      <td>0</td>\n",
       "      <td>0</td>\n",
       "      <td>0</td>\n",
       "      <td>0</td>\n",
       "      <td>0</td>\n",
       "      <td>1</td>\n",
       "    </tr>\n",
       "  </tbody>\n",
       "</table>\n",
       "<p>5 rows × 58 columns</p>\n",
       "</div>"
      ],
      "text/plain": [
       "   backers_count  disable_communication     goal  is_starrable  staff_pick  \\\n",
       "0            170                      0  25000.0             0           0   \n",
       "1             10                      0    500.0             0           0   \n",
       "2              0                      0   3500.0             0           0   \n",
       "3              0                      0  20000.0             0           0   \n",
       "4             62                      0   5000.0             0           1   \n",
       "\n",
       "   state  name_Action  name_Animals  name_Audio  name_Children's Books  \\\n",
       "0      1            0             0           0                      0   \n",
       "1      1            0             0           0                      1   \n",
       "2      0            0             0           1                      0   \n",
       "3      0            0             0           0                      0   \n",
       "4      1            0             0           0                      0   \n",
       "\n",
       "      ...       color_2577151  color_51627  color_58341  color_6526716  \\\n",
       "0     ...                   0            0            0              0   \n",
       "1     ...                   0            0            0              0   \n",
       "2     ...                   0            0            0              0   \n",
       "3     ...                   0            0            0              0   \n",
       "4     ...                   0            0            0              0   \n",
       "\n",
       "   location_AU  location_CA  location_DE  location_GB  location_Others  \\\n",
       "0            0            0            0            0                0   \n",
       "1            0            0            0            0                0   \n",
       "2            0            1            0            0                0   \n",
       "3            0            0            0            0                0   \n",
       "4            0            0            0            0                0   \n",
       "\n",
       "   location_US  \n",
       "0            1  \n",
       "1            1  \n",
       "2            0  \n",
       "3            1  \n",
       "4            1  \n",
       "\n",
       "[5 rows x 58 columns]"
      ]
     },
     "execution_count": 96,
     "metadata": {},
     "output_type": "execute_result"
    }
   ],
   "source": [
    "KS_clean.head()"
   ]
  },
  {
   "cell_type": "code",
   "execution_count": 97,
   "metadata": {},
   "outputs": [],
   "source": [
    "# Separate groups into training group and testing group by randomly shuffling the index\n",
    "np.random.seed(1)\n",
    "random_index = np.random.permutation(KS_clean.index)"
   ]
  },
  {
   "cell_type": "code",
   "execution_count": 98,
   "metadata": {},
   "outputs": [
    {
     "data": {
      "text/plain": [
       "array([1907,  321,  372, ..., 1096,  235, 1061])"
      ]
     },
     "execution_count": 98,
     "metadata": {},
     "output_type": "execute_result"
    }
   ],
   "source": [
    "random_index"
   ]
  },
  {
   "cell_type": "code",
   "execution_count": 99,
   "metadata": {},
   "outputs": [],
   "source": [
    "stop = int(len(KS_clean)*0.7)\n",
    "X_train = KS_clean.iloc[random_index[:stop]].drop(['state'], axis=1)\n",
    "X_test = KS_clean.iloc[random_index[stop:]].drop(['state'], axis=1)\n",
    "y_train = KS_clean.iloc[random_index[:stop]]['state']\n",
    "y_test = KS_clean.iloc[random_index[stop:]]['state']"
   ]
  },
  {
   "cell_type": "code",
   "execution_count": 100,
   "metadata": {},
   "outputs": [
    {
     "data": {
      "text/plain": [
       "(2667, 57)"
      ]
     },
     "execution_count": 100,
     "metadata": {},
     "output_type": "execute_result"
    }
   ],
   "source": [
    "X_train.shape"
   ]
  },
  {
   "cell_type": "code",
   "execution_count": 101,
   "metadata": {},
   "outputs": [
    {
     "data": {
      "text/plain": [
       "(1144, 57)"
      ]
     },
     "execution_count": 101,
     "metadata": {},
     "output_type": "execute_result"
    }
   ],
   "source": [
    "X_test.shape"
   ]
  },
  {
   "cell_type": "code",
   "execution_count": 102,
   "metadata": {},
   "outputs": [
    {
     "name": "stdout",
     "output_type": "stream",
     "text": [
      "0.791083916083916\n"
     ]
    }
   ],
   "source": [
    "# first classifier, test the Naive Bayes, use the binary/boolean variable(Bernoulli)\n",
    "from sklearn.naive_bayes import BernoulliNB\n",
    "from sklearn.metrics import accuracy_score\n",
    "from sklearn.model_selection import cross_val_score\n",
    "bnb = BernoulliNB()\n",
    "not_binary = ['backers_count', 'goal']\n",
    "\n",
    "# fit our model to the data\n",
    "bnb.fit(X_train.drop(not_binary, axis=1), y_train)\n",
    "\n",
    "# use the test set to test our model\n",
    "prediction = bnb.predict(X_test.drop(not_binary, axis=1))\n",
    "\n",
    "# compare the real data with prediction\n",
    "print(accuracy_score(prediction, y_test))"
   ]
  },
  {
   "cell_type": "code",
   "execution_count": 103,
   "metadata": {},
   "outputs": [
    {
     "data": {
      "text/plain": [
       "array([0.83355177, 0.81651376, 0.79396325, 0.76115486, 0.78975033])"
      ]
     },
     "execution_count": 103,
     "metadata": {},
     "output_type": "execute_result"
    }
   ],
   "source": [
    "# perform cross validation to see if there is any overfitting problem\n",
    "cross_val_score(bnb, KS_clean.drop(['state'], axis=1), KS_clean['state'], cv=5)"
   ]
  },
  {
   "cell_type": "code",
   "execution_count": 104,
   "metadata": {},
   "outputs": [
    {
     "data": {
      "text/plain": [
       "0    0.500874\n",
       "1    0.499126\n",
       "Name: state, dtype: float64"
      ]
     },
     "execution_count": 104,
     "metadata": {},
     "output_type": "execute_result"
    }
   ],
   "source": [
    "# check the class imbalance\n",
    "y_test.value_counts(normalize=True)"
   ]
  },
  {
   "cell_type": "markdown",
   "metadata": {},
   "source": [
    "From above, we could see that successful project consist of about 50% in our test set and the accuracy score is about 79.1%, which is a lot higher than basically predict every project as successful, to dig out more, we will calculate the true positive rate and false positive rate, from investor(backer) perpectives, they would like to use the model to see which project to back, for a more conservative backer, they would like to make sure every dollar they spend on leads to successful project, in other words, they want the false positive rate as low as possible. For a more aggressive backer, they want to back as many successful project as they can, thus they want the true positive rate as high as possible."
   ]
  },
  {
   "cell_type": "code",
   "execution_count": 105,
   "metadata": {},
   "outputs": [
    {
     "name": "stdout",
     "output_type": "stream",
     "text": [
      "True positive rate: 0.7320490367775832\n",
      "False positive rate: 0.15008726003490402\n"
     ]
    }
   ],
   "source": [
    "# calculate true positive rate and false positive rate\n",
    "tp = (prediction == 1) & (y_test == 1)\n",
    "tn = (prediction == 0) & (y_test == 0)\n",
    "fp = (prediction == 1) & (y_test == 0)\n",
    "fn = (prediction == 0) & (y_test == 1)\n",
    "print('True positive rate: {}'.format(np.sum(tp)/(np.sum(tp)+np.sum(fn))))\n",
    "print('False positive rate: {}'.format(np.sum(fp)/(np.sum(fp)+np.sum(tn))))"
   ]
  },
  {
   "cell_type": "code",
   "execution_count": 106,
   "metadata": {},
   "outputs": [
    {
     "name": "stdout",
     "output_type": "stream",
     "text": [
      "0.8898601398601399\n"
     ]
    }
   ],
   "source": [
    "# second classifier, use the Naive Bayes again, but this time include the numerical variables\n",
    "from sklearn.naive_bayes import MultinomialNB\n",
    "from sklearn.metrics import accuracy_score\n",
    "bnb = MultinomialNB()\n",
    "\n",
    "# fit our model to the data\n",
    "bnb.fit(X_train, y_train)\n",
    "\n",
    "# use the test set to test our model\n",
    "prediction = bnb.predict(X_test)\n",
    "\n",
    "# compare the real data with prediction\n",
    "print(accuracy_score(prediction, y_test))"
   ]
  },
  {
   "cell_type": "code",
   "execution_count": 107,
   "metadata": {},
   "outputs": [
    {
     "name": "stdout",
     "output_type": "stream",
     "text": [
      "True positive rate: 0.9264448336252189\n",
      "False positive rate: 0.14659685863874344\n"
     ]
    }
   ],
   "source": [
    "tp = (prediction == 1) & (y_test == 1)\n",
    "tn = (prediction == 0) & (y_test == 0)\n",
    "fp = (prediction == 1) & (y_test == 0)\n",
    "fn = (prediction == 0) & (y_test == 1)\n",
    "print('True positive rate: {}'.format(np.sum(tp)/(np.sum(tp)+np.sum(fn))))\n",
    "print('False positive rate: {}'.format(np.sum(fp)/(np.sum(fp)+np.sum(tn))))"
   ]
  },
  {
   "cell_type": "markdown",
   "metadata": {},
   "source": [
    "From above, we can see that by including the numerical columns and use Multinomial Naive Bayes, we improve our prediction power a lot, not only reflects on the accuracy score but also the True positive rate and False positive rate."
   ]
  },
  {
   "cell_type": "code",
   "execution_count": 108,
   "metadata": {},
   "outputs": [
    {
     "data": {
      "text/plain": [
       "array([0.9095675 , 0.88990826, 0.91207349, 0.89501312, 0.91064389])"
      ]
     },
     "execution_count": 108,
     "metadata": {},
     "output_type": "execute_result"
    }
   ],
   "source": [
    "# perform cross validation\n",
    "cross_val_score(bnb, KS_clean.drop(['state'], axis=1), KS_clean['state'], cv=5)"
   ]
  },
  {
   "cell_type": "markdown",
   "metadata": {},
   "source": [
    "It looks like our second classifier performs pretty well, we will continue to use Naive Bayes, but this time we use Gaussian Naive Bayes, the assumption of this classifier is the features are Gaussian, we will check the distribution of our data feature first"
   ]
  },
  {
   "cell_type": "code",
   "execution_count": 109,
   "metadata": {},
   "outputs": [
    {
     "data": {
      "image/png": "[encoded data removed]",
      "text/plain": [
       "<Figure size 432x288 with 1 Axes>"
      ]
     },
     "metadata": {
      "needs_background": "light"
     },
     "output_type": "display_data"
    },
    {
     "data": {
      "image/png": "[encoded data removed]",
      "text/plain": [
       "<Figure size 432x288 with 1 Axes>"
      ]
     },
     "metadata": {
      "needs_background": "light"
     },
     "output_type": "display_data"
    }
   ],
   "source": [
    "# third classifier, use the Gaussian Naive Bayes\n",
    "# plot the numerical feature\n",
    "plt.hist(X_train['backers_count'])\n",
    "plt.show()\n",
    "plt.hist(X_train['goal'])\n",
    "plt.show()"
   ]
  },
  {
   "cell_type": "markdown",
   "metadata": {},
   "source": [
    "Looks like they are not normal, we need to do some transformation"
   ]
  },
  {
   "cell_type": "code",
   "execution_count": 110,
   "metadata": {},
   "outputs": [],
   "source": [
    "# perform feature transformation on both train and test set\n",
    "X_train_g = pd.DataFrame(columns=['backers_count', 'goal'])\n",
    "X_test_g = pd.DataFrame(columns=['backers_count', 'goal'])\n",
    "X_train_g['backers_count'] = X_train['backers_count']**0.12\n",
    "X_test_g['backers_count'] = X_test['backers_count']**0.12\n",
    "X_train_g['goal'] = X_train['goal']**0.02\n",
    "X_test_g['goal'] = X_test['goal']**0.02"
   ]
  },
  {
   "cell_type": "code",
   "execution_count": 112,
   "metadata": {},
   "outputs": [
    {
     "name": "stdout",
     "output_type": "stream",
     "text": [
      "0.868006993006993\n"
     ]
    }
   ],
   "source": [
    "# third classifier, use the Naive Bayes again, but this time include the numerical variables\n",
    "from sklearn.naive_bayes import GaussianNB\n",
    "bnb = GaussianNB()\n",
    "\n",
    "# fit our model to the data\n",
    "bnb.fit(X_train_g, y_train)\n",
    "\n",
    "# use the test set to test our model\n",
    "prediction = bnb.predict(X_test_g)\n",
    "\n",
    "# compare the real data with prediction\n",
    "print(accuracy_score(prediction, y_test))"
   ]
  },
  {
   "cell_type": "code",
   "execution_count": 113,
   "metadata": {},
   "outputs": [
    {
     "name": "stdout",
     "output_type": "stream",
     "text": [
      "True positive rate: 0.9527145359019265\n",
      "False positive rate: 0.2164048865619546\n"
     ]
    }
   ],
   "source": [
    "tp = (prediction == 1) & (y_test == 1)\n",
    "tn = (prediction == 0) & (y_test == 0)\n",
    "fp = (prediction == 1) & (y_test == 0)\n",
    "fn = (prediction == 0) & (y_test == 1)\n",
    "print('True positive rate: {}'.format(np.sum(tp)/(np.sum(tp)+np.sum(fn))))\n",
    "print('False positive rate: {}'.format(np.sum(fp)/(np.sum(fp)+np.sum(tn))))"
   ]
  },
  {
   "cell_type": "markdown",
   "metadata": {},
   "source": [
    "We can see that the performance of GaussianNB lies between BernoulliNB and MultinomialNB, however the False positive rate is higher than the other two, which shows GaussianNB might not be a good model for conservative backer"
   ]
  },
  {
   "cell_type": "code",
   "execution_count": 114,
   "metadata": {},
   "outputs": [
    {
     "name": "stdout",
     "output_type": "stream",
     "text": [
      "0.5620629370629371\n"
     ]
    }
   ],
   "source": [
    "# for curiocity, test GaussianNB without transformation\n",
    "# fit our model to the data\n",
    "bnb.fit(X_train[['backers_count', 'goal']], y_train)\n",
    "\n",
    "# use the test set to test our model\n",
    "prediction = bnb.predict(X_test[['backers_count', 'goal']])\n",
    "\n",
    "# compare the real data with prediction\n",
    "print(accuracy_score(prediction, y_test))"
   ]
  },
  {
   "cell_type": "code",
   "execution_count": 115,
   "metadata": {},
   "outputs": [
    {
     "name": "stdout",
     "output_type": "stream",
     "text": [
      "True positive rate: 0.9982486865148862\n",
      "False positive rate: 0.8726003490401396\n"
     ]
    }
   ],
   "source": [
    "tp = (prediction == 1) & (y_test == 1)\n",
    "tn = (prediction == 0) & (y_test == 0)\n",
    "fp = (prediction == 1) & (y_test == 0)\n",
    "fn = (prediction == 0) & (y_test == 1)\n",
    "print('True positive rate: {}'.format(np.sum(tp)/(np.sum(tp)+np.sum(fn))))\n",
    "print('False positive rate: {}'.format(np.sum(fp)/(np.sum(fp)+np.sum(tn))))"
   ]
  },
  {
   "cell_type": "markdown",
   "metadata": {},
   "source": [
    "From above, we can see that without transforming the features to meet the assumption of GaussianNB, the model performs poorly "
   ]
  },
  {
   "cell_type": "markdown",
   "metadata": {},
   "source": [
    "Finally, we will use the logistic regression model to see its performance"
   ]
  },
  {
   "cell_type": "code",
   "execution_count": 116,
   "metadata": {},
   "outputs": [
    {
     "name": "stdout",
     "output_type": "stream",
     "text": [
      "0.9055944055944056\n"
     ]
    }
   ],
   "source": [
    "# classifier four, logistic regression model\n",
    "from sklearn import linear_model\n",
    "regr = linear_model.LogisticRegression()\n",
    "\n",
    "# fit the model\n",
    "regr.fit(X_train, y_train)\n",
    "\n",
    "# use the test set to test our model\n",
    "prediction = regr.predict(X_test)\n",
    "\n",
    "# compare the real data with prediction\n",
    "print(accuracy_score(prediction, y_test))"
   ]
  },
  {
   "cell_type": "code",
   "execution_count": 117,
   "metadata": {},
   "outputs": [
    {
     "name": "stdout",
     "output_type": "stream",
     "text": [
      "True positive rate: 0.9527145359019265\n",
      "False positive rate: 0.14136125654450263\n"
     ]
    }
   ],
   "source": [
    "tp = (prediction == 1) & (y_test == 1)\n",
    "tn = (prediction == 0) & (y_test == 0)\n",
    "fp = (prediction == 1) & (y_test == 0)\n",
    "fn = (prediction == 0) & (y_test == 1)\n",
    "print('True positive rate: {}'.format(np.sum(tp)/(np.sum(tp)+np.sum(fn))))\n",
    "print('False positive rate: {}'.format(np.sum(fp)/(np.sum(fp)+np.sum(tn))))"
   ]
  },
  {
   "cell_type": "markdown",
   "metadata": {},
   "source": [
    "From above, we can see that logistic regression model outperforms Naive Bayes in almost every aspect, it has high accuracy score, high True positive rate as well as low False positive rate, this is our ideal model to predict whether the project will be successful or not before deciding to back it."
   ]
  },
  {
   "cell_type": "code",
   "execution_count": 118,
   "metadata": {},
   "outputs": [
    {
     "data": {
      "text/plain": [
       "array([0.91349934, 0.90039318, 0.92388451, 0.90944882, 0.91721419])"
      ]
     },
     "execution_count": 118,
     "metadata": {},
     "output_type": "execute_result"
    }
   ],
   "source": [
    "# we will do another cross validation to see if our model overfits\n",
    "cross_val_score(regr, KS_clean.drop(['state'], axis=1), KS_clean['state'], cv=5)"
   ]
  },
  {
   "cell_type": "markdown",
   "metadata": {},
   "source": [
    "We can see that the score is very consistent in each iteration, the future step may include using another dataset to test our model"
   ]
  }
 ],
 "metadata": {
  "kernelspec": {
   "display_name": "Python 3",
   "language": "python",
   "name": "python3"
  },
  "language_info": {
   "codemirror_mode": {
    "name": "ipython",
    "version": 3
   },
   "file_extension": ".py",
   "mimetype": "text/x-python",
   "name": "python",
   "nbconvert_exporter": "python",
   "pygments_lexer": "ipython3",
   "version": "3.7.0"
  }
 },
 "nbformat": 4,
 "nbformat_minor": 2
}
