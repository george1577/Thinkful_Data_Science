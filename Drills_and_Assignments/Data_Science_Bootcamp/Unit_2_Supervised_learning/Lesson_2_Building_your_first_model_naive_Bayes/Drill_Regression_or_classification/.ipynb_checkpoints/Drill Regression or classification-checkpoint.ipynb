{
 "cells": [
  {
   "cell_type": "markdown",
   "metadata": {},
   "source": [
    "# Drill: Regression or classification\n",
    "For each of the following situations, decide if you would model using a regression or classification model. Discuss your reasoning with your mentor next time you meet."
   ]
  },
  {
   "cell_type": "markdown",
   "metadata": {},
   "source": [
    "### 1. The amount a person will spend on a given site in the next 24 months.\n",
    "Regression, the amount of money spend is continuous and company will like to have an more concrete number instead of classification of \"big spender\", \"small spender\"...etc to predict sales."
   ]
  },
  {
   "cell_type": "markdown",
   "metadata": {},
   "source": [
    "### 2. What color car someone is going to buy.\n",
    "Classification, this is a categorical discrete variable, company can use the prediction to have an idea of how many cars of each color to produce annually."
   ]
  },
  {
   "cell_type": "markdown",
   "metadata": {},
   "source": [
    "### 3. How many children a family will have.\n",
    "Regression, though this is a dicrete variable, company may want to have a more precise number, plus we do not want to be bounded by the training sets."
   ]
  },
  {
   "cell_type": "markdown",
   "metadata": {},
   "source": [
    "### 4. If someone will sign up for a service.\n",
    "Classification, this is a yes or no question."
   ]
  },
  {
   "cell_type": "markdown",
   "metadata": {},
   "source": [
    "### 5. The number of times someone will get sick in a year.\n",
    "Regression, same reason as number 3, we do not want to be bounded by the training set we use."
   ]
  },
  {
   "cell_type": "markdown",
   "metadata": {},
   "source": [
    "### 6. The probability someone will get sick in the next month.\n",
    "Regression, this is a continuous variable."
   ]
  },
  {
   "cell_type": "markdown",
   "metadata": {},
   "source": [
    "### 7. Which medicine will work best for a given patient.\n",
    "Classification, since the type of medicine is a categorical variable, we would like to know the maximize the probability of effectiveness of medicine and give the patient the best one, so they have the most likelihood to be cured."
   ]
  }
 ],
 "metadata": {
  "kernelspec": {
   "display_name": "Python 3",
   "language": "python",
   "name": "python3"
  },
  "language_info": {
   "codemirror_mode": {
    "name": "ipython",
    "version": 3
   },
   "file_extension": ".py",
   "mimetype": "text/x-python",
   "name": "python",
   "nbconvert_exporter": "python",
   "pygments_lexer": "ipython3",
   "version": "3.7.0"
  }
 },
 "nbformat": 4,
 "nbformat_minor": 2
}
