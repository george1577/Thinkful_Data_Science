{
 "cells": [
  {
   "cell_type": "markdown",
   "metadata": {},
   "source": [
    "# Introduction\n",
    "The E-commerce has become more and more popular these days, people spend more and more time online for shopping, reading critics and looking for new information. Reviews of others play a significant roles of people making their own decision. For example, if you have read a restaurant review before visiting, chances are you will decide not to go for dining if you see the reviews are bad, same logics apply to online shopping as well, people tend to buy products that have more positive reviews from others. Sentiment analysis thus becomes critical for companies that highly depends their sales on human online behaviors.\n",
    "\n",
    "This project is to build a simple model to identify people's emotion when writing the review"
   ]
  },
  {
   "cell_type": "code",
   "execution_count": 101,
   "metadata": {},
   "outputs": [],
   "source": [
    "# importing modules and packages for the project\n",
    "%matplotlib inline\n",
    "import pandas as pd\n",
    "import numpy as np\n",
    "import matplotlib.pyplot as plt\n",
    "import seaborn as sns\n",
    "from sklearn.naive_bayes import BernoulliNB"
   ]
  },
  {
   "cell_type": "code",
   "execution_count": 85,
   "metadata": {},
   "outputs": [
    {
     "data": {
      "text/html": [
       "<div>\n",
       "<style scoped>\n",
       "    .dataframe tbody tr th:only-of-type {\n",
       "        vertical-align: middle;\n",
       "    }\n",
       "\n",
       "    .dataframe tbody tr th {\n",
       "        vertical-align: top;\n",
       "    }\n",
       "\n",
       "    .dataframe thead th {\n",
       "        text-align: right;\n",
       "    }\n",
       "</style>\n",
       "<table border=\"1\" class=\"dataframe\">\n",
       "  <thead>\n",
       "    <tr style=\"text-align: right;\">\n",
       "      <th></th>\n",
       "      <th>reviews</th>\n",
       "      <th>sentiment</th>\n",
       "    </tr>\n",
       "  </thead>\n",
       "  <tbody>\n",
       "    <tr>\n",
       "      <th>0</th>\n",
       "      <td>Wow... Loved this place.</td>\n",
       "      <td>1</td>\n",
       "    </tr>\n",
       "    <tr>\n",
       "      <th>1</th>\n",
       "      <td>Crust is not good.</td>\n",
       "      <td>0</td>\n",
       "    </tr>\n",
       "    <tr>\n",
       "      <th>2</th>\n",
       "      <td>Not tasty and the texture was just nasty.</td>\n",
       "      <td>0</td>\n",
       "    </tr>\n",
       "    <tr>\n",
       "      <th>3</th>\n",
       "      <td>Stopped by during the late May bank holiday of...</td>\n",
       "      <td>1</td>\n",
       "    </tr>\n",
       "    <tr>\n",
       "      <th>4</th>\n",
       "      <td>The selection on the menu was great and so wer...</td>\n",
       "      <td>1</td>\n",
       "    </tr>\n",
       "  </tbody>\n",
       "</table>\n",
       "</div>"
      ],
      "text/plain": [
       "                                             reviews  sentiment\n",
       "0                           Wow... Loved this place.          1\n",
       "1                                 Crust is not good.          0\n",
       "2          Not tasty and the texture was just nasty.          0\n",
       "3  Stopped by during the late May bank holiday of...          1\n",
       "4  The selection on the menu was great and so wer...          1"
      ]
     },
     "execution_count": 85,
     "metadata": {},
     "output_type": "execute_result"
    }
   ],
   "source": [
    "# importing data, we will first use the yelp data provided\n",
    "yelp_raw = pd.read_csv('data/yelp_labelled.txt', sep='\\t', header=None, names=['reviews', 'sentiment'])\n",
    "yelp_raw.head()"
   ]
  },
  {
   "cell_type": "code",
   "execution_count": 86,
   "metadata": {},
   "outputs": [
    {
     "data": {
      "text/html": [
       "<div>\n",
       "<style scoped>\n",
       "    .dataframe tbody tr th:only-of-type {\n",
       "        vertical-align: middle;\n",
       "    }\n",
       "\n",
       "    .dataframe tbody tr th {\n",
       "        vertical-align: top;\n",
       "    }\n",
       "\n",
       "    .dataframe thead th {\n",
       "        text-align: right;\n",
       "    }\n",
       "</style>\n",
       "<table border=\"1\" class=\"dataframe\">\n",
       "  <thead>\n",
       "    <tr style=\"text-align: right;\">\n",
       "      <th></th>\n",
       "      <th>reviews</th>\n",
       "      <th>sentiment</th>\n",
       "    </tr>\n",
       "  </thead>\n",
       "  <tbody>\n",
       "    <tr>\n",
       "      <th>735</th>\n",
       "      <td>Probably never coming back, and wouldn't recom...</td>\n",
       "      <td>0</td>\n",
       "    </tr>\n",
       "    <tr>\n",
       "      <th>541</th>\n",
       "      <td>We waited for thirty minutes to be seated (alt...</td>\n",
       "      <td>0</td>\n",
       "    </tr>\n",
       "    <tr>\n",
       "      <th>705</th>\n",
       "      <td>I work in the hospitality industry in Paradise...</td>\n",
       "      <td>0</td>\n",
       "    </tr>\n",
       "    <tr>\n",
       "      <th>819</th>\n",
       "      <td>This place should honestly be blown up.</td>\n",
       "      <td>0</td>\n",
       "    </tr>\n",
       "    <tr>\n",
       "      <th>584</th>\n",
       "      <td>After I pulled up my car I waited for another ...</td>\n",
       "      <td>0</td>\n",
       "    </tr>\n",
       "    <tr>\n",
       "      <th>291</th>\n",
       "      <td>Just don't know why they were so slow.</td>\n",
       "      <td>0</td>\n",
       "    </tr>\n",
       "    <tr>\n",
       "      <th>937</th>\n",
       "      <td>Don't bother coming here.</td>\n",
       "      <td>0</td>\n",
       "    </tr>\n",
       "    <tr>\n",
       "      <th>121</th>\n",
       "      <td>Worst service to boot, but that is the least o...</td>\n",
       "      <td>0</td>\n",
       "    </tr>\n",
       "    <tr>\n",
       "      <th>975</th>\n",
       "      <td>What happened next was pretty....off putting.</td>\n",
       "      <td>0</td>\n",
       "    </tr>\n",
       "    <tr>\n",
       "      <th>611</th>\n",
       "      <td>I checked out this place a couple years ago an...</td>\n",
       "      <td>0</td>\n",
       "    </tr>\n",
       "  </tbody>\n",
       "</table>\n",
       "</div>"
      ],
      "text/plain": [
       "                                               reviews  sentiment\n",
       "735  Probably never coming back, and wouldn't recom...          0\n",
       "541  We waited for thirty minutes to be seated (alt...          0\n",
       "705  I work in the hospitality industry in Paradise...          0\n",
       "819            This place should honestly be blown up.          0\n",
       "584  After I pulled up my car I waited for another ...          0\n",
       "291             Just don't know why they were so slow.          0\n",
       "937                          Don't bother coming here.          0\n",
       "121  Worst service to boot, but that is the least o...          0\n",
       "975      What happened next was pretty....off putting.          0\n",
       "611  I checked out this place a couple years ago an...          0"
      ]
     },
     "execution_count": 86,
     "metadata": {},
     "output_type": "execute_result"
    }
   ],
   "source": [
    "# showing some examples that people left bad reviews and try to find some patterns\n",
    "yelp_raw[yelp_raw['sentiment']==0].sample(10)"
   ]
  },
  {
   "cell_type": "code",
   "execution_count": 120,
   "metadata": {},
   "outputs": [
    {
     "data": {
      "text/plain": [
       "(1000, 41)"
      ]
     },
     "execution_count": 120,
     "metadata": {},
     "output_type": "execute_result"
    }
   ],
   "source": [
    "# creating feature that has binary value whether the review contains the word or not, first list some bad words\n",
    "# that are common in bad reviews\n",
    "bad_words = ['bad', 'worse', 'don\\'t', 'slow', 'avoid', 'vain', 'terrible', 'poor', 'mediocre',\n",
    "            'hasn\\'t', 'sick', 'gross', 'late', 'suck', 'off', 'waste', 'disappoint', 'never', 'away',\n",
    "            'zero', 'rather', 'neither', 'but', 'wrong', 'no', 'eew', 'dont', 'disgust', 'didn\\'t',\n",
    "            'won\\'t', 'worst', 'should', 'fail', 'vain', 'vomit', 'wouldn\\'t', 'wasn\\'t', 'rude', 'hate', 'anymore',\n",
    "            'tasteless', 'only']\n",
    "X_train = pd.DataFrame()\n",
    "for word in bad_words:\n",
    "    X_train[word] = yelp_raw['reviews'].str.contains(word, case=False)\n",
    "X_train.shape"
   ]
  },
  {
   "cell_type": "code",
   "execution_count": 121,
   "metadata": {},
   "outputs": [
    {
     "data": {
      "text/plain": [
       "<matplotlib.axes._subplots.AxesSubplot at 0x1a1880d668>"
      ]
     },
     "execution_count": 121,
     "metadata": {},
     "output_type": "execute_result"
    },
    {
     "data": {
      "image/png": "[encoded data removed]",
      "text/plain": [
       "<Figure size 864x864 with 2 Axes>"
      ]
     },
     "metadata": {
      "needs_background": "light"
     },
     "output_type": "display_data"
    }
   ],
   "source": [
    "# plot the heatmap to show the correlation between each bad words to see if there are any highly correlated variables\n",
    "# that we need to get rid of before fitting our model, since the assumption of Naive Bayes is each feature/variable \n",
    "# is independent to each other\n",
    "fig, ax = plt.subplots(1,1,figsize=(12,12))\n",
    "sns.heatmap(pd.concat([X_train, yelp_raw['sentiment']], axis=1).corr())\n",
    "plt.show()"
   ]
  },
  {
   "cell_type": "code",
   "execution_count": 122,
   "metadata": {},
   "outputs": [
    {
     "name": "stdout",
     "output_type": "stream",
     "text": [
      "Accuracy score: 0.774\n"
     ]
    }
   ],
   "source": [
    "# since the data is binary, we could implement the Bernoulli classifier\n",
    "\n",
    "# Instantiate the model\n",
    "bnb = BernoulliNB()\n",
    "\n",
    "# fitting the model with the data\n",
    "y_train = yelp_raw['sentiment']\n",
    "bnb.fit(X_train, y_train)\n",
    "\n",
    "# predict the model using the original data\n",
    "y_predict = bnb.predict(X_train)\n",
    "\n",
    "# calculate accuracy score\n",
    "from sklearn.metrics import accuracy_score\n",
    "print('Accuracy score: {}'.format(accuracy_score(y_train, y_predict)))"
   ]
  },
  {
   "cell_type": "code",
   "execution_count": 100,
   "metadata": {},
   "outputs": [
    {
     "data": {
      "text/html": [
       "<div>\n",
       "<style scoped>\n",
       "    .dataframe tbody tr th:only-of-type {\n",
       "        vertical-align: middle;\n",
       "    }\n",
       "\n",
       "    .dataframe tbody tr th {\n",
       "        vertical-align: top;\n",
       "    }\n",
       "\n",
       "    .dataframe thead th {\n",
       "        text-align: right;\n",
       "    }\n",
       "</style>\n",
       "<table border=\"1\" class=\"dataframe\">\n",
       "  <thead>\n",
       "    <tr style=\"text-align: right;\">\n",
       "      <th></th>\n",
       "      <th>reviews</th>\n",
       "      <th>sentiment</th>\n",
       "      <th>predict</th>\n",
       "    </tr>\n",
       "  </thead>\n",
       "  <tbody>\n",
       "    <tr>\n",
       "      <th>944</th>\n",
       "      <td>The cashew cream sauce was bland and the veget...</td>\n",
       "      <td>0</td>\n",
       "      <td>1</td>\n",
       "    </tr>\n",
       "    <tr>\n",
       "      <th>159</th>\n",
       "      <td>Unfortunately, we must have hit the bakery on ...</td>\n",
       "      <td>0</td>\n",
       "      <td>1</td>\n",
       "    </tr>\n",
       "    <tr>\n",
       "      <th>828</th>\n",
       "      <td>The service here is fair at best.</td>\n",
       "      <td>0</td>\n",
       "      <td>1</td>\n",
       "    </tr>\n",
       "    <tr>\n",
       "      <th>830</th>\n",
       "      <td>Do yourself a favor and stay away from this dish.</td>\n",
       "      <td>0</td>\n",
       "      <td>1</td>\n",
       "    </tr>\n",
       "    <tr>\n",
       "      <th>971</th>\n",
       "      <td>The ambiance isn't much better.</td>\n",
       "      <td>0</td>\n",
       "      <td>1</td>\n",
       "    </tr>\n",
       "    <tr>\n",
       "      <th>183</th>\n",
       "      <td>It was probably dirt.</td>\n",
       "      <td>0</td>\n",
       "      <td>1</td>\n",
       "    </tr>\n",
       "    <tr>\n",
       "      <th>791</th>\n",
       "      <td>Once your food arrives it's meh.</td>\n",
       "      <td>0</td>\n",
       "      <td>1</td>\n",
       "    </tr>\n",
       "    <tr>\n",
       "      <th>541</th>\n",
       "      <td>We waited for thirty minutes to be seated (alt...</td>\n",
       "      <td>0</td>\n",
       "      <td>1</td>\n",
       "    </tr>\n",
       "    <tr>\n",
       "      <th>371</th>\n",
       "      <td>They dropped more than the ball.</td>\n",
       "      <td>0</td>\n",
       "      <td>1</td>\n",
       "    </tr>\n",
       "    <tr>\n",
       "      <th>634</th>\n",
       "      <td>Ordered burger rare came in we'll done.</td>\n",
       "      <td>0</td>\n",
       "      <td>1</td>\n",
       "    </tr>\n",
       "  </tbody>\n",
       "</table>\n",
       "</div>"
      ],
      "text/plain": [
       "                                               reviews  sentiment  predict\n",
       "944  The cashew cream sauce was bland and the veget...          0        1\n",
       "159  Unfortunately, we must have hit the bakery on ...          0        1\n",
       "828                  The service here is fair at best.          0        1\n",
       "830  Do yourself a favor and stay away from this dish.          0        1\n",
       "971                    The ambiance isn't much better.          0        1\n",
       "183                              It was probably dirt.          0        1\n",
       "791                   Once your food arrives it's meh.          0        1\n",
       "541  We waited for thirty minutes to be seated (alt...          0        1\n",
       "371                   They dropped more than the ball.          0        1\n",
       "634            Ordered burger rare came in we'll done.          0        1"
      ]
     },
     "execution_count": 100,
     "metadata": {},
     "output_type": "execute_result"
    }
   ],
   "source": [
    "# show the false positive of the model, that is, model predicts good review but it is actually bad \n",
    "# will retrain the model by adding some other features in the bad_words\n",
    "yelp_raw['predict'] = y_predict\n",
    "yelp_raw[(yelp_raw['sentiment'] == False) & (yelp_raw['predict'] == True)].sample(10)"
   ]
  },
  {
   "cell_type": "code",
   "execution_count": 105,
   "metadata": {},
   "outputs": [
    {
     "data": {
      "text/html": [
       "<div>\n",
       "<style scoped>\n",
       "    .dataframe tbody tr th:only-of-type {\n",
       "        vertical-align: middle;\n",
       "    }\n",
       "\n",
       "    .dataframe tbody tr th {\n",
       "        vertical-align: top;\n",
       "    }\n",
       "\n",
       "    .dataframe thead th {\n",
       "        text-align: right;\n",
       "    }\n",
       "</style>\n",
       "<table border=\"1\" class=\"dataframe\">\n",
       "  <thead>\n",
       "    <tr style=\"text-align: right;\">\n",
       "      <th></th>\n",
       "      <th>reviews</th>\n",
       "      <th>sentiment</th>\n",
       "    </tr>\n",
       "  </thead>\n",
       "  <tbody>\n",
       "    <tr>\n",
       "      <th>0</th>\n",
       "      <td>So there is no way for me to plug it in here i...</td>\n",
       "      <td>0</td>\n",
       "    </tr>\n",
       "    <tr>\n",
       "      <th>1</th>\n",
       "      <td>Good case, Excellent value.</td>\n",
       "      <td>1</td>\n",
       "    </tr>\n",
       "    <tr>\n",
       "      <th>2</th>\n",
       "      <td>Great for the jawbone.</td>\n",
       "      <td>1</td>\n",
       "    </tr>\n",
       "    <tr>\n",
       "      <th>3</th>\n",
       "      <td>Tied to charger for conversations lasting more...</td>\n",
       "      <td>0</td>\n",
       "    </tr>\n",
       "    <tr>\n",
       "      <th>4</th>\n",
       "      <td>The mic is great.</td>\n",
       "      <td>1</td>\n",
       "    </tr>\n",
       "  </tbody>\n",
       "</table>\n",
       "</div>"
      ],
      "text/plain": [
       "                                             reviews  sentiment\n",
       "0  So there is no way for me to plug it in here i...          0\n",
       "1                        Good case, Excellent value.          1\n",
       "2                             Great for the jawbone.          1\n",
       "3  Tied to charger for conversations lasting more...          0\n",
       "4                                  The mic is great.          1"
      ]
     },
     "execution_count": 105,
     "metadata": {},
     "output_type": "execute_result"
    }
   ],
   "source": [
    "# try the trained model on the other dataset\n",
    "amazon_raw = pd.read_csv('data/amazon_cells_labelled.txt', sep='\\t', header=None, names=['reviews', 'sentiment'])\n",
    "amazon_raw.head()"
   ]
  },
  {
   "cell_type": "code",
   "execution_count": 106,
   "metadata": {},
   "outputs": [
    {
     "data": {
      "text/plain": [
       "(1000, 44)"
      ]
     },
     "execution_count": 106,
     "metadata": {},
     "output_type": "execute_result"
    }
   ],
   "source": [
    "# use the same set of bad_words to train amazon data\n",
    "bad_words = ['not', 'bad', 'worse', 'don\\'t', 'slow', 'avoid', 'vain', 'terrible', 'poor', 'mediocre',\n",
    "            'hasn\\'t', 'sick', 'gross', 'late', 'suck', 'off', 'waste', 'disappoint', 'never', 'away', 'borning',\n",
    "            'zero', 'rather', 'neither', 'but', 'wrong', 'no', 'eew', 'dont', 'disgust', 'refuse', 'didn\\'t',\n",
    "            'won\\'t', 'worst', 'should', 'fail', 'vain', 'vomit', 'wouldn\\'t', 'wasn\\'t', 'rude', 'hate', 'anymore',\n",
    "            'tasteless', 'only']\n",
    "X_train = pd.DataFrame()\n",
    "for word in bad_words:\n",
    "    X_train[word] = amazon_raw['reviews'].str.contains(word, case=False)\n",
    "X_train.shape"
   ]
  },
  {
   "cell_type": "code",
   "execution_count": 107,
   "metadata": {},
   "outputs": [
    {
     "name": "stdout",
     "output_type": "stream",
     "text": [
      "Accuracy score: 0.72\n"
     ]
    }
   ],
   "source": [
    "# Instantiate the model\n",
    "bnb = BernoulliNB()\n",
    "\n",
    "# fitting the model with the data\n",
    "y_train = amazon_raw['sentiment']\n",
    "bnb.fit(X_train, y_train)\n",
    "\n",
    "# predict the model using the original data\n",
    "y_predict = bnb.predict(X_train)\n",
    "\n",
    "# calculate accuracy score\n",
    "from sklearn.metrics import accuracy_score\n",
    "print('Accuracy score: {}'.format(accuracy_score(y_train, y_predict)))"
   ]
  },
  {
   "cell_type": "code",
   "execution_count": 108,
   "metadata": {},
   "outputs": [
    {
     "data": {
      "text/html": [
       "<div>\n",
       "<style scoped>\n",
       "    .dataframe tbody tr th:only-of-type {\n",
       "        vertical-align: middle;\n",
       "    }\n",
       "\n",
       "    .dataframe tbody tr th {\n",
       "        vertical-align: top;\n",
       "    }\n",
       "\n",
       "    .dataframe thead th {\n",
       "        text-align: right;\n",
       "    }\n",
       "</style>\n",
       "<table border=\"1\" class=\"dataframe\">\n",
       "  <thead>\n",
       "    <tr style=\"text-align: right;\">\n",
       "      <th></th>\n",
       "      <th>reviews</th>\n",
       "      <th>sentiment</th>\n",
       "    </tr>\n",
       "  </thead>\n",
       "  <tbody>\n",
       "    <tr>\n",
       "      <th>0</th>\n",
       "      <td>A very, very, very slow-moving, aimless movie ...</td>\n",
       "      <td>0</td>\n",
       "    </tr>\n",
       "    <tr>\n",
       "      <th>1</th>\n",
       "      <td>Not sure who was more lost - the flat characte...</td>\n",
       "      <td>0</td>\n",
       "    </tr>\n",
       "    <tr>\n",
       "      <th>2</th>\n",
       "      <td>Attempting artiness with black &amp; white and cle...</td>\n",
       "      <td>0</td>\n",
       "    </tr>\n",
       "    <tr>\n",
       "      <th>3</th>\n",
       "      <td>Very little music or anything to speak of.</td>\n",
       "      <td>0</td>\n",
       "    </tr>\n",
       "    <tr>\n",
       "      <th>4</th>\n",
       "      <td>The best scene in the movie was when Gerardo i...</td>\n",
       "      <td>1</td>\n",
       "    </tr>\n",
       "  </tbody>\n",
       "</table>\n",
       "</div>"
      ],
      "text/plain": [
       "                                             reviews  sentiment\n",
       "0  A very, very, very slow-moving, aimless movie ...          0\n",
       "1  Not sure who was more lost - the flat characte...          0\n",
       "2  Attempting artiness with black & white and cle...          0\n",
       "3       Very little music or anything to speak of.            0\n",
       "4  The best scene in the movie was when Gerardo i...          1"
      ]
     },
     "execution_count": 108,
     "metadata": {},
     "output_type": "execute_result"
    }
   ],
   "source": [
    "# try the model on the third dataset\n",
    "imdb_raw = pd.read_csv('data/imdb_labelled.txt', sep='\\t', header=None, names=['reviews', 'sentiment'])\n",
    "imdb_raw.head()"
   ]
  },
  {
   "cell_type": "code",
   "execution_count": 109,
   "metadata": {},
   "outputs": [
    {
     "data": {
      "text/plain": [
       "(748, 44)"
      ]
     },
     "execution_count": 109,
     "metadata": {},
     "output_type": "execute_result"
    }
   ],
   "source": [
    "# use the same set of bad_words to train imdb data\n",
    "bad_words = ['not', 'bad', 'worse', 'don\\'t', 'slow', 'avoid', 'vain', 'terrible', 'poor', 'mediocre',\n",
    "            'hasn\\'t', 'sick', 'gross', 'late', 'suck', 'off', 'waste', 'disappoint', 'never', 'away', 'borning',\n",
    "            'zero', 'rather', 'neither', 'but', 'wrong', 'no', 'eew', 'dont', 'disgust', 'refuse', 'didn\\'t',\n",
    "            'won\\'t', 'worst', 'should', 'fail', 'vain', 'vomit', 'wouldn\\'t', 'wasn\\'t', 'rude', 'hate', 'anymore',\n",
    "            'tasteless', 'only']\n",
    "X_train = pd.DataFrame()\n",
    "for word in bad_words:\n",
    "    X_train[word] = imdb_raw['reviews'].str.contains(word, case=False)\n",
    "X_train.shape"
   ]
  },
  {
   "cell_type": "code",
   "execution_count": 110,
   "metadata": {},
   "outputs": [
    {
     "name": "stdout",
     "output_type": "stream",
     "text": [
      "Accuracy score: 0.7152406417112299\n"
     ]
    }
   ],
   "source": [
    "# Instantiate the model\n",
    "bnb = BernoulliNB()\n",
    "\n",
    "# fitting the model with the data\n",
    "y_train = imdb_raw['sentiment']\n",
    "bnb.fit(X_train, y_train)\n",
    "\n",
    "# predict the model using the original data\n",
    "y_predict = bnb.predict(X_train)\n",
    "\n",
    "# calculate accuracy score\n",
    "from sklearn.metrics import accuracy_score\n",
    "print('Accuracy score: {}'.format(accuracy_score(y_train, y_predict)))"
   ]
  },
  {
   "cell_type": "markdown",
   "metadata": {},
   "source": [
    "# Conclusion\n",
    "Based on the first training set, we trained the entire model from yelp data and the accuracy score is 0.774, this could be further improved if we add more bad words that might correctly identify the bad reviews, the algorithms we apply is Naive Bayes and we applied the Bernoulli version since each features have binary-value. As we can see, when applying the same algorithms on a different dataset, we could still get 0.72 accuracy on Amazon and 0.715 accuracy on imdb, this is slightly lower than our yelp dataset. The reason could be yelp is mainly focus on restaurant review, the negative words such as \"not delicious\", \"disgust\" coudl not actually apply on other fields. This may restrict our prediction ability. But general words like \"bad\", \"not\" could be applied in any field, thus we are able to keep the accuracy score in a relatively high level."
   ]
  },
  {
   "cell_type": "code",
   "execution_count": null,
   "metadata": {},
   "outputs": [],
   "source": []
  }
 ],
 "metadata": {
  "kernelspec": {
   "display_name": "Python 3",
   "language": "python",
   "name": "python3"
  },
  "language_info": {
   "codemirror_mode": {
    "name": "ipython",
    "version": 3
   },
   "file_extension": ".py",
   "mimetype": "text/x-python",
   "name": "python",
   "nbconvert_exporter": "python",
   "pygments_lexer": "ipython3",
   "version": "3.7.0"
  }
 },
 "nbformat": 4,
 "nbformat_minor": 2
}
