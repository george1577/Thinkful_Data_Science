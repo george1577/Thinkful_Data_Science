{
 "cells": [
  {
   "cell_type": "markdown",
   "metadata": {},
   "source": [
    "# Drill: Formulating good research questions"
   ]
  },
  {
   "cell_type": "markdown",
   "metadata": {},
   "source": [
    "Categorize each of the following research questions as \"good\" or \"bad\", and provide alternative formulations for the bad ones. Save your responses in a document of some kind, submit a link below, and discuss your reasoning with your mentor."
   ]
  },
  {
   "cell_type": "markdown",
   "metadata": {},
   "source": [
    "### 1. What is the 1994 rate of juvenile delinquency in the U.S.?\n",
    "Bad\n",
    "\n",
    "I think there is nothing to do a research on, this is simply an existing fact that could be pulled out from the US police department database."
   ]
  },
  {
   "cell_type": "markdown",
   "metadata": {},
   "source": [
    "### 2. What can we do to reduce juvenile delinquency in the U.S.?\n",
    "Good\n",
    "\n",
    "Could think of a research proposal that could potentially solve the problem, we could implement an A/B testing to see if the solution proposed is effective."
   ]
  },
  {
   "cell_type": "markdown",
   "metadata": {},
   "source": [
    "### 3. Does education play a role in reducing juvenile delinquents' return to crime?\n",
    "Good\n",
    "\n",
    "This is a more narrow question that we could further explore the database to find an answer."
   ]
  },
  {
   "cell_type": "markdown",
   "metadata": {},
   "source": [
    "### 4. How many customers does AT&T currently serve in Washington, DC?\n",
    "Bad\n",
    "\n",
    "This is a fact, nothing to do a research on, we could simply get the data from AT&T. "
   ]
  },
  {
   "cell_type": "markdown",
   "metadata": {},
   "source": [
    "### 5. What factors lead consumers to choose AT&T over other service providers?\n",
    "Good\n",
    "\n",
    "This questions could be approached with a survey that may contain multiple questions listing the reasons why people choose one telecompany than the other. By gathering the data, we could further analyze the factors that affect consumers' choices."
   ]
  },
  {
   "cell_type": "markdown",
   "metadata": {},
   "source": [
    "### 6. How can AT&T attract more customers?\n",
    "Good\n",
    "\n",
    "This question may requires a research proposal that list the potential solutions that could increase profits, we could run an A/B testing, for example, by implementing a new plan and compare with the old one to see the sales increases."
   ]
  },
  {
   "cell_type": "markdown",
   "metadata": {},
   "source": [
    "### 7. Why did the Challenger Shuttle explode?\n",
    "Good\n",
    "\n",
    "This question could be investigated by gathering the data from the Challenger Shuttle, we may identify some data that started to act abnormally right before the explosion and analyze the potential cause of the explosion."
   ]
  },
  {
   "cell_type": "markdown",
   "metadata": {},
   "source": [
    "### 8. Which genes are associated with increased risk of breast cancer?\n",
    "Good\n",
    "\n",
    "This question could be approached by biological experiment, we could use the rats first to explore the genes that might be related to breast cancer and identify genes that are similar between mammals. Once identified, we could gather the data from patients with breast cancer and to see if those genes have abnormal activities compared to normal people."
   ]
  },
  {
   "cell_type": "markdown",
   "metadata": {},
   "source": [
    "### 9. Is it better to read to children at night or in the morning?\n",
    "Bad\n",
    "\n",
    "The question is too vague, we have to define what it means good to children? Otherwise it is hard to answer such a question."
   ]
  },
  {
   "cell_type": "markdown",
   "metadata": {},
   "source": [
    "### 10. How does Google’s search algorithm work?\n",
    "Good\n",
    "\n",
    "We could come up with some different algorithms approach to mimmic the search of Google engine and compare the time required to search a string/sentence and may be able to construct a similar algorithms as Google."
   ]
  }
 ],
 "metadata": {
  "kernelspec": {
   "display_name": "Python 3",
   "language": "python",
   "name": "python3"
  },
  "language_info": {
   "codemirror_mode": {
    "name": "ipython",
    "version": 3
   },
   "file_extension": ".py",
   "mimetype": "text/x-python",
   "name": "python",
   "nbconvert_exporter": "python",
   "pygments_lexer": "ipython3",
   "version": "3.7.0"
  }
 },
 "nbformat": 4,
 "nbformat_minor": 2
}
