{
 "cells": [
  {
   "cell_type": "markdown",
   "metadata": {},
   "source": [
    "# TLADS Drill\n",
    "Categorize each of the variables in the ESS dataset as categorical or continuous, and if continuous as ordinal, interval, or ratio variables. Check your work with your mentor, and discuss what that information might imply for feature engineering with this [data](https://thinkful-ed.github.io/data-201-resources/ESS_practice_data/ESS_codebook.html)."
   ]
  },
  {
   "cell_type": "markdown",
   "metadata": {},
   "source": [
    "`cntry`: categorical\n",
    "\n",
    "`year`: continuous, interval\n",
    "\n",
    "`idno`: continuous, nominal\n",
    "\n",
    "`tvtot`: continous, ratio\n",
    "\n",
    "`ppltrst`: continous, ordinal\n",
    "\n",
    "`pplfair`: continous, ordinal\n",
    "\n",
    "`pplhlp`: continuous, ordinal\n",
    "\n",
    "`happy`: continuous, ordinal\n",
    "\n",
    "`sclmeet`: continuous, ordinal\n",
    "\n",
    "`sclact`: continuous, ordinal\n",
    "\n",
    "`gndr`: categorical\n",
    "\n",
    "`agea`: continous, ratio\n",
    "\n",
    "`partner`: categorical"
   ]
  }
 ],
 "metadata": {
  "kernelspec": {
   "display_name": "Python 3",
   "language": "python",
   "name": "python3"
  },
  "language_info": {
   "codemirror_mode": {
    "name": "ipython",
    "version": 3
   },
   "file_extension": ".py",
   "mimetype": "text/x-python",
   "name": "python",
   "nbconvert_exporter": "python",
   "pygments_lexer": "ipython3",
   "version": "3.7.0"
  }
 },
 "nbformat": 4,
 "nbformat_minor": 2
}
