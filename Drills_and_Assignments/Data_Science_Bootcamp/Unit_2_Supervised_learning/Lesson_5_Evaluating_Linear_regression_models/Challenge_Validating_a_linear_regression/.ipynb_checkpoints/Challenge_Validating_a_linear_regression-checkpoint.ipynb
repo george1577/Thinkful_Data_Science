{
 "cells": [
  {
   "cell_type": "code",
   "execution_count": 43,
   "metadata": {},
   "outputs": [],
   "source": [
    "# set up environment\n",
    "import math\n",
    "\n",
    "from matplotlib import pyplot as plt\n",
    "from sklearn.linear_model import LinearRegression\n",
    "import numpy as np\n",
    "import pandas as pd\n",
    "import seaborn as sns\n",
    "import statsmodels.formula.api as smf\n",
    "from statsmodels.sandbox.regression.predstd import wls_prediction_std\n",
    "\n",
    "%matplotlib inline\n",
    "sns.set_style('white')\n",
    "\n",
    "# supress warnings\n",
    "import warnings\n",
    "warnings.filterwarnings(\"ignore\")"
   ]
  },
  {
   "cell_type": "code",
   "execution_count": 10,
   "metadata": {},
   "outputs": [],
   "source": [
    "# import training dataset\n",
    "NY_crime_2013 = pd.read_excel('data/table_8_offenses_known_to_law_enforcement_new_york_by_city_2013.xls', \n",
    "                              skiprows=range(4))"
   ]
  },
  {
   "cell_type": "code",
   "execution_count": 5,
   "metadata": {},
   "outputs": [],
   "source": [
    "# import testing dataset\n",
    "CA_crime_2013 = pd.read_excel('data/table_8_offenses_known_to_law_enforcement_california_by_city_2013.xls', \n",
    "                              skiprows=range(4))"
   ]
  },
  {
   "cell_type": "code",
   "execution_count": 11,
   "metadata": {},
   "outputs": [],
   "source": [
    "# drop the Rape (revised definition)1 column\n",
    "NY_crime_2013.drop(NY_crime_2013.columns[4], axis=1, inplace=True)\n",
    "\n",
    "# keep only population, murder and robbery as feature columns and propery crime as target column\n",
    "col = NY_crime_2013.columns\n",
    "NY_crime_2013_clean = NY_crime_2013[[col[1], col[3], col[5], col[7]]]\n",
    "\n",
    "# rename column\n",
    "NY_crime_2013_clean.rename(columns={NY_crime_2013_clean.columns[1]: 'Murder', \n",
    "                                    NY_crime_2013_clean.columns[3]: 'Property_crime'}, inplace=True)\n",
    "\n",
    "# drop rows if any column of that row has NaN\n",
    "NY_crime_2013_clean.dropna(inplace=True)"
   ]
  },
  {
   "cell_type": "code",
   "execution_count": 12,
   "metadata": {},
   "outputs": [
    {
     "data": {
      "image/png": "[encoded data removed]",
      "text/plain": [
       "<Figure size 720x720 with 4 Axes>"
      ]
     },
     "metadata": {},
     "output_type": "display_data"
    }
   ],
   "source": [
    "# inspect each column to see if there is any potential outlier\n",
    "fig, ax = plt.subplots(nrows=2, ncols=2, figsize=(10,10))\n",
    "NY_crime_2013_clean.boxplot(column='Population', ax=ax[0][0])\n",
    "NY_crime_2013_clean.boxplot(column='Murder', ax=ax[1][0])\n",
    "NY_crime_2013_clean.boxplot(column='Robbery', ax=ax[0][1])\n",
    "NY_crime_2013_clean.boxplot(column='Property_crime', ax=ax[1][1])\n",
    "plt.show()"
   ]
  },
  {
   "cell_type": "code",
   "execution_count": 25,
   "metadata": {},
   "outputs": [],
   "source": [
    "# clean up the outliers\n",
    "NY_crime_2013_clean = NY_crime_2013_clean[NY_crime_2013_clean['Population'] < 8000000]\n",
    "NY_crime_2013_clean = NY_crime_2013_clean[NY_crime_2013_clean['Murder'] < 300]\n",
    "NY_crime_2013_clean = NY_crime_2013_clean[NY_crime_2013_clean['Robbery'] < 17500]\n",
    "NY_crime_2013_clean = NY_crime_2013_clean[NY_crime_2013_clean['Property_crime'] < 120000]"
   ]
  },
  {
   "cell_type": "code",
   "execution_count": 28,
   "metadata": {},
   "outputs": [],
   "source": [
    "# create another column population square\n",
    "NY_crime_2013_clean['Population_sq'] = np.square(NY_crime_2013_clean['Population'])"
   ]
  },
  {
   "cell_type": "code",
   "execution_count": 31,
   "metadata": {},
   "outputs": [],
   "source": [
    "# rearrange the column order\n",
    "NY_crime_2013_clean = NY_crime_2013_clean[['Population', 'Population_sq', 'Murder',  \n",
    "                                           'Robbery', 'Property_crime']]"
   ]
  },
  {
   "cell_type": "code",
   "execution_count": 32,
   "metadata": {},
   "outputs": [
    {
     "data": {
      "text/html": [
       "<div>\n",
       "<style scoped>\n",
       "    .dataframe tbody tr th:only-of-type {\n",
       "        vertical-align: middle;\n",
       "    }\n",
       "\n",
       "    .dataframe tbody tr th {\n",
       "        vertical-align: top;\n",
       "    }\n",
       "\n",
       "    .dataframe thead th {\n",
       "        text-align: right;\n",
       "    }\n",
       "</style>\n",
       "<table border=\"1\" class=\"dataframe\">\n",
       "  <thead>\n",
       "    <tr style=\"text-align: right;\">\n",
       "      <th></th>\n",
       "      <th>Population</th>\n",
       "      <th>Population_sq</th>\n",
       "      <th>Murder</th>\n",
       "      <th>Robbery</th>\n",
       "      <th>Property_crime</th>\n",
       "    </tr>\n",
       "  </thead>\n",
       "  <tbody>\n",
       "    <tr>\n",
       "      <th>0</th>\n",
       "      <td>1861.0</td>\n",
       "      <td>3.463321e+06</td>\n",
       "      <td>0.0</td>\n",
       "      <td>0.0</td>\n",
       "      <td>12.0</td>\n",
       "    </tr>\n",
       "    <tr>\n",
       "      <th>1</th>\n",
       "      <td>2577.0</td>\n",
       "      <td>6.640929e+06</td>\n",
       "      <td>0.0</td>\n",
       "      <td>0.0</td>\n",
       "      <td>24.0</td>\n",
       "    </tr>\n",
       "    <tr>\n",
       "      <th>2</th>\n",
       "      <td>2846.0</td>\n",
       "      <td>8.099716e+06</td>\n",
       "      <td>0.0</td>\n",
       "      <td>0.0</td>\n",
       "      <td>16.0</td>\n",
       "    </tr>\n",
       "    <tr>\n",
       "      <th>3</th>\n",
       "      <td>97956.0</td>\n",
       "      <td>9.595378e+09</td>\n",
       "      <td>8.0</td>\n",
       "      <td>227.0</td>\n",
       "      <td>4090.0</td>\n",
       "    </tr>\n",
       "    <tr>\n",
       "      <th>4</th>\n",
       "      <td>6388.0</td>\n",
       "      <td>4.080654e+07</td>\n",
       "      <td>0.0</td>\n",
       "      <td>4.0</td>\n",
       "      <td>223.0</td>\n",
       "    </tr>\n",
       "  </tbody>\n",
       "</table>\n",
       "</div>"
      ],
      "text/plain": [
       "   Population  Population_sq  Murder  Robbery  Property_crime\n",
       "0      1861.0   3.463321e+06     0.0      0.0            12.0\n",
       "1      2577.0   6.640929e+06     0.0      0.0            24.0\n",
       "2      2846.0   8.099716e+06     0.0      0.0            16.0\n",
       "3     97956.0   9.595378e+09     8.0    227.0          4090.0\n",
       "4      6388.0   4.080654e+07     0.0      4.0           223.0"
      ]
     },
     "execution_count": 32,
     "metadata": {},
     "output_type": "execute_result"
    }
   ],
   "source": [
    "NY_crime_2013_clean.head()"
   ]
  },
  {
   "cell_type": "code",
   "execution_count": 33,
   "metadata": {},
   "outputs": [
    {
     "data": {
      "text/plain": [
       "(351, 12)"
      ]
     },
     "execution_count": 33,
     "metadata": {},
     "output_type": "execute_result"
    }
   ],
   "source": [
    "NY_crime_2013.shape"
   ]
  },
  {
   "cell_type": "code",
   "execution_count": 46,
   "metadata": {},
   "outputs": [
    {
     "name": "stdout",
     "output_type": "stream",
     "text": [
      "\n",
      "Coefficients: \n",
      " [ 2.05519792e-02 -7.19468320e-08  1.02643383e+02  5.13001360e+00]\n",
      "\n",
      "Intercept: \n",
      " -25.039858198831496\n",
      "\n",
      "R-squared:\n",
      "0.939283140822447\n"
     ]
    }
   ],
   "source": [
    "# appraoch 4\n",
    "# using original Murder and Robbery data without categorizing them\n",
    "regr = LinearRegression()\n",
    "X4 = NY_crime_2013_clean[['Population', 'Population_sq', 'Murder', 'Robbery']]\n",
    "Y = NY_crime_2013_clean['Property_crime']\n",
    "regr.fit(X4, Y)\n",
    "predict = regr.predict(X4)\n",
    "residue = Y - predict\n",
    "\n",
    "# Inspect the result\n",
    "print('\\nCoefficients: \\n', regr.coef_)\n",
    "print('\\nIntercept: \\n', regr.intercept_)\n",
    "print('\\nR-squared:')\n",
    "print(regr.score(X4, Y))"
   ]
  },
  {
   "cell_type": "code",
   "execution_count": 59,
   "metadata": {},
   "outputs": [],
   "source": [
    "# check the p-value of each coefficient\n",
    "linear_formula = 'Property_crime ~ Population+Population_sq+Murder+Robbery'\n",
    "\n",
    "# Fit the model to our data using the formula.\n",
    "lm = smf.ols(formula=linear_formula, data=NY_crime_2013_clean).fit()"
   ]
  },
  {
   "cell_type": "code",
   "execution_count": 60,
   "metadata": {},
   "outputs": [
    {
     "data": {
      "text/plain": [
       "Intercept       -2.503986e+01\n",
       "Population       2.055198e-02\n",
       "Population_sq   -7.194683e-08\n",
       "Murder           1.026434e+02\n",
       "Robbery          5.130014e+00\n",
       "dtype: float64"
      ]
     },
     "execution_count": 60,
     "metadata": {},
     "output_type": "execute_result"
    }
   ],
   "source": [
    "lm.params"
   ]
  },
  {
   "cell_type": "code",
   "execution_count": 61,
   "metadata": {},
   "outputs": [
    {
     "data": {
      "text/plain": [
       "Intercept        1.855630e-01\n",
       "Population       7.640551e-53\n",
       "Population_sq    1.275907e-11\n",
       "Murder           4.137181e-12\n",
       "Robbery          7.714970e-11\n",
       "dtype: float64"
      ]
     },
     "execution_count": 61,
     "metadata": {},
     "output_type": "execute_result"
    }
   ],
   "source": [
    "lm.pvalues"
   ]
  },
  {
   "cell_type": "code",
   "execution_count": 62,
   "metadata": {},
   "outputs": [
    {
     "data": {
      "text/plain": [
       "0.9392831408224471"
      ]
     },
     "execution_count": 62,
     "metadata": {},
     "output_type": "execute_result"
    }
   ],
   "source": [
    "lm.rsquared"
   ]
  },
  {
   "cell_type": "code",
   "execution_count": 48,
   "metadata": {},
   "outputs": [
    {
     "data": {
      "image/png": "[encoded data removed]",
      "text/plain": [
       "<Figure size 432x288 with 1 Axes>"
      ]
     },
     "metadata": {},
     "output_type": "display_data"
    }
   ],
   "source": [
    "plt.scatter(predict, residue)\n",
    "plt.show()"
   ]
  },
  {
   "cell_type": "code",
   "execution_count": 34,
   "metadata": {},
   "outputs": [],
   "source": [
    "# repeat the data processing with the testing dataset\n",
    "# drop the Rape (revised definition)1 column\n",
    "CA_crime_2013.drop(CA_crime_2013.columns[4], axis=1, inplace=True)\n",
    "\n",
    "# keep only population, murder and robbery as feature columns and propery crime as target column\n",
    "col = CA_crime_2013.columns\n",
    "CA_crime_2013_clean = CA_crime_2013[[col[1], col[3], col[5], col[7]]]\n",
    "\n",
    "# rename column\n",
    "CA_crime_2013_clean.rename(columns={CA_crime_2013_clean.columns[1]: 'Murder', \n",
    "                                    CA_crime_2013_clean.columns[3]: 'Property_crime'}, inplace=True)\n",
    "\n",
    "# drop rows if any column of that row has NaN\n",
    "CA_crime_2013_clean.dropna(inplace=True)"
   ]
  },
  {
   "cell_type": "code",
   "execution_count": 36,
   "metadata": {},
   "outputs": [
    {
     "data": {
      "image/png": "[encoded data removed]",
      "text/plain": [
       "<Figure size 720x720 with 4 Axes>"
      ]
     },
     "metadata": {},
     "output_type": "display_data"
    }
   ],
   "source": [
    "# inspect each column to see if there is any potential outlier\n",
    "fig, ax = plt.subplots(nrows=2, ncols=2, figsize=(10,10))\n",
    "CA_crime_2013_clean.boxplot(column='Population', ax=ax[0][0])\n",
    "CA_crime_2013_clean.boxplot(column='Murder', ax=ax[1][0])\n",
    "CA_crime_2013_clean.boxplot(column='Robbery', ax=ax[0][1])\n",
    "CA_crime_2013_clean.boxplot(column='Property_crime', ax=ax[1][1])\n",
    "plt.show()"
   ]
  },
  {
   "cell_type": "code",
   "execution_count": 37,
   "metadata": {},
   "outputs": [],
   "source": [
    "# clean up the outliers\n",
    "CA_crime_2013_clean = CA_crime_2013_clean[CA_crime_2013_clean['Population'] < 750000]\n",
    "CA_crime_2013_clean = CA_crime_2013_clean[CA_crime_2013_clean['Murder'] < 50]\n",
    "CA_crime_2013_clean = CA_crime_2013_clean[CA_crime_2013_clean['Robbery'] < 2000]\n",
    "CA_crime_2013_clean = CA_crime_2013_clean[CA_crime_2013_clean['Property_crime'] < 40000]"
   ]
  },
  {
   "cell_type": "code",
   "execution_count": 38,
   "metadata": {},
   "outputs": [],
   "source": [
    "# create another column population square\n",
    "CA_crime_2013_clean['Population_sq'] = np.square(CA_crime_2013_clean['Population'])"
   ]
  },
  {
   "cell_type": "code",
   "execution_count": 39,
   "metadata": {},
   "outputs": [],
   "source": [
    "# rearrange the column order\n",
    "CA_crime_2013_clean = CA_crime_2013_clean[['Population', 'Population_sq', 'Murder',  \n",
    "                                           'Robbery', 'Property_crime']]"
   ]
  },
  {
   "cell_type": "code",
   "execution_count": 40,
   "metadata": {},
   "outputs": [
    {
     "data": {
      "text/html": [
       "<div>\n",
       "<style scoped>\n",
       "    .dataframe tbody tr th:only-of-type {\n",
       "        vertical-align: middle;\n",
       "    }\n",
       "\n",
       "    .dataframe tbody tr th {\n",
       "        vertical-align: top;\n",
       "    }\n",
       "\n",
       "    .dataframe thead th {\n",
       "        text-align: right;\n",
       "    }\n",
       "</style>\n",
       "<table border=\"1\" class=\"dataframe\">\n",
       "  <thead>\n",
       "    <tr style=\"text-align: right;\">\n",
       "      <th></th>\n",
       "      <th>Population</th>\n",
       "      <th>Population_sq</th>\n",
       "      <th>Murder</th>\n",
       "      <th>Robbery</th>\n",
       "      <th>Property_crime</th>\n",
       "    </tr>\n",
       "  </thead>\n",
       "  <tbody>\n",
       "    <tr>\n",
       "      <th>0</th>\n",
       "      <td>31165.0</td>\n",
       "      <td>9.712572e+08</td>\n",
       "      <td>2.0</td>\n",
       "      <td>52.0</td>\n",
       "      <td>886.0</td>\n",
       "    </tr>\n",
       "    <tr>\n",
       "      <th>1</th>\n",
       "      <td>20762.0</td>\n",
       "      <td>4.310606e+08</td>\n",
       "      <td>0.0</td>\n",
       "      <td>10.0</td>\n",
       "      <td>306.0</td>\n",
       "    </tr>\n",
       "    <tr>\n",
       "      <th>2</th>\n",
       "      <td>76206.0</td>\n",
       "      <td>5.807354e+09</td>\n",
       "      <td>0.0</td>\n",
       "      <td>85.0</td>\n",
       "      <td>1902.0</td>\n",
       "    </tr>\n",
       "    <tr>\n",
       "      <th>3</th>\n",
       "      <td>19104.0</td>\n",
       "      <td>3.649628e+08</td>\n",
       "      <td>0.0</td>\n",
       "      <td>24.0</td>\n",
       "      <td>557.0</td>\n",
       "    </tr>\n",
       "    <tr>\n",
       "      <th>4</th>\n",
       "      <td>84710.0</td>\n",
       "      <td>7.175784e+09</td>\n",
       "      <td>1.0</td>\n",
       "      <td>81.0</td>\n",
       "      <td>1774.0</td>\n",
       "    </tr>\n",
       "  </tbody>\n",
       "</table>\n",
       "</div>"
      ],
      "text/plain": [
       "   Population  Population_sq  Murder  Robbery  Property_crime\n",
       "0     31165.0   9.712572e+08     2.0     52.0           886.0\n",
       "1     20762.0   4.310606e+08     0.0     10.0           306.0\n",
       "2     76206.0   5.807354e+09     0.0     85.0          1902.0\n",
       "3     19104.0   3.649628e+08     0.0     24.0           557.0\n",
       "4     84710.0   7.175784e+09     1.0     81.0          1774.0"
      ]
     },
     "execution_count": 40,
     "metadata": {},
     "output_type": "execute_result"
    }
   ],
   "source": [
    "CA_crime_2013_clean.head()"
   ]
  },
  {
   "cell_type": "code",
   "execution_count": 49,
   "metadata": {},
   "outputs": [
    {
     "name": "stdout",
     "output_type": "stream",
     "text": [
      "\n",
      "Coefficients: \n",
      " [ 2.05519792e-02 -7.19468320e-08  1.02643383e+02  5.13001360e+00]\n",
      "\n",
      "Intercept: \n",
      " -25.039858198831496\n",
      "\n",
      "R-squared:\n",
      "0.4119777875063345\n"
     ]
    }
   ],
   "source": [
    "# use approach 4 from the previous assignment since it has the highest R square\n",
    "X_CA = CA_crime_2013_clean[['Population', 'Population_sq', 'Murder', 'Robbery']]\n",
    "Y_CA = CA_crime_2013_clean['Property_crime']\n",
    "predict = regr.predict(X_CA)\n",
    "residue = Y_CA - predict\n",
    "\n",
    "# Inspect the result\n",
    "print('\\nCoefficients: \\n', regr.coef_)\n",
    "print('\\nIntercept: \\n', regr.intercept_)\n",
    "print('\\nR-squared:')\n",
    "print(regr.score(X_CA, Y_CA))"
   ]
  },
  {
   "cell_type": "markdown",
   "metadata": {},
   "source": [
    "From above, we can see there might be an overfit issue since the R square on the new dataset is a lot lower, we will try another approach"
   ]
  },
  {
   "cell_type": "code",
   "execution_count": 50,
   "metadata": {},
   "outputs": [],
   "source": [
    "# convert murder and robbery column to categorical variable\n",
    "NY_crime_2013_clean['Murder_cat'] = np.where(NY_crime_2013_clean['Murder'] > 0, 1, 0)\n",
    "NY_crime_2013_clean['Robbery_cat'] = np.where(NY_crime_2013_clean['Robbery'] > 0, 1, 0)"
   ]
  },
  {
   "cell_type": "code",
   "execution_count": 51,
   "metadata": {},
   "outputs": [
    {
     "data": {
      "text/html": [
       "<div>\n",
       "<style scoped>\n",
       "    .dataframe tbody tr th:only-of-type {\n",
       "        vertical-align: middle;\n",
       "    }\n",
       "\n",
       "    .dataframe tbody tr th {\n",
       "        vertical-align: top;\n",
       "    }\n",
       "\n",
       "    .dataframe thead th {\n",
       "        text-align: right;\n",
       "    }\n",
       "</style>\n",
       "<table border=\"1\" class=\"dataframe\">\n",
       "  <thead>\n",
       "    <tr style=\"text-align: right;\">\n",
       "      <th></th>\n",
       "      <th>Population</th>\n",
       "      <th>Population_sq</th>\n",
       "      <th>Murder</th>\n",
       "      <th>Murder_cat</th>\n",
       "      <th>Robbery</th>\n",
       "      <th>Robbery_cat</th>\n",
       "      <th>Property_crime</th>\n",
       "    </tr>\n",
       "  </thead>\n",
       "  <tbody>\n",
       "    <tr>\n",
       "      <th>0</th>\n",
       "      <td>1861.0</td>\n",
       "      <td>3.463321e+06</td>\n",
       "      <td>0.0</td>\n",
       "      <td>0</td>\n",
       "      <td>0.0</td>\n",
       "      <td>0</td>\n",
       "      <td>12.0</td>\n",
       "    </tr>\n",
       "    <tr>\n",
       "      <th>1</th>\n",
       "      <td>2577.0</td>\n",
       "      <td>6.640929e+06</td>\n",
       "      <td>0.0</td>\n",
       "      <td>0</td>\n",
       "      <td>0.0</td>\n",
       "      <td>0</td>\n",
       "      <td>24.0</td>\n",
       "    </tr>\n",
       "    <tr>\n",
       "      <th>2</th>\n",
       "      <td>2846.0</td>\n",
       "      <td>8.099716e+06</td>\n",
       "      <td>0.0</td>\n",
       "      <td>0</td>\n",
       "      <td>0.0</td>\n",
       "      <td>0</td>\n",
       "      <td>16.0</td>\n",
       "    </tr>\n",
       "    <tr>\n",
       "      <th>3</th>\n",
       "      <td>97956.0</td>\n",
       "      <td>9.595378e+09</td>\n",
       "      <td>8.0</td>\n",
       "      <td>1</td>\n",
       "      <td>227.0</td>\n",
       "      <td>1</td>\n",
       "      <td>4090.0</td>\n",
       "    </tr>\n",
       "    <tr>\n",
       "      <th>4</th>\n",
       "      <td>6388.0</td>\n",
       "      <td>4.080654e+07</td>\n",
       "      <td>0.0</td>\n",
       "      <td>0</td>\n",
       "      <td>4.0</td>\n",
       "      <td>1</td>\n",
       "      <td>223.0</td>\n",
       "    </tr>\n",
       "  </tbody>\n",
       "</table>\n",
       "</div>"
      ],
      "text/plain": [
       "   Population  Population_sq  Murder  Murder_cat  Robbery  Robbery_cat  \\\n",
       "0      1861.0   3.463321e+06     0.0           0      0.0            0   \n",
       "1      2577.0   6.640929e+06     0.0           0      0.0            0   \n",
       "2      2846.0   8.099716e+06     0.0           0      0.0            0   \n",
       "3     97956.0   9.595378e+09     8.0           1    227.0            1   \n",
       "4      6388.0   4.080654e+07     0.0           0      4.0            1   \n",
       "\n",
       "   Property_crime  \n",
       "0            12.0  \n",
       "1            24.0  \n",
       "2            16.0  \n",
       "3          4090.0  \n",
       "4           223.0  "
      ]
     },
     "execution_count": 51,
     "metadata": {},
     "output_type": "execute_result"
    }
   ],
   "source": [
    "# rearrange the column order\n",
    "NY_crime_2013_clean = NY_crime_2013_clean[['Population', 'Population_sq', 'Murder', 'Murder_cat',  \n",
    "                                           'Robbery', 'Robbery_cat', 'Property_crime']]\n",
    "NY_crime_2013_clean.head()"
   ]
  },
  {
   "cell_type": "code",
   "execution_count": 52,
   "metadata": {},
   "outputs": [
    {
     "name": "stdout",
     "output_type": "stream",
     "text": [
      "\n",
      "Coefficients: \n",
      " [ 1.20858758e-02  1.17379037e-07  2.52393185e+02  1.02026190e+02\n",
      " -1.90898080e+02]\n",
      "\n",
      "Intercept: \n",
      " -13.384098371504706\n",
      "\n",
      "R-squared:\n",
      "0.846151761415821\n"
     ]
    }
   ],
   "source": [
    "# approach 3\n",
    "# adding feature interaction between Murder and Robbery, adding more weight if Murder and Robbery occur at the \n",
    "# same time, in other words, both equal to 1\n",
    "NY_crime_2013_clean['interaction'] = np.where((NY_crime_2013_clean['Murder'] == 1) & \n",
    "                                              (NY_crime_2013_clean['Robbery'] == 1),\n",
    "                                              2, 0)\n",
    "X3 = NY_crime_2013_clean[['Population', 'Population_sq', 'Murder_cat', 'Robbery_cat', 'interaction']]\n",
    "regr.fit(X3, Y)\n",
    "predict = regr.predict(X3)\n",
    "residue = Y - predict\n",
    "\n",
    "# Inspect the result\n",
    "print('\\nCoefficients: \\n', regr.coef_)\n",
    "print('\\nIntercept: \\n', regr.intercept_)\n",
    "print('\\nR-squared:')\n",
    "print(regr.score(X3, Y))"
   ]
  },
  {
   "cell_type": "code",
   "execution_count": 55,
   "metadata": {},
   "outputs": [],
   "source": [
    "# check the p-value of each coefficient\n",
    "linear_formula = 'Property_crime ~ Population+Population_sq+Murder_cat+Robbery_cat+interaction'\n",
    "\n",
    "# Fit the model to our data using the formula.\n",
    "lm = smf.ols(formula=linear_formula, data=NY_crime_2013_clean).fit()"
   ]
  },
  {
   "cell_type": "code",
   "execution_count": 56,
   "metadata": {},
   "outputs": [
    {
     "data": {
      "text/plain": [
       "Intercept       -1.338410e+01\n",
       "Population       1.208588e-02\n",
       "Population_sq    1.173790e-07\n",
       "Murder_cat       2.523932e+02\n",
       "Robbery_cat      1.020262e+02\n",
       "interaction     -1.908981e+02\n",
       "dtype: float64"
      ]
     },
     "execution_count": 56,
     "metadata": {},
     "output_type": "execute_result"
    }
   ],
   "source": [
    "lm.params"
   ]
  },
  {
   "cell_type": "code",
   "execution_count": 57,
   "metadata": {},
   "outputs": [
    {
     "data": {
      "text/plain": [
       "Intercept        7.096996e-01\n",
       "Population       8.303756e-08\n",
       "Population_sq    3.554228e-25\n",
       "Murder_cat       2.252327e-03\n",
       "Robbery_cat      4.823064e-02\n",
       "interaction      5.607271e-02\n",
       "dtype: float64"
      ]
     },
     "execution_count": 57,
     "metadata": {},
     "output_type": "execute_result"
    }
   ],
   "source": [
    "lm.pvalues"
   ]
  },
  {
   "cell_type": "code",
   "execution_count": 58,
   "metadata": {},
   "outputs": [
    {
     "data": {
      "text/plain": [
       "0.846151761415821"
      ]
     },
     "execution_count": 58,
     "metadata": {},
     "output_type": "execute_result"
    }
   ],
   "source": [
    "lm.rsquared"
   ]
  },
  {
   "cell_type": "code",
   "execution_count": 53,
   "metadata": {},
   "outputs": [
    {
     "data": {
      "text/html": [
       "<div>\n",
       "<style scoped>\n",
       "    .dataframe tbody tr th:only-of-type {\n",
       "        vertical-align: middle;\n",
       "    }\n",
       "\n",
       "    .dataframe tbody tr th {\n",
       "        vertical-align: top;\n",
       "    }\n",
       "\n",
       "    .dataframe thead th {\n",
       "        text-align: right;\n",
       "    }\n",
       "</style>\n",
       "<table border=\"1\" class=\"dataframe\">\n",
       "  <thead>\n",
       "    <tr style=\"text-align: right;\">\n",
       "      <th></th>\n",
       "      <th>Population</th>\n",
       "      <th>Population_sq</th>\n",
       "      <th>Murder</th>\n",
       "      <th>Murder_cat</th>\n",
       "      <th>Robbery</th>\n",
       "      <th>Robbery_cat</th>\n",
       "      <th>Property_crime</th>\n",
       "    </tr>\n",
       "  </thead>\n",
       "  <tbody>\n",
       "    <tr>\n",
       "      <th>0</th>\n",
       "      <td>31165.0</td>\n",
       "      <td>9.712572e+08</td>\n",
       "      <td>2.0</td>\n",
       "      <td>1</td>\n",
       "      <td>52.0</td>\n",
       "      <td>1</td>\n",
       "      <td>886.0</td>\n",
       "    </tr>\n",
       "    <tr>\n",
       "      <th>1</th>\n",
       "      <td>20762.0</td>\n",
       "      <td>4.310606e+08</td>\n",
       "      <td>0.0</td>\n",
       "      <td>0</td>\n",
       "      <td>10.0</td>\n",
       "      <td>1</td>\n",
       "      <td>306.0</td>\n",
       "    </tr>\n",
       "    <tr>\n",
       "      <th>2</th>\n",
       "      <td>76206.0</td>\n",
       "      <td>5.807354e+09</td>\n",
       "      <td>0.0</td>\n",
       "      <td>0</td>\n",
       "      <td>85.0</td>\n",
       "      <td>1</td>\n",
       "      <td>1902.0</td>\n",
       "    </tr>\n",
       "    <tr>\n",
       "      <th>3</th>\n",
       "      <td>19104.0</td>\n",
       "      <td>3.649628e+08</td>\n",
       "      <td>0.0</td>\n",
       "      <td>0</td>\n",
       "      <td>24.0</td>\n",
       "      <td>1</td>\n",
       "      <td>557.0</td>\n",
       "    </tr>\n",
       "    <tr>\n",
       "      <th>4</th>\n",
       "      <td>84710.0</td>\n",
       "      <td>7.175784e+09</td>\n",
       "      <td>1.0</td>\n",
       "      <td>1</td>\n",
       "      <td>81.0</td>\n",
       "      <td>1</td>\n",
       "      <td>1774.0</td>\n",
       "    </tr>\n",
       "  </tbody>\n",
       "</table>\n",
       "</div>"
      ],
      "text/plain": [
       "   Population  Population_sq  Murder  Murder_cat  Robbery  Robbery_cat  \\\n",
       "0     31165.0   9.712572e+08     2.0           1     52.0            1   \n",
       "1     20762.0   4.310606e+08     0.0           0     10.0            1   \n",
       "2     76206.0   5.807354e+09     0.0           0     85.0            1   \n",
       "3     19104.0   3.649628e+08     0.0           0     24.0            1   \n",
       "4     84710.0   7.175784e+09     1.0           1     81.0            1   \n",
       "\n",
       "   Property_crime  \n",
       "0           886.0  \n",
       "1           306.0  \n",
       "2          1902.0  \n",
       "3           557.0  \n",
       "4          1774.0  "
      ]
     },
     "execution_count": 53,
     "metadata": {},
     "output_type": "execute_result"
    }
   ],
   "source": [
    "# convert murder and robbery column to categorical variable\n",
    "CA_crime_2013_clean['Murder_cat'] = np.where(CA_crime_2013_clean['Murder'] > 0, 1, 0)\n",
    "CA_crime_2013_clean['Robbery_cat'] = np.where(CA_crime_2013_clean['Robbery'] > 0, 1, 0)\n",
    "\n",
    "# rearrange the column order\n",
    "CA_crime_2013_clean = CA_crime_2013_clean[['Population', 'Population_sq', 'Murder', 'Murder_cat',  \n",
    "                                           'Robbery', 'Robbery_cat', 'Property_crime']]\n",
    "CA_crime_2013_clean.head()"
   ]
  },
  {
   "cell_type": "code",
   "execution_count": 54,
   "metadata": {},
   "outputs": [
    {
     "name": "stdout",
     "output_type": "stream",
     "text": [
      "\n",
      "Coefficients: \n",
      " [ 1.20858758e-02  1.17379037e-07  2.52393185e+02  1.02026190e+02\n",
      " -1.90898080e+02]\n",
      "\n",
      "Intercept: \n",
      " -13.384098371504706\n",
      "\n",
      "R-squared:\n",
      "0.41410745966400586\n"
     ]
    }
   ],
   "source": [
    "# use approach 3 to test the model\n",
    "CA_crime_2013_clean['interaction'] = np.where((CA_crime_2013_clean['Murder'] == 1) & \n",
    "                                              (CA_crime_2013_clean['Robbery'] == 1),\n",
    "                                              2, 0)\n",
    "X_CA_2 = CA_crime_2013_clean[['Population', 'Population_sq', 'Murder_cat', 'Robbery_cat', 'interaction']]\n",
    "predict = regr.predict(X_CA_2)\n",
    "residue = Y_CA - predict\n",
    "\n",
    "# Inspect the result\n",
    "print('\\nCoefficients: \\n', regr.coef_)\n",
    "print('\\nIntercept: \\n', regr.intercept_)\n",
    "print('\\nR-squared:')\n",
    "print(regr.score(X_CA_2, Y_CA))"
   ]
  }
 ],
 "metadata": {
  "kernelspec": {
   "display_name": "Python 3",
   "language": "python",
   "name": "python3"
  },
  "language_info": {
   "codemirror_mode": {
    "name": "ipython",
    "version": 3
   },
   "file_extension": ".py",
   "mimetype": "text/x-python",
   "name": "python",
   "nbconvert_exporter": "python",
   "pygments_lexer": "ipython3",
   "version": "3.7.0"
  }
 },
 "nbformat": 4,
 "nbformat_minor": 2
}
